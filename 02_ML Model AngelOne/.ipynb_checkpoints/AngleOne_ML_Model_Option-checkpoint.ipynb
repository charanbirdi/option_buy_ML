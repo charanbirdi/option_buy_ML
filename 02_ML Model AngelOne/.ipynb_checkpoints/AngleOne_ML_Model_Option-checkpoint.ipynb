{
 "cells": [
  {
   "cell_type": "markdown",
   "id": "3b8a1650",
   "metadata": {
    "id": "e91807cc"
   },
   "source": [
    "# **Day-ahead Banknifty/Nifty Forecasting**\n",
    "\n",
    "#### Input - 15 mins candle data\n",
    "#### Output - Forcast of 1 day of 15 mins close price  \n",
    "\n",
    "\n",
    "## Now we use the following concept\n",
    "\n",
    "- First Download data as per Working Day time, if time is less than 3:30PM then we will download till yesterday only,\n",
    "  else we will download till today 3:30PM\n",
    "  Now as data is as per 3:30PM logic so we dont need to put here same logic, we can predict as per available data only.\n",
    "  \n",
    "- Second we will check next working day as per last entry in DATA dataframe (which is logical as per data available)\n",
    "\n",
    "- Third we will get prediction for next working day"
   ]
  },
  {
   "cell_type": "markdown",
   "id": "546d7911",
   "metadata": {},
   "source": [
    "Special Notes:\n",
    " - Don't open CSV file and change dateformat, it will change the format entirely and cause problem in code\n",
    " - Output of Model changed if we dont delete NaN values (I saw that when comparing jupyter file with normal python file matching)"
   ]
  },
  {
   "cell_type": "code",
   "execution_count": 1,
   "id": "f0c4978f",
   "metadata": {},
   "outputs": [],
   "source": [
    "plot_show_or_not = False # we dont want to plot inside then set False else True"
   ]
  },
  {
   "cell_type": "markdown",
   "id": "e30b8447",
   "metadata": {},
   "source": [
    "## Define stock for which ML model needs to be prepared"
   ]
  },
  {
   "cell_type": "code",
   "execution_count": 2,
   "id": "9ab909b0",
   "metadata": {},
   "outputs": [
    {
     "name": "stdout",
     "output_type": "stream",
     "text": [
      "BANKNIFTY\n"
     ]
    }
   ],
   "source": [
    "# Get data from Python file--------------\n",
    "import json\n",
    "\n",
    "# Load the arguments\n",
    "with open('arguments.json', 'r') as fid:\n",
    "    arguments = json.load(fid)\n",
    "\n",
    "stock = arguments['ticker']\n",
    "stock = \"NIFTY\"\n",
    "\n",
    "print(stock)"
   ]
  },
  {
   "cell_type": "code",
   "execution_count": 3,
   "id": "d92ebf40",
   "metadata": {
    "id": "urwfAoocnRxc",
    "scrolled": false
   },
   "outputs": [],
   "source": [
    "from datetime import datetime, timedelta\n",
    "from pandas.tseries.offsets import DateOffset\n",
    "import math\n",
    "import pickle # Saving the final model\n",
    "import time\n",
    "import datetime as dt\n",
    "\n",
    "##############\n",
    "# Dependencies\n",
    "##############\n",
    "import json\n",
    "import requests\n",
    "import numpy as np\n",
    "import pandas as pd\n",
    "import os, time, math\n",
    "from datetime import *\n",
    "os.environ['TZ'] = 'Asia/Calcutta'\n",
    "from sqlalchemy import create_engine\n",
    "from scipy.signal import savgol_filter\n",
    "pd.options.mode.chained_assignment = None\n",
    "\n",
    "\n",
    "\n",
    "\n",
    "\n",
    "##################\n",
    "# Visualizations\n",
    "#################\n",
    "import seaborn as sns\n",
    "#import plotly.offline\n",
    "#import cufflinks as cf\n",
    "import matplotlib.pyplot as plt\n",
    "from matplotlib import rc, rcParams\n",
    "\n",
    "\n",
    "\n",
    "##################\n",
    "# Display Changes\n",
    "##################\n",
    "# cf.go_offline()\n",
    "%matplotlib inline\n",
    "rc('axes', linewidth=2)\n",
    "rc('font', weight='bold')\n",
    "sns.set_style('whitegrid')\n",
    "#pd.set_option('max_rows',2000)\n",
    "#pd.set_option('max_columns',255) \n",
    "rcParams['figure.figsize'] = 15,5\n",
    "#cf.set_config_file(offline=False, world_readable=True)\n",
    "\n",
    "\n",
    "##############\n",
    "# Modeling\n",
    "##############\n",
    "# import xgboost as xgb\n",
    "# from xgboost import plot_importance\n",
    "from sklearn import preprocessing, svm\n",
    "from sklearn.model_selection import TimeSeriesSplit\n",
    "from sklearn.preprocessing import StandardScaler, MinMaxScaler, LabelEncoder, RobustScaler\n",
    "from sklearn.linear_model import LinearRegression, LogisticRegression\n",
    "from sklearn.metrics import mean_squared_error\n",
    "\n",
    "import warnings\n",
    "warnings.filterwarnings(\"ignore\")\n",
    "warnings.filterwarnings(\"ignore\", category=UserWarning)\n",
    "warnings.filterwarnings(\"ignore\", category=FutureWarning)\n",
    "warnings.filterwarnings(\"ignore\", category=DeprecationWarning)"
   ]
  },
  {
   "cell_type": "code",
   "execution_count": 4,
   "id": "12ab0e97",
   "metadata": {},
   "outputs": [],
   "source": [
    "# ##################\n",
    "# # Display Changes\n",
    "# ##################\n",
    "# from matplotlib import rc, rcParams\n",
    "# pd.options.mode.chained_assignment = None\n",
    "# # cf.go_offline()\n",
    "# %matplotlib inline\n",
    "# rc('axes', linewidth=2)\n",
    "# #rc('font', weight='bold')\n",
    "\n",
    "# #pd.set_option('max_rows', 1000)\n",
    "# pd.set_option('display.max_rows', None)\n",
    "# pd.set_option('max_columns', 255)\n",
    "# # Useful line of code to set the display option so we could see all the columns in pd dataframe\n",
    "# #pd.set_option('display.max_columns', None)\n",
    "\n",
    "# #rcParams['figure.figsize'] = 8,3\n",
    "# # cf.set_config_file(offline=False, world_readable=True)\n",
    "\n",
    "# rc('xtick', labelsize=9) \n",
    "# rc('ytick', labelsize=9)\n",
    "# #rc('axes', linewidth=2)\n",
    "# rc('axes', titlesize=10)\n",
    "\n",
    "\n",
    "# # Matplot Theme setting\n",
    "# from matplotlib import cycler\n",
    "# colors = cycler('color',\n",
    "#                 ['#EE6666', '#3388BB', '#9988DD',\n",
    "#                  '#EECC55', '#88BB44', '#FFBBBB'])\n",
    "# rc('axes', facecolor='#E6E6E6', edgecolor='none', axisbelow=True, grid=True, prop_cycle=colors)\n",
    "# rc('grid', color='w', linestyle='solid')\n",
    "# rc('xtick', direction='out', color='black')\n",
    "# rc('ytick', direction='out', color='black')\n",
    "# rc('patch', edgecolor='#E6E6E6')\n",
    "# rc('lines', linewidth=1)"
   ]
  },
  {
   "cell_type": "code",
   "execution_count": 5,
   "id": "0cb5abe4",
   "metadata": {},
   "outputs": [],
   "source": [
    "# Seaborn\n",
    "rc = {\n",
    "    \"axes.facecolor\": \"#FAEEE9\",\n",
    "    \"figure.facecolor\": \"#FAEEE9\",\n",
    "    \"axes.edgecolor\": \"#000000\",\n",
    "    \"grid.color\": \"#EBEBE7\",\n",
    "    \"font.family\": \"calibri\",\n",
    "    \"axes.labelcolor\": \"#000000\",\n",
    "    \"xtick.color\": \"#000000\",\n",
    "    \"ytick.color\": \"#000000\",\n",
    "    \"grid.alpha\": 0.9\n",
    "}\n",
    "sns.set(rc=rc)\n",
    "sns.set_context(\"notebook\", font_scale=0.9, rc={\"lines.linewidth\": 1})\n",
    "\n",
    "\n",
    "#sns.set_style('whitegrid')"
   ]
  },
  {
   "cell_type": "code",
   "execution_count": 6,
   "id": "46afa321",
   "metadata": {},
   "outputs": [
    {
     "data": {
      "text/plain": [
       "datetime.datetime(2024, 2, 5, 8, 18, 48, 168456)"
      ]
     },
     "execution_count": 6,
     "metadata": {},
     "output_type": "execute_result"
    }
   ],
   "source": [
    "datetime.now()"
   ]
  },
  {
   "cell_type": "markdown",
   "id": "dbcf97d0",
   "metadata": {},
   "source": [
    "## Prevent plot from showing"
   ]
  },
  {
   "cell_type": "code",
   "execution_count": 7,
   "id": "47057028",
   "metadata": {},
   "outputs": [],
   "source": [
    "#plt.ioff()"
   ]
  },
  {
   "cell_type": "markdown",
   "id": "5f48ecf9",
   "metadata": {},
   "source": [
    "## Analysis"
   ]
  },
  {
   "cell_type": "code",
   "execution_count": 8,
   "id": "8bffb908",
   "metadata": {
    "id": "OGijpYdYvwfu"
   },
   "outputs": [],
   "source": [
    "# I have make the function for Doing quick basic analysis as per given DataFrame\n",
    "\n",
    "def analysis(df):\n",
    "    \n",
    "    print('#############################################################')\n",
    "    print(f'Shape of DF = {df.shape}\\n')\n",
    "    print('--------------------------------------------------')\n",
    "    print(f'First 5 rows are as following \\n {df.head()} \\n')\n",
    "    print('--------------------------------------------------')\n",
    "    print(f'Basic info as following \\n {df.info()} \\n')\n",
    "    print('--------------------------------------------------')\n",
    "  \n",
    "    if 'datetime' in df.columns:\n",
    "        print(f\"\\n We have data from {pd.to_datetime(df['datetime']).min()}\")\n",
    "        print(f\" We have data till {pd.to_datetime(df['datetime']).max()}\")\n",
    "    print('--------------------------------------------------')\n",
    "    print(f'\\n Basic description as following \\n')\n",
    "    print(df.describe())\n",
    "    print('--------------------------------------------------')\n",
    "    print(f'\\n Missing values are as following \\n')\n",
    "    print(df.isnull().sum())\n",
    "    print('##############################################################')"
   ]
  },
  {
   "cell_type": "code",
   "execution_count": 9,
   "id": "c5ed3eaf",
   "metadata": {
    "colab": {
     "base_uri": "https://localhost:8080/"
    },
    "id": "8XyGZVB-fcVS",
    "outputId": "9aa8864d-e9cb-4734-9705-6b9f428a1731"
   },
   "outputs": [],
   "source": [
    "# from google.colab import drive\n",
    "# drive.mount('/content/drive')\n",
    "# folder_path = '/content/drive/MyDrive/Climate_Connect/IEX/01_Data_Tuesday_Forecast'"
   ]
  },
  {
   "cell_type": "code",
   "execution_count": 10,
   "id": "5888ac74",
   "metadata": {
    "colab": {
     "base_uri": "https://localhost:8080/"
    },
    "id": "TvTI55sBwKt0",
    "outputId": "9efe3933-ff03-4810-a8ef-8a4aea3ad241",
    "scrolled": true
   },
   "outputs": [
    {
     "data": {
      "text/html": [
       "<div>\n",
       "<style scoped>\n",
       "    .dataframe tbody tr th:only-of-type {\n",
       "        vertical-align: middle;\n",
       "    }\n",
       "\n",
       "    .dataframe tbody tr th {\n",
       "        vertical-align: top;\n",
       "    }\n",
       "\n",
       "    .dataframe thead th {\n",
       "        text-align: right;\n",
       "    }\n",
       "</style>\n",
       "<table border=\"1\" class=\"dataframe\">\n",
       "  <thead>\n",
       "    <tr style=\"text-align: right;\">\n",
       "      <th></th>\n",
       "      <th>datetime</th>\n",
       "      <th>open</th>\n",
       "      <th>high</th>\n",
       "      <th>low</th>\n",
       "      <th>close</th>\n",
       "      <th>volume</th>\n",
       "      <th>date</th>\n",
       "    </tr>\n",
       "  </thead>\n",
       "  <tbody>\n",
       "    <tr>\n",
       "      <th>0</th>\n",
       "      <td>2021-01-01 09:15:00</td>\n",
       "      <td>31297.30</td>\n",
       "      <td>31384.35</td>\n",
       "      <td>31243.60</td>\n",
       "      <td>31338.90</td>\n",
       "      <td>0</td>\n",
       "      <td>NaN</td>\n",
       "    </tr>\n",
       "    <tr>\n",
       "      <th>1</th>\n",
       "      <td>2021-01-01 10:15:00</td>\n",
       "      <td>31338.80</td>\n",
       "      <td>31342.00</td>\n",
       "      <td>31266.65</td>\n",
       "      <td>31292.55</td>\n",
       "      <td>0</td>\n",
       "      <td>NaN</td>\n",
       "    </tr>\n",
       "    <tr>\n",
       "      <th>2</th>\n",
       "      <td>2021-01-01 11:15:00</td>\n",
       "      <td>31291.60</td>\n",
       "      <td>31323.95</td>\n",
       "      <td>31221.70</td>\n",
       "      <td>31276.95</td>\n",
       "      <td>0</td>\n",
       "      <td>NaN</td>\n",
       "    </tr>\n",
       "    <tr>\n",
       "      <th>3</th>\n",
       "      <td>2021-01-01 12:15:00</td>\n",
       "      <td>31277.00</td>\n",
       "      <td>31346.95</td>\n",
       "      <td>31267.90</td>\n",
       "      <td>31273.80</td>\n",
       "      <td>0</td>\n",
       "      <td>NaN</td>\n",
       "    </tr>\n",
       "    <tr>\n",
       "      <th>4</th>\n",
       "      <td>2021-01-01 13:15:00</td>\n",
       "      <td>31271.65</td>\n",
       "      <td>31316.65</td>\n",
       "      <td>31205.00</td>\n",
       "      <td>31307.05</td>\n",
       "      <td>0</td>\n",
       "      <td>NaN</td>\n",
       "    </tr>\n",
       "    <tr>\n",
       "      <th>5</th>\n",
       "      <td>2021-01-01 14:15:00</td>\n",
       "      <td>31305.85</td>\n",
       "      <td>31320.60</td>\n",
       "      <td>31208.95</td>\n",
       "      <td>31227.05</td>\n",
       "      <td>0</td>\n",
       "      <td>NaN</td>\n",
       "    </tr>\n",
       "    <tr>\n",
       "      <th>6</th>\n",
       "      <td>2021-01-01 15:15:00</td>\n",
       "      <td>31229.45</td>\n",
       "      <td>31269.95</td>\n",
       "      <td>31188.25</td>\n",
       "      <td>31225.85</td>\n",
       "      <td>0</td>\n",
       "      <td>NaN</td>\n",
       "    </tr>\n",
       "  </tbody>\n",
       "</table>\n",
       "</div>"
      ],
      "text/plain": [
       "              datetime      open      high       low     close  volume  date\n",
       "0  2021-01-01 09:15:00  31297.30  31384.35  31243.60  31338.90       0   NaN\n",
       "1  2021-01-01 10:15:00  31338.80  31342.00  31266.65  31292.55       0   NaN\n",
       "2  2021-01-01 11:15:00  31291.60  31323.95  31221.70  31276.95       0   NaN\n",
       "3  2021-01-01 12:15:00  31277.00  31346.95  31267.90  31273.80       0   NaN\n",
       "4  2021-01-01 13:15:00  31271.65  31316.65  31205.00  31307.05       0   NaN\n",
       "5  2021-01-01 14:15:00  31305.85  31320.60  31208.95  31227.05       0   NaN\n",
       "6  2021-01-01 15:15:00  31229.45  31269.95  31188.25  31225.85       0   NaN"
      ]
     },
     "execution_count": 10,
     "metadata": {},
     "output_type": "execute_result"
    }
   ],
   "source": [
    "# As its difficult to upload files again and again, so I change code to access drive files. \n",
    "\n",
    "#df = pd.read_parquet('./Data/historical_load_data.parquet')\n",
    "#df = pd.read_excel(f'{folder_path}/DAM_multivariate_data.xlsx')\n",
    "\n",
    "\n",
    "df = pd.read_csv(f'01_Data\\data_{stock}.csv')\n",
    "df.head(7)"
   ]
  },
  {
   "cell_type": "code",
   "execution_count": 11,
   "id": "4fd40514",
   "metadata": {},
   "outputs": [
    {
     "data": {
      "text/html": [
       "<div>\n",
       "<style scoped>\n",
       "    .dataframe tbody tr th:only-of-type {\n",
       "        vertical-align: middle;\n",
       "    }\n",
       "\n",
       "    .dataframe tbody tr th {\n",
       "        vertical-align: top;\n",
       "    }\n",
       "\n",
       "    .dataframe thead th {\n",
       "        text-align: right;\n",
       "    }\n",
       "</style>\n",
       "<table border=\"1\" class=\"dataframe\">\n",
       "  <thead>\n",
       "    <tr style=\"text-align: right;\">\n",
       "      <th></th>\n",
       "      <th>datetime</th>\n",
       "      <th>open</th>\n",
       "      <th>high</th>\n",
       "      <th>low</th>\n",
       "      <th>close</th>\n",
       "      <th>volume</th>\n",
       "      <th>date</th>\n",
       "    </tr>\n",
       "  </thead>\n",
       "  <tbody>\n",
       "    <tr>\n",
       "      <th>5334</th>\n",
       "      <td>2024-02-02 09:15:00</td>\n",
       "      <td>46568.20</td>\n",
       "      <td>46695.45</td>\n",
       "      <td>46501.10</td>\n",
       "      <td>46612.00</td>\n",
       "      <td>0</td>\n",
       "      <td>NaN</td>\n",
       "    </tr>\n",
       "    <tr>\n",
       "      <th>5335</th>\n",
       "      <td>2024-02-02 10:15:00</td>\n",
       "      <td>46611.85</td>\n",
       "      <td>46611.85</td>\n",
       "      <td>46415.50</td>\n",
       "      <td>46583.00</td>\n",
       "      <td>0</td>\n",
       "      <td>NaN</td>\n",
       "    </tr>\n",
       "    <tr>\n",
       "      <th>5336</th>\n",
       "      <td>2024-02-02 11:15:00</td>\n",
       "      <td>46577.00</td>\n",
       "      <td>46890.50</td>\n",
       "      <td>46577.00</td>\n",
       "      <td>46744.50</td>\n",
       "      <td>0</td>\n",
       "      <td>NaN</td>\n",
       "    </tr>\n",
       "    <tr>\n",
       "      <th>5337</th>\n",
       "      <td>2024-02-02 12:15:00</td>\n",
       "      <td>46743.30</td>\n",
       "      <td>46755.30</td>\n",
       "      <td>46234.20</td>\n",
       "      <td>46254.70</td>\n",
       "      <td>0</td>\n",
       "      <td>NaN</td>\n",
       "    </tr>\n",
       "    <tr>\n",
       "      <th>5338</th>\n",
       "      <td>2024-02-02 13:15:00</td>\n",
       "      <td>46252.55</td>\n",
       "      <td>46368.55</td>\n",
       "      <td>46133.00</td>\n",
       "      <td>46307.85</td>\n",
       "      <td>0</td>\n",
       "      <td>NaN</td>\n",
       "    </tr>\n",
       "    <tr>\n",
       "      <th>5339</th>\n",
       "      <td>2024-02-02 14:15:00</td>\n",
       "      <td>46309.10</td>\n",
       "      <td>46342.90</td>\n",
       "      <td>45943.05</td>\n",
       "      <td>45963.80</td>\n",
       "      <td>0</td>\n",
       "      <td>NaN</td>\n",
       "    </tr>\n",
       "    <tr>\n",
       "      <th>5340</th>\n",
       "      <td>2024-02-02 15:15:00</td>\n",
       "      <td>45962.65</td>\n",
       "      <td>45977.80</td>\n",
       "      <td>45906.90</td>\n",
       "      <td>45954.65</td>\n",
       "      <td>0</td>\n",
       "      <td>NaN</td>\n",
       "    </tr>\n",
       "  </tbody>\n",
       "</table>\n",
       "</div>"
      ],
      "text/plain": [
       "                 datetime      open      high       low     close  volume  \\\n",
       "5334  2024-02-02 09:15:00  46568.20  46695.45  46501.10  46612.00       0   \n",
       "5335  2024-02-02 10:15:00  46611.85  46611.85  46415.50  46583.00       0   \n",
       "5336  2024-02-02 11:15:00  46577.00  46890.50  46577.00  46744.50       0   \n",
       "5337  2024-02-02 12:15:00  46743.30  46755.30  46234.20  46254.70       0   \n",
       "5338  2024-02-02 13:15:00  46252.55  46368.55  46133.00  46307.85       0   \n",
       "5339  2024-02-02 14:15:00  46309.10  46342.90  45943.05  45963.80       0   \n",
       "5340  2024-02-02 15:15:00  45962.65  45977.80  45906.90  45954.65       0   \n",
       "\n",
       "      date  \n",
       "5334   NaN  \n",
       "5335   NaN  \n",
       "5336   NaN  \n",
       "5337   NaN  \n",
       "5338   NaN  \n",
       "5339   NaN  \n",
       "5340   NaN  "
      ]
     },
     "execution_count": 11,
     "metadata": {},
     "output_type": "execute_result"
    }
   ],
   "source": [
    "df.tail(7)"
   ]
  },
  {
   "cell_type": "markdown",
   "id": "feaf0242",
   "metadata": {},
   "source": [
    "### Only retain \"Close\" & \"Volume\""
   ]
  },
  {
   "cell_type": "code",
   "execution_count": 12,
   "id": "92cc28fd",
   "metadata": {},
   "outputs": [
    {
     "data": {
      "text/html": [
       "<div>\n",
       "<style scoped>\n",
       "    .dataframe tbody tr th:only-of-type {\n",
       "        vertical-align: middle;\n",
       "    }\n",
       "\n",
       "    .dataframe tbody tr th {\n",
       "        vertical-align: top;\n",
       "    }\n",
       "\n",
       "    .dataframe thead th {\n",
       "        text-align: right;\n",
       "    }\n",
       "</style>\n",
       "<table border=\"1\" class=\"dataframe\">\n",
       "  <thead>\n",
       "    <tr style=\"text-align: right;\">\n",
       "      <th></th>\n",
       "      <th>datetime</th>\n",
       "      <th>close</th>\n",
       "    </tr>\n",
       "  </thead>\n",
       "  <tbody>\n",
       "    <tr>\n",
       "      <th>0</th>\n",
       "      <td>2021-01-01 09:15:00</td>\n",
       "      <td>31338.90</td>\n",
       "    </tr>\n",
       "    <tr>\n",
       "      <th>1</th>\n",
       "      <td>2021-01-01 10:15:00</td>\n",
       "      <td>31292.55</td>\n",
       "    </tr>\n",
       "    <tr>\n",
       "      <th>2</th>\n",
       "      <td>2021-01-01 11:15:00</td>\n",
       "      <td>31276.95</td>\n",
       "    </tr>\n",
       "    <tr>\n",
       "      <th>3</th>\n",
       "      <td>2021-01-01 12:15:00</td>\n",
       "      <td>31273.80</td>\n",
       "    </tr>\n",
       "    <tr>\n",
       "      <th>4</th>\n",
       "      <td>2021-01-01 13:15:00</td>\n",
       "      <td>31307.05</td>\n",
       "    </tr>\n",
       "  </tbody>\n",
       "</table>\n",
       "</div>"
      ],
      "text/plain": [
       "              datetime     close\n",
       "0  2021-01-01 09:15:00  31338.90\n",
       "1  2021-01-01 10:15:00  31292.55\n",
       "2  2021-01-01 11:15:00  31276.95\n",
       "3  2021-01-01 12:15:00  31273.80\n",
       "4  2021-01-01 13:15:00  31307.05"
      ]
     },
     "execution_count": 12,
     "metadata": {},
     "output_type": "execute_result"
    }
   ],
   "source": [
    "drop_col = ['open', 'high', 'low', 'volume', 'date']\n",
    "df = df.drop(drop_col, axis=1)\n",
    "df.head()"
   ]
  },
  {
   "cell_type": "code",
   "execution_count": 13,
   "id": "ac6ba84e",
   "metadata": {
    "colab": {
     "base_uri": "https://localhost:8080/"
    },
    "id": "EycivwJKqUKI",
    "outputId": "1af2474d-027a-4605-cf92-748e6a327e8d"
   },
   "outputs": [
    {
     "name": "stdout",
     "output_type": "stream",
     "text": [
      "\n",
      " We have data from 2021-01-01 09:15:00\n",
      " We have data till 2024-02-02 15:15:00\n"
     ]
    }
   ],
   "source": [
    "max_year = pd.to_datetime(df['datetime']).max().year\n",
    "min_year = pd.to_datetime(df['datetime']).min().year\n",
    "\n",
    "\n",
    "print(f\"\\n We have data from {pd.to_datetime(df['datetime']).min()}\")\n",
    "print(f\" We have data till {pd.to_datetime(df['datetime']).max()}\")"
   ]
  },
  {
   "cell_type": "markdown",
   "id": "ac31e9e1",
   "metadata": {},
   "source": [
    "## Last day for which data is available-----"
   ]
  },
  {
   "cell_type": "code",
   "execution_count": 14,
   "id": "e343e346",
   "metadata": {},
   "outputs": [
    {
     "name": "stdout",
     "output_type": "stream",
     "text": [
      "<class 'pandas._libs.tslibs.timestamps.Timestamp'>\n",
      "2024-02-02\n"
     ]
    }
   ],
   "source": [
    "last_entry_df = pd.to_datetime(df['datetime']).max()\n",
    "print(type(last_entry_df))\n",
    "data_df_last_day = last_entry_df.date() # as its pandas.timestamp so we need to use date() instead of day()\n",
    "print(data_df_last_day) "
   ]
  },
  {
   "cell_type": "markdown",
   "id": "7d51d8cb",
   "metadata": {},
   "source": [
    "## Next working day as per Last day for which data is available-----"
   ]
  },
  {
   "cell_type": "code",
   "execution_count": 15,
   "id": "6e17aa6c",
   "metadata": {},
   "outputs": [
    {
     "name": "stdout",
     "output_type": "stream",
     "text": [
      "Check for 2024-02-02\n",
      "Next Working Day = 2024-02-05\n"
     ]
    }
   ],
   "source": [
    "'''\n",
    "# Now we use the following concept\n",
    "\n",
    "- First Download data as per Working Day time, if time is less than 3:30PM then we will download till yesterday only,\n",
    "  else we will download till today 3:30PM\n",
    "  Now as data is as per 3:30PM logic so we dont need to put here same logic, we can predict as per available data only.\n",
    "  \n",
    "- Second we will check next working day as per last entry in DATA dataframe (which is logical as per data available)\n",
    "\n",
    "- Third we will get prediction for next working day\n",
    "\n",
    "'''\n",
    "\n",
    "holiday_list = ['2023-11-27', '2023-12-25']\n",
    "def find_Next_working_day(test_date):\n",
    "    \n",
    "    test_date = test_date + timedelta(days=1)\n",
    "    if test_date.weekday() == 5:\n",
    "        add = 2\n",
    "    elif test_date.weekday() == 6:\n",
    "        add = 1\n",
    "    else :\n",
    "        add = 0\n",
    "\n",
    "    res = test_date + timedelta(days=add)\n",
    "    \n",
    "    while str(res) in holiday_list:\n",
    "        res = res + timedelta(days=1)\n",
    "        \n",
    "    if res.weekday() in [5, 6]:\n",
    "        res = find_Next_working_day(res) # Recursive call\n",
    "        \n",
    "    return res\n",
    "\n",
    "#find_Next_working_day(dt.date.today())\n",
    "print(f\"Check for {data_df_last_day}\")\n",
    "next_working_day = find_Next_working_day(data_df_last_day)\n",
    "print(f\"Next Working Day = {next_working_day}\")"
   ]
  },
  {
   "cell_type": "code",
   "execution_count": null,
   "id": "680f3fdb",
   "metadata": {},
   "outputs": [],
   "source": []
  },
  {
   "cell_type": "code",
   "execution_count": null,
   "id": "f89bf2d2",
   "metadata": {},
   "outputs": [],
   "source": []
  },
  {
   "cell_type": "code",
   "execution_count": 16,
   "id": "58f983a2",
   "metadata": {},
   "outputs": [],
   "source": [
    "#df.tz_convert('UTC')\n",
    "#d = pd.to_datetime(df['datetime'],format='%m-%d-%Y %H:%M:%S').min()\n",
    "#d.month"
   ]
  },
  {
   "cell_type": "code",
   "execution_count": 17,
   "id": "7beb1aa1",
   "metadata": {
    "id": "gVKuHoFhqqJh"
   },
   "outputs": [],
   "source": [
    "# DataType convertion\n",
    "\n",
    "df['datetime'] = pd.to_datetime(df['datetime'])\n",
    "df['date'] = df['datetime'].dt.date"
   ]
  },
  {
   "cell_type": "code",
   "execution_count": 18,
   "id": "74a1f95d",
   "metadata": {
    "colab": {
     "base_uri": "https://localhost:8080/"
    },
    "id": "6k_YvvWxqqMY",
    "outputId": "c0a1ca44-ca28-469d-db86-061d43d07b7e"
   },
   "outputs": [
    {
     "name": "stdout",
     "output_type": "stream",
     "text": [
      "Missing Value summary\n",
      "datetime    0\n",
      "close       0\n",
      "date        0\n",
      "dtype: int64 \n",
      "\n",
      "If there is any missing and duplicate values\n"
     ]
    },
    {
     "data": {
      "text/plain": [
       "2021-02-24    3\n",
       "2021-11-04    2\n",
       "2023-11-12    1\n",
       "2022-10-24    1\n",
       "Name: date, dtype: int64"
      ]
     },
     "execution_count": 18,
     "metadata": {},
     "output_type": "execute_result"
    }
   ],
   "source": [
    "# Missing Data checking\n",
    "\n",
    "df = df.sort_values('datetime').copy()\n",
    "print('Missing Value summary')\n",
    "print(f'{df.isnull().sum()} \\n')\n",
    "\n",
    "# Missing and Duplicate values checking\n",
    "print('If there is any missing and duplicate values')\n",
    "df.date.value_counts()[df.date.value_counts() != 7] # 7 As we have one hour data\n",
    "\n",
    "# %age missing values\n",
    "# df.isnull().sum()/df.shape[0]*100"
   ]
  },
  {
   "cell_type": "code",
   "execution_count": 19,
   "id": "7aa7c806",
   "metadata": {
    "id": "edC7YVeYqqUJ"
   },
   "outputs": [],
   "source": [
    "# Drop the Duplicated values\n",
    "df.drop_duplicates(['datetime'], keep='first', inplace=True)"
   ]
  },
  {
   "cell_type": "code",
   "execution_count": 20,
   "id": "1c85b188",
   "metadata": {
    "colab": {
     "base_uri": "https://localhost:8080/",
     "height": 369
    },
    "id": "-Z8LyEyVnyU6",
    "outputId": "34b95e8b-7989-43de-baf2-e57f8fdf3f34"
   },
   "outputs": [],
   "source": [
    "## Plot as per original data on daily basis\n",
    "def original_plot(df, feature):\n",
    "    #plt.figure(figsize=(12,5))\n",
    "    #df.set_index('datetime').resample('D')[feature].mean().plot()\n",
    "    df.set_index('datetime')[feature].plot()\n",
    "    plt.xlim([df.datetime.min(), df.datetime.max()])\n",
    "    plt.ylabel(feature)\n",
    "    plt.title(f\"{feature} Data on daily basis\")\n",
    "    plt.tight_layout()"
   ]
  },
  {
   "cell_type": "code",
   "execution_count": 21,
   "id": "2b2c80eb",
   "metadata": {
    "colab": {
     "base_uri": "https://localhost:8080/",
     "height": 369
    },
    "id": "cZsVyHBCBXTs",
    "outputId": "0c23301f-7e78-45bf-8dc7-ced099474ab7"
   },
   "outputs": [],
   "source": [
    "if plot_show_or_not == True:\n",
    "    original_plot(df, 'close')"
   ]
  },
  {
   "cell_type": "markdown",
   "id": "92f32f3b",
   "metadata": {
    "id": "6348fca3"
   },
   "source": [
    "### Holiday Data - Step not performed as holiday data is very less"
   ]
  },
  {
   "cell_type": "markdown",
   "id": "067f2525",
   "metadata": {
    "id": "U0K7qjoz6Qdp"
   },
   "source": [
    "## DataFrame Preperation"
   ]
  },
  {
   "cell_type": "code",
   "execution_count": 22,
   "id": "69538703",
   "metadata": {
    "colab": {
     "base_uri": "https://localhost:8080/"
    },
    "id": "T_PoVY9tDrHu",
    "outputId": "764c6116-a574-443a-baaf-f4c44192c0b1"
   },
   "outputs": [
    {
     "name": "stdout",
     "output_type": "stream",
     "text": [
      "2021-01-01\n",
      "2024-02-02\n",
      "2024-02-03\n"
     ]
    }
   ],
   "source": [
    "print(pd.to_datetime(df['datetime']).dt.date.min())\n",
    "print(pd.to_datetime(df['datetime']).dt.date.max())\n",
    "print(pd.to_datetime(df['datetime']).dt.date.max() + timedelta(days=1)) # today + 1 day(forecast date)"
   ]
  },
  {
   "cell_type": "code",
   "execution_count": 23,
   "id": "9e660d0e",
   "metadata": {
    "colab": {
     "base_uri": "https://localhost:8080/"
    },
    "id": "9Vu25ScZzPWc",
    "outputId": "e9714ff9-3767-4fbd-a2f2-50b0ef39119a",
    "scrolled": true
   },
   "outputs": [
    {
     "data": {
      "text/plain": [
       "'\\n# NO NEED to do as below due to the following:\\n - We have many muhuraat days\\n - We have holidays\\n \\n'"
      ]
     },
     "execution_count": 23,
     "metadata": {},
     "output_type": "execute_result"
    }
   ],
   "source": [
    "\"\"\"\n",
    "# NO NEED to do as below due to the following:\n",
    " - We have many muhuraat days\n",
    " - We have holidays\n",
    " \n",
    "\"\"\"\n",
    "\n",
    "\n",
    "# # Prepare FInal Daraframe to avoid any missing time block\n",
    "\n",
    "# #start_date = '2020-07-01'\n",
    "# #end_date = '2023-02-17' # today + 1 day(forecast date)\n",
    "\n",
    "# start_date = pd.to_datetime(df['datetime']).dt.date.min() # Data is available from \n",
    "# end_date = pd.to_datetime(df['datetime']).dt.date.max() + timedelta(days=1) # Data available till\n",
    "\n",
    "\n",
    "\n",
    "# z = pd.DataFrame(pd.date_range(start=start_date, end=end_date, freq='1H',closed='left'), columns=['datetime']) #inclusive in the newer version\n",
    "# df = pd.merge(z, df, on='datetime', how='left').copy()\n",
    "\n",
    "# df['date'] = df['datetime'].dt.date\n",
    "# # Make column for Time Block here \n",
    "# df['tb'] = df['datetime'].apply(lambda x : ((x.hour*60 + x.minute)//60+1))\n",
    "\n",
    "# print(df.shape)\n",
    "# print(df.tail())\n",
    "# print(f\"\\n Close data is missing for {df.close.isna().sum()} records\")"
   ]
  },
  {
   "cell_type": "code",
   "execution_count": 24,
   "id": "9dc4993e",
   "metadata": {
    "colab": {
     "base_uri": "https://localhost:8080/"
    },
    "id": "mYflOEC1zPZT",
    "outputId": "4dffceb5-a494-4a97-8ff6-42af34b1ed24"
   },
   "outputs": [
    {
     "data": {
      "text/plain": [
       "datetime    0.0\n",
       "close       0.0\n",
       "date        0.0\n",
       "dtype: float64"
      ]
     },
     "execution_count": 24,
     "metadata": {},
     "output_type": "execute_result"
    }
   ],
   "source": [
    "# %age missing values\n",
    "df.isnull().sum()/df.shape[0]*100"
   ]
  },
  {
   "cell_type": "code",
   "execution_count": 25,
   "id": "3acccfa0",
   "metadata": {},
   "outputs": [
    {
     "data": {
      "text/plain": [
       "Index(['datetime', 'close', 'date'], dtype='object')"
      ]
     },
     "execution_count": 25,
     "metadata": {},
     "output_type": "execute_result"
    }
   ],
   "source": [
    "df.columns"
   ]
  },
  {
   "cell_type": "code",
   "execution_count": 26,
   "id": "a2f3fbe6",
   "metadata": {
    "colab": {
     "base_uri": "https://localhost:8080/"
    },
    "id": "eg55vsNr5zuq",
    "outputId": "6fe9e058-c378-4bb7-b6d2-305a89592e90"
   },
   "outputs": [
    {
     "data": {
      "text/plain": [
       "datetime    0\n",
       "close       0\n",
       "date        0\n",
       "dtype: int64"
      ]
     },
     "execution_count": 26,
     "metadata": {},
     "output_type": "execute_result"
    }
   ],
   "source": [
    "'''\n",
    "Missing Values treatment\n",
    "'''\n",
    "\n",
    "## Interpolation Technique\n",
    "df['close'] = df['close'].interpolate()\n",
    "\n",
    "df.isnull().sum()"
   ]
  },
  {
   "cell_type": "code",
   "execution_count": 27,
   "id": "f622ed33",
   "metadata": {
    "colab": {
     "base_uri": "https://localhost:8080/"
    },
    "id": "v1hTGRxu1QVO",
    "outputId": "04b7269c-de76-4b27-ad3e-47e47a0a789e"
   },
   "outputs": [
    {
     "data": {
      "text/plain": [
       "datetime    0.0\n",
       "close       0.0\n",
       "date        0.0\n",
       "dtype: float64"
      ]
     },
     "execution_count": 27,
     "metadata": {},
     "output_type": "execute_result"
    }
   ],
   "source": [
    "# %age missing values\n",
    "df.isnull().sum()/df.shape[0]*100"
   ]
  },
  {
   "cell_type": "markdown",
   "id": "90cca3a9",
   "metadata": {
    "id": "431ab54d"
   },
   "source": [
    "## EDA"
   ]
  },
  {
   "cell_type": "code",
   "execution_count": 28,
   "id": "1c86a145",
   "metadata": {
    "colab": {
     "base_uri": "https://localhost:8080/",
     "height": 458
    },
    "id": "6R5glg_wj4Mc",
    "outputId": "af05a243-1436-4526-e6c8-115d4b170c7c"
   },
   "outputs": [],
   "source": [
    "if plot_show_or_not == True:\n",
    "    for x in [x for x in range(min_year, max_year+1)]:\n",
    "        df[df.datetime.dt.year==x].set_index('datetime').resample('D')['close'].mean().plot(label=x, figsize=(12,7))\n",
    "        plt.ylim([10, df.close.quantile(0.99)])\n",
    "        plt.legend(loc=\"lower left\")"
   ]
  },
  {
   "cell_type": "code",
   "execution_count": 29,
   "id": "eaa03b74",
   "metadata": {
    "colab": {
     "base_uri": "https://localhost:8080/",
     "height": 351
    },
    "id": "gZXOUDti8tbQ",
    "outputId": "ff742db8-2d52-43b7-e8c3-380fadb5dc9b"
   },
   "outputs": [],
   "source": [
    "# To check if mcp_dam is normally distributed or not\n",
    "import scipy.stats as stat\n",
    "import pylab\n",
    "\n",
    "if plot_show_or_not == True:\n",
    "    \n",
    "    plt.subplot(1,2,1)\n",
    "    sns.histplot(data=df,x='close', alpha=0.5, bins=20)\n",
    "\n",
    "    plt.subplot(1,2,2)\n",
    "    stat.probplot(df['close'],dist='norm',plot=pylab)\n",
    "    plt.show()"
   ]
  },
  {
   "cell_type": "markdown",
   "id": "9fea0431",
   "metadata": {
    "id": "eT32kkyA83ap"
   },
   "source": [
    "As curve is not following staright line, so close is not normally distributed."
   ]
  },
  {
   "cell_type": "code",
   "execution_count": 30,
   "id": "723d0be1",
   "metadata": {
    "colab": {
     "base_uri": "https://localhost:8080/",
     "height": 49
    },
    "id": "jgDrY0OvZZuX",
    "outputId": "f6307278-c6a4-4489-d18c-5e5522c60cb5"
   },
   "outputs": [
    {
     "data": {
      "text/html": [
       "<div>\n",
       "<style scoped>\n",
       "    .dataframe tbody tr th:only-of-type {\n",
       "        vertical-align: middle;\n",
       "    }\n",
       "\n",
       "    .dataframe tbody tr th {\n",
       "        vertical-align: top;\n",
       "    }\n",
       "\n",
       "    .dataframe thead th {\n",
       "        text-align: right;\n",
       "    }\n",
       "</style>\n",
       "<table border=\"1\" class=\"dataframe\">\n",
       "  <thead>\n",
       "    <tr style=\"text-align: right;\">\n",
       "      <th></th>\n",
       "      <th>datetime</th>\n",
       "      <th>close</th>\n",
       "      <th>date</th>\n",
       "    </tr>\n",
       "  </thead>\n",
       "  <tbody>\n",
       "  </tbody>\n",
       "</table>\n",
       "</div>"
      ],
      "text/plain": [
       "Empty DataFrame\n",
       "Columns: [datetime, close, date]\n",
       "Index: []"
      ]
     },
     "execution_count": 30,
     "metadata": {},
     "output_type": "execute_result"
    }
   ],
   "source": [
    "## Checking zero or -ve mcp_dam values\n",
    "df.loc[df['close']<=0, :]"
   ]
  },
  {
   "cell_type": "markdown",
   "id": "4bd40c34",
   "metadata": {
    "id": "uI7Y-MBKZaGi"
   },
   "source": [
    "So we have few zero values, we need to replace all with NaN and later will interpolate to get values"
   ]
  },
  {
   "cell_type": "code",
   "execution_count": 31,
   "id": "daa6a676",
   "metadata": {
    "colab": {
     "base_uri": "https://localhost:8080/"
    },
    "id": "gNSBX2qiZqLY",
    "outputId": "838f6fca-96e6-448e-febf-ea78362e32c5"
   },
   "outputs": [
    {
     "data": {
      "text/plain": [
       "datetime    0\n",
       "close       0\n",
       "date        0\n",
       "dtype: int64"
      ]
     },
     "execution_count": 31,
     "metadata": {},
     "output_type": "execute_result"
    }
   ],
   "source": [
    "df.loc[df['close']==0, 'close'] = np.nan\n",
    "## Interpolation Technique\n",
    "df['close'] = df['close'].interpolate()\n",
    "df.isnull().sum()"
   ]
  },
  {
   "cell_type": "markdown",
   "id": "6fc2d223",
   "metadata": {
    "id": "XVEW85hnFSql"
   },
   "source": [
    "## Feature Engineering"
   ]
  },
  {
   "cell_type": "code",
   "execution_count": 32,
   "id": "801b98b5",
   "metadata": {
    "id": "0my3BULL8teB"
   },
   "outputs": [],
   "source": [
    "def gen_datetime_features(data):\n",
    "    \n",
    "    try:\n",
    "        #Adding time based features\n",
    "        print('Adding time based features...')\n",
    "        data['date'] = data.datetime.dt.date   \n",
    "        data['hour'] = data.datetime.dt.hour + 1      # Categorical 24\n",
    "        data['dom' ] = data.datetime.dt.day       # Categorical 30/31    \n",
    "        data['month'] = data.datetime.dt.month        # Categorical 12\n",
    "        data['year']=data.datetime.dt.year            # Categorical 12\n",
    "        data['dow'] = data.datetime.dt.dayofweek      # Categorical 7\n",
    "        data['doy'] = data.datetime.dt.dayofyear      # Categorical 365/366\n",
    "        data['woy'] = data.datetime.dt.week # Categorical 52\n",
    "    \n",
    "        data['week_number'] = data['datetime'].apply(lambda time: time.strftime(\"%V\"))\n",
    "        # Above is Object DataType, so change to int\n",
    "        data['week_number'] = data['week_number'].astype('int')\n",
    "    \n",
    "        # Friday\n",
    "        data.loc[data.dow == 4, 'friday'] = 1\n",
    "        data.loc[data.dow != 4, 'friday'] = 0   \n",
    "    \n",
    "    \n",
    "        # Covid\n",
    "        data.loc[data.year.isin([2020,2021,2022]),'covid'] = 1\n",
    "        data['covid'] = data['covid'].replace(np.nan, 0)\n",
    "        # Covid 1st wave\n",
    "        data.loc[(data.year==2020)&(data.month.isin([3,4,5,6,7,8,9])),'covid_first_wave'] = 1\n",
    "        data['covid_first_wave'] = data['covid_first_wave'].replace(np.nan, 0)\n",
    "        # Covid 2nd wave\n",
    "        data.loc[(data.year==2021)&(data.month.isin([3,4,5,6])),'covid_second_wave'] = 1\n",
    "        data['covid_second_wave'] = data['covid_second_wave'].replace(np.nan, 0)\n",
    "\n",
    "        print(data.columns)\n",
    "        return data\n",
    "    except Exception as e:\n",
    "        print(\"Error in adding time based features\")\n",
    "\n",
    "\n",
    "\n",
    "# Creating Cyclic Time Indicators\n",
    "\n",
    "def cyclic(data,feature):\n",
    "    import math\n",
    "    data['norm'] = 2 * math.pi * data[f\"{feature}\"] / data[f\"{feature}\"].max()\n",
    "    data[f\"cos_{feature}\"] = np.cos(data[\"norm\"])\n",
    "    data[f\"sin_{feature}\"] = np.sin(data[\"norm\"])\n",
    "    data.drop('norm',1,inplace=True)\n",
    "    return data\n",
    "\n",
    "\n",
    "def gen_cyclic_features(data):\n",
    "    \n",
    "    try:\n",
    "        print('Adding Cyclic Time Indicators........')\n",
    "        data = cyclic(data,'hour')\n",
    "        data = cyclic(data,'dow')\n",
    "        data = cyclic(data,'doy')\n",
    "        return data\n",
    "    except Exception as e:\n",
    "        print(\"Error in adding Cyclic Time Indicators\")\n",
    "\n",
    "\n",
    "\n",
    "\n",
    "\n",
    "def gen_lag_features(data):\n",
    "    try:\n",
    "        # Encoding TS variables\n",
    "        print('Adding TB Lag features...')\n",
    "        variable_used = 'close'\n",
    "\n",
    "\n",
    "        # As we have large data, so better we should drop NaN values\n",
    "        data['lag1h'] = data[variable_used].shift(1*4)\n",
    "        data['lag2h'] = data[variable_used].shift(2*4)\n",
    "        data['lag4h'] = data[variable_used].shift(4*4)\n",
    "        data['lag6h'] = data[variable_used].shift(6*4)\n",
    "        data['lag12h'] = data[variable_used].shift(12*4)\n",
    "        data['lag1d'] = data[variable_used].shift(24*4)\n",
    "        data['lag2d'] = data[variable_used].shift(2*24*4)\n",
    "        data['lag3d'] = data[variable_used].shift(3*24*4)\n",
    "        data['lag4d'] = data[variable_used].shift(4*24*4)\n",
    "        data['lag5d'] = data[variable_used].shift(5*24*4)\n",
    "        data['lag6d'] = data[variable_used].shift(6*24*4)\n",
    "        data['lag7d'] = data[variable_used].shift(7*24*4)\n",
    "    \n",
    "\n",
    "\n",
    "    # Exponential Moving Averages\n",
    "        data['mcp_dam_ewm1h'] = data[variable_used].ewm(span = 1*4).mean()\n",
    "        data['mcp_dam_ewm2h'] = data[variable_used].ewm(span = 2*4).mean()\n",
    "        data['mcp_dam_ewm3h'] = data[variable_used].ewm(span = 3*4).mean()\n",
    "        data['mcp_dam_ewm4h'] = data[variable_used].ewm(span = 4*4).mean()\n",
    "        data['mcp_dam_ewm6h'] = data[variable_used].ewm(span = 6*4).mean()\n",
    "        data['mcp_dam_ewm8h'] = data[variable_used].ewm(span = 8*4).mean()\n",
    "        data['mcp_dam_ewm12h'] = data[variable_used].ewm(span = 12*4).mean()\n",
    "        data['mcp_dam_ewm24h'] = data[variable_used].ewm(span = 24*4).mean()\n",
    "    \n",
    "    \n",
    "    \n",
    "    \n",
    "    # Moving Averages\n",
    "        #for x in [4,8,12,24,48,96]:\n",
    "        for x in range(1,30):\n",
    "            data[f'close_rolling_mean_{x}'] = data[variable_used].rolling(x,1).mean().shift()\n",
    "            data[f'close_rolling_max_{x}'] = data[variable_used].rolling(x,1).max().shift()\n",
    "            data[f'close_rolling_min_{x}'] = data[variable_used].rolling(x,1).min().shift()\n",
    "\n",
    "    # Differences\n",
    "    # As per analysis these features has least importance , so we will not use \n",
    "        data['ramp1'] = data[variable_used] - data[variable_used].shift(1)\n",
    "        data['ramp2'] = data[variable_used].shift(1) - data[variable_used].shift(2)\n",
    "        data['ramp3'] = data[variable_used].shift(2) - data[variable_used].shift(3)\n",
    "        data['ramp4'] = data[variable_used].shift(3) - data[variable_used].shift(4)\n",
    "    \n",
    "\n",
    "#     # Taking Last 7 day same TB Mean, These features are super important\n",
    "#     data['avg_mcp_dam_7d'] = (data['mcp_dam'] + data['mcp_dam'].shift(96) + data['mcp_dam'].shift(2*96) + data['mcp_dam'].shift(3*96)) + data['mcp_dam'].shift(4*96) + data['mcp_dam'].shift(5*96) + data['mcp_dam'].shift(6*96) / 7\n",
    "#     data['avg_mcp_dam_9d'] = (data['avg_mcp_dam_7d']*7 + data['mcp_dam'].shift(7*96) + data['mcp_dam'].shift(8*96))/9\n",
    "#     data['avg_mcp_dam_11d'] = (data['avg_mcp_dam_9d']*9 + data['mcp_dam'].shift(9*96) + data['mcp_dam'].shift(10*96))/11\n",
    "#     data['avg_mcp_dam_13d'] = (data['avg_mcp_dam_11d']*11 + data['mcp_dam'].shift(11*96) + data['mcp_dam'].shift(12*96))/13\n",
    "#     data['avg_mcp_dam_15d'] = (data['avg_mcp_dam_13d']*13 + data['mcp_dam'].shift(13*96) + data['mcp_dam'].shift(14*96))/15\n",
    "#     data['avg_mcp_dam_17d'] = (data['avg_mcp_dam_15d']*15 + data['mcp_dam'].shift(15*96) + data['mcp_dam'].shift(16*96))/17\n",
    "#     data['avg_mcp_dam_19d'] = (data['avg_mcp_dam_17d']*17 + data['mcp_dam'].shift(17*96) + data['mcp_dam'].shift(18*96))/19\n",
    "#     data['avg_mcp_dam_21d'] = (data['avg_mcp_dam_19d']*19 + data['mcp_dam'].shift(19*96) + data['mcp_dam'].shift(20*96))/21\n",
    "    \n",
    "    \n",
    "    \n",
    "    \n",
    "        print(data.columns)\n",
    "        return data\n",
    "    except Exception as e:\n",
    "        print(f\"Error in adding Lag based features--{e}\")\n"
   ]
  },
  {
   "cell_type": "code",
   "execution_count": 33,
   "id": "12f49e15",
   "metadata": {
    "colab": {
     "base_uri": "https://localhost:8080/"
    },
    "id": "OYwMK3-a8tg3",
    "outputId": "fbaddd60-6bef-4062-a3ce-6f5c1851b3ef"
   },
   "outputs": [
    {
     "name": "stdout",
     "output_type": "stream",
     "text": [
      "Adding time based features...\n",
      "Index(['datetime', 'close', 'date', 'hour', 'dom', 'month', 'year', 'dow',\n",
      "       'doy', 'woy', 'week_number', 'friday', 'covid', 'covid_first_wave',\n",
      "       'covid_second_wave'],\n",
      "      dtype='object')\n"
     ]
    }
   ],
   "source": [
    "df = gen_datetime_features(df).copy()"
   ]
  },
  {
   "cell_type": "markdown",
   "id": "be8b03b9",
   "metadata": {
    "id": "BB2U_kAksOnh"
   },
   "source": [
    "## Outliers checking - Not Done"
   ]
  },
  {
   "cell_type": "markdown",
   "id": "bfeceead",
   "metadata": {
    "id": "Wi_j5VI_I9qE"
   },
   "source": [
    "## Check the Trend, Seasonality & Residual"
   ]
  },
  {
   "cell_type": "code",
   "execution_count": 34,
   "id": "12bbcec1",
   "metadata": {
    "colab": {
     "base_uri": "https://localhost:8080/",
     "height": 968
    },
    "id": "e3Q0PU3zF4eF",
    "outputId": "96f9bb63-e3ed-4431-9300-7ef9a60740c5"
   },
   "outputs": [],
   "source": [
    "if plot_show_or_not == True:\n",
    "    \n",
    "    # Let's try decomposing the load data\n",
    "    from statsmodels.tsa.seasonal import seasonal_decompose\n",
    "    import matplotlib as mpl\n",
    "    from pylab import rcParams\n",
    "    # Extra settings\n",
    "    seed = 42\n",
    "    np.random.seed(seed)\n",
    "    #plt.style.use('bmh')\n",
    "\n",
    "\n",
    "    #plt.figure(num=None, figsize=(50, 20), dpi=80, facecolor='w', edgecolor='k')\n",
    "    #series = df[(df['datetime']>='2020-01-01') & (df['datetime']<'2022-01-01')].set_index(['datetime'])['close'].dropna()\n",
    "    series = df.set_index(['datetime'])['close'].dropna()\n",
    "\n",
    "    result = seasonal_decompose(series, model='multiplicative',period=30)\n",
    "    result.plot()"
   ]
  },
  {
   "cell_type": "markdown",
   "id": "d240119c",
   "metadata": {
    "id": "wz2frSu3IMgE"
   },
   "source": [
    "Seasonality is present"
   ]
  },
  {
   "cell_type": "code",
   "execution_count": 35,
   "id": "4e7ff2c1",
   "metadata": {
    "colab": {
     "base_uri": "https://localhost:8080/",
     "height": 507
    },
    "id": "-WIKS6LiF4jx",
    "outputId": "2985853d-b9fc-4199-c9f4-269e82547be7"
   },
   "outputs": [],
   "source": [
    "if plot_show_or_not == True:\n",
    "    \n",
    "    from sklearn.linear_model import LinearRegression\n",
    "    fig = plt.figure(figsize=(15, 7))\n",
    "    layout = (3, 2)\n",
    "    pm_ax = plt.subplot2grid(layout, (0, 0), colspan=2)\n",
    "    mv_ax = plt.subplot2grid(layout, (1, 0), colspan=2)\n",
    "    fit_ax = plt.subplot2grid(layout, (2, 0), colspan=2)\n",
    "\n",
    "    pm_ax.plot(result.trend)\n",
    "    pm_ax.set_title(\"Automatic decomposed trend\")\n",
    "\n",
    "    mm = series.rolling(200).mean()\n",
    "    mv_ax.plot(mm)\n",
    "    mv_ax.set_title(\"Moving average 365 steps\")\n",
    "\n",
    "    X = [i for i in range(0, len(series))]\n",
    "    X = np.reshape(X, (len(X), 1))\n",
    "    y = series.values\n",
    "    model = LinearRegression()\n",
    "    model.fit(X, y)\n",
    "    # calculate trend\n",
    "    trend = model.predict(X)\n",
    "    fit_ax.plot(trend)\n",
    "    fit_ax.set_title(\"Trend fitted by linear regression\")\n",
    "    plt.tight_layout()"
   ]
  },
  {
   "cell_type": "markdown",
   "id": "9df540a7",
   "metadata": {
    "id": "-U8rqmcvJPnl"
   },
   "source": [
    "1. Seasonality is present\n",
    "2. Data is non-stationary"
   ]
  },
  {
   "cell_type": "markdown",
   "id": "ca17b2c8",
   "metadata": {
    "id": "IdZAW_QuJq1v"
   },
   "source": [
    "## Check for non-stationarity"
   ]
  },
  {
   "cell_type": "code",
   "execution_count": 36,
   "id": "7b835ac5",
   "metadata": {
    "colab": {
     "base_uri": "https://localhost:8080/",
     "height": 497
    },
    "id": "Z7TpU_HiF4mf",
    "outputId": "9cb088eb-f170-40ad-9689-1e8e922681d1"
   },
   "outputs": [],
   "source": [
    "if plot_show_or_not == True:\n",
    "    \n",
    "    # Determing rolling statistics\n",
    "    rolmean = series.rolling(window=200).mean()\n",
    "    rolstd = series.rolling(window=200).std()\n",
    "\n",
    "    # Plot rolling statistics:\n",
    "    orig = plt.plot(series, label='Original')\n",
    "    mean = plt.plot(rolmean, color='red', label='Rolling Mean')\n",
    "    std = plt.plot(rolstd, color='black', label='Rolling Std')\n",
    "    plt.legend(loc='best')\n",
    "    plt.title('Rolling Mean & Standard Deviation')\n",
    "    plt.show(block=False)"
   ]
  },
  {
   "cell_type": "markdown",
   "id": "b85f067d",
   "metadata": {
    "id": "y5Z2qIygJwxD"
   },
   "source": [
    "Mean and Standar deviation does not have a constant behaviour over the years, This proves us again a non-stationary series"
   ]
  },
  {
   "cell_type": "markdown",
   "id": "d16be7c5",
   "metadata": {
    "id": "sc8upNQ1J-aH"
   },
   "source": [
    "## Check ACF & PACF plots for autocorelation\n",
    "\n"
   ]
  },
  {
   "cell_type": "code",
   "execution_count": 37,
   "id": "89b3e9b1",
   "metadata": {
    "colab": {
     "base_uri": "https://localhost:8080/",
     "height": 1000
    },
    "id": "T2awkLx3F4pz",
    "outputId": "73fa69dd-9332-4d84-8b26-8011a35b48ec"
   },
   "outputs": [],
   "source": [
    "# from statsmodels.graphics.tsaplots import plot_acf, plot_pacf\n",
    "# #series = df[(df['datetime']>='2020-01-01') & (df['datetime']<'2023-01-01')]['close'].dropna()\n",
    "# series = df['close'].dropna()\n",
    "# plot_acf(series, lags=12)\n",
    "# plot_pacf(series, lags=12)\n",
    "# #plot_pacf(series, lags=7)\n",
    "# plt.show()"
   ]
  },
  {
   "cell_type": "markdown",
   "id": "5b9e2448",
   "metadata": {
    "id": "J1yjYritPIZf"
   },
   "source": [
    "We can see from the ACF curve that there is autocorrelation.\n",
    "As per PACF graph, lag - 1,2,3,4,5 are statistically significant, \n",
    "so we will include all in feature engineering."
   ]
  },
  {
   "cell_type": "code",
   "execution_count": 38,
   "id": "9833cee0",
   "metadata": {
    "id": "J8adJthnXD-J"
   },
   "outputs": [],
   "source": [
    "## Save a copy of DataFrame for using later for different lagged Model for Multioutput\n",
    "df_multi = df.copy()"
   ]
  },
  {
   "cell_type": "markdown",
   "id": "256e4d3a",
   "metadata": {
    "id": "jr_J_tnMSBK8"
   },
   "source": [
    "## Creating Features"
   ]
  },
  {
   "cell_type": "code",
   "execution_count": 39,
   "id": "5c68e9ca",
   "metadata": {
    "id": "QVdfGVCnYs9H"
   },
   "outputs": [
    {
     "data": {
      "text/html": [
       "<div>\n",
       "<style scoped>\n",
       "    .dataframe tbody tr th:only-of-type {\n",
       "        vertical-align: middle;\n",
       "    }\n",
       "\n",
       "    .dataframe tbody tr th {\n",
       "        vertical-align: top;\n",
       "    }\n",
       "\n",
       "    .dataframe thead th {\n",
       "        text-align: right;\n",
       "    }\n",
       "</style>\n",
       "<table border=\"1\" class=\"dataframe\">\n",
       "  <thead>\n",
       "    <tr style=\"text-align: right;\">\n",
       "      <th></th>\n",
       "      <th>datetime</th>\n",
       "      <th>close</th>\n",
       "      <th>date</th>\n",
       "      <th>hour</th>\n",
       "      <th>dom</th>\n",
       "      <th>month</th>\n",
       "      <th>year</th>\n",
       "      <th>dow</th>\n",
       "      <th>doy</th>\n",
       "      <th>woy</th>\n",
       "      <th>week_number</th>\n",
       "      <th>friday</th>\n",
       "      <th>covid</th>\n",
       "      <th>covid_first_wave</th>\n",
       "      <th>covid_second_wave</th>\n",
       "    </tr>\n",
       "  </thead>\n",
       "  <tbody>\n",
       "    <tr>\n",
       "      <th>0</th>\n",
       "      <td>2021-01-01 09:15:00</td>\n",
       "      <td>31338.90</td>\n",
       "      <td>2021-01-01</td>\n",
       "      <td>10</td>\n",
       "      <td>1</td>\n",
       "      <td>1</td>\n",
       "      <td>2021</td>\n",
       "      <td>4</td>\n",
       "      <td>1</td>\n",
       "      <td>53</td>\n",
       "      <td>53</td>\n",
       "      <td>1.0</td>\n",
       "      <td>1.0</td>\n",
       "      <td>0.0</td>\n",
       "      <td>0.0</td>\n",
       "    </tr>\n",
       "    <tr>\n",
       "      <th>1</th>\n",
       "      <td>2021-01-01 10:15:00</td>\n",
       "      <td>31292.55</td>\n",
       "      <td>2021-01-01</td>\n",
       "      <td>11</td>\n",
       "      <td>1</td>\n",
       "      <td>1</td>\n",
       "      <td>2021</td>\n",
       "      <td>4</td>\n",
       "      <td>1</td>\n",
       "      <td>53</td>\n",
       "      <td>53</td>\n",
       "      <td>1.0</td>\n",
       "      <td>1.0</td>\n",
       "      <td>0.0</td>\n",
       "      <td>0.0</td>\n",
       "    </tr>\n",
       "  </tbody>\n",
       "</table>\n",
       "</div>"
      ],
      "text/plain": [
       "             datetime     close        date  hour  dom  month  year  dow  doy  \\\n",
       "0 2021-01-01 09:15:00  31338.90  2021-01-01    10    1      1  2021    4    1   \n",
       "1 2021-01-01 10:15:00  31292.55  2021-01-01    11    1      1  2021    4    1   \n",
       "\n",
       "   woy  week_number  friday  covid  covid_first_wave  covid_second_wave  \n",
       "0   53           53     1.0    1.0               0.0                0.0  \n",
       "1   53           53     1.0    1.0               0.0                0.0  "
      ]
     },
     "execution_count": 39,
     "metadata": {},
     "output_type": "execute_result"
    }
   ],
   "source": [
    "data = df.copy()\n",
    "data.head(2)"
   ]
  },
  {
   "cell_type": "code",
   "execution_count": 40,
   "id": "b8bad7d5",
   "metadata": {
    "colab": {
     "base_uri": "https://localhost:8080/"
    },
    "id": "RD4iL36wKKD0",
    "outputId": "ba3780ef-fc3f-49eb-cd9f-3c587fe13ac5"
   },
   "outputs": [
    {
     "name": "stdout",
     "output_type": "stream",
     "text": [
      "Adding Cyclic Time Indicators........\n",
      "Adding TB Lag features...\n",
      "Index(['datetime', 'close', 'date', 'hour', 'dom', 'month', 'year', 'dow',\n",
      "       'doy', 'woy',\n",
      "       ...\n",
      "       'close_rolling_mean_28', 'close_rolling_max_28', 'close_rolling_min_28',\n",
      "       'close_rolling_mean_29', 'close_rolling_max_29', 'close_rolling_min_29',\n",
      "       'ramp1', 'ramp2', 'ramp3', 'ramp4'],\n",
      "      dtype='object', length=132)\n"
     ]
    }
   ],
   "source": [
    "#data = radial_features(data).copy() # Have to install sklego\n",
    "data = gen_cyclic_features(data).copy()\n",
    "data = gen_lag_features(data).copy()"
   ]
  },
  {
   "cell_type": "code",
   "execution_count": 41,
   "id": "063b755f",
   "metadata": {
    "colab": {
     "base_uri": "https://localhost:8080/",
     "height": 337
    },
    "id": "VftJfmbxKKHY",
    "outputId": "07b2f617-d75a-4e21-8aac-495c3d49ae44",
    "scrolled": false
   },
   "outputs": [],
   "source": [
    "# # Plotting how the Time Features look after getting a sin cos transformation\n",
    "\n",
    "# sns.scatterplot(x=data.sin_hour, y=data.cos_hour)\n",
    "# plt.show()"
   ]
  },
  {
   "cell_type": "markdown",
   "id": "1fdafda2",
   "metadata": {
    "id": "3VIrImyZLxpM"
   },
   "source": [
    "## Shifting by Lag Time forecasting\n",
    "\n"
   ]
  },
  {
   "cell_type": "code",
   "execution_count": 42,
   "id": "986dbdb8",
   "metadata": {
    "id": "4uvVOf07eKIS"
   },
   "outputs": [
    {
     "name": "stdout",
     "output_type": "stream",
     "text": [
      "7\n",
      "60min\n"
     ]
    }
   ],
   "source": [
    "#target_ahead_timeblocks = 7  # Forecasting Lead Time for 15 mins candle\n",
    "\n",
    "# Automatic calculation of target_ahead_timeblocks\n",
    "\n",
    "def target_ahead_TB(data):\n",
    "    minutes_TB = (data['datetime'][1]-data['datetime'][0]).seconds/60 # minus gives Minutes difference between 2 data rows\n",
    "    target_ahead_timeblocks = (6*60)/minutes_TB + 1\n",
    "    target_ahead_timeblocks = int(target_ahead_timeblocks)\n",
    "    minutes_TB = int(minutes_TB)\n",
    "    return (target_ahead_timeblocks, minutes_TB)  \n",
    "\n",
    "target_ahead_timeblocks = target_ahead_TB(data)[0]\n",
    "frequency_in_mins = str(target_ahead_TB(data)[1]) + \"min\" # We need that for generating DF for final forcast for next working day\n",
    "\n",
    "\n",
    "print(target_ahead_timeblocks)\n",
    "print(frequency_in_mins)"
   ]
  },
  {
   "cell_type": "code",
   "execution_count": 43,
   "id": "05273408",
   "metadata": {
    "id": "F6h5zI0RZHiY"
   },
   "outputs": [],
   "source": [
    "# Shifting of Data as per Forecasting Lead Time\n",
    "def shift_variable_by_TB(data, target_ahead_timeblocks):\n",
    "    \n",
    "    data['ramp_close'] = data['close'] - data['close'].shift(target_ahead_timeblocks) # Creating one feature based on the forecast horizon\n",
    "    features = data.columns.tolist()\n",
    "    \n",
    "    \n",
    "  # Creating target variable\n",
    "    data['target'] = data['close'].shift(-target_ahead_timeblocks)\n",
    "    \n",
    "    return data"
   ]
  },
  {
   "cell_type": "code",
   "execution_count": 44,
   "id": "37eaf2b4",
   "metadata": {
    "id": "LhBWq_w-huoX"
   },
   "outputs": [],
   "source": [
    "data = shift_variable_by_TB(data, target_ahead_timeblocks)"
   ]
  },
  {
   "cell_type": "code",
   "execution_count": 45,
   "id": "b73f62d6",
   "metadata": {
    "id": "1PACqqOhZHlG",
    "scrolled": false
   },
   "outputs": [
    {
     "data": {
      "text/html": [
       "<div>\n",
       "<style scoped>\n",
       "    .dataframe tbody tr th:only-of-type {\n",
       "        vertical-align: middle;\n",
       "    }\n",
       "\n",
       "    .dataframe tbody tr th {\n",
       "        vertical-align: top;\n",
       "    }\n",
       "\n",
       "    .dataframe thead th {\n",
       "        text-align: right;\n",
       "    }\n",
       "</style>\n",
       "<table border=\"1\" class=\"dataframe\">\n",
       "  <thead>\n",
       "    <tr style=\"text-align: right;\">\n",
       "      <th></th>\n",
       "      <th>close</th>\n",
       "      <th>date</th>\n",
       "      <th>hour</th>\n",
       "      <th>dom</th>\n",
       "      <th>month</th>\n",
       "      <th>year</th>\n",
       "      <th>dow</th>\n",
       "      <th>doy</th>\n",
       "      <th>woy</th>\n",
       "      <th>week_number</th>\n",
       "      <th>...</th>\n",
       "      <th>close_rolling_min_28</th>\n",
       "      <th>close_rolling_mean_29</th>\n",
       "      <th>close_rolling_max_29</th>\n",
       "      <th>close_rolling_min_29</th>\n",
       "      <th>ramp1</th>\n",
       "      <th>ramp2</th>\n",
       "      <th>ramp3</th>\n",
       "      <th>ramp4</th>\n",
       "      <th>ramp_close</th>\n",
       "      <th>target</th>\n",
       "    </tr>\n",
       "    <tr>\n",
       "      <th>datetime</th>\n",
       "      <th></th>\n",
       "      <th></th>\n",
       "      <th></th>\n",
       "      <th></th>\n",
       "      <th></th>\n",
       "      <th></th>\n",
       "      <th></th>\n",
       "      <th></th>\n",
       "      <th></th>\n",
       "      <th></th>\n",
       "      <th></th>\n",
       "      <th></th>\n",
       "      <th></th>\n",
       "      <th></th>\n",
       "      <th></th>\n",
       "      <th></th>\n",
       "      <th></th>\n",
       "      <th></th>\n",
       "      <th></th>\n",
       "      <th></th>\n",
       "      <th></th>\n",
       "    </tr>\n",
       "  </thead>\n",
       "  <tbody>\n",
       "    <tr>\n",
       "      <th>2024-02-01 13:15:00</th>\n",
       "      <td>46123.65</td>\n",
       "      <td>2024-02-01</td>\n",
       "      <td>14</td>\n",
       "      <td>1</td>\n",
       "      <td>2</td>\n",
       "      <td>2024</td>\n",
       "      <td>3</td>\n",
       "      <td>32</td>\n",
       "      <td>5</td>\n",
       "      <td>5</td>\n",
       "      <td>...</td>\n",
       "      <td>44537.55</td>\n",
       "      <td>45560.536207</td>\n",
       "      <td>46176.4</td>\n",
       "      <td>44537.55</td>\n",
       "      <td>-52.75</td>\n",
       "      <td>77.45</td>\n",
       "      <td>65.65</td>\n",
       "      <td>134.25</td>\n",
       "      <td>82.35</td>\n",
       "      <td>46307.85</td>\n",
       "    </tr>\n",
       "    <tr>\n",
       "      <th>2024-02-01 14:15:00</th>\n",
       "      <td>46146.35</td>\n",
       "      <td>2024-02-01</td>\n",
       "      <td>15</td>\n",
       "      <td>1</td>\n",
       "      <td>2</td>\n",
       "      <td>2024</td>\n",
       "      <td>3</td>\n",
       "      <td>32</td>\n",
       "      <td>5</td>\n",
       "      <td>5</td>\n",
       "      <td>...</td>\n",
       "      <td>44872.45</td>\n",
       "      <td>45615.067241</td>\n",
       "      <td>46176.4</td>\n",
       "      <td>44537.55</td>\n",
       "      <td>22.70</td>\n",
       "      <td>-52.75</td>\n",
       "      <td>77.45</td>\n",
       "      <td>65.65</td>\n",
       "      <td>155.75</td>\n",
       "      <td>45963.80</td>\n",
       "    </tr>\n",
       "    <tr>\n",
       "      <th>2024-02-01 15:15:00</th>\n",
       "      <td>46206.90</td>\n",
       "      <td>2024-02-01</td>\n",
       "      <td>16</td>\n",
       "      <td>1</td>\n",
       "      <td>2</td>\n",
       "      <td>2024</td>\n",
       "      <td>3</td>\n",
       "      <td>32</td>\n",
       "      <td>5</td>\n",
       "      <td>5</td>\n",
       "      <td>...</td>\n",
       "      <td>44988.50</td>\n",
       "      <td>45670.543103</td>\n",
       "      <td>46176.4</td>\n",
       "      <td>44872.45</td>\n",
       "      <td>60.55</td>\n",
       "      <td>22.70</td>\n",
       "      <td>-52.75</td>\n",
       "      <td>77.45</td>\n",
       "      <td>232.90</td>\n",
       "      <td>45954.65</td>\n",
       "    </tr>\n",
       "    <tr>\n",
       "      <th>2024-02-02 09:15:00</th>\n",
       "      <td>46612.00</td>\n",
       "      <td>2024-02-02</td>\n",
       "      <td>10</td>\n",
       "      <td>2</td>\n",
       "      <td>2</td>\n",
       "      <td>2024</td>\n",
       "      <td>4</td>\n",
       "      <td>33</td>\n",
       "      <td>5</td>\n",
       "      <td>5</td>\n",
       "      <td>...</td>\n",
       "      <td>45319.55</td>\n",
       "      <td>45716.558621</td>\n",
       "      <td>46206.9</td>\n",
       "      <td>44988.50</td>\n",
       "      <td>405.10</td>\n",
       "      <td>60.55</td>\n",
       "      <td>22.70</td>\n",
       "      <td>-52.75</td>\n",
       "      <td>712.95</td>\n",
       "      <td>NaN</td>\n",
       "    </tr>\n",
       "    <tr>\n",
       "      <th>2024-02-02 10:15:00</th>\n",
       "      <td>46583.00</td>\n",
       "      <td>2024-02-02</td>\n",
       "      <td>11</td>\n",
       "      <td>2</td>\n",
       "      <td>2</td>\n",
       "      <td>2024</td>\n",
       "      <td>4</td>\n",
       "      <td>33</td>\n",
       "      <td>5</td>\n",
       "      <td>5</td>\n",
       "      <td>...</td>\n",
       "      <td>45319.55</td>\n",
       "      <td>45772.541379</td>\n",
       "      <td>46612.0</td>\n",
       "      <td>45319.55</td>\n",
       "      <td>-29.00</td>\n",
       "      <td>405.10</td>\n",
       "      <td>60.55</td>\n",
       "      <td>22.70</td>\n",
       "      <td>549.70</td>\n",
       "      <td>NaN</td>\n",
       "    </tr>\n",
       "    <tr>\n",
       "      <th>2024-02-02 11:15:00</th>\n",
       "      <td>46744.50</td>\n",
       "      <td>2024-02-02</td>\n",
       "      <td>12</td>\n",
       "      <td>2</td>\n",
       "      <td>2</td>\n",
       "      <td>2024</td>\n",
       "      <td>4</td>\n",
       "      <td>33</td>\n",
       "      <td>5</td>\n",
       "      <td>5</td>\n",
       "      <td>...</td>\n",
       "      <td>45319.55</td>\n",
       "      <td>45811.131034</td>\n",
       "      <td>46612.0</td>\n",
       "      <td>45319.55</td>\n",
       "      <td>161.50</td>\n",
       "      <td>-29.00</td>\n",
       "      <td>405.10</td>\n",
       "      <td>60.55</td>\n",
       "      <td>645.55</td>\n",
       "      <td>NaN</td>\n",
       "    </tr>\n",
       "    <tr>\n",
       "      <th>2024-02-02 12:15:00</th>\n",
       "      <td>46254.70</td>\n",
       "      <td>2024-02-02</td>\n",
       "      <td>13</td>\n",
       "      <td>2</td>\n",
       "      <td>2</td>\n",
       "      <td>2024</td>\n",
       "      <td>4</td>\n",
       "      <td>33</td>\n",
       "      <td>5</td>\n",
       "      <td>5</td>\n",
       "      <td>...</td>\n",
       "      <td>45319.55</td>\n",
       "      <td>45852.439655</td>\n",
       "      <td>46744.5</td>\n",
       "      <td>45319.55</td>\n",
       "      <td>-489.80</td>\n",
       "      <td>161.50</td>\n",
       "      <td>-29.00</td>\n",
       "      <td>405.10</td>\n",
       "      <td>78.30</td>\n",
       "      <td>NaN</td>\n",
       "    </tr>\n",
       "    <tr>\n",
       "      <th>2024-02-02 13:15:00</th>\n",
       "      <td>46307.85</td>\n",
       "      <td>2024-02-02</td>\n",
       "      <td>14</td>\n",
       "      <td>2</td>\n",
       "      <td>2</td>\n",
       "      <td>2024</td>\n",
       "      <td>4</td>\n",
       "      <td>33</td>\n",
       "      <td>5</td>\n",
       "      <td>5</td>\n",
       "      <td>...</td>\n",
       "      <td>45319.55</td>\n",
       "      <td>45878.548276</td>\n",
       "      <td>46744.5</td>\n",
       "      <td>45319.55</td>\n",
       "      <td>53.15</td>\n",
       "      <td>-489.80</td>\n",
       "      <td>161.50</td>\n",
       "      <td>-29.00</td>\n",
       "      <td>184.20</td>\n",
       "      <td>NaN</td>\n",
       "    </tr>\n",
       "    <tr>\n",
       "      <th>2024-02-02 14:15:00</th>\n",
       "      <td>45963.80</td>\n",
       "      <td>2024-02-02</td>\n",
       "      <td>15</td>\n",
       "      <td>2</td>\n",
       "      <td>2</td>\n",
       "      <td>2024</td>\n",
       "      <td>4</td>\n",
       "      <td>33</td>\n",
       "      <td>5</td>\n",
       "      <td>5</td>\n",
       "      <td>...</td>\n",
       "      <td>45319.55</td>\n",
       "      <td>45908.153448</td>\n",
       "      <td>46744.5</td>\n",
       "      <td>45319.55</td>\n",
       "      <td>-344.05</td>\n",
       "      <td>53.15</td>\n",
       "      <td>-489.80</td>\n",
       "      <td>161.50</td>\n",
       "      <td>-182.55</td>\n",
       "      <td>NaN</td>\n",
       "    </tr>\n",
       "    <tr>\n",
       "      <th>2024-02-02 15:15:00</th>\n",
       "      <td>45954.65</td>\n",
       "      <td>2024-02-02</td>\n",
       "      <td>16</td>\n",
       "      <td>2</td>\n",
       "      <td>2</td>\n",
       "      <td>2024</td>\n",
       "      <td>4</td>\n",
       "      <td>33</td>\n",
       "      <td>5</td>\n",
       "      <td>5</td>\n",
       "      <td>...</td>\n",
       "      <td>45319.55</td>\n",
       "      <td>45926.237931</td>\n",
       "      <td>46744.5</td>\n",
       "      <td>45319.55</td>\n",
       "      <td>-9.15</td>\n",
       "      <td>-344.05</td>\n",
       "      <td>53.15</td>\n",
       "      <td>-489.80</td>\n",
       "      <td>-252.25</td>\n",
       "      <td>NaN</td>\n",
       "    </tr>\n",
       "  </tbody>\n",
       "</table>\n",
       "<p>10 rows × 133 columns</p>\n",
       "</div>"
      ],
      "text/plain": [
       "                        close        date  hour  dom  month  year  dow  doy  \\\n",
       "datetime                                                                      \n",
       "2024-02-01 13:15:00  46123.65  2024-02-01    14    1      2  2024    3   32   \n",
       "2024-02-01 14:15:00  46146.35  2024-02-01    15    1      2  2024    3   32   \n",
       "2024-02-01 15:15:00  46206.90  2024-02-01    16    1      2  2024    3   32   \n",
       "2024-02-02 09:15:00  46612.00  2024-02-02    10    2      2  2024    4   33   \n",
       "2024-02-02 10:15:00  46583.00  2024-02-02    11    2      2  2024    4   33   \n",
       "2024-02-02 11:15:00  46744.50  2024-02-02    12    2      2  2024    4   33   \n",
       "2024-02-02 12:15:00  46254.70  2024-02-02    13    2      2  2024    4   33   \n",
       "2024-02-02 13:15:00  46307.85  2024-02-02    14    2      2  2024    4   33   \n",
       "2024-02-02 14:15:00  45963.80  2024-02-02    15    2      2  2024    4   33   \n",
       "2024-02-02 15:15:00  45954.65  2024-02-02    16    2      2  2024    4   33   \n",
       "\n",
       "                     woy  week_number  ...  close_rolling_min_28  \\\n",
       "datetime                               ...                         \n",
       "2024-02-01 13:15:00    5            5  ...              44537.55   \n",
       "2024-02-01 14:15:00    5            5  ...              44872.45   \n",
       "2024-02-01 15:15:00    5            5  ...              44988.50   \n",
       "2024-02-02 09:15:00    5            5  ...              45319.55   \n",
       "2024-02-02 10:15:00    5            5  ...              45319.55   \n",
       "2024-02-02 11:15:00    5            5  ...              45319.55   \n",
       "2024-02-02 12:15:00    5            5  ...              45319.55   \n",
       "2024-02-02 13:15:00    5            5  ...              45319.55   \n",
       "2024-02-02 14:15:00    5            5  ...              45319.55   \n",
       "2024-02-02 15:15:00    5            5  ...              45319.55   \n",
       "\n",
       "                     close_rolling_mean_29  close_rolling_max_29  \\\n",
       "datetime                                                           \n",
       "2024-02-01 13:15:00           45560.536207               46176.4   \n",
       "2024-02-01 14:15:00           45615.067241               46176.4   \n",
       "2024-02-01 15:15:00           45670.543103               46176.4   \n",
       "2024-02-02 09:15:00           45716.558621               46206.9   \n",
       "2024-02-02 10:15:00           45772.541379               46612.0   \n",
       "2024-02-02 11:15:00           45811.131034               46612.0   \n",
       "2024-02-02 12:15:00           45852.439655               46744.5   \n",
       "2024-02-02 13:15:00           45878.548276               46744.5   \n",
       "2024-02-02 14:15:00           45908.153448               46744.5   \n",
       "2024-02-02 15:15:00           45926.237931               46744.5   \n",
       "\n",
       "                     close_rolling_min_29   ramp1   ramp2   ramp3   ramp4  \\\n",
       "datetime                                                                    \n",
       "2024-02-01 13:15:00              44537.55  -52.75   77.45   65.65  134.25   \n",
       "2024-02-01 14:15:00              44537.55   22.70  -52.75   77.45   65.65   \n",
       "2024-02-01 15:15:00              44872.45   60.55   22.70  -52.75   77.45   \n",
       "2024-02-02 09:15:00              44988.50  405.10   60.55   22.70  -52.75   \n",
       "2024-02-02 10:15:00              45319.55  -29.00  405.10   60.55   22.70   \n",
       "2024-02-02 11:15:00              45319.55  161.50  -29.00  405.10   60.55   \n",
       "2024-02-02 12:15:00              45319.55 -489.80  161.50  -29.00  405.10   \n",
       "2024-02-02 13:15:00              45319.55   53.15 -489.80  161.50  -29.00   \n",
       "2024-02-02 14:15:00              45319.55 -344.05   53.15 -489.80  161.50   \n",
       "2024-02-02 15:15:00              45319.55   -9.15 -344.05   53.15 -489.80   \n",
       "\n",
       "                     ramp_close    target  \n",
       "datetime                                   \n",
       "2024-02-01 13:15:00       82.35  46307.85  \n",
       "2024-02-01 14:15:00      155.75  45963.80  \n",
       "2024-02-01 15:15:00      232.90  45954.65  \n",
       "2024-02-02 09:15:00      712.95       NaN  \n",
       "2024-02-02 10:15:00      549.70       NaN  \n",
       "2024-02-02 11:15:00      645.55       NaN  \n",
       "2024-02-02 12:15:00       78.30       NaN  \n",
       "2024-02-02 13:15:00      184.20       NaN  \n",
       "2024-02-02 14:15:00     -182.55       NaN  \n",
       "2024-02-02 15:15:00     -252.25       NaN  \n",
       "\n",
       "[10 rows x 133 columns]"
      ]
     },
     "execution_count": 45,
     "metadata": {},
     "output_type": "execute_result"
    }
   ],
   "source": [
    "# Save DataFrame to new variable to make a check point\n",
    "data_for_training = data.set_index('datetime').copy()\n",
    "data_for_training.tail(10)"
   ]
  },
  {
   "cell_type": "code",
   "execution_count": 46,
   "id": "227280d6",
   "metadata": {},
   "outputs": [
    {
     "data": {
      "text/plain": [
       "Index(['datetime', 'close', 'date', 'hour', 'dom', 'month', 'year', 'dow',\n",
       "       'doy', 'woy',\n",
       "       ...\n",
       "       'close_rolling_min_28', 'close_rolling_mean_29', 'close_rolling_max_29',\n",
       "       'close_rolling_min_29', 'ramp1', 'ramp2', 'ramp3', 'ramp4',\n",
       "       'ramp_close', 'target'],\n",
       "      dtype='object', length=134)"
      ]
     },
     "execution_count": 46,
     "metadata": {},
     "output_type": "execute_result"
    }
   ],
   "source": [
    "data.columns"
   ]
  },
  {
   "cell_type": "code",
   "execution_count": 47,
   "id": "8a191a97",
   "metadata": {},
   "outputs": [
    {
     "data": {
      "text/plain": [
       "datetime      0\n",
       "close         0\n",
       "date          0\n",
       "hour          0\n",
       "dom           0\n",
       "             ..\n",
       "ramp2         2\n",
       "ramp3         3\n",
       "ramp4         4\n",
       "ramp_close    7\n",
       "target        7\n",
       "Length: 134, dtype: int64"
      ]
     },
     "execution_count": 47,
     "metadata": {},
     "output_type": "execute_result"
    }
   ],
   "source": [
    "data.isna().sum()"
   ]
  },
  {
   "cell_type": "code",
   "execution_count": 48,
   "id": "51a68feb",
   "metadata": {},
   "outputs": [
    {
     "data": {
      "text/html": [
       "<div>\n",
       "<style scoped>\n",
       "    .dataframe tbody tr th:only-of-type {\n",
       "        vertical-align: middle;\n",
       "    }\n",
       "\n",
       "    .dataframe tbody tr th {\n",
       "        vertical-align: top;\n",
       "    }\n",
       "\n",
       "    .dataframe thead th {\n",
       "        text-align: right;\n",
       "    }\n",
       "</style>\n",
       "<table border=\"1\" class=\"dataframe\">\n",
       "  <thead>\n",
       "    <tr style=\"text-align: right;\">\n",
       "      <th></th>\n",
       "      <th>datetime</th>\n",
       "      <th>close</th>\n",
       "      <th>date</th>\n",
       "      <th>hour</th>\n",
       "      <th>dom</th>\n",
       "      <th>month</th>\n",
       "      <th>year</th>\n",
       "      <th>dow</th>\n",
       "      <th>doy</th>\n",
       "      <th>woy</th>\n",
       "      <th>...</th>\n",
       "      <th>close_rolling_min_28</th>\n",
       "      <th>close_rolling_mean_29</th>\n",
       "      <th>close_rolling_max_29</th>\n",
       "      <th>close_rolling_min_29</th>\n",
       "      <th>ramp1</th>\n",
       "      <th>ramp2</th>\n",
       "      <th>ramp3</th>\n",
       "      <th>ramp4</th>\n",
       "      <th>ramp_close</th>\n",
       "      <th>target</th>\n",
       "    </tr>\n",
       "  </thead>\n",
       "  <tbody>\n",
       "    <tr>\n",
       "      <th>5331</th>\n",
       "      <td>2024-02-01 13:15:00</td>\n",
       "      <td>46123.65</td>\n",
       "      <td>2024-02-01</td>\n",
       "      <td>14</td>\n",
       "      <td>1</td>\n",
       "      <td>2</td>\n",
       "      <td>2024</td>\n",
       "      <td>3</td>\n",
       "      <td>32</td>\n",
       "      <td>5</td>\n",
       "      <td>...</td>\n",
       "      <td>44537.55</td>\n",
       "      <td>45560.536207</td>\n",
       "      <td>46176.4</td>\n",
       "      <td>44537.55</td>\n",
       "      <td>-52.75</td>\n",
       "      <td>77.45</td>\n",
       "      <td>65.65</td>\n",
       "      <td>134.25</td>\n",
       "      <td>82.35</td>\n",
       "      <td>46307.85</td>\n",
       "    </tr>\n",
       "    <tr>\n",
       "      <th>5332</th>\n",
       "      <td>2024-02-01 14:15:00</td>\n",
       "      <td>46146.35</td>\n",
       "      <td>2024-02-01</td>\n",
       "      <td>15</td>\n",
       "      <td>1</td>\n",
       "      <td>2</td>\n",
       "      <td>2024</td>\n",
       "      <td>3</td>\n",
       "      <td>32</td>\n",
       "      <td>5</td>\n",
       "      <td>...</td>\n",
       "      <td>44872.45</td>\n",
       "      <td>45615.067241</td>\n",
       "      <td>46176.4</td>\n",
       "      <td>44537.55</td>\n",
       "      <td>22.70</td>\n",
       "      <td>-52.75</td>\n",
       "      <td>77.45</td>\n",
       "      <td>65.65</td>\n",
       "      <td>155.75</td>\n",
       "      <td>45963.80</td>\n",
       "    </tr>\n",
       "    <tr>\n",
       "      <th>5333</th>\n",
       "      <td>2024-02-01 15:15:00</td>\n",
       "      <td>46206.90</td>\n",
       "      <td>2024-02-01</td>\n",
       "      <td>16</td>\n",
       "      <td>1</td>\n",
       "      <td>2</td>\n",
       "      <td>2024</td>\n",
       "      <td>3</td>\n",
       "      <td>32</td>\n",
       "      <td>5</td>\n",
       "      <td>...</td>\n",
       "      <td>44988.50</td>\n",
       "      <td>45670.543103</td>\n",
       "      <td>46176.4</td>\n",
       "      <td>44872.45</td>\n",
       "      <td>60.55</td>\n",
       "      <td>22.70</td>\n",
       "      <td>-52.75</td>\n",
       "      <td>77.45</td>\n",
       "      <td>232.90</td>\n",
       "      <td>45954.65</td>\n",
       "    </tr>\n",
       "    <tr>\n",
       "      <th>5334</th>\n",
       "      <td>2024-02-02 09:15:00</td>\n",
       "      <td>46612.00</td>\n",
       "      <td>2024-02-02</td>\n",
       "      <td>10</td>\n",
       "      <td>2</td>\n",
       "      <td>2</td>\n",
       "      <td>2024</td>\n",
       "      <td>4</td>\n",
       "      <td>33</td>\n",
       "      <td>5</td>\n",
       "      <td>...</td>\n",
       "      <td>45319.55</td>\n",
       "      <td>45716.558621</td>\n",
       "      <td>46206.9</td>\n",
       "      <td>44988.50</td>\n",
       "      <td>405.10</td>\n",
       "      <td>60.55</td>\n",
       "      <td>22.70</td>\n",
       "      <td>-52.75</td>\n",
       "      <td>712.95</td>\n",
       "      <td>NaN</td>\n",
       "    </tr>\n",
       "    <tr>\n",
       "      <th>5335</th>\n",
       "      <td>2024-02-02 10:15:00</td>\n",
       "      <td>46583.00</td>\n",
       "      <td>2024-02-02</td>\n",
       "      <td>11</td>\n",
       "      <td>2</td>\n",
       "      <td>2</td>\n",
       "      <td>2024</td>\n",
       "      <td>4</td>\n",
       "      <td>33</td>\n",
       "      <td>5</td>\n",
       "      <td>...</td>\n",
       "      <td>45319.55</td>\n",
       "      <td>45772.541379</td>\n",
       "      <td>46612.0</td>\n",
       "      <td>45319.55</td>\n",
       "      <td>-29.00</td>\n",
       "      <td>405.10</td>\n",
       "      <td>60.55</td>\n",
       "      <td>22.70</td>\n",
       "      <td>549.70</td>\n",
       "      <td>NaN</td>\n",
       "    </tr>\n",
       "    <tr>\n",
       "      <th>5336</th>\n",
       "      <td>2024-02-02 11:15:00</td>\n",
       "      <td>46744.50</td>\n",
       "      <td>2024-02-02</td>\n",
       "      <td>12</td>\n",
       "      <td>2</td>\n",
       "      <td>2</td>\n",
       "      <td>2024</td>\n",
       "      <td>4</td>\n",
       "      <td>33</td>\n",
       "      <td>5</td>\n",
       "      <td>...</td>\n",
       "      <td>45319.55</td>\n",
       "      <td>45811.131034</td>\n",
       "      <td>46612.0</td>\n",
       "      <td>45319.55</td>\n",
       "      <td>161.50</td>\n",
       "      <td>-29.00</td>\n",
       "      <td>405.10</td>\n",
       "      <td>60.55</td>\n",
       "      <td>645.55</td>\n",
       "      <td>NaN</td>\n",
       "    </tr>\n",
       "    <tr>\n",
       "      <th>5337</th>\n",
       "      <td>2024-02-02 12:15:00</td>\n",
       "      <td>46254.70</td>\n",
       "      <td>2024-02-02</td>\n",
       "      <td>13</td>\n",
       "      <td>2</td>\n",
       "      <td>2</td>\n",
       "      <td>2024</td>\n",
       "      <td>4</td>\n",
       "      <td>33</td>\n",
       "      <td>5</td>\n",
       "      <td>...</td>\n",
       "      <td>45319.55</td>\n",
       "      <td>45852.439655</td>\n",
       "      <td>46744.5</td>\n",
       "      <td>45319.55</td>\n",
       "      <td>-489.80</td>\n",
       "      <td>161.50</td>\n",
       "      <td>-29.00</td>\n",
       "      <td>405.10</td>\n",
       "      <td>78.30</td>\n",
       "      <td>NaN</td>\n",
       "    </tr>\n",
       "    <tr>\n",
       "      <th>5338</th>\n",
       "      <td>2024-02-02 13:15:00</td>\n",
       "      <td>46307.85</td>\n",
       "      <td>2024-02-02</td>\n",
       "      <td>14</td>\n",
       "      <td>2</td>\n",
       "      <td>2</td>\n",
       "      <td>2024</td>\n",
       "      <td>4</td>\n",
       "      <td>33</td>\n",
       "      <td>5</td>\n",
       "      <td>...</td>\n",
       "      <td>45319.55</td>\n",
       "      <td>45878.548276</td>\n",
       "      <td>46744.5</td>\n",
       "      <td>45319.55</td>\n",
       "      <td>53.15</td>\n",
       "      <td>-489.80</td>\n",
       "      <td>161.50</td>\n",
       "      <td>-29.00</td>\n",
       "      <td>184.20</td>\n",
       "      <td>NaN</td>\n",
       "    </tr>\n",
       "    <tr>\n",
       "      <th>5339</th>\n",
       "      <td>2024-02-02 14:15:00</td>\n",
       "      <td>45963.80</td>\n",
       "      <td>2024-02-02</td>\n",
       "      <td>15</td>\n",
       "      <td>2</td>\n",
       "      <td>2</td>\n",
       "      <td>2024</td>\n",
       "      <td>4</td>\n",
       "      <td>33</td>\n",
       "      <td>5</td>\n",
       "      <td>...</td>\n",
       "      <td>45319.55</td>\n",
       "      <td>45908.153448</td>\n",
       "      <td>46744.5</td>\n",
       "      <td>45319.55</td>\n",
       "      <td>-344.05</td>\n",
       "      <td>53.15</td>\n",
       "      <td>-489.80</td>\n",
       "      <td>161.50</td>\n",
       "      <td>-182.55</td>\n",
       "      <td>NaN</td>\n",
       "    </tr>\n",
       "    <tr>\n",
       "      <th>5340</th>\n",
       "      <td>2024-02-02 15:15:00</td>\n",
       "      <td>45954.65</td>\n",
       "      <td>2024-02-02</td>\n",
       "      <td>16</td>\n",
       "      <td>2</td>\n",
       "      <td>2</td>\n",
       "      <td>2024</td>\n",
       "      <td>4</td>\n",
       "      <td>33</td>\n",
       "      <td>5</td>\n",
       "      <td>...</td>\n",
       "      <td>45319.55</td>\n",
       "      <td>45926.237931</td>\n",
       "      <td>46744.5</td>\n",
       "      <td>45319.55</td>\n",
       "      <td>-9.15</td>\n",
       "      <td>-344.05</td>\n",
       "      <td>53.15</td>\n",
       "      <td>-489.80</td>\n",
       "      <td>-252.25</td>\n",
       "      <td>NaN</td>\n",
       "    </tr>\n",
       "  </tbody>\n",
       "</table>\n",
       "<p>10 rows × 134 columns</p>\n",
       "</div>"
      ],
      "text/plain": [
       "                datetime     close        date  hour  dom  month  year  dow  \\\n",
       "5331 2024-02-01 13:15:00  46123.65  2024-02-01    14    1      2  2024    3   \n",
       "5332 2024-02-01 14:15:00  46146.35  2024-02-01    15    1      2  2024    3   \n",
       "5333 2024-02-01 15:15:00  46206.90  2024-02-01    16    1      2  2024    3   \n",
       "5334 2024-02-02 09:15:00  46612.00  2024-02-02    10    2      2  2024    4   \n",
       "5335 2024-02-02 10:15:00  46583.00  2024-02-02    11    2      2  2024    4   \n",
       "5336 2024-02-02 11:15:00  46744.50  2024-02-02    12    2      2  2024    4   \n",
       "5337 2024-02-02 12:15:00  46254.70  2024-02-02    13    2      2  2024    4   \n",
       "5338 2024-02-02 13:15:00  46307.85  2024-02-02    14    2      2  2024    4   \n",
       "5339 2024-02-02 14:15:00  45963.80  2024-02-02    15    2      2  2024    4   \n",
       "5340 2024-02-02 15:15:00  45954.65  2024-02-02    16    2      2  2024    4   \n",
       "\n",
       "      doy  woy  ...  close_rolling_min_28  close_rolling_mean_29  \\\n",
       "5331   32    5  ...              44537.55           45560.536207   \n",
       "5332   32    5  ...              44872.45           45615.067241   \n",
       "5333   32    5  ...              44988.50           45670.543103   \n",
       "5334   33    5  ...              45319.55           45716.558621   \n",
       "5335   33    5  ...              45319.55           45772.541379   \n",
       "5336   33    5  ...              45319.55           45811.131034   \n",
       "5337   33    5  ...              45319.55           45852.439655   \n",
       "5338   33    5  ...              45319.55           45878.548276   \n",
       "5339   33    5  ...              45319.55           45908.153448   \n",
       "5340   33    5  ...              45319.55           45926.237931   \n",
       "\n",
       "      close_rolling_max_29  close_rolling_min_29   ramp1   ramp2   ramp3  \\\n",
       "5331               46176.4              44537.55  -52.75   77.45   65.65   \n",
       "5332               46176.4              44537.55   22.70  -52.75   77.45   \n",
       "5333               46176.4              44872.45   60.55   22.70  -52.75   \n",
       "5334               46206.9              44988.50  405.10   60.55   22.70   \n",
       "5335               46612.0              45319.55  -29.00  405.10   60.55   \n",
       "5336               46612.0              45319.55  161.50  -29.00  405.10   \n",
       "5337               46744.5              45319.55 -489.80  161.50  -29.00   \n",
       "5338               46744.5              45319.55   53.15 -489.80  161.50   \n",
       "5339               46744.5              45319.55 -344.05   53.15 -489.80   \n",
       "5340               46744.5              45319.55   -9.15 -344.05   53.15   \n",
       "\n",
       "       ramp4  ramp_close    target  \n",
       "5331  134.25       82.35  46307.85  \n",
       "5332   65.65      155.75  45963.80  \n",
       "5333   77.45      232.90  45954.65  \n",
       "5334  -52.75      712.95       NaN  \n",
       "5335   22.70      549.70       NaN  \n",
       "5336   60.55      645.55       NaN  \n",
       "5337  405.10       78.30       NaN  \n",
       "5338  -29.00      184.20       NaN  \n",
       "5339  161.50     -182.55       NaN  \n",
       "5340 -489.80     -252.25       NaN  \n",
       "\n",
       "[10 rows x 134 columns]"
      ]
     },
     "execution_count": 48,
     "metadata": {},
     "output_type": "execute_result"
    }
   ],
   "source": [
    "data.tail(10)\n",
    "#data.head()"
   ]
  },
  {
   "cell_type": "markdown",
   "id": "fbc796e1",
   "metadata": {},
   "source": [
    "## Check all NaN"
   ]
  },
  {
   "cell_type": "code",
   "execution_count": 49,
   "id": "55b9cccb",
   "metadata": {},
   "outputs": [
    {
     "data": {
      "text/html": [
       "<div>\n",
       "<style scoped>\n",
       "    .dataframe tbody tr th:only-of-type {\n",
       "        vertical-align: middle;\n",
       "    }\n",
       "\n",
       "    .dataframe tbody tr th {\n",
       "        vertical-align: top;\n",
       "    }\n",
       "\n",
       "    .dataframe thead th {\n",
       "        text-align: right;\n",
       "    }\n",
       "</style>\n",
       "<table border=\"1\" class=\"dataframe\">\n",
       "  <thead>\n",
       "    <tr style=\"text-align: right;\">\n",
       "      <th></th>\n",
       "      <th>datetime</th>\n",
       "      <th>close</th>\n",
       "      <th>date</th>\n",
       "      <th>hour</th>\n",
       "      <th>dom</th>\n",
       "      <th>month</th>\n",
       "      <th>year</th>\n",
       "      <th>dow</th>\n",
       "      <th>doy</th>\n",
       "      <th>woy</th>\n",
       "      <th>...</th>\n",
       "      <th>close_rolling_min_28</th>\n",
       "      <th>close_rolling_mean_29</th>\n",
       "      <th>close_rolling_max_29</th>\n",
       "      <th>close_rolling_min_29</th>\n",
       "      <th>ramp1</th>\n",
       "      <th>ramp2</th>\n",
       "      <th>ramp3</th>\n",
       "      <th>ramp4</th>\n",
       "      <th>ramp_close</th>\n",
       "      <th>target</th>\n",
       "    </tr>\n",
       "  </thead>\n",
       "  <tbody>\n",
       "    <tr>\n",
       "      <th>0</th>\n",
       "      <td>2021-01-01 09:15:00</td>\n",
       "      <td>31338.90</td>\n",
       "      <td>2021-01-01</td>\n",
       "      <td>10</td>\n",
       "      <td>1</td>\n",
       "      <td>1</td>\n",
       "      <td>2021</td>\n",
       "      <td>4</td>\n",
       "      <td>1</td>\n",
       "      <td>53</td>\n",
       "      <td>...</td>\n",
       "      <td>NaN</td>\n",
       "      <td>NaN</td>\n",
       "      <td>NaN</td>\n",
       "      <td>NaN</td>\n",
       "      <td>NaN</td>\n",
       "      <td>NaN</td>\n",
       "      <td>NaN</td>\n",
       "      <td>NaN</td>\n",
       "      <td>NaN</td>\n",
       "      <td>31426.45</td>\n",
       "    </tr>\n",
       "    <tr>\n",
       "      <th>1</th>\n",
       "      <td>2021-01-01 10:15:00</td>\n",
       "      <td>31292.55</td>\n",
       "      <td>2021-01-01</td>\n",
       "      <td>11</td>\n",
       "      <td>1</td>\n",
       "      <td>1</td>\n",
       "      <td>2021</td>\n",
       "      <td>4</td>\n",
       "      <td>1</td>\n",
       "      <td>53</td>\n",
       "      <td>...</td>\n",
       "      <td>31338.90</td>\n",
       "      <td>31338.900000</td>\n",
       "      <td>31338.90</td>\n",
       "      <td>31338.90</td>\n",
       "      <td>-46.35</td>\n",
       "      <td>NaN</td>\n",
       "      <td>NaN</td>\n",
       "      <td>NaN</td>\n",
       "      <td>NaN</td>\n",
       "      <td>31100.95</td>\n",
       "    </tr>\n",
       "    <tr>\n",
       "      <th>2</th>\n",
       "      <td>2021-01-01 11:15:00</td>\n",
       "      <td>31276.95</td>\n",
       "      <td>2021-01-01</td>\n",
       "      <td>12</td>\n",
       "      <td>1</td>\n",
       "      <td>1</td>\n",
       "      <td>2021</td>\n",
       "      <td>4</td>\n",
       "      <td>1</td>\n",
       "      <td>53</td>\n",
       "      <td>...</td>\n",
       "      <td>31292.55</td>\n",
       "      <td>31315.725000</td>\n",
       "      <td>31338.90</td>\n",
       "      <td>31292.55</td>\n",
       "      <td>-15.60</td>\n",
       "      <td>-46.35</td>\n",
       "      <td>NaN</td>\n",
       "      <td>NaN</td>\n",
       "      <td>NaN</td>\n",
       "      <td>31144.75</td>\n",
       "    </tr>\n",
       "    <tr>\n",
       "      <th>3</th>\n",
       "      <td>2021-01-01 12:15:00</td>\n",
       "      <td>31273.80</td>\n",
       "      <td>2021-01-01</td>\n",
       "      <td>13</td>\n",
       "      <td>1</td>\n",
       "      <td>1</td>\n",
       "      <td>2021</td>\n",
       "      <td>4</td>\n",
       "      <td>1</td>\n",
       "      <td>53</td>\n",
       "      <td>...</td>\n",
       "      <td>31276.95</td>\n",
       "      <td>31302.800000</td>\n",
       "      <td>31338.90</td>\n",
       "      <td>31276.95</td>\n",
       "      <td>-3.15</td>\n",
       "      <td>-15.60</td>\n",
       "      <td>-46.35</td>\n",
       "      <td>NaN</td>\n",
       "      <td>NaN</td>\n",
       "      <td>31179.10</td>\n",
       "    </tr>\n",
       "    <tr>\n",
       "      <th>4</th>\n",
       "      <td>2021-01-01 13:15:00</td>\n",
       "      <td>31307.05</td>\n",
       "      <td>2021-01-01</td>\n",
       "      <td>14</td>\n",
       "      <td>1</td>\n",
       "      <td>1</td>\n",
       "      <td>2021</td>\n",
       "      <td>4</td>\n",
       "      <td>1</td>\n",
       "      <td>53</td>\n",
       "      <td>...</td>\n",
       "      <td>31273.80</td>\n",
       "      <td>31295.550000</td>\n",
       "      <td>31338.90</td>\n",
       "      <td>31273.80</td>\n",
       "      <td>33.25</td>\n",
       "      <td>-3.15</td>\n",
       "      <td>-15.60</td>\n",
       "      <td>-46.35</td>\n",
       "      <td>NaN</td>\n",
       "      <td>31135.15</td>\n",
       "    </tr>\n",
       "    <tr>\n",
       "      <th>5</th>\n",
       "      <td>2021-01-01 14:15:00</td>\n",
       "      <td>31227.05</td>\n",
       "      <td>2021-01-01</td>\n",
       "      <td>15</td>\n",
       "      <td>1</td>\n",
       "      <td>1</td>\n",
       "      <td>2021</td>\n",
       "      <td>4</td>\n",
       "      <td>1</td>\n",
       "      <td>53</td>\n",
       "      <td>...</td>\n",
       "      <td>31273.80</td>\n",
       "      <td>31297.850000</td>\n",
       "      <td>31338.90</td>\n",
       "      <td>31273.80</td>\n",
       "      <td>-80.00</td>\n",
       "      <td>33.25</td>\n",
       "      <td>-3.15</td>\n",
       "      <td>-15.60</td>\n",
       "      <td>NaN</td>\n",
       "      <td>31189.95</td>\n",
       "    </tr>\n",
       "    <tr>\n",
       "      <th>6</th>\n",
       "      <td>2021-01-01 15:15:00</td>\n",
       "      <td>31225.85</td>\n",
       "      <td>2021-01-01</td>\n",
       "      <td>16</td>\n",
       "      <td>1</td>\n",
       "      <td>1</td>\n",
       "      <td>2021</td>\n",
       "      <td>4</td>\n",
       "      <td>1</td>\n",
       "      <td>53</td>\n",
       "      <td>...</td>\n",
       "      <td>31227.05</td>\n",
       "      <td>31286.050000</td>\n",
       "      <td>31338.90</td>\n",
       "      <td>31227.05</td>\n",
       "      <td>-1.20</td>\n",
       "      <td>-80.00</td>\n",
       "      <td>33.25</td>\n",
       "      <td>-3.15</td>\n",
       "      <td>NaN</td>\n",
       "      <td>31212.45</td>\n",
       "    </tr>\n",
       "    <tr>\n",
       "      <th>7</th>\n",
       "      <td>2021-01-04 09:15:00</td>\n",
       "      <td>31426.45</td>\n",
       "      <td>2021-01-04</td>\n",
       "      <td>10</td>\n",
       "      <td>4</td>\n",
       "      <td>1</td>\n",
       "      <td>2021</td>\n",
       "      <td>0</td>\n",
       "      <td>4</td>\n",
       "      <td>1</td>\n",
       "      <td>...</td>\n",
       "      <td>31225.85</td>\n",
       "      <td>31277.450000</td>\n",
       "      <td>31338.90</td>\n",
       "      <td>31225.85</td>\n",
       "      <td>200.60</td>\n",
       "      <td>-1.20</td>\n",
       "      <td>-80.00</td>\n",
       "      <td>33.25</td>\n",
       "      <td>87.55</td>\n",
       "      <td>31088.35</td>\n",
       "    </tr>\n",
       "    <tr>\n",
       "      <th>8</th>\n",
       "      <td>2021-01-04 10:15:00</td>\n",
       "      <td>31100.95</td>\n",
       "      <td>2021-01-04</td>\n",
       "      <td>11</td>\n",
       "      <td>4</td>\n",
       "      <td>1</td>\n",
       "      <td>2021</td>\n",
       "      <td>0</td>\n",
       "      <td>4</td>\n",
       "      <td>1</td>\n",
       "      <td>...</td>\n",
       "      <td>31225.85</td>\n",
       "      <td>31296.075000</td>\n",
       "      <td>31426.45</td>\n",
       "      <td>31225.85</td>\n",
       "      <td>-325.50</td>\n",
       "      <td>200.60</td>\n",
       "      <td>-1.20</td>\n",
       "      <td>-80.00</td>\n",
       "      <td>-191.60</td>\n",
       "      <td>31324.45</td>\n",
       "    </tr>\n",
       "    <tr>\n",
       "      <th>9</th>\n",
       "      <td>2021-01-04 11:15:00</td>\n",
       "      <td>31144.75</td>\n",
       "      <td>2021-01-04</td>\n",
       "      <td>12</td>\n",
       "      <td>4</td>\n",
       "      <td>1</td>\n",
       "      <td>2021</td>\n",
       "      <td>0</td>\n",
       "      <td>4</td>\n",
       "      <td>1</td>\n",
       "      <td>...</td>\n",
       "      <td>31100.95</td>\n",
       "      <td>31274.394444</td>\n",
       "      <td>31426.45</td>\n",
       "      <td>31100.95</td>\n",
       "      <td>43.80</td>\n",
       "      <td>-325.50</td>\n",
       "      <td>200.60</td>\n",
       "      <td>-1.20</td>\n",
       "      <td>-132.20</td>\n",
       "      <td>31346.55</td>\n",
       "    </tr>\n",
       "  </tbody>\n",
       "</table>\n",
       "<p>10 rows × 134 columns</p>\n",
       "</div>"
      ],
      "text/plain": [
       "             datetime     close        date  hour  dom  month  year  dow  doy  \\\n",
       "0 2021-01-01 09:15:00  31338.90  2021-01-01    10    1      1  2021    4    1   \n",
       "1 2021-01-01 10:15:00  31292.55  2021-01-01    11    1      1  2021    4    1   \n",
       "2 2021-01-01 11:15:00  31276.95  2021-01-01    12    1      1  2021    4    1   \n",
       "3 2021-01-01 12:15:00  31273.80  2021-01-01    13    1      1  2021    4    1   \n",
       "4 2021-01-01 13:15:00  31307.05  2021-01-01    14    1      1  2021    4    1   \n",
       "5 2021-01-01 14:15:00  31227.05  2021-01-01    15    1      1  2021    4    1   \n",
       "6 2021-01-01 15:15:00  31225.85  2021-01-01    16    1      1  2021    4    1   \n",
       "7 2021-01-04 09:15:00  31426.45  2021-01-04    10    4      1  2021    0    4   \n",
       "8 2021-01-04 10:15:00  31100.95  2021-01-04    11    4      1  2021    0    4   \n",
       "9 2021-01-04 11:15:00  31144.75  2021-01-04    12    4      1  2021    0    4   \n",
       "\n",
       "   woy  ...  close_rolling_min_28  close_rolling_mean_29  \\\n",
       "0   53  ...                   NaN                    NaN   \n",
       "1   53  ...              31338.90           31338.900000   \n",
       "2   53  ...              31292.55           31315.725000   \n",
       "3   53  ...              31276.95           31302.800000   \n",
       "4   53  ...              31273.80           31295.550000   \n",
       "5   53  ...              31273.80           31297.850000   \n",
       "6   53  ...              31227.05           31286.050000   \n",
       "7    1  ...              31225.85           31277.450000   \n",
       "8    1  ...              31225.85           31296.075000   \n",
       "9    1  ...              31100.95           31274.394444   \n",
       "\n",
       "   close_rolling_max_29  close_rolling_min_29   ramp1   ramp2   ramp3  ramp4  \\\n",
       "0                   NaN                   NaN     NaN     NaN     NaN    NaN   \n",
       "1              31338.90              31338.90  -46.35     NaN     NaN    NaN   \n",
       "2              31338.90              31292.55  -15.60  -46.35     NaN    NaN   \n",
       "3              31338.90              31276.95   -3.15  -15.60  -46.35    NaN   \n",
       "4              31338.90              31273.80   33.25   -3.15  -15.60 -46.35   \n",
       "5              31338.90              31273.80  -80.00   33.25   -3.15 -15.60   \n",
       "6              31338.90              31227.05   -1.20  -80.00   33.25  -3.15   \n",
       "7              31338.90              31225.85  200.60   -1.20  -80.00  33.25   \n",
       "8              31426.45              31225.85 -325.50  200.60   -1.20 -80.00   \n",
       "9              31426.45              31100.95   43.80 -325.50  200.60  -1.20   \n",
       "\n",
       "   ramp_close    target  \n",
       "0         NaN  31426.45  \n",
       "1         NaN  31100.95  \n",
       "2         NaN  31144.75  \n",
       "3         NaN  31179.10  \n",
       "4         NaN  31135.15  \n",
       "5         NaN  31189.95  \n",
       "6         NaN  31212.45  \n",
       "7       87.55  31088.35  \n",
       "8     -191.60  31324.45  \n",
       "9     -132.20  31346.55  \n",
       "\n",
       "[10 rows x 134 columns]"
      ]
     },
     "execution_count": 49,
     "metadata": {},
     "output_type": "execute_result"
    }
   ],
   "source": [
    "data[data.isna().any(axis=1)].head(10)"
   ]
  },
  {
   "cell_type": "code",
   "execution_count": 50,
   "id": "0a3c308a",
   "metadata": {},
   "outputs": [
    {
     "data": {
      "text/html": [
       "<div>\n",
       "<style scoped>\n",
       "    .dataframe tbody tr th:only-of-type {\n",
       "        vertical-align: middle;\n",
       "    }\n",
       "\n",
       "    .dataframe tbody tr th {\n",
       "        vertical-align: top;\n",
       "    }\n",
       "\n",
       "    .dataframe thead th {\n",
       "        text-align: right;\n",
       "    }\n",
       "</style>\n",
       "<table border=\"1\" class=\"dataframe\">\n",
       "  <thead>\n",
       "    <tr style=\"text-align: right;\">\n",
       "      <th></th>\n",
       "      <th>datetime</th>\n",
       "      <th>close</th>\n",
       "      <th>date</th>\n",
       "      <th>hour</th>\n",
       "      <th>dom</th>\n",
       "      <th>month</th>\n",
       "      <th>year</th>\n",
       "      <th>dow</th>\n",
       "      <th>doy</th>\n",
       "      <th>woy</th>\n",
       "      <th>...</th>\n",
       "      <th>close_rolling_min_28</th>\n",
       "      <th>close_rolling_mean_29</th>\n",
       "      <th>close_rolling_max_29</th>\n",
       "      <th>close_rolling_min_29</th>\n",
       "      <th>ramp1</th>\n",
       "      <th>ramp2</th>\n",
       "      <th>ramp3</th>\n",
       "      <th>ramp4</th>\n",
       "      <th>ramp_close</th>\n",
       "      <th>target</th>\n",
       "    </tr>\n",
       "  </thead>\n",
       "  <tbody>\n",
       "    <tr>\n",
       "      <th>669</th>\n",
       "      <td>2021-05-26 10:15:00</td>\n",
       "      <td>34858.75</td>\n",
       "      <td>2021-05-26</td>\n",
       "      <td>11</td>\n",
       "      <td>26</td>\n",
       "      <td>5</td>\n",
       "      <td>2021</td>\n",
       "      <td>2</td>\n",
       "      <td>146</td>\n",
       "      <td>21</td>\n",
       "      <td>...</td>\n",
       "      <td>33334.55</td>\n",
       "      <td>34329.100000</td>\n",
       "      <td>34943.6</td>\n",
       "      <td>33334.55</td>\n",
       "      <td>243.00</td>\n",
       "      <td>-46.25</td>\n",
       "      <td>25.70</td>\n",
       "      <td>192.15</td>\n",
       "      <td>253.30</td>\n",
       "      <td>34631.50</td>\n",
       "    </tr>\n",
       "    <tr>\n",
       "      <th>670</th>\n",
       "      <td>2021-05-26 11:15:00</td>\n",
       "      <td>34822.00</td>\n",
       "      <td>2021-05-26</td>\n",
       "      <td>12</td>\n",
       "      <td>26</td>\n",
       "      <td>5</td>\n",
       "      <td>2021</td>\n",
       "      <td>2</td>\n",
       "      <td>146</td>\n",
       "      <td>21</td>\n",
       "      <td>...</td>\n",
       "      <td>33334.55</td>\n",
       "      <td>34367.606897</td>\n",
       "      <td>34943.6</td>\n",
       "      <td>33334.55</td>\n",
       "      <td>-36.75</td>\n",
       "      <td>243.00</td>\n",
       "      <td>-46.25</td>\n",
       "      <td>25.70</td>\n",
       "      <td>190.45</td>\n",
       "      <td>34808.75</td>\n",
       "    </tr>\n",
       "    <tr>\n",
       "      <th>671</th>\n",
       "      <td>2021-05-26 12:15:00</td>\n",
       "      <td>34818.40</td>\n",
       "      <td>2021-05-26</td>\n",
       "      <td>13</td>\n",
       "      <td>26</td>\n",
       "      <td>5</td>\n",
       "      <td>2021</td>\n",
       "      <td>2</td>\n",
       "      <td>146</td>\n",
       "      <td>21</td>\n",
       "      <td>...</td>\n",
       "      <td>33334.55</td>\n",
       "      <td>34406.096552</td>\n",
       "      <td>34943.6</td>\n",
       "      <td>33334.55</td>\n",
       "      <td>-3.60</td>\n",
       "      <td>-36.75</td>\n",
       "      <td>243.00</td>\n",
       "      <td>-46.25</td>\n",
       "      <td>138.50</td>\n",
       "      <td>34923.80</td>\n",
       "    </tr>\n",
       "    <tr>\n",
       "      <th>5334</th>\n",
       "      <td>2024-02-02 09:15:00</td>\n",
       "      <td>46612.00</td>\n",
       "      <td>2024-02-02</td>\n",
       "      <td>10</td>\n",
       "      <td>2</td>\n",
       "      <td>2</td>\n",
       "      <td>2024</td>\n",
       "      <td>4</td>\n",
       "      <td>33</td>\n",
       "      <td>5</td>\n",
       "      <td>...</td>\n",
       "      <td>45319.55</td>\n",
       "      <td>45716.558621</td>\n",
       "      <td>46206.9</td>\n",
       "      <td>44988.50</td>\n",
       "      <td>405.10</td>\n",
       "      <td>60.55</td>\n",
       "      <td>22.70</td>\n",
       "      <td>-52.75</td>\n",
       "      <td>712.95</td>\n",
       "      <td>NaN</td>\n",
       "    </tr>\n",
       "    <tr>\n",
       "      <th>5335</th>\n",
       "      <td>2024-02-02 10:15:00</td>\n",
       "      <td>46583.00</td>\n",
       "      <td>2024-02-02</td>\n",
       "      <td>11</td>\n",
       "      <td>2</td>\n",
       "      <td>2</td>\n",
       "      <td>2024</td>\n",
       "      <td>4</td>\n",
       "      <td>33</td>\n",
       "      <td>5</td>\n",
       "      <td>...</td>\n",
       "      <td>45319.55</td>\n",
       "      <td>45772.541379</td>\n",
       "      <td>46612.0</td>\n",
       "      <td>45319.55</td>\n",
       "      <td>-29.00</td>\n",
       "      <td>405.10</td>\n",
       "      <td>60.55</td>\n",
       "      <td>22.70</td>\n",
       "      <td>549.70</td>\n",
       "      <td>NaN</td>\n",
       "    </tr>\n",
       "    <tr>\n",
       "      <th>5336</th>\n",
       "      <td>2024-02-02 11:15:00</td>\n",
       "      <td>46744.50</td>\n",
       "      <td>2024-02-02</td>\n",
       "      <td>12</td>\n",
       "      <td>2</td>\n",
       "      <td>2</td>\n",
       "      <td>2024</td>\n",
       "      <td>4</td>\n",
       "      <td>33</td>\n",
       "      <td>5</td>\n",
       "      <td>...</td>\n",
       "      <td>45319.55</td>\n",
       "      <td>45811.131034</td>\n",
       "      <td>46612.0</td>\n",
       "      <td>45319.55</td>\n",
       "      <td>161.50</td>\n",
       "      <td>-29.00</td>\n",
       "      <td>405.10</td>\n",
       "      <td>60.55</td>\n",
       "      <td>645.55</td>\n",
       "      <td>NaN</td>\n",
       "    </tr>\n",
       "    <tr>\n",
       "      <th>5337</th>\n",
       "      <td>2024-02-02 12:15:00</td>\n",
       "      <td>46254.70</td>\n",
       "      <td>2024-02-02</td>\n",
       "      <td>13</td>\n",
       "      <td>2</td>\n",
       "      <td>2</td>\n",
       "      <td>2024</td>\n",
       "      <td>4</td>\n",
       "      <td>33</td>\n",
       "      <td>5</td>\n",
       "      <td>...</td>\n",
       "      <td>45319.55</td>\n",
       "      <td>45852.439655</td>\n",
       "      <td>46744.5</td>\n",
       "      <td>45319.55</td>\n",
       "      <td>-489.80</td>\n",
       "      <td>161.50</td>\n",
       "      <td>-29.00</td>\n",
       "      <td>405.10</td>\n",
       "      <td>78.30</td>\n",
       "      <td>NaN</td>\n",
       "    </tr>\n",
       "    <tr>\n",
       "      <th>5338</th>\n",
       "      <td>2024-02-02 13:15:00</td>\n",
       "      <td>46307.85</td>\n",
       "      <td>2024-02-02</td>\n",
       "      <td>14</td>\n",
       "      <td>2</td>\n",
       "      <td>2</td>\n",
       "      <td>2024</td>\n",
       "      <td>4</td>\n",
       "      <td>33</td>\n",
       "      <td>5</td>\n",
       "      <td>...</td>\n",
       "      <td>45319.55</td>\n",
       "      <td>45878.548276</td>\n",
       "      <td>46744.5</td>\n",
       "      <td>45319.55</td>\n",
       "      <td>53.15</td>\n",
       "      <td>-489.80</td>\n",
       "      <td>161.50</td>\n",
       "      <td>-29.00</td>\n",
       "      <td>184.20</td>\n",
       "      <td>NaN</td>\n",
       "    </tr>\n",
       "    <tr>\n",
       "      <th>5339</th>\n",
       "      <td>2024-02-02 14:15:00</td>\n",
       "      <td>45963.80</td>\n",
       "      <td>2024-02-02</td>\n",
       "      <td>15</td>\n",
       "      <td>2</td>\n",
       "      <td>2</td>\n",
       "      <td>2024</td>\n",
       "      <td>4</td>\n",
       "      <td>33</td>\n",
       "      <td>5</td>\n",
       "      <td>...</td>\n",
       "      <td>45319.55</td>\n",
       "      <td>45908.153448</td>\n",
       "      <td>46744.5</td>\n",
       "      <td>45319.55</td>\n",
       "      <td>-344.05</td>\n",
       "      <td>53.15</td>\n",
       "      <td>-489.80</td>\n",
       "      <td>161.50</td>\n",
       "      <td>-182.55</td>\n",
       "      <td>NaN</td>\n",
       "    </tr>\n",
       "    <tr>\n",
       "      <th>5340</th>\n",
       "      <td>2024-02-02 15:15:00</td>\n",
       "      <td>45954.65</td>\n",
       "      <td>2024-02-02</td>\n",
       "      <td>16</td>\n",
       "      <td>2</td>\n",
       "      <td>2</td>\n",
       "      <td>2024</td>\n",
       "      <td>4</td>\n",
       "      <td>33</td>\n",
       "      <td>5</td>\n",
       "      <td>...</td>\n",
       "      <td>45319.55</td>\n",
       "      <td>45926.237931</td>\n",
       "      <td>46744.5</td>\n",
       "      <td>45319.55</td>\n",
       "      <td>-9.15</td>\n",
       "      <td>-344.05</td>\n",
       "      <td>53.15</td>\n",
       "      <td>-489.80</td>\n",
       "      <td>-252.25</td>\n",
       "      <td>NaN</td>\n",
       "    </tr>\n",
       "  </tbody>\n",
       "</table>\n",
       "<p>10 rows × 134 columns</p>\n",
       "</div>"
      ],
      "text/plain": [
       "                datetime     close        date  hour  dom  month  year  dow  \\\n",
       "669  2021-05-26 10:15:00  34858.75  2021-05-26    11   26      5  2021    2   \n",
       "670  2021-05-26 11:15:00  34822.00  2021-05-26    12   26      5  2021    2   \n",
       "671  2021-05-26 12:15:00  34818.40  2021-05-26    13   26      5  2021    2   \n",
       "5334 2024-02-02 09:15:00  46612.00  2024-02-02    10    2      2  2024    4   \n",
       "5335 2024-02-02 10:15:00  46583.00  2024-02-02    11    2      2  2024    4   \n",
       "5336 2024-02-02 11:15:00  46744.50  2024-02-02    12    2      2  2024    4   \n",
       "5337 2024-02-02 12:15:00  46254.70  2024-02-02    13    2      2  2024    4   \n",
       "5338 2024-02-02 13:15:00  46307.85  2024-02-02    14    2      2  2024    4   \n",
       "5339 2024-02-02 14:15:00  45963.80  2024-02-02    15    2      2  2024    4   \n",
       "5340 2024-02-02 15:15:00  45954.65  2024-02-02    16    2      2  2024    4   \n",
       "\n",
       "      doy  woy  ...  close_rolling_min_28  close_rolling_mean_29  \\\n",
       "669   146   21  ...              33334.55           34329.100000   \n",
       "670   146   21  ...              33334.55           34367.606897   \n",
       "671   146   21  ...              33334.55           34406.096552   \n",
       "5334   33    5  ...              45319.55           45716.558621   \n",
       "5335   33    5  ...              45319.55           45772.541379   \n",
       "5336   33    5  ...              45319.55           45811.131034   \n",
       "5337   33    5  ...              45319.55           45852.439655   \n",
       "5338   33    5  ...              45319.55           45878.548276   \n",
       "5339   33    5  ...              45319.55           45908.153448   \n",
       "5340   33    5  ...              45319.55           45926.237931   \n",
       "\n",
       "      close_rolling_max_29  close_rolling_min_29   ramp1   ramp2   ramp3  \\\n",
       "669                34943.6              33334.55  243.00  -46.25   25.70   \n",
       "670                34943.6              33334.55  -36.75  243.00  -46.25   \n",
       "671                34943.6              33334.55   -3.60  -36.75  243.00   \n",
       "5334               46206.9              44988.50  405.10   60.55   22.70   \n",
       "5335               46612.0              45319.55  -29.00  405.10   60.55   \n",
       "5336               46612.0              45319.55  161.50  -29.00  405.10   \n",
       "5337               46744.5              45319.55 -489.80  161.50  -29.00   \n",
       "5338               46744.5              45319.55   53.15 -489.80  161.50   \n",
       "5339               46744.5              45319.55 -344.05   53.15 -489.80   \n",
       "5340               46744.5              45319.55   -9.15 -344.05   53.15   \n",
       "\n",
       "       ramp4  ramp_close    target  \n",
       "669   192.15      253.30  34631.50  \n",
       "670    25.70      190.45  34808.75  \n",
       "671   -46.25      138.50  34923.80  \n",
       "5334  -52.75      712.95       NaN  \n",
       "5335   22.70      549.70       NaN  \n",
       "5336   60.55      645.55       NaN  \n",
       "5337  405.10       78.30       NaN  \n",
       "5338  -29.00      184.20       NaN  \n",
       "5339  161.50     -182.55       NaN  \n",
       "5340 -489.80     -252.25       NaN  \n",
       "\n",
       "[10 rows x 134 columns]"
      ]
     },
     "execution_count": 50,
     "metadata": {},
     "output_type": "execute_result"
    }
   ],
   "source": [
    "data[data.isna().any(axis=1)].tail(10)"
   ]
  },
  {
   "cell_type": "markdown",
   "id": "c34819b5",
   "metadata": {},
   "source": [
    "#### So above shows that we have top 671 rows as NaN due to moving averages and all\n",
    "#### Also bottom 7 rows are with NaN as Target which is obvious as we have shifted by 7 (due to 15 min candle) to make time series as regression problem"
   ]
  },
  {
   "cell_type": "code",
   "execution_count": 51,
   "id": "e53ba0ca",
   "metadata": {
    "id": "QEybTy7KVE0R",
    "scrolled": false
   },
   "outputs": [],
   "source": [
    "# Function to make feature extraction systematic\n",
    "\n",
    "def diff(list1, list2):\n",
    "    c = set(list1).union(set(list2))  # or c = set(list1) | set(list2)\n",
    "    d = set(list1).intersection(set(list2))  # or d = set(list1) & set(list2)\n",
    "    return list(c - d)"
   ]
  },
  {
   "cell_type": "code",
   "execution_count": 52,
   "id": "71a964e4",
   "metadata": {
    "id": "BNj_SZFYZHqw"
   },
   "outputs": [
    {
     "name": "stdout",
     "output_type": "stream",
     "text": [
      "(5341, 131)\n"
     ]
    }
   ],
   "source": [
    "# Feature segregation\n",
    "\n",
    "def get_final_features(data):\n",
    "    extra_features = ['weekend', 'date', 'year', 'target'] # Dont include 'datetime'\n",
    "    X_features = [x for x in data.columns if x not in extra_features+['target']]\n",
    "    return X_features\n",
    "\n",
    "y_features = ['datetime', 'target']\n",
    "\n",
    "X_features = get_final_features(data)\n",
    "#print(X_features)\n",
    "print(data[X_features].shape)"
   ]
  },
  {
   "cell_type": "markdown",
   "id": "4ece7a88",
   "metadata": {},
   "source": [
    "## ********* Filtered and Store the last rows for getting prediction for NEXT day*******"
   ]
  },
  {
   "cell_type": "code",
   "execution_count": 53,
   "id": "4e7a40f9",
   "metadata": {},
   "outputs": [
    {
     "data": {
      "text/html": [
       "<div>\n",
       "<style scoped>\n",
       "    .dataframe tbody tr th:only-of-type {\n",
       "        vertical-align: middle;\n",
       "    }\n",
       "\n",
       "    .dataframe tbody tr th {\n",
       "        vertical-align: top;\n",
       "    }\n",
       "\n",
       "    .dataframe thead th {\n",
       "        text-align: right;\n",
       "    }\n",
       "</style>\n",
       "<table border=\"1\" class=\"dataframe\">\n",
       "  <thead>\n",
       "    <tr style=\"text-align: right;\">\n",
       "      <th></th>\n",
       "      <th>datetime</th>\n",
       "      <th>close</th>\n",
       "      <th>date</th>\n",
       "      <th>hour</th>\n",
       "      <th>dom</th>\n",
       "      <th>month</th>\n",
       "      <th>year</th>\n",
       "      <th>dow</th>\n",
       "      <th>doy</th>\n",
       "      <th>woy</th>\n",
       "      <th>...</th>\n",
       "      <th>close_rolling_max_28</th>\n",
       "      <th>close_rolling_min_28</th>\n",
       "      <th>close_rolling_mean_29</th>\n",
       "      <th>close_rolling_max_29</th>\n",
       "      <th>close_rolling_min_29</th>\n",
       "      <th>ramp1</th>\n",
       "      <th>ramp2</th>\n",
       "      <th>ramp3</th>\n",
       "      <th>ramp4</th>\n",
       "      <th>ramp_close</th>\n",
       "    </tr>\n",
       "  </thead>\n",
       "  <tbody>\n",
       "    <tr>\n",
       "      <th>5334</th>\n",
       "      <td>2024-02-02 09:15:00</td>\n",
       "      <td>46612.00</td>\n",
       "      <td>2024-02-02</td>\n",
       "      <td>10</td>\n",
       "      <td>2</td>\n",
       "      <td>2</td>\n",
       "      <td>2024</td>\n",
       "      <td>4</td>\n",
       "      <td>33</td>\n",
       "      <td>5</td>\n",
       "      <td>...</td>\n",
       "      <td>46206.9</td>\n",
       "      <td>45319.55</td>\n",
       "      <td>45716.558621</td>\n",
       "      <td>46206.9</td>\n",
       "      <td>44988.50</td>\n",
       "      <td>405.10</td>\n",
       "      <td>60.55</td>\n",
       "      <td>22.70</td>\n",
       "      <td>-52.75</td>\n",
       "      <td>712.95</td>\n",
       "    </tr>\n",
       "    <tr>\n",
       "      <th>5335</th>\n",
       "      <td>2024-02-02 10:15:00</td>\n",
       "      <td>46583.00</td>\n",
       "      <td>2024-02-02</td>\n",
       "      <td>11</td>\n",
       "      <td>2</td>\n",
       "      <td>2</td>\n",
       "      <td>2024</td>\n",
       "      <td>4</td>\n",
       "      <td>33</td>\n",
       "      <td>5</td>\n",
       "      <td>...</td>\n",
       "      <td>46612.0</td>\n",
       "      <td>45319.55</td>\n",
       "      <td>45772.541379</td>\n",
       "      <td>46612.0</td>\n",
       "      <td>45319.55</td>\n",
       "      <td>-29.00</td>\n",
       "      <td>405.10</td>\n",
       "      <td>60.55</td>\n",
       "      <td>22.70</td>\n",
       "      <td>549.70</td>\n",
       "    </tr>\n",
       "    <tr>\n",
       "      <th>5336</th>\n",
       "      <td>2024-02-02 11:15:00</td>\n",
       "      <td>46744.50</td>\n",
       "      <td>2024-02-02</td>\n",
       "      <td>12</td>\n",
       "      <td>2</td>\n",
       "      <td>2</td>\n",
       "      <td>2024</td>\n",
       "      <td>4</td>\n",
       "      <td>33</td>\n",
       "      <td>5</td>\n",
       "      <td>...</td>\n",
       "      <td>46612.0</td>\n",
       "      <td>45319.55</td>\n",
       "      <td>45811.131034</td>\n",
       "      <td>46612.0</td>\n",
       "      <td>45319.55</td>\n",
       "      <td>161.50</td>\n",
       "      <td>-29.00</td>\n",
       "      <td>405.10</td>\n",
       "      <td>60.55</td>\n",
       "      <td>645.55</td>\n",
       "    </tr>\n",
       "    <tr>\n",
       "      <th>5337</th>\n",
       "      <td>2024-02-02 12:15:00</td>\n",
       "      <td>46254.70</td>\n",
       "      <td>2024-02-02</td>\n",
       "      <td>13</td>\n",
       "      <td>2</td>\n",
       "      <td>2</td>\n",
       "      <td>2024</td>\n",
       "      <td>4</td>\n",
       "      <td>33</td>\n",
       "      <td>5</td>\n",
       "      <td>...</td>\n",
       "      <td>46744.5</td>\n",
       "      <td>45319.55</td>\n",
       "      <td>45852.439655</td>\n",
       "      <td>46744.5</td>\n",
       "      <td>45319.55</td>\n",
       "      <td>-489.80</td>\n",
       "      <td>161.50</td>\n",
       "      <td>-29.00</td>\n",
       "      <td>405.10</td>\n",
       "      <td>78.30</td>\n",
       "    </tr>\n",
       "    <tr>\n",
       "      <th>5338</th>\n",
       "      <td>2024-02-02 13:15:00</td>\n",
       "      <td>46307.85</td>\n",
       "      <td>2024-02-02</td>\n",
       "      <td>14</td>\n",
       "      <td>2</td>\n",
       "      <td>2</td>\n",
       "      <td>2024</td>\n",
       "      <td>4</td>\n",
       "      <td>33</td>\n",
       "      <td>5</td>\n",
       "      <td>...</td>\n",
       "      <td>46744.5</td>\n",
       "      <td>45319.55</td>\n",
       "      <td>45878.548276</td>\n",
       "      <td>46744.5</td>\n",
       "      <td>45319.55</td>\n",
       "      <td>53.15</td>\n",
       "      <td>-489.80</td>\n",
       "      <td>161.50</td>\n",
       "      <td>-29.00</td>\n",
       "      <td>184.20</td>\n",
       "    </tr>\n",
       "    <tr>\n",
       "      <th>5339</th>\n",
       "      <td>2024-02-02 14:15:00</td>\n",
       "      <td>45963.80</td>\n",
       "      <td>2024-02-02</td>\n",
       "      <td>15</td>\n",
       "      <td>2</td>\n",
       "      <td>2</td>\n",
       "      <td>2024</td>\n",
       "      <td>4</td>\n",
       "      <td>33</td>\n",
       "      <td>5</td>\n",
       "      <td>...</td>\n",
       "      <td>46744.5</td>\n",
       "      <td>45319.55</td>\n",
       "      <td>45908.153448</td>\n",
       "      <td>46744.5</td>\n",
       "      <td>45319.55</td>\n",
       "      <td>-344.05</td>\n",
       "      <td>53.15</td>\n",
       "      <td>-489.80</td>\n",
       "      <td>161.50</td>\n",
       "      <td>-182.55</td>\n",
       "    </tr>\n",
       "    <tr>\n",
       "      <th>5340</th>\n",
       "      <td>2024-02-02 15:15:00</td>\n",
       "      <td>45954.65</td>\n",
       "      <td>2024-02-02</td>\n",
       "      <td>16</td>\n",
       "      <td>2</td>\n",
       "      <td>2</td>\n",
       "      <td>2024</td>\n",
       "      <td>4</td>\n",
       "      <td>33</td>\n",
       "      <td>5</td>\n",
       "      <td>...</td>\n",
       "      <td>46744.5</td>\n",
       "      <td>45319.55</td>\n",
       "      <td>45926.237931</td>\n",
       "      <td>46744.5</td>\n",
       "      <td>45319.55</td>\n",
       "      <td>-9.15</td>\n",
       "      <td>-344.05</td>\n",
       "      <td>53.15</td>\n",
       "      <td>-489.80</td>\n",
       "      <td>-252.25</td>\n",
       "    </tr>\n",
       "  </tbody>\n",
       "</table>\n",
       "<p>7 rows × 133 columns</p>\n",
       "</div>"
      ],
      "text/plain": [
       "                datetime     close        date  hour  dom  month  year  dow  \\\n",
       "5334 2024-02-02 09:15:00  46612.00  2024-02-02    10    2      2  2024    4   \n",
       "5335 2024-02-02 10:15:00  46583.00  2024-02-02    11    2      2  2024    4   \n",
       "5336 2024-02-02 11:15:00  46744.50  2024-02-02    12    2      2  2024    4   \n",
       "5337 2024-02-02 12:15:00  46254.70  2024-02-02    13    2      2  2024    4   \n",
       "5338 2024-02-02 13:15:00  46307.85  2024-02-02    14    2      2  2024    4   \n",
       "5339 2024-02-02 14:15:00  45963.80  2024-02-02    15    2      2  2024    4   \n",
       "5340 2024-02-02 15:15:00  45954.65  2024-02-02    16    2      2  2024    4   \n",
       "\n",
       "      doy  woy  ...  close_rolling_max_28  close_rolling_min_28  \\\n",
       "5334   33    5  ...               46206.9              45319.55   \n",
       "5335   33    5  ...               46612.0              45319.55   \n",
       "5336   33    5  ...               46612.0              45319.55   \n",
       "5337   33    5  ...               46744.5              45319.55   \n",
       "5338   33    5  ...               46744.5              45319.55   \n",
       "5339   33    5  ...               46744.5              45319.55   \n",
       "5340   33    5  ...               46744.5              45319.55   \n",
       "\n",
       "      close_rolling_mean_29  close_rolling_max_29  close_rolling_min_29  \\\n",
       "5334           45716.558621               46206.9              44988.50   \n",
       "5335           45772.541379               46612.0              45319.55   \n",
       "5336           45811.131034               46612.0              45319.55   \n",
       "5337           45852.439655               46744.5              45319.55   \n",
       "5338           45878.548276               46744.5              45319.55   \n",
       "5339           45908.153448               46744.5              45319.55   \n",
       "5340           45926.237931               46744.5              45319.55   \n",
       "\n",
       "       ramp1   ramp2   ramp3   ramp4  ramp_close  \n",
       "5334  405.10   60.55   22.70  -52.75      712.95  \n",
       "5335  -29.00  405.10   60.55   22.70      549.70  \n",
       "5336  161.50  -29.00  405.10   60.55      645.55  \n",
       "5337 -489.80  161.50  -29.00  405.10       78.30  \n",
       "5338   53.15 -489.80  161.50  -29.00      184.20  \n",
       "5339 -344.05   53.15 -489.80  161.50     -182.55  \n",
       "5340   -9.15 -344.05   53.15 -489.80     -252.25  \n",
       "\n",
       "[7 rows x 133 columns]"
      ]
     },
     "execution_count": 53,
     "metadata": {},
     "output_type": "execute_result"
    }
   ],
   "source": [
    "next_day_df_prediction = data.iloc[-target_ahead_timeblocks:, :-1].copy()\n",
    "next_day_df_prediction"
   ]
  },
  {
   "cell_type": "markdown",
   "id": "6230f30c",
   "metadata": {},
   "source": [
    "## Dropping Missing Values"
   ]
  },
  {
   "cell_type": "code",
   "execution_count": 54,
   "id": "20a40836",
   "metadata": {},
   "outputs": [
    {
     "name": "stdout",
     "output_type": "stream",
     "text": [
      "Before Dropping nans: (5341, 133)\n",
      "(4662, 134)\n"
     ]
    },
    {
     "data": {
      "text/html": [
       "<div>\n",
       "<style scoped>\n",
       "    .dataframe tbody tr th:only-of-type {\n",
       "        vertical-align: middle;\n",
       "    }\n",
       "\n",
       "    .dataframe tbody tr th {\n",
       "        vertical-align: top;\n",
       "    }\n",
       "\n",
       "    .dataframe thead th {\n",
       "        text-align: right;\n",
       "    }\n",
       "</style>\n",
       "<table border=\"1\" class=\"dataframe\">\n",
       "  <thead>\n",
       "    <tr style=\"text-align: right;\">\n",
       "      <th></th>\n",
       "      <th>datetime</th>\n",
       "      <th>close</th>\n",
       "      <th>date</th>\n",
       "      <th>hour</th>\n",
       "      <th>dom</th>\n",
       "      <th>month</th>\n",
       "      <th>year</th>\n",
       "      <th>dow</th>\n",
       "      <th>doy</th>\n",
       "      <th>woy</th>\n",
       "      <th>...</th>\n",
       "      <th>close_rolling_min_28</th>\n",
       "      <th>close_rolling_mean_29</th>\n",
       "      <th>close_rolling_max_29</th>\n",
       "      <th>close_rolling_min_29</th>\n",
       "      <th>ramp1</th>\n",
       "      <th>ramp2</th>\n",
       "      <th>ramp3</th>\n",
       "      <th>ramp4</th>\n",
       "      <th>ramp_close</th>\n",
       "      <th>target</th>\n",
       "    </tr>\n",
       "  </thead>\n",
       "  <tbody>\n",
       "    <tr>\n",
       "      <th>4652</th>\n",
       "      <td>2024-01-31 13:15:00</td>\n",
       "      <td>46041.30</td>\n",
       "      <td>2024-01-31</td>\n",
       "      <td>14</td>\n",
       "      <td>31</td>\n",
       "      <td>1</td>\n",
       "      <td>2024</td>\n",
       "      <td>2</td>\n",
       "      <td>31</td>\n",
       "      <td>5</td>\n",
       "      <td>...</td>\n",
       "      <td>44537.55</td>\n",
       "      <td>45268.524138</td>\n",
       "      <td>46056.25</td>\n",
       "      <td>44537.55</td>\n",
       "      <td>25.85</td>\n",
       "      <td>-30.90</td>\n",
       "      <td>-9.90</td>\n",
       "      <td>231.80</td>\n",
       "      <td>575.10</td>\n",
       "      <td>46123.65</td>\n",
       "    </tr>\n",
       "    <tr>\n",
       "      <th>4653</th>\n",
       "      <td>2024-01-31 14:15:00</td>\n",
       "      <td>45990.60</td>\n",
       "      <td>2024-01-31</td>\n",
       "      <td>15</td>\n",
       "      <td>31</td>\n",
       "      <td>1</td>\n",
       "      <td>2024</td>\n",
       "      <td>2</td>\n",
       "      <td>31</td>\n",
       "      <td>5</td>\n",
       "      <td>...</td>\n",
       "      <td>44537.55</td>\n",
       "      <td>45311.187931</td>\n",
       "      <td>46056.25</td>\n",
       "      <td>44537.55</td>\n",
       "      <td>-50.70</td>\n",
       "      <td>25.85</td>\n",
       "      <td>-30.90</td>\n",
       "      <td>-9.90</td>\n",
       "      <td>594.80</td>\n",
       "      <td>46146.35</td>\n",
       "    </tr>\n",
       "    <tr>\n",
       "      <th>4654</th>\n",
       "      <td>2024-01-31 15:15:00</td>\n",
       "      <td>45974.00</td>\n",
       "      <td>2024-01-31</td>\n",
       "      <td>16</td>\n",
       "      <td>31</td>\n",
       "      <td>1</td>\n",
       "      <td>2024</td>\n",
       "      <td>2</td>\n",
       "      <td>31</td>\n",
       "      <td>5</td>\n",
       "      <td>...</td>\n",
       "      <td>44537.55</td>\n",
       "      <td>45353.136207</td>\n",
       "      <td>46056.25</td>\n",
       "      <td>44537.55</td>\n",
       "      <td>-16.60</td>\n",
       "      <td>-50.70</td>\n",
       "      <td>25.85</td>\n",
       "      <td>-30.90</td>\n",
       "      <td>654.45</td>\n",
       "      <td>46206.90</td>\n",
       "    </tr>\n",
       "    <tr>\n",
       "      <th>4655</th>\n",
       "      <td>2024-02-01 09:15:00</td>\n",
       "      <td>45899.05</td>\n",
       "      <td>2024-02-01</td>\n",
       "      <td>10</td>\n",
       "      <td>1</td>\n",
       "      <td>2</td>\n",
       "      <td>2024</td>\n",
       "      <td>3</td>\n",
       "      <td>32</td>\n",
       "      <td>5</td>\n",
       "      <td>...</td>\n",
       "      <td>44537.55</td>\n",
       "      <td>45382.982759</td>\n",
       "      <td>46056.25</td>\n",
       "      <td>44537.55</td>\n",
       "      <td>-74.95</td>\n",
       "      <td>-16.60</td>\n",
       "      <td>-50.70</td>\n",
       "      <td>25.85</td>\n",
       "      <td>74.60</td>\n",
       "      <td>46612.00</td>\n",
       "    </tr>\n",
       "    <tr>\n",
       "      <th>4656</th>\n",
       "      <td>2024-02-01 10:15:00</td>\n",
       "      <td>46033.30</td>\n",
       "      <td>2024-02-01</td>\n",
       "      <td>11</td>\n",
       "      <td>1</td>\n",
       "      <td>2</td>\n",
       "      <td>2024</td>\n",
       "      <td>3</td>\n",
       "      <td>32</td>\n",
       "      <td>5</td>\n",
       "      <td>...</td>\n",
       "      <td>44537.55</td>\n",
       "      <td>45411.408621</td>\n",
       "      <td>46056.25</td>\n",
       "      <td>44537.55</td>\n",
       "      <td>134.25</td>\n",
       "      <td>-74.95</td>\n",
       "      <td>-16.60</td>\n",
       "      <td>-50.70</td>\n",
       "      <td>-22.95</td>\n",
       "      <td>46583.00</td>\n",
       "    </tr>\n",
       "    <tr>\n",
       "      <th>4657</th>\n",
       "      <td>2024-02-01 11:15:00</td>\n",
       "      <td>46098.95</td>\n",
       "      <td>2024-02-01</td>\n",
       "      <td>12</td>\n",
       "      <td>1</td>\n",
       "      <td>2</td>\n",
       "      <td>2024</td>\n",
       "      <td>3</td>\n",
       "      <td>32</td>\n",
       "      <td>5</td>\n",
       "      <td>...</td>\n",
       "      <td>44537.55</td>\n",
       "      <td>45453.096552</td>\n",
       "      <td>46056.25</td>\n",
       "      <td>44537.55</td>\n",
       "      <td>65.65</td>\n",
       "      <td>134.25</td>\n",
       "      <td>-74.95</td>\n",
       "      <td>-16.60</td>\n",
       "      <td>52.60</td>\n",
       "      <td>46744.50</td>\n",
       "    </tr>\n",
       "    <tr>\n",
       "      <th>4658</th>\n",
       "      <td>2024-02-01 12:15:00</td>\n",
       "      <td>46176.40</td>\n",
       "      <td>2024-02-01</td>\n",
       "      <td>13</td>\n",
       "      <td>1</td>\n",
       "      <td>2</td>\n",
       "      <td>2024</td>\n",
       "      <td>3</td>\n",
       "      <td>32</td>\n",
       "      <td>5</td>\n",
       "      <td>...</td>\n",
       "      <td>44537.55</td>\n",
       "      <td>45504.750000</td>\n",
       "      <td>46098.95</td>\n",
       "      <td>44537.55</td>\n",
       "      <td>77.45</td>\n",
       "      <td>65.65</td>\n",
       "      <td>134.25</td>\n",
       "      <td>-74.95</td>\n",
       "      <td>160.95</td>\n",
       "      <td>46254.70</td>\n",
       "    </tr>\n",
       "    <tr>\n",
       "      <th>4659</th>\n",
       "      <td>2024-02-01 13:15:00</td>\n",
       "      <td>46123.65</td>\n",
       "      <td>2024-02-01</td>\n",
       "      <td>14</td>\n",
       "      <td>1</td>\n",
       "      <td>2</td>\n",
       "      <td>2024</td>\n",
       "      <td>3</td>\n",
       "      <td>32</td>\n",
       "      <td>5</td>\n",
       "      <td>...</td>\n",
       "      <td>44537.55</td>\n",
       "      <td>45560.536207</td>\n",
       "      <td>46176.40</td>\n",
       "      <td>44537.55</td>\n",
       "      <td>-52.75</td>\n",
       "      <td>77.45</td>\n",
       "      <td>65.65</td>\n",
       "      <td>134.25</td>\n",
       "      <td>82.35</td>\n",
       "      <td>46307.85</td>\n",
       "    </tr>\n",
       "    <tr>\n",
       "      <th>4660</th>\n",
       "      <td>2024-02-01 14:15:00</td>\n",
       "      <td>46146.35</td>\n",
       "      <td>2024-02-01</td>\n",
       "      <td>15</td>\n",
       "      <td>1</td>\n",
       "      <td>2</td>\n",
       "      <td>2024</td>\n",
       "      <td>3</td>\n",
       "      <td>32</td>\n",
       "      <td>5</td>\n",
       "      <td>...</td>\n",
       "      <td>44872.45</td>\n",
       "      <td>45615.067241</td>\n",
       "      <td>46176.40</td>\n",
       "      <td>44537.55</td>\n",
       "      <td>22.70</td>\n",
       "      <td>-52.75</td>\n",
       "      <td>77.45</td>\n",
       "      <td>65.65</td>\n",
       "      <td>155.75</td>\n",
       "      <td>45963.80</td>\n",
       "    </tr>\n",
       "    <tr>\n",
       "      <th>4661</th>\n",
       "      <td>2024-02-01 15:15:00</td>\n",
       "      <td>46206.90</td>\n",
       "      <td>2024-02-01</td>\n",
       "      <td>16</td>\n",
       "      <td>1</td>\n",
       "      <td>2</td>\n",
       "      <td>2024</td>\n",
       "      <td>3</td>\n",
       "      <td>32</td>\n",
       "      <td>5</td>\n",
       "      <td>...</td>\n",
       "      <td>44988.50</td>\n",
       "      <td>45670.543103</td>\n",
       "      <td>46176.40</td>\n",
       "      <td>44872.45</td>\n",
       "      <td>60.55</td>\n",
       "      <td>22.70</td>\n",
       "      <td>-52.75</td>\n",
       "      <td>77.45</td>\n",
       "      <td>232.90</td>\n",
       "      <td>45954.65</td>\n",
       "    </tr>\n",
       "  </tbody>\n",
       "</table>\n",
       "<p>10 rows × 134 columns</p>\n",
       "</div>"
      ],
      "text/plain": [
       "                datetime     close        date  hour  dom  month  year  dow  \\\n",
       "4652 2024-01-31 13:15:00  46041.30  2024-01-31    14   31      1  2024    2   \n",
       "4653 2024-01-31 14:15:00  45990.60  2024-01-31    15   31      1  2024    2   \n",
       "4654 2024-01-31 15:15:00  45974.00  2024-01-31    16   31      1  2024    2   \n",
       "4655 2024-02-01 09:15:00  45899.05  2024-02-01    10    1      2  2024    3   \n",
       "4656 2024-02-01 10:15:00  46033.30  2024-02-01    11    1      2  2024    3   \n",
       "4657 2024-02-01 11:15:00  46098.95  2024-02-01    12    1      2  2024    3   \n",
       "4658 2024-02-01 12:15:00  46176.40  2024-02-01    13    1      2  2024    3   \n",
       "4659 2024-02-01 13:15:00  46123.65  2024-02-01    14    1      2  2024    3   \n",
       "4660 2024-02-01 14:15:00  46146.35  2024-02-01    15    1      2  2024    3   \n",
       "4661 2024-02-01 15:15:00  46206.90  2024-02-01    16    1      2  2024    3   \n",
       "\n",
       "      doy  woy  ...  close_rolling_min_28  close_rolling_mean_29  \\\n",
       "4652   31    5  ...              44537.55           45268.524138   \n",
       "4653   31    5  ...              44537.55           45311.187931   \n",
       "4654   31    5  ...              44537.55           45353.136207   \n",
       "4655   32    5  ...              44537.55           45382.982759   \n",
       "4656   32    5  ...              44537.55           45411.408621   \n",
       "4657   32    5  ...              44537.55           45453.096552   \n",
       "4658   32    5  ...              44537.55           45504.750000   \n",
       "4659   32    5  ...              44537.55           45560.536207   \n",
       "4660   32    5  ...              44872.45           45615.067241   \n",
       "4661   32    5  ...              44988.50           45670.543103   \n",
       "\n",
       "      close_rolling_max_29  close_rolling_min_29   ramp1   ramp2   ramp3  \\\n",
       "4652              46056.25              44537.55   25.85  -30.90   -9.90   \n",
       "4653              46056.25              44537.55  -50.70   25.85  -30.90   \n",
       "4654              46056.25              44537.55  -16.60  -50.70   25.85   \n",
       "4655              46056.25              44537.55  -74.95  -16.60  -50.70   \n",
       "4656              46056.25              44537.55  134.25  -74.95  -16.60   \n",
       "4657              46056.25              44537.55   65.65  134.25  -74.95   \n",
       "4658              46098.95              44537.55   77.45   65.65  134.25   \n",
       "4659              46176.40              44537.55  -52.75   77.45   65.65   \n",
       "4660              46176.40              44537.55   22.70  -52.75   77.45   \n",
       "4661              46176.40              44872.45   60.55   22.70  -52.75   \n",
       "\n",
       "       ramp4  ramp_close    target  \n",
       "4652  231.80      575.10  46123.65  \n",
       "4653   -9.90      594.80  46146.35  \n",
       "4654  -30.90      654.45  46206.90  \n",
       "4655   25.85       74.60  46612.00  \n",
       "4656  -50.70      -22.95  46583.00  \n",
       "4657  -16.60       52.60  46744.50  \n",
       "4658  -74.95      160.95  46254.70  \n",
       "4659  134.25       82.35  46307.85  \n",
       "4660   65.65      155.75  45963.80  \n",
       "4661   77.45      232.90  45954.65  \n",
       "\n",
       "[10 rows x 134 columns]"
      ]
     },
     "execution_count": 54,
     "metadata": {},
     "output_type": "execute_result"
    }
   ],
   "source": [
    "print(f'Before Dropping nans: {data_for_training.shape}')\n",
    "data_for_training.dropna(inplace=True) # Dropping nans  # HERE PROBLEM IS THAT WE LOST NEXT DAY PREDICTION DATA\n",
    "data_for_training.reset_index(inplace=True) # Resetting index\n",
    "print(data_for_training.shape)\n",
    "data_for_training.tail(10)"
   ]
  },
  {
   "cell_type": "markdown",
   "id": "8cef1511",
   "metadata": {
    "id": "EkA8nOwWVq9f"
   },
   "source": [
    "## Train Test Split"
   ]
  },
  {
   "cell_type": "code",
   "execution_count": 55,
   "id": "c121f96e",
   "metadata": {},
   "outputs": [
    {
     "name": "stdout",
     "output_type": "stream",
     "text": [
      "2024-02-01 15:15:00\n",
      "2024-01-02 04:45:54\n",
      "2024-01-02 09:15:00\n"
     ]
    }
   ],
   "source": [
    "## Experiments to check code\n",
    "\n",
    "print(data_for_training['datetime'].max())\n",
    "\n",
    "print(data_for_training['datetime'].max() - np.timedelta64(1, 'M'))\n",
    "\n",
    "st_date = data_for_training['datetime'].max() - np.timedelta64(1, 'M')\n",
    "f = dt.datetime(st_date.year, st_date.month, st_date.day, 9, 15)\n",
    "print(f)"
   ]
  },
  {
   "cell_type": "code",
   "execution_count": 56,
   "id": "3d8d29d5",
   "metadata": {
    "id": "NTjiVbYKZHwi"
   },
   "outputs": [
    {
     "name": "stdout",
     "output_type": "stream",
     "text": [
      "X Train Date till: 2023-11-02 15:15:00\n",
      "X Validation Date till: 2024-01-02 15:15:00\n"
     ]
    }
   ],
   "source": [
    "#months_for_cutoff = 3\n",
    "#months_for_cutoff = 2\n",
    "\n",
    "val_cut = data_for_training['datetime'].max() - np.timedelta64(3, 'M')\n",
    "test_cut = data_for_training['datetime'].max() - np.timedelta64(1, 'M')\n",
    "\n",
    "validation_cutoff = dt.datetime(val_cut.year, val_cut.month, val_cut.day, 15, 15)\n",
    "test_cutoff = dt.datetime(test_cut.year, test_cut.month, test_cut.day, 15, 15)\n",
    "\n",
    "print(f\"X Train Date till: {validation_cutoff}\")\n",
    "print(f\"X Validation Date till: {test_cutoff}\")\n",
    "#print(f\"X Test Date till: {data_for_training['datetime'].max()}\")"
   ]
  },
  {
   "cell_type": "code",
   "execution_count": 57,
   "id": "43206008",
   "metadata": {},
   "outputs": [
    {
     "data": {
      "text/plain": [
       "Index(['datetime', 'close', 'hour', 'dom', 'month', 'dow', 'doy', 'woy',\n",
       "       'week_number', 'friday',\n",
       "       ...\n",
       "       'close_rolling_max_28', 'close_rolling_min_28', 'close_rolling_mean_29',\n",
       "       'close_rolling_max_29', 'close_rolling_min_29', 'ramp1', 'ramp2',\n",
       "       'ramp3', 'ramp4', 'ramp_close'],\n",
       "      dtype='object', length=131)"
      ]
     },
     "execution_count": 57,
     "metadata": {},
     "output_type": "execute_result"
    }
   ],
   "source": [
    "X = data_for_training[X_features].copy()\n",
    "y = data_for_training[y_features].copy()\n",
    "X.columns"
   ]
  },
  {
   "cell_type": "code",
   "execution_count": 58,
   "id": "4f73ee20",
   "metadata": {},
   "outputs": [],
   "source": [
    "def train_valid_test_split(X, y, validation_cutoff, test_cutoff):\n",
    "    X_train = X[X['datetime'] <= validation_cutoff].iloc[:,1:].copy()\n",
    "    y_train = y[y['datetime'] <= validation_cutoff].iloc[:,1:].copy()\n",
    "    X_valid = X[(X['datetime'] > validation_cutoff) & (X['datetime'] <= test_cutoff)].iloc[:,1:].copy()\n",
    "    y_valid = y[(y['datetime'] > validation_cutoff) & (y['datetime'] <= test_cutoff)].iloc[:,1:].copy()\n",
    "    X_test = X[X['datetime'] > test_cutoff].iloc[:,1:].copy()\n",
    "    y_test = y[y['datetime'] > test_cutoff].iloc[:,1:].copy()\n",
    "    print(f'X Train: {X_train.shape}')\n",
    "    print(f'X Validation: {X_valid.shape}')\n",
    "    print(f'X Test: {X_test.shape}')\n",
    "    print(f'y Train: {y_train.shape}')\n",
    "    print(f'y Validation: {y_valid.shape}')\n",
    "    print(f'y Test: {y_test.shape}')\n",
    "    \n",
    "    print(\"\\n\")\n",
    "  \n",
    "    X_train_date = X[X['datetime'] <= validation_cutoff].iloc[:,0:1].copy()\n",
    "    X_valid_date = X[(X['datetime'] > validation_cutoff) & (X['datetime'] <= test_cutoff)].iloc[:,0:1].copy()\n",
    "    X_test_date = X[X['datetime'] > test_cutoff].iloc[:,0:1].copy()\n",
    "    print(f\"X Train Date:      {X_train_date['datetime'].max()}\")\n",
    "    print(f\"X Validation Date: {X_valid_date['datetime'].max()}\")\n",
    "    print(f\"X Test Date:       {X_test_date['datetime'].max()}\")\n",
    "\n",
    "    return X_train, y_train, X_valid, y_valid, X_test, y_test"
   ]
  },
  {
   "cell_type": "code",
   "execution_count": 59,
   "id": "d69e7a24",
   "metadata": {
    "id": "QzSdiHCpzNZY",
    "scrolled": true
   },
   "outputs": [
    {
     "name": "stdout",
     "output_type": "stream",
     "text": [
      "X Train: (4234, 130)\n",
      "X Validation: (281, 130)\n",
      "X Test: (147, 130)\n",
      "y Train: (4234, 1)\n",
      "y Validation: (281, 1)\n",
      "y Test: (147, 1)\n",
      "\n",
      "\n",
      "X Train Date:      2023-11-02 15:15:00\n",
      "X Validation Date: 2024-01-02 15:15:00\n",
      "X Test Date:       2024-02-01 15:15:00\n"
     ]
    }
   ],
   "source": [
    "X_train, y_train, X_valid, y_valid, X_test, y_test = train_valid_test_split(X, y, validation_cutoff, test_cutoff)"
   ]
  },
  {
   "cell_type": "code",
   "execution_count": 60,
   "id": "e11c72f7",
   "metadata": {},
   "outputs": [
    {
     "data": {
      "text/plain": [
       "Index(['datetime', 'close', 'hour', 'dom', 'month', 'dow', 'doy', 'woy',\n",
       "       'week_number', 'friday',\n",
       "       ...\n",
       "       'close_rolling_max_28', 'close_rolling_min_28', 'close_rolling_mean_29',\n",
       "       'close_rolling_max_29', 'close_rolling_min_29', 'ramp1', 'ramp2',\n",
       "       'ramp3', 'ramp4', 'ramp_close'],\n",
       "      dtype='object', length=131)"
      ]
     },
     "execution_count": 60,
     "metadata": {},
     "output_type": "execute_result"
    }
   ],
   "source": [
    "X.columns"
   ]
  },
  {
   "cell_type": "code",
   "execution_count": 61,
   "id": "a63bd605",
   "metadata": {},
   "outputs": [
    {
     "data": {
      "text/plain": [
       "Index(['close', 'hour', 'dom', 'month', 'dow', 'doy', 'woy', 'week_number',\n",
       "       'friday', 'covid',\n",
       "       ...\n",
       "       'close_rolling_max_28', 'close_rolling_min_28', 'close_rolling_mean_29',\n",
       "       'close_rolling_max_29', 'close_rolling_min_29', 'ramp1', 'ramp2',\n",
       "       'ramp3', 'ramp4', 'ramp_close'],\n",
       "      dtype='object', length=130)"
      ]
     },
     "execution_count": 61,
     "metadata": {},
     "output_type": "execute_result"
    }
   ],
   "source": [
    "X_train.columns"
   ]
  },
  {
   "cell_type": "code",
   "execution_count": 62,
   "id": "643e9803",
   "metadata": {},
   "outputs": [
    {
     "data": {
      "text/html": [
       "<div>\n",
       "<style scoped>\n",
       "    .dataframe tbody tr th:only-of-type {\n",
       "        vertical-align: middle;\n",
       "    }\n",
       "\n",
       "    .dataframe tbody tr th {\n",
       "        vertical-align: top;\n",
       "    }\n",
       "\n",
       "    .dataframe thead th {\n",
       "        text-align: right;\n",
       "    }\n",
       "</style>\n",
       "<table border=\"1\" class=\"dataframe\">\n",
       "  <thead>\n",
       "    <tr style=\"text-align: right;\">\n",
       "      <th></th>\n",
       "      <th>close</th>\n",
       "      <th>hour</th>\n",
       "      <th>dom</th>\n",
       "      <th>month</th>\n",
       "      <th>dow</th>\n",
       "      <th>doy</th>\n",
       "      <th>woy</th>\n",
       "      <th>week_number</th>\n",
       "      <th>friday</th>\n",
       "      <th>covid</th>\n",
       "      <th>...</th>\n",
       "      <th>close_rolling_max_28</th>\n",
       "      <th>close_rolling_min_28</th>\n",
       "      <th>close_rolling_mean_29</th>\n",
       "      <th>close_rolling_max_29</th>\n",
       "      <th>close_rolling_min_29</th>\n",
       "      <th>ramp1</th>\n",
       "      <th>ramp2</th>\n",
       "      <th>ramp3</th>\n",
       "      <th>ramp4</th>\n",
       "      <th>ramp_close</th>\n",
       "    </tr>\n",
       "  </thead>\n",
       "  <tbody>\n",
       "    <tr>\n",
       "      <th>4229</th>\n",
       "      <td>42869.10</td>\n",
       "      <td>12</td>\n",
       "      <td>2</td>\n",
       "      <td>11</td>\n",
       "      <td>3</td>\n",
       "      <td>306</td>\n",
       "      <td>44</td>\n",
       "      <td>44</td>\n",
       "      <td>0.0</td>\n",
       "      <td>0.0</td>\n",
       "      <td>...</td>\n",
       "      <td>43123.8</td>\n",
       "      <td>42490.1</td>\n",
       "      <td>42836.031034</td>\n",
       "      <td>43123.8</td>\n",
       "      <td>42490.1</td>\n",
       "      <td>-214.40</td>\n",
       "      <td>-40.30</td>\n",
       "      <td>389.65</td>\n",
       "      <td>28.90</td>\n",
       "      <td>135.85</td>\n",
       "    </tr>\n",
       "    <tr>\n",
       "      <th>4230</th>\n",
       "      <td>42942.45</td>\n",
       "      <td>13</td>\n",
       "      <td>2</td>\n",
       "      <td>11</td>\n",
       "      <td>3</td>\n",
       "      <td>306</td>\n",
       "      <td>44</td>\n",
       "      <td>44</td>\n",
       "      <td>0.0</td>\n",
       "      <td>0.0</td>\n",
       "      <td>...</td>\n",
       "      <td>43123.8</td>\n",
       "      <td>42490.1</td>\n",
       "      <td>42842.050000</td>\n",
       "      <td>43123.8</td>\n",
       "      <td>42490.1</td>\n",
       "      <td>73.35</td>\n",
       "      <td>-214.40</td>\n",
       "      <td>-40.30</td>\n",
       "      <td>389.65</td>\n",
       "      <td>290.20</td>\n",
       "    </tr>\n",
       "    <tr>\n",
       "      <th>4231</th>\n",
       "      <td>42947.10</td>\n",
       "      <td>14</td>\n",
       "      <td>2</td>\n",
       "      <td>11</td>\n",
       "      <td>3</td>\n",
       "      <td>306</td>\n",
       "      <td>44</td>\n",
       "      <td>44</td>\n",
       "      <td>0.0</td>\n",
       "      <td>0.0</td>\n",
       "      <td>...</td>\n",
       "      <td>43123.8</td>\n",
       "      <td>42490.1</td>\n",
       "      <td>42849.487931</td>\n",
       "      <td>43123.8</td>\n",
       "      <td>42490.1</td>\n",
       "      <td>4.65</td>\n",
       "      <td>73.35</td>\n",
       "      <td>-214.40</td>\n",
       "      <td>-40.30</td>\n",
       "      <td>278.00</td>\n",
       "    </tr>\n",
       "    <tr>\n",
       "      <th>4232</th>\n",
       "      <td>42963.80</td>\n",
       "      <td>15</td>\n",
       "      <td>2</td>\n",
       "      <td>11</td>\n",
       "      <td>3</td>\n",
       "      <td>306</td>\n",
       "      <td>44</td>\n",
       "      <td>44</td>\n",
       "      <td>0.0</td>\n",
       "      <td>0.0</td>\n",
       "      <td>...</td>\n",
       "      <td>43123.8</td>\n",
       "      <td>42490.1</td>\n",
       "      <td>42859.151724</td>\n",
       "      <td>43123.8</td>\n",
       "      <td>42490.1</td>\n",
       "      <td>16.70</td>\n",
       "      <td>4.65</td>\n",
       "      <td>73.35</td>\n",
       "      <td>-214.40</td>\n",
       "      <td>258.55</td>\n",
       "    </tr>\n",
       "    <tr>\n",
       "      <th>4233</th>\n",
       "      <td>43033.50</td>\n",
       "      <td>16</td>\n",
       "      <td>2</td>\n",
       "      <td>11</td>\n",
       "      <td>3</td>\n",
       "      <td>306</td>\n",
       "      <td>44</td>\n",
       "      <td>44</td>\n",
       "      <td>0.0</td>\n",
       "      <td>0.0</td>\n",
       "      <td>...</td>\n",
       "      <td>43123.8</td>\n",
       "      <td>42490.1</td>\n",
       "      <td>42867.513793</td>\n",
       "      <td>43123.8</td>\n",
       "      <td>42490.1</td>\n",
       "      <td>69.70</td>\n",
       "      <td>16.70</td>\n",
       "      <td>4.65</td>\n",
       "      <td>73.35</td>\n",
       "      <td>299.35</td>\n",
       "    </tr>\n",
       "  </tbody>\n",
       "</table>\n",
       "<p>5 rows × 130 columns</p>\n",
       "</div>"
      ],
      "text/plain": [
       "         close  hour  dom  month  dow  doy  woy  week_number  friday  covid  \\\n",
       "4229  42869.10    12    2     11    3  306   44           44     0.0    0.0   \n",
       "4230  42942.45    13    2     11    3  306   44           44     0.0    0.0   \n",
       "4231  42947.10    14    2     11    3  306   44           44     0.0    0.0   \n",
       "4232  42963.80    15    2     11    3  306   44           44     0.0    0.0   \n",
       "4233  43033.50    16    2     11    3  306   44           44     0.0    0.0   \n",
       "\n",
       "      ...  close_rolling_max_28  close_rolling_min_28  close_rolling_mean_29  \\\n",
       "4229  ...               43123.8               42490.1           42836.031034   \n",
       "4230  ...               43123.8               42490.1           42842.050000   \n",
       "4231  ...               43123.8               42490.1           42849.487931   \n",
       "4232  ...               43123.8               42490.1           42859.151724   \n",
       "4233  ...               43123.8               42490.1           42867.513793   \n",
       "\n",
       "      close_rolling_max_29  close_rolling_min_29   ramp1   ramp2   ramp3  \\\n",
       "4229               43123.8               42490.1 -214.40  -40.30  389.65   \n",
       "4230               43123.8               42490.1   73.35 -214.40  -40.30   \n",
       "4231               43123.8               42490.1    4.65   73.35 -214.40   \n",
       "4232               43123.8               42490.1   16.70    4.65   73.35   \n",
       "4233               43123.8               42490.1   69.70   16.70    4.65   \n",
       "\n",
       "       ramp4  ramp_close  \n",
       "4229   28.90      135.85  \n",
       "4230  389.65      290.20  \n",
       "4231  -40.30      278.00  \n",
       "4232 -214.40      258.55  \n",
       "4233   73.35      299.35  \n",
       "\n",
       "[5 rows x 130 columns]"
      ]
     },
     "execution_count": 62,
     "metadata": {},
     "output_type": "execute_result"
    }
   ],
   "source": [
    "X_train.tail()"
   ]
  },
  {
   "cell_type": "markdown",
   "id": "4d8242bb",
   "metadata": {
    "id": "F1MXTLNc_EGA"
   },
   "source": [
    "# Mode-1 (XGBoost)"
   ]
  },
  {
   "cell_type": "code",
   "execution_count": 63,
   "id": "9b690e97",
   "metadata": {
    "id": "Fbf_Db2ARSsm"
   },
   "outputs": [
    {
     "data": {
      "text/html": [
       "<style>#sk-container-id-1 {color: black;}#sk-container-id-1 pre{padding: 0;}#sk-container-id-1 div.sk-toggleable {background-color: white;}#sk-container-id-1 label.sk-toggleable__label {cursor: pointer;display: block;width: 100%;margin-bottom: 0;padding: 0.3em;box-sizing: border-box;text-align: center;}#sk-container-id-1 label.sk-toggleable__label-arrow:before {content: \"▸\";float: left;margin-right: 0.25em;color: #696969;}#sk-container-id-1 label.sk-toggleable__label-arrow:hover:before {color: black;}#sk-container-id-1 div.sk-estimator:hover label.sk-toggleable__label-arrow:before {color: black;}#sk-container-id-1 div.sk-toggleable__content {max-height: 0;max-width: 0;overflow: hidden;text-align: left;background-color: #f0f8ff;}#sk-container-id-1 div.sk-toggleable__content pre {margin: 0.2em;color: black;border-radius: 0.25em;background-color: #f0f8ff;}#sk-container-id-1 input.sk-toggleable__control:checked~div.sk-toggleable__content {max-height: 200px;max-width: 100%;overflow: auto;}#sk-container-id-1 input.sk-toggleable__control:checked~label.sk-toggleable__label-arrow:before {content: \"▾\";}#sk-container-id-1 div.sk-estimator input.sk-toggleable__control:checked~label.sk-toggleable__label {background-color: #d4ebff;}#sk-container-id-1 div.sk-label input.sk-toggleable__control:checked~label.sk-toggleable__label {background-color: #d4ebff;}#sk-container-id-1 input.sk-hidden--visually {border: 0;clip: rect(1px 1px 1px 1px);clip: rect(1px, 1px, 1px, 1px);height: 1px;margin: -1px;overflow: hidden;padding: 0;position: absolute;width: 1px;}#sk-container-id-1 div.sk-estimator {font-family: monospace;background-color: #f0f8ff;border: 1px dotted black;border-radius: 0.25em;box-sizing: border-box;margin-bottom: 0.5em;}#sk-container-id-1 div.sk-estimator:hover {background-color: #d4ebff;}#sk-container-id-1 div.sk-parallel-item::after {content: \"\";width: 100%;border-bottom: 1px solid gray;flex-grow: 1;}#sk-container-id-1 div.sk-label:hover label.sk-toggleable__label {background-color: #d4ebff;}#sk-container-id-1 div.sk-serial::before {content: \"\";position: absolute;border-left: 1px solid gray;box-sizing: border-box;top: 0;bottom: 0;left: 50%;z-index: 0;}#sk-container-id-1 div.sk-serial {display: flex;flex-direction: column;align-items: center;background-color: white;padding-right: 0.2em;padding-left: 0.2em;position: relative;}#sk-container-id-1 div.sk-item {position: relative;z-index: 1;}#sk-container-id-1 div.sk-parallel {display: flex;align-items: stretch;justify-content: center;background-color: white;position: relative;}#sk-container-id-1 div.sk-item::before, #sk-container-id-1 div.sk-parallel-item::before {content: \"\";position: absolute;border-left: 1px solid gray;box-sizing: border-box;top: 0;bottom: 0;left: 50%;z-index: -1;}#sk-container-id-1 div.sk-parallel-item {display: flex;flex-direction: column;z-index: 1;position: relative;background-color: white;}#sk-container-id-1 div.sk-parallel-item:first-child::after {align-self: flex-end;width: 50%;}#sk-container-id-1 div.sk-parallel-item:last-child::after {align-self: flex-start;width: 50%;}#sk-container-id-1 div.sk-parallel-item:only-child::after {width: 0;}#sk-container-id-1 div.sk-dashed-wrapped {border: 1px dashed gray;margin: 0 0.4em 0.5em 0.4em;box-sizing: border-box;padding-bottom: 0.4em;background-color: white;}#sk-container-id-1 div.sk-label label {font-family: monospace;font-weight: bold;display: inline-block;line-height: 1.2em;}#sk-container-id-1 div.sk-label-container {text-align: center;}#sk-container-id-1 div.sk-container {/* jupyter's `normalize.less` sets `[hidden] { display: none; }` but bootstrap.min.css set `[hidden] { display: none !important; }` so we also need the `!important` here to be able to override the default hidden behavior on the sphinx rendered scikit-learn.org. See: https://github.com/scikit-learn/scikit-learn/issues/21755 */display: inline-block !important;position: relative;}#sk-container-id-1 div.sk-text-repr-fallback {display: none;}</style><div id=\"sk-container-id-1\" class=\"sk-top-container\"><div class=\"sk-text-repr-fallback\"><pre>XGBRegressor(alpha=0, base_score=None, booster=&#x27;gbtree&#x27;, callbacks=None,\n",
       "             colsample_bylevel=None, colsample_bynode=None,\n",
       "             colsample_bytree=None, early_stopping_rounds=None,\n",
       "             enable_categorical=False, eval_metric=None, feature_types=None,\n",
       "             gamma=0, gpu_id=None, grow_policy=None, importance_type=None,\n",
       "             interaction_constraints=None, learning_rate=0.1, max_bin=None,\n",
       "             max_cat_threshold=None, max_cat_to_onehot=None,\n",
       "             max_delta_step=None, max_depth=10, max_leaves=None,\n",
       "             min_child_weight=None, missing=nan, monotone_constraints=None,\n",
       "             n_estimators=1000, n_jobs=None, num_parallel_tree=None,\n",
       "             predictor=None, ...)</pre><b>In a Jupyter environment, please rerun this cell to show the HTML representation or trust the notebook. <br />On GitHub, the HTML representation is unable to render, please try loading this page with nbviewer.org.</b></div><div class=\"sk-container\" hidden><div class=\"sk-item\"><div class=\"sk-estimator sk-toggleable\"><input class=\"sk-toggleable__control sk-hidden--visually\" id=\"sk-estimator-id-1\" type=\"checkbox\" checked><label for=\"sk-estimator-id-1\" class=\"sk-toggleable__label sk-toggleable__label-arrow\">XGBRegressor</label><div class=\"sk-toggleable__content\"><pre>XGBRegressor(alpha=0, base_score=None, booster=&#x27;gbtree&#x27;, callbacks=None,\n",
       "             colsample_bylevel=None, colsample_bynode=None,\n",
       "             colsample_bytree=None, early_stopping_rounds=None,\n",
       "             enable_categorical=False, eval_metric=None, feature_types=None,\n",
       "             gamma=0, gpu_id=None, grow_policy=None, importance_type=None,\n",
       "             interaction_constraints=None, learning_rate=0.1, max_bin=None,\n",
       "             max_cat_threshold=None, max_cat_to_onehot=None,\n",
       "             max_delta_step=None, max_depth=10, max_leaves=None,\n",
       "             min_child_weight=None, missing=nan, monotone_constraints=None,\n",
       "             n_estimators=1000, n_jobs=None, num_parallel_tree=None,\n",
       "             predictor=None, ...)</pre></div></div></div></div></div>"
      ],
      "text/plain": [
       "XGBRegressor(alpha=0, base_score=None, booster='gbtree', callbacks=None,\n",
       "             colsample_bylevel=None, colsample_bynode=None,\n",
       "             colsample_bytree=None, early_stopping_rounds=None,\n",
       "             enable_categorical=False, eval_metric=None, feature_types=None,\n",
       "             gamma=0, gpu_id=None, grow_policy=None, importance_type=None,\n",
       "             interaction_constraints=None, learning_rate=0.1, max_bin=None,\n",
       "             max_cat_threshold=None, max_cat_to_onehot=None,\n",
       "             max_delta_step=None, max_depth=10, max_leaves=None,\n",
       "             min_child_weight=None, missing=nan, monotone_constraints=None,\n",
       "             n_estimators=1000, n_jobs=None, num_parallel_tree=None,\n",
       "             predictor=None, ...)"
      ]
     },
     "execution_count": 63,
     "metadata": {},
     "output_type": "execute_result"
    }
   ],
   "source": [
    "### Feature Selection\n",
    "\n",
    "\n",
    "# XGBoost\n",
    "import xgboost as xgb\n",
    "xgb_model = xgb.XGBRegressor(\n",
    "    #tree_method = \"gpu_hist\", # To use GPU\n",
    "    booster='gbtree',\n",
    "    objective='reg:squarederror',\n",
    "    n_estimators=1000,\n",
    "    max_depth=10,\n",
    "    learning_rate=0.1,\n",
    "    gamma=0,alpha=0,\n",
    "    seed=2\n",
    ")\n",
    "\n",
    "\n",
    "# Here we are not using scaled features as its not required for xgbboost reg\n",
    "eval_set = [(X_train, y_train), (X_valid, y_valid)]\n",
    "xgb_model.fit(X_train, y_train, early_stopping_rounds=30, eval_metric=\"mae\", eval_set=eval_set, verbose=False)\n",
    "#xgb_model.fit(X_train, y_train, eval_metric=\"mae\", eval_set=eval_set, verbose=200)\n"
   ]
  },
  {
   "cell_type": "code",
   "execution_count": 64,
   "id": "eac12e78",
   "metadata": {
    "id": "jGZGhvfCNwjb",
    "scrolled": false
   },
   "outputs": [
    {
     "data": {
      "text/plain": [
       "<matplotlib.legend.Legend at 0x2485fb5ebe0>"
      ]
     },
     "execution_count": 64,
     "metadata": {},
     "output_type": "execute_result"
    },
    {
     "data": {
      "image/png": "[encoded data removed]",
      "text/plain": [
       "<Figure size 600x400 with 1 Axes>"
      ]
     },
     "metadata": {},
     "output_type": "display_data"
    }
   ],
   "source": [
    "results = xgb_model.evals_result()\n",
    "\n",
    "plt.figure(figsize=(6,4))\n",
    "plt.plot(results[\"validation_0\"][\"mae\"], label=\"Training loss\")\n",
    "plt.plot(results[\"validation_1\"][\"mae\"], label=\"Validation loss\")\n",
    "#plt.axvline(xgb_model.best_ntree_limit, color=\"gray\", label=\"Optimal tree number\")\n",
    "plt.xlabel(\"Number of trees\")\n",
    "plt.ylabel(\"Loss\")\n",
    "plt.legend()\n",
    "#print(f'No of Optimum Tress = {xgb_model.best_ntree_limit}')"
   ]
  },
  {
   "cell_type": "code",
   "execution_count": 65,
   "id": "a6e699e3",
   "metadata": {},
   "outputs": [
    {
     "name": "stdout",
     "output_type": "stream",
     "text": [
      "No of Optimum Tress = 194\n"
     ]
    }
   ],
   "source": [
    "print(f'No of Optimum Tress = {xgb_model.best_ntree_limit}')"
   ]
  },
  {
   "cell_type": "code",
   "execution_count": 66,
   "id": "2fb19c81",
   "metadata": {
    "id": "lRY4Dg-y_Hya",
    "scrolled": false
   },
   "outputs": [
    {
     "data": {
      "text/html": [
       "<div>\n",
       "<style scoped>\n",
       "    .dataframe tbody tr th:only-of-type {\n",
       "        vertical-align: middle;\n",
       "    }\n",
       "\n",
       "    .dataframe tbody tr th {\n",
       "        vertical-align: top;\n",
       "    }\n",
       "\n",
       "    .dataframe thead th {\n",
       "        text-align: right;\n",
       "    }\n",
       "</style>\n",
       "<table border=\"1\" class=\"dataframe\">\n",
       "  <thead>\n",
       "    <tr style=\"text-align: right;\">\n",
       "      <th></th>\n",
       "      <th>feature_names</th>\n",
       "      <th>feature_importance</th>\n",
       "    </tr>\n",
       "  </thead>\n",
       "  <tbody>\n",
       "    <tr>\n",
       "      <th>0</th>\n",
       "      <td>close_rolling_min_18</td>\n",
       "      <td>0.745140</td>\n",
       "    </tr>\n",
       "    <tr>\n",
       "      <th>1</th>\n",
       "      <td>close_rolling_min_12</td>\n",
       "      <td>0.030599</td>\n",
       "    </tr>\n",
       "    <tr>\n",
       "      <th>2</th>\n",
       "      <td>mcp_dam_ewm1h</td>\n",
       "      <td>0.027973</td>\n",
       "    </tr>\n",
       "    <tr>\n",
       "      <th>3</th>\n",
       "      <td>close</td>\n",
       "      <td>0.023402</td>\n",
       "    </tr>\n",
       "    <tr>\n",
       "      <th>4</th>\n",
       "      <td>close_rolling_min_15</td>\n",
       "      <td>0.022950</td>\n",
       "    </tr>\n",
       "    <tr>\n",
       "      <th>...</th>\n",
       "      <td>...</td>\n",
       "      <td>...</td>\n",
       "    </tr>\n",
       "    <tr>\n",
       "      <th>125</th>\n",
       "      <td>close_rolling_min_1</td>\n",
       "      <td>0.000000</td>\n",
       "    </tr>\n",
       "    <tr>\n",
       "      <th>126</th>\n",
       "      <td>woy</td>\n",
       "      <td>0.000000</td>\n",
       "    </tr>\n",
       "    <tr>\n",
       "      <th>127</th>\n",
       "      <td>week_number</td>\n",
       "      <td>0.000000</td>\n",
       "    </tr>\n",
       "    <tr>\n",
       "      <th>128</th>\n",
       "      <td>cos_hour</td>\n",
       "      <td>0.000000</td>\n",
       "    </tr>\n",
       "    <tr>\n",
       "      <th>129</th>\n",
       "      <td>covid_first_wave</td>\n",
       "      <td>0.000000</td>\n",
       "    </tr>\n",
       "  </tbody>\n",
       "</table>\n",
       "<p>130 rows × 2 columns</p>\n",
       "</div>"
      ],
      "text/plain": [
       "            feature_names  feature_importance\n",
       "0    close_rolling_min_18            0.745140\n",
       "1    close_rolling_min_12            0.030599\n",
       "2           mcp_dam_ewm1h            0.027973\n",
       "3                   close            0.023402\n",
       "4    close_rolling_min_15            0.022950\n",
       "..                    ...                 ...\n",
       "125   close_rolling_min_1            0.000000\n",
       "126                   woy            0.000000\n",
       "127           week_number            0.000000\n",
       "128              cos_hour            0.000000\n",
       "129      covid_first_wave            0.000000\n",
       "\n",
       "[130 rows x 2 columns]"
      ]
     },
     "execution_count": 66,
     "metadata": {},
     "output_type": "execute_result"
    }
   ],
   "source": [
    "feature_names= X_train.columns.tolist()\n",
    "xgb_features = pd.DataFrame({'feature_names': feature_names, \n",
    "                             'feature_importance': xgb_model.feature_importances_}).sort_values(by=['feature_importance'], ascending=False).reset_index(drop=True)\n",
    "xgb_features"
   ]
  },
  {
   "cell_type": "code",
   "execution_count": 67,
   "id": "6942e4fe",
   "metadata": {},
   "outputs": [
    {
     "data": {
      "text/plain": [
       "['close_rolling_min_18',\n",
       " 'close_rolling_min_12',\n",
       " 'mcp_dam_ewm1h',\n",
       " 'close',\n",
       " 'close_rolling_min_15',\n",
       " 'close_rolling_max_29',\n",
       " 'close_rolling_max_9',\n",
       " 'close_rolling_max_6',\n",
       " 'close_rolling_min_4',\n",
       " 'close_rolling_mean_8',\n",
       " 'close_rolling_max_3']"
      ]
     },
     "execution_count": 67,
     "metadata": {},
     "output_type": "execute_result"
    }
   ],
   "source": [
    "best_features = xgb_features[xgb_features['feature_importance']>=0.01]['feature_names'].tolist()\n",
    "best_features"
   ]
  },
  {
   "cell_type": "code",
   "execution_count": 68,
   "id": "af762d31",
   "metadata": {},
   "outputs": [],
   "source": [
    "#xgb_features.to_csv('features.csv', index=False) # Storing important features for analyzing"
   ]
  },
  {
   "cell_type": "markdown",
   "id": "fe00cddf",
   "metadata": {},
   "source": [
    "## Check all Best Features"
   ]
  },
  {
   "cell_type": "code",
   "execution_count": 69,
   "id": "fd4700a6",
   "metadata": {},
   "outputs": [],
   "source": [
    "if plot_show_or_not == True:\n",
    "    sns.heatmap(data[best_features].corr(), annot=True)"
   ]
  },
  {
   "cell_type": "code",
   "execution_count": 70,
   "id": "7625f7f7",
   "metadata": {},
   "outputs": [],
   "source": [
    "#sns.pairplot(data[best_features]) #later"
   ]
  },
  {
   "cell_type": "markdown",
   "id": "2f8dad17",
   "metadata": {
    "id": "ebpclJLMbhYj"
   },
   "source": [
    "## Hyperparameter Tuning with Optuna"
   ]
  },
  {
   "cell_type": "code",
   "execution_count": 71,
   "id": "ac0a0a0a",
   "metadata": {
    "id": "J9MaMICnna6o"
   },
   "outputs": [],
   "source": [
    "#pip install optuna"
   ]
  },
  {
   "cell_type": "code",
   "execution_count": 72,
   "id": "3f5f44bc",
   "metadata": {
    "id": "6PU2EOy4beev",
    "scrolled": false
   },
   "outputs": [
    {
     "name": "stderr",
     "output_type": "stream",
     "text": [
      "\u001b[32m[I 2024-02-05 08:19:11,631]\u001b[0m A new study created in memory with name: XGB\u001b[0m\n"
     ]
    },
    {
     "name": "stdout",
     "output_type": "stream",
     "text": [
      "[0]\tvalidation_0-rmse:38149.97768\n",
      "[100]\tvalidation_0-rmse:1581.21046\n",
      "[142]\tvalidation_0-rmse:1592.04003\n"
     ]
    },
    {
     "name": "stderr",
     "output_type": "stream",
     "text": [
      "\u001b[32m[I 2024-02-05 08:19:13,288]\u001b[0m Trial 0 finished with value: 2446718.2036059275 and parameters: {'booster': 'gbtree', 'lambda': 60, 'alpha': 10, 'gamma': 0.0031235003153367233, 'subsample': 0.8695391189050071, 'min_child_weight': 9, 'colsample_bytree': 0.8807740258281171, 'max_leaves': 1820, 'max_depth': 13, 'learning_rate': 0.20053939850517535}. Best is trial 0 with value: 2446718.2036059275.\u001b[0m\n"
     ]
    },
    {
     "name": "stdout",
     "output_type": "stream",
     "text": [
      "[0]\tvalidation_0-rmse:40771.07106\n",
      "[100]\tvalidation_0-rmse:1627.23598\n",
      "[175]\tvalidation_0-rmse:1628.63089\n"
     ]
    },
    {
     "name": "stderr",
     "output_type": "stream",
     "text": [
      "\u001b[32m[I 2024-02-05 08:19:15,110]\u001b[0m Trial 1 finished with value: 2614406.8178014993 and parameters: {'booster': 'gbtree', 'lambda': 100, 'alpha': 0, 'gamma': 0.0001932710210086502, 'subsample': 0.8983583487977406, 'min_child_weight': 7, 'colsample_bytree': 0.8571273157354569, 'max_leaves': 1920, 'max_depth': 11, 'learning_rate': 0.1343121392913994}. Best is trial 0 with value: 2446718.2036059275.\u001b[0m\n"
     ]
    },
    {
     "name": "stdout",
     "output_type": "stream",
     "text": [
      "[0]\tvalidation_0-rmse:43372.99500\n",
      "[100]\tvalidation_0-rmse:1747.45876\n",
      "[200]\tvalidation_0-rmse:1587.49632\n",
      "[232]\tvalidation_0-rmse:1589.68519\n"
     ]
    },
    {
     "name": "stderr",
     "output_type": "stream",
     "text": [
      "\u001b[32m[I 2024-02-05 08:19:17,391]\u001b[0m Trial 2 finished with value: 2517544.49004018 and parameters: {'booster': 'gbtree', 'lambda': 60, 'alpha': 80, 'gamma': 0.00010856418318671501, 'subsample': 0.8962472120379988, 'min_child_weight': 10, 'colsample_bytree': 0.820830527052265, 'max_leaves': 1220, 'max_depth': 12, 'learning_rate': 0.06582300298940934}. Best is trial 0 with value: 2446718.2036059275.\u001b[0m\n"
     ]
    },
    {
     "name": "stdout",
     "output_type": "stream",
     "text": [
      "[0]\tvalidation_0-rmse:40223.49978\n",
      "[100]\tvalidation_0-rmse:1644.29162\n",
      "[200]\tvalidation_0-rmse:1638.67161\n",
      "[300]\tvalidation_0-rmse:1633.92412\n",
      "[398]\tvalidation_0-rmse:1633.82345\n"
     ]
    },
    {
     "name": "stderr",
     "output_type": "stream",
     "text": [
      "\u001b[32m[I 2024-02-05 08:19:21,585]\u001b[0m Trial 3 finished with value: 2666900.2638180326 and parameters: {'booster': 'gbtree', 'lambda': 80, 'alpha': 100, 'gamma': 0.10082960801603369, 'subsample': 0.8741217079255721, 'min_child_weight': 6, 'colsample_bytree': 0.8923214710855645, 'max_leaves': 1340, 'max_depth': 10, 'learning_rate': 0.1478488309719468}. Best is trial 0 with value: 2446718.2036059275.\u001b[0m\n"
     ]
    },
    {
     "name": "stdout",
     "output_type": "stream",
     "text": [
      "[0]\tvalidation_0-rmse:43331.15489\n",
      "[100]\tvalidation_0-rmse:1744.57226\n",
      "[200]\tvalidation_0-rmse:1671.06765\n",
      "[300]\tvalidation_0-rmse:1666.39869\n",
      "[400]\tvalidation_0-rmse:1665.29623\n",
      "[500]\tvalidation_0-rmse:1663.14102\n",
      "[600]\tvalidation_0-rmse:1665.97543\n",
      "[605]\tvalidation_0-rmse:1665.82481\n"
     ]
    },
    {
     "name": "stderr",
     "output_type": "stream",
     "text": [
      "\u001b[32m[I 2024-02-05 08:19:27,894]\u001b[0m Trial 4 finished with value: 2765734.08138975 and parameters: {'booster': 'gbtree', 'lambda': 40, 'alpha': 60, 'gamma': 1.8161700760186405e-08, 'subsample': 0.8430414582491754, 'min_child_weight': 5, 'colsample_bytree': 0.8813292564524126, 'max_leaves': 1880, 'max_depth': 10, 'learning_rate': 0.06657208572710349}. Best is trial 0 with value: 2446718.2036059275.\u001b[0m\n"
     ]
    },
    {
     "name": "stdout",
     "output_type": "stream",
     "text": [
      "[0]\tvalidation_0-rmse:44829.23949\n",
      "[100]\tvalidation_0-rmse:5084.43295\n",
      "[200]\tvalidation_0-rmse:1907.20197\n",
      "[300]\tvalidation_0-rmse:1744.14502\n",
      "[400]\tvalidation_0-rmse:1725.16643\n",
      "[500]\tvalidation_0-rmse:1719.21371\n",
      "[600]\tvalidation_0-rmse:1716.15722\n",
      "[700]\tvalidation_0-rmse:1713.68317\n",
      "[800]\tvalidation_0-rmse:1711.94093\n",
      "[900]\tvalidation_0-rmse:1711.81657\n",
      "[1000]\tvalidation_0-rmse:1710.69065\n",
      "[1100]\tvalidation_0-rmse:1709.71271\n",
      "[1200]\tvalidation_0-rmse:1709.44698\n",
      "[1300]\tvalidation_0-rmse:1708.67275\n",
      "[1400]\tvalidation_0-rmse:1707.76399\n",
      "[1500]\tvalidation_0-rmse:1707.34655\n",
      "[1600]\tvalidation_0-rmse:1706.93017\n",
      "[1700]\tvalidation_0-rmse:1706.67623\n",
      "[1800]\tvalidation_0-rmse:1706.79559\n",
      "[1850]\tvalidation_0-rmse:1706.67749\n"
     ]
    },
    {
     "name": "stderr",
     "output_type": "stream",
     "text": [
      "\u001b[32m[I 2024-02-05 08:19:54,706]\u001b[0m Trial 5 finished with value: 2912482.749688361 and parameters: {'booster': 'gbtree', 'lambda': 40, 'alpha': 20, 'gamma': 1.7803315617741705e-06, 'subsample': 0.8936471051805608, 'min_child_weight': 3, 'colsample_bytree': 0.8131040156783874, 'max_leaves': 1940, 'max_depth': 15, 'learning_rate': 0.028121733930522308}. Best is trial 0 with value: 2446718.2036059275.\u001b[0m\n"
     ]
    },
    {
     "name": "stdout",
     "output_type": "stream",
     "text": [
      "[0]\tvalidation_0-rmse:38387.62913\n",
      "[100]\tvalidation_0-rmse:1754.26586\n",
      "[200]\tvalidation_0-rmse:1754.37421\n",
      "[300]\tvalidation_0-rmse:1752.59882\n",
      "[400]\tvalidation_0-rmse:1752.81091\n",
      "[448]\tvalidation_0-rmse:1752.74995\n"
     ]
    },
    {
     "name": "stderr",
     "output_type": "stream",
     "text": [
      "\u001b[32m[I 2024-02-05 08:20:00,029]\u001b[0m Trial 6 finished with value: 3070119.856020281 and parameters: {'booster': 'gbtree', 'lambda': 10, 'alpha': 100, 'gamma': 6.321878333165993e-05, 'subsample': 0.8204336949604752, 'min_child_weight': 2, 'colsample_bytree': 0.8801703093831474, 'max_leaves': 1480, 'max_depth': 10, 'learning_rate': 0.17774143681583843}. Best is trial 0 with value: 2446718.2036059275.\u001b[0m\n"
     ]
    },
    {
     "name": "stdout",
     "output_type": "stream",
     "text": [
      "[0]\tvalidation_0-rmse:45304.92880\n",
      "[100]\tvalidation_0-rmse:12094.15786\n",
      "[200]\tvalidation_0-rmse:4298.23352\n",
      "[300]\tvalidation_0-rmse:2359.51089\n",
      "[400]\tvalidation_0-rmse:1857.62221\n",
      "[500]\tvalidation_0-rmse:1814.52927\n",
      "[600]\tvalidation_0-rmse:1795.07260\n",
      "[700]\tvalidation_0-rmse:1787.52833\n",
      "[800]\tvalidation_0-rmse:1781.37437\n",
      "[900]\tvalidation_0-rmse:1778.61937\n",
      "[1000]\tvalidation_0-rmse:1776.61852\n",
      "[1100]\tvalidation_0-rmse:1774.40112\n",
      "[1200]\tvalidation_0-rmse:1773.21275\n",
      "[1300]\tvalidation_0-rmse:1771.94647\n",
      "[1400]\tvalidation_0-rmse:1770.70658\n",
      "[1500]\tvalidation_0-rmse:1769.96950\n",
      "[1600]\tvalidation_0-rmse:1768.33784\n",
      "[1700]\tvalidation_0-rmse:1767.27607\n",
      "[1800]\tvalidation_0-rmse:1766.65509\n",
      "[1900]\tvalidation_0-rmse:1766.61151\n",
      "[1999]\tvalidation_0-rmse:1765.96867\n"
     ]
    },
    {
     "name": "stderr",
     "output_type": "stream",
     "text": [
      "\u001b[32m[I 2024-02-05 08:20:28,268]\u001b[0m Trial 7 finished with value: 3118504.9649442076 and parameters: {'booster': 'gbtree', 'lambda': 40, 'alpha': 30, 'gamma': 0.004181562761087211, 'subsample': 0.8180314613809335, 'min_child_weight': 2, 'colsample_bytree': 0.8980467725396419, 'max_leaves': 1260, 'max_depth': 14, 'learning_rate': 0.01592571630469836}. Best is trial 0 with value: 2446718.2036059275.\u001b[0m\n"
     ]
    },
    {
     "name": "stdout",
     "output_type": "stream",
     "text": [
      "[0]\tvalidation_0-rmse:38094.89240\n",
      "[100]\tvalidation_0-rmse:1590.41488\n",
      "[200]\tvalidation_0-rmse:1594.82290\n",
      "[234]\tvalidation_0-rmse:1599.91969\n"
     ]
    },
    {
     "name": "stderr",
     "output_type": "stream",
     "text": [
      "\u001b[32m[I 2024-02-05 08:20:31,076]\u001b[0m Trial 8 finished with value: 2517688.7459101765 and parameters: {'booster': 'gbtree', 'lambda': 50, 'alpha': 80, 'gamma': 0.0019674824731921786, 'subsample': 0.8456619315674853, 'min_child_weight': 7, 'colsample_bytree': 0.8316076335581443, 'max_leaves': 1560, 'max_depth': 12, 'learning_rate': 0.2015249792345776}. Best is trial 0 with value: 2446718.2036059275.\u001b[0m\n"
     ]
    },
    {
     "name": "stdout",
     "output_type": "stream",
     "text": [
      "[0]\tvalidation_0-rmse:35861.67633\n",
      "[100]\tvalidation_0-rmse:1678.73397\n",
      "[200]\tvalidation_0-rmse:1680.18506\n",
      "[203]\tvalidation_0-rmse:1680.03457\n"
     ]
    },
    {
     "name": "stderr",
     "output_type": "stream",
     "text": [
      "\u001b[32m[I 2024-02-05 08:20:33,823]\u001b[0m Trial 9 finished with value: 2817297.7367329434 and parameters: {'booster': 'gbtree', 'lambda': 60, 'alpha': 70, 'gamma': 0.004698677070558641, 'subsample': 0.847030711073311, 'min_child_weight': 5, 'colsample_bytree': 0.8655762744176894, 'max_leaves': 1540, 'max_depth': 13, 'learning_rate': 0.25971705028982295}. Best is trial 0 with value: 2446718.2036059275.\u001b[0m\n"
     ]
    },
    {
     "name": "stdout",
     "output_type": "stream",
     "text": [
      "Number of finished trials: 10\n",
      "Best trial: {'booster': 'gbtree', 'lambda': 60, 'alpha': 10, 'gamma': 0.0031235003153367233, 'subsample': 0.8695391189050071, 'min_child_weight': 9, 'colsample_bytree': 0.8807740258281171, 'max_leaves': 1820, 'max_depth': 13, 'learning_rate': 0.20053939850517535}\n"
     ]
    }
   ],
   "source": [
    "import xgboost as xgb\n",
    "import optuna\n",
    "from sklearn.metrics import mean_squared_error\n",
    "\n",
    "def objective(trial):\n",
    "    # Hyper Parameters\n",
    "    param = {\n",
    "        \"booster\": trial.suggest_categorical(\"booster\", [\"gbtree\"]),\n",
    "        \"lambda\": trial.suggest_int(\"lambda\", 0, 100, step=10),\n",
    "        \"alpha\": trial.suggest_int(\"alpha\", 0, 100, step=10),\n",
    "        \"gamma\": trial.suggest_float(\"gamma\", 1e-8, 1.0, log=True),\n",
    "        \"subsample\": trial.suggest_float(\"subsample\", 0.8, 0.9),\n",
    "        \"min_child_weight\": trial.suggest_int(\"min_child_weight\", 2, 10),\n",
    "        \"colsample_bytree\": trial.suggest_float(\"colsample_bytree\", 0.8, 0.9),\n",
    "        \"max_leaves\": trial.suggest_int(\"max_leaves\", 1000, 2000,step=20),\n",
    "        'max_depth': trial.suggest_int('max_depth', 10, 15),\n",
    "        'learning_rate': trial.suggest_float('learning_rate', 0.01, 0.3),\n",
    "        #\"grow_policy\": trial.suggest_categorical(\"grow_policy\", [\"depthwise\", \"lossguide\"])\n",
    "    }\n",
    "    \n",
    "    model = xgb.XGBRegressor(\n",
    "        objective='reg:squarederror',\n",
    "        #tree_method = \"gpu_hist\", # To use GPU\n",
    "        n_estimators=2000,\n",
    "        **param\n",
    "        )\n",
    "    model.fit(X_train[best_features],y_train,eval_set=[(X_valid[best_features],y_valid)],eval_metric='rmse',early_stopping_rounds=100,verbose=100)\n",
    "    preds = model.predict(X_valid[best_features])\n",
    "    error = mean_squared_error(y_valid, preds)\n",
    "    return error\n",
    " \n",
    "study = optuna.create_study(direction='minimize',study_name=\"XGB\")\n",
    "study.optimize(objective, n_trials=10) # We can increase n_trials to check more combinations, later increse\n",
    " \n",
    "print('Number of finished trials:', len(study.trials))\n",
    "print('Best trial:', study.best_trial.params)"
   ]
  },
  {
   "cell_type": "code",
   "execution_count": 73,
   "id": "6f4df0b7",
   "metadata": {
    "id": "ujOKdCA8be0h"
   },
   "outputs": [
    {
     "data": {
      "text/plain": [
       "{'booster': 'gbtree',\n",
       " 'lambda': 60,\n",
       " 'alpha': 10,\n",
       " 'gamma': 0.0031235003153367233,\n",
       " 'subsample': 0.8695391189050071,\n",
       " 'min_child_weight': 9,\n",
       " 'colsample_bytree': 0.8807740258281171,\n",
       " 'max_leaves': 1820,\n",
       " 'max_depth': 13,\n",
       " 'learning_rate': 0.20053939850517535}"
      ]
     },
     "execution_count": 73,
     "metadata": {},
     "output_type": "execute_result"
    }
   ],
   "source": [
    "study.best_params"
   ]
  },
  {
   "cell_type": "code",
   "execution_count": 74,
   "id": "0d06375f",
   "metadata": {
    "id": "cFu772xtbe2v",
    "scrolled": true
   },
   "outputs": [
    {
     "name": "stdout",
     "output_type": "stream",
     "text": [
      "[0]\tvalidation_0-rmse:38149.97768\n",
      "[62]\tvalidation_0-rmse:1584.83962\n"
     ]
    },
    {
     "data": {
      "text/html": [
       "<style>#sk-container-id-2 {color: black;}#sk-container-id-2 pre{padding: 0;}#sk-container-id-2 div.sk-toggleable {background-color: white;}#sk-container-id-2 label.sk-toggleable__label {cursor: pointer;display: block;width: 100%;margin-bottom: 0;padding: 0.3em;box-sizing: border-box;text-align: center;}#sk-container-id-2 label.sk-toggleable__label-arrow:before {content: \"▸\";float: left;margin-right: 0.25em;color: #696969;}#sk-container-id-2 label.sk-toggleable__label-arrow:hover:before {color: black;}#sk-container-id-2 div.sk-estimator:hover label.sk-toggleable__label-arrow:before {color: black;}#sk-container-id-2 div.sk-toggleable__content {max-height: 0;max-width: 0;overflow: hidden;text-align: left;background-color: #f0f8ff;}#sk-container-id-2 div.sk-toggleable__content pre {margin: 0.2em;color: black;border-radius: 0.25em;background-color: #f0f8ff;}#sk-container-id-2 input.sk-toggleable__control:checked~div.sk-toggleable__content {max-height: 200px;max-width: 100%;overflow: auto;}#sk-container-id-2 input.sk-toggleable__control:checked~label.sk-toggleable__label-arrow:before {content: \"▾\";}#sk-container-id-2 div.sk-estimator input.sk-toggleable__control:checked~label.sk-toggleable__label {background-color: #d4ebff;}#sk-container-id-2 div.sk-label input.sk-toggleable__control:checked~label.sk-toggleable__label {background-color: #d4ebff;}#sk-container-id-2 input.sk-hidden--visually {border: 0;clip: rect(1px 1px 1px 1px);clip: rect(1px, 1px, 1px, 1px);height: 1px;margin: -1px;overflow: hidden;padding: 0;position: absolute;width: 1px;}#sk-container-id-2 div.sk-estimator {font-family: monospace;background-color: #f0f8ff;border: 1px dotted black;border-radius: 0.25em;box-sizing: border-box;margin-bottom: 0.5em;}#sk-container-id-2 div.sk-estimator:hover {background-color: #d4ebff;}#sk-container-id-2 div.sk-parallel-item::after {content: \"\";width: 100%;border-bottom: 1px solid gray;flex-grow: 1;}#sk-container-id-2 div.sk-label:hover label.sk-toggleable__label {background-color: #d4ebff;}#sk-container-id-2 div.sk-serial::before {content: \"\";position: absolute;border-left: 1px solid gray;box-sizing: border-box;top: 0;bottom: 0;left: 50%;z-index: 0;}#sk-container-id-2 div.sk-serial {display: flex;flex-direction: column;align-items: center;background-color: white;padding-right: 0.2em;padding-left: 0.2em;position: relative;}#sk-container-id-2 div.sk-item {position: relative;z-index: 1;}#sk-container-id-2 div.sk-parallel {display: flex;align-items: stretch;justify-content: center;background-color: white;position: relative;}#sk-container-id-2 div.sk-item::before, #sk-container-id-2 div.sk-parallel-item::before {content: \"\";position: absolute;border-left: 1px solid gray;box-sizing: border-box;top: 0;bottom: 0;left: 50%;z-index: -1;}#sk-container-id-2 div.sk-parallel-item {display: flex;flex-direction: column;z-index: 1;position: relative;background-color: white;}#sk-container-id-2 div.sk-parallel-item:first-child::after {align-self: flex-end;width: 50%;}#sk-container-id-2 div.sk-parallel-item:last-child::after {align-self: flex-start;width: 50%;}#sk-container-id-2 div.sk-parallel-item:only-child::after {width: 0;}#sk-container-id-2 div.sk-dashed-wrapped {border: 1px dashed gray;margin: 0 0.4em 0.5em 0.4em;box-sizing: border-box;padding-bottom: 0.4em;background-color: white;}#sk-container-id-2 div.sk-label label {font-family: monospace;font-weight: bold;display: inline-block;line-height: 1.2em;}#sk-container-id-2 div.sk-label-container {text-align: center;}#sk-container-id-2 div.sk-container {/* jupyter's `normalize.less` sets `[hidden] { display: none; }` but bootstrap.min.css set `[hidden] { display: none !important; }` so we also need the `!important` here to be able to override the default hidden behavior on the sphinx rendered scikit-learn.org. See: https://github.com/scikit-learn/scikit-learn/issues/21755 */display: inline-block !important;position: relative;}#sk-container-id-2 div.sk-text-repr-fallback {display: none;}</style><div id=\"sk-container-id-2\" class=\"sk-top-container\"><div class=\"sk-text-repr-fallback\"><pre>XGBRegressor(alpha=10, base_score=None, booster=&#x27;gbtree&#x27;, callbacks=None,\n",
       "             colsample_bylevel=None, colsample_bynode=None,\n",
       "             colsample_bytree=0.8807740258281171, early_stopping_rounds=None,\n",
       "             enable_categorical=False, eval_metric=None, feature_types=None,\n",
       "             gamma=0.0031235003153367233, gpu_id=None, grow_policy=None,\n",
       "             importance_type=None, interaction_constraints=None, lambda=60,\n",
       "             learning_rate=0.20053939850517535, max_bin=None,\n",
       "             max_cat_threshold=None, max_cat_to_onehot=None,\n",
       "             max_delta_step=None, max_depth=13, max_leaves=1820,\n",
       "             min_child_weight=9, missing=nan, monotone_constraints=None,\n",
       "             n_estimators=1000, n_jobs=None, num_parallel_tree=None, ...)</pre><b>In a Jupyter environment, please rerun this cell to show the HTML representation or trust the notebook. <br />On GitHub, the HTML representation is unable to render, please try loading this page with nbviewer.org.</b></div><div class=\"sk-container\" hidden><div class=\"sk-item\"><div class=\"sk-estimator sk-toggleable\"><input class=\"sk-toggleable__control sk-hidden--visually\" id=\"sk-estimator-id-2\" type=\"checkbox\" checked><label for=\"sk-estimator-id-2\" class=\"sk-toggleable__label sk-toggleable__label-arrow\">XGBRegressor</label><div class=\"sk-toggleable__content\"><pre>XGBRegressor(alpha=10, base_score=None, booster=&#x27;gbtree&#x27;, callbacks=None,\n",
       "             colsample_bylevel=None, colsample_bynode=None,\n",
       "             colsample_bytree=0.8807740258281171, early_stopping_rounds=None,\n",
       "             enable_categorical=False, eval_metric=None, feature_types=None,\n",
       "             gamma=0.0031235003153367233, gpu_id=None, grow_policy=None,\n",
       "             importance_type=None, interaction_constraints=None, lambda=60,\n",
       "             learning_rate=0.20053939850517535, max_bin=None,\n",
       "             max_cat_threshold=None, max_cat_to_onehot=None,\n",
       "             max_delta_step=None, max_depth=13, max_leaves=1820,\n",
       "             min_child_weight=9, missing=nan, monotone_constraints=None,\n",
       "             n_estimators=1000, n_jobs=None, num_parallel_tree=None, ...)</pre></div></div></div></div></div>"
      ],
      "text/plain": [
       "XGBRegressor(alpha=10, base_score=None, booster='gbtree', callbacks=None,\n",
       "             colsample_bylevel=None, colsample_bynode=None,\n",
       "             colsample_bytree=0.8807740258281171, early_stopping_rounds=None,\n",
       "             enable_categorical=False, eval_metric=None, feature_types=None,\n",
       "             gamma=0.0031235003153367233, gpu_id=None, grow_policy=None,\n",
       "             importance_type=None, interaction_constraints=None, lambda=60,\n",
       "             learning_rate=0.20053939850517535, max_bin=None,\n",
       "             max_cat_threshold=None, max_cat_to_onehot=None,\n",
       "             max_delta_step=None, max_depth=13, max_leaves=1820,\n",
       "             min_child_weight=9, missing=nan, monotone_constraints=None,\n",
       "             n_estimators=1000, n_jobs=None, num_parallel_tree=None, ...)"
      ]
     },
     "execution_count": 74,
     "metadata": {},
     "output_type": "execute_result"
    }
   ],
   "source": [
    "param = study.best_params\n",
    "xgbreg = xgb.XGBRegressor(\n",
    "    objective='reg:squarederror',\n",
    "    #tree_method = \"gpu_hist\", # To use GPU\n",
    "    n_estimators=1000,    \n",
    "    **param\n",
    "    )\n",
    "xgbreg.fit(X_train[best_features],y_train,eval_set=[(X_valid[best_features],y_valid)],eval_metric='rmse',early_stopping_rounds=20,verbose=100)"
   ]
  },
  {
   "cell_type": "code",
   "execution_count": 75,
   "id": "668a0071",
   "metadata": {
    "id": "Qz35lRWP_H_e"
   },
   "outputs": [],
   "source": [
    "# Making predictions with the tuned model\n",
    "pred_train = xgbreg.predict(X_train[best_features])\n",
    "pred_valid = xgbreg.predict(X_valid[best_features])\n",
    "pred_test = xgbreg.predict(X_test[best_features])"
   ]
  },
  {
   "cell_type": "code",
   "execution_count": 76,
   "id": "374778d5",
   "metadata": {
    "id": "ZS1BAt40_ICV",
    "scrolled": false
   },
   "outputs": [
    {
     "name": "stdout",
     "output_type": "stream",
     "text": [
      "Train MSE: 98188.68656717971\n",
      "Train RMSE: 313.3507404924707\n",
      "valid MSE: 2446718.2036059275\n",
      "valid RMSE: 1564.1989015486258\n",
      "Test MSE: 2412007.503686191\n",
      "Test RMSE: 1553.0639084358993\n"
     ]
    }
   ],
   "source": [
    "# Evaluate model accuracy \n",
    "from sklearn.metrics import mean_squared_error\n",
    "print(f\"Train MSE: {mean_squared_error(y_train['target'],pred_train)}\")\n",
    "print(f\"Train RMSE: {np.sqrt(mean_squared_error(y_train['target'],pred_train))}\")\n",
    "print(f\"valid MSE: {mean_squared_error(y_valid['target'],pred_valid)}\")\n",
    "print(f\"valid RMSE: {np.sqrt(mean_squared_error(y_valid['target'],pred_valid))}\")\n",
    "print(f\"Test MSE: {mean_squared_error(y_test['target'],pred_test)}\")\n",
    "print(f\"Test RMSE: {np.sqrt(mean_squared_error(y_test['target'],pred_test))}\")"
   ]
  },
  {
   "cell_type": "code",
   "execution_count": 77,
   "id": "c43389ca",
   "metadata": {
    "id": "-KHlRyq6_IJB",
    "scrolled": false
   },
   "outputs": [
    {
     "data": {
      "text/html": [
       "<div>\n",
       "<style scoped>\n",
       "    .dataframe tbody tr th:only-of-type {\n",
       "        vertical-align: middle;\n",
       "    }\n",
       "\n",
       "    .dataframe tbody tr th {\n",
       "        vertical-align: top;\n",
       "    }\n",
       "\n",
       "    .dataframe thead th {\n",
       "        text-align: right;\n",
       "    }\n",
       "</style>\n",
       "<table border=\"1\" class=\"dataframe\">\n",
       "  <thead>\n",
       "    <tr style=\"text-align: right;\">\n",
       "      <th></th>\n",
       "      <th>datetime</th>\n",
       "      <th>target</th>\n",
       "      <th>prediction_xgb_BANKNIFTY</th>\n",
       "    </tr>\n",
       "  </thead>\n",
       "  <tbody>\n",
       "    <tr>\n",
       "      <th>4655</th>\n",
       "      <td>2024-02-01 09:15:00</td>\n",
       "      <td>46612.00</td>\n",
       "      <td>45708.925781</td>\n",
       "    </tr>\n",
       "    <tr>\n",
       "      <th>4656</th>\n",
       "      <td>2024-02-01 10:15:00</td>\n",
       "      <td>46583.00</td>\n",
       "      <td>45708.925781</td>\n",
       "    </tr>\n",
       "    <tr>\n",
       "      <th>4657</th>\n",
       "      <td>2024-02-01 11:15:00</td>\n",
       "      <td>46744.50</td>\n",
       "      <td>45708.925781</td>\n",
       "    </tr>\n",
       "    <tr>\n",
       "      <th>4658</th>\n",
       "      <td>2024-02-01 12:15:00</td>\n",
       "      <td>46254.70</td>\n",
       "      <td>45708.925781</td>\n",
       "    </tr>\n",
       "    <tr>\n",
       "      <th>4659</th>\n",
       "      <td>2024-02-01 13:15:00</td>\n",
       "      <td>46307.85</td>\n",
       "      <td>45708.925781</td>\n",
       "    </tr>\n",
       "    <tr>\n",
       "      <th>4660</th>\n",
       "      <td>2024-02-01 14:15:00</td>\n",
       "      <td>45963.80</td>\n",
       "      <td>45708.925781</td>\n",
       "    </tr>\n",
       "    <tr>\n",
       "      <th>4661</th>\n",
       "      <td>2024-02-01 15:15:00</td>\n",
       "      <td>45954.65</td>\n",
       "      <td>45708.925781</td>\n",
       "    </tr>\n",
       "  </tbody>\n",
       "</table>\n",
       "</div>"
      ],
      "text/plain": [
       "                datetime    target  prediction_xgb_BANKNIFTY\n",
       "4655 2024-02-01 09:15:00  46612.00              45708.925781\n",
       "4656 2024-02-01 10:15:00  46583.00              45708.925781\n",
       "4657 2024-02-01 11:15:00  46744.50              45708.925781\n",
       "4658 2024-02-01 12:15:00  46254.70              45708.925781\n",
       "4659 2024-02-01 13:15:00  46307.85              45708.925781\n",
       "4660 2024-02-01 14:15:00  45963.80              45708.925781\n",
       "4661 2024-02-01 15:15:00  45954.65              45708.925781"
      ]
     },
     "execution_count": 77,
     "metadata": {},
     "output_type": "execute_result"
    }
   ],
   "source": [
    "result = y[y['datetime'] > test_cutoff].copy()\n",
    "result[f'prediction_xgb_{stock}'] = pred_test\n",
    "result.tail(7)"
   ]
  },
  {
   "cell_type": "code",
   "execution_count": 78,
   "id": "d1da5ae0",
   "metadata": {
    "scrolled": false
   },
   "outputs": [],
   "source": [
    "if plot_show_or_not == True:\n",
    "    \n",
    "    result_train = y[(y['datetime'] <= validation_cutoff)].copy()\n",
    "    result_train[f'prediction_xgb_{stock}'] = pred_train\n",
    "    plt.figure(figsize=(10,5))\n",
    "    result_train.set_index('datetime').plot()\n",
    "    plt.title(f\"Prediction for TRAIN DATA\")"
   ]
  },
  {
   "cell_type": "code",
   "execution_count": 79,
   "id": "1a3305e2",
   "metadata": {
    "id": "zrgfS1MP_qvM",
    "scrolled": false
   },
   "outputs": [
    {
     "data": {
      "text/plain": [
       "Text(0.5, 1.0, 'Prediction for VALIDATION DATA')"
      ]
     },
     "execution_count": 79,
     "metadata": {},
     "output_type": "execute_result"
    },
    {
     "data": {
      "text/plain": [
       "<Figure size 1000x500 with 0 Axes>"
      ]
     },
     "metadata": {},
     "output_type": "display_data"
    },
    {
     "data": {
      "image/png": "[encoded data removed]",
      "text/plain": [
       "<Figure size 1500x500 with 1 Axes>"
      ]
     },
     "metadata": {},
     "output_type": "display_data"
    }
   ],
   "source": [
    " #We have data from 2020-07-01 00:00:00\n",
    " #We have data till 2023-02-13 23:45:00\n",
    "\n",
    "result_valid = y[(y['datetime'] > validation_cutoff) & (y['datetime'] <= test_cutoff)].copy()\n",
    "result_valid[f'prediction_xgb_{stock}'] = pred_valid\n",
    "plt.figure(figsize=(10,5))\n",
    "result_valid.set_index('datetime').plot()\n",
    "plt.title(f\"Prediction for VALIDATION DATA\")"
   ]
  },
  {
   "cell_type": "code",
   "execution_count": 80,
   "id": "6a152d99",
   "metadata": {
    "id": "NRpMP6vmafuV",
    "scrolled": false
   },
   "outputs": [
    {
     "data": {
      "text/plain": [
       "Text(0.5, 1.0, 'Prediction for TEST')"
      ]
     },
     "execution_count": 80,
     "metadata": {},
     "output_type": "execute_result"
    },
    {
     "data": {
      "image/png": "[encoded data removed]",
      "text/plain": [
       "<Figure size 1500x500 with 1 Axes>"
      ]
     },
     "metadata": {},
     "output_type": "display_data"
    }
   ],
   "source": [
    "\n",
    "mask = (result.datetime > test_cutoff)\n",
    "result.loc[mask,:].set_index('datetime')\n",
    "result.loc[mask,:].set_index('datetime').plot()\n",
    "plt.title(\"Prediction for TEST\")\n",
    "\n",
    "#result.loc[mask,:].set_index('datetime')"
   ]
  },
  {
   "cell_type": "markdown",
   "id": "a2c8d73c",
   "metadata": {},
   "source": [
    "## Find Last working and Next working DAY"
   ]
  },
  {
   "cell_type": "code",
   "execution_count": 81,
   "id": "4744c4fc",
   "metadata": {},
   "outputs": [],
   "source": [
    "holiday_list = ['2023-11-27', '2023-12-25']\n",
    "#holiday_list = [x+' 00:00:00' for x in holiday_list]\n",
    "#holiday_list = [datetime.strptime(x, '%Y-%m-%d') for x in holiday_list]"
   ]
  },
  {
   "cell_type": "code",
   "execution_count": 82,
   "id": "a8e3a87b",
   "metadata": {},
   "outputs": [],
   "source": [
    "# def check_is_inbetween_market_time(test_date):\n",
    "#     #----This block of code will check if we are running code before 3:30PM then it will not take today's data----\n",
    "#     if test_date not in holiday_list and test_date.weekday() not in [5, 6]:    \n",
    "#         now = datetime.now()\n",
    "#         today15_30 = now.replace(hour=15, minute=30, second=0)\n",
    "#         if now <= today15_30:\n",
    "#             test_date = test_date-timedelta(days=1)\n",
    "#     return test_date\n",
    "\n",
    "# check_is_inbetween_market_time(datetime.now())"
   ]
  },
  {
   "cell_type": "code",
   "execution_count": 83,
   "id": "ae55b167",
   "metadata": {},
   "outputs": [],
   "source": [
    "# def find_last_working_day(test_date):\n",
    "    \n",
    "#     if test_date.weekday() == 0:\n",
    "#         diff = 3\n",
    "#     elif test_date.weekday() == 6:\n",
    "#         diff = 2\n",
    "#     else :\n",
    "#         diff = 1\n",
    "\n",
    "#     res = test_date - timedelta(days=diff)\n",
    "    \n",
    "#     while str(res) in holiday_list:\n",
    "#         res = res - timedelta(days=1)\n",
    "        \n",
    "#     if res.weekday() in [0, 6]:\n",
    "#         res = find_last_working_day(res) # Recursive call beacuse \n",
    "#         # may be we have today tuesday and on monday we have holiday\n",
    "#         # then without recursive call it will give sunday as last working day\n",
    "        \n",
    "#     return res\n",
    "\n",
    "# find_last_working_day(dt.date.today())"
   ]
  },
  {
   "cell_type": "code",
   "execution_count": 84,
   "id": "7296317a",
   "metadata": {},
   "outputs": [],
   "source": [
    "# '''\n",
    "# # Now we use the following concept\n",
    "\n",
    "# - First Download data as per Working Day time, if time is less than 3:30PM then we will download till yesterday only,\n",
    "#   else we will download till today 3:30PM\n",
    "#   Now as data is as per 3:30PM logic so we dont need to put here same logic, we can predict as per available data only.\n",
    "  \n",
    "# - Second we will check next working day as per last entry in DATA dataframe (which is logical as per data available)\n",
    "\n",
    "# - Third we will get prediction for next working day\n",
    "\n",
    "# '''\n",
    "\n",
    "# def find_Next_working_day(test_date):\n",
    "    \n",
    "#     test_date = test_date + timedelta(days=1)\n",
    "#     if test_date.weekday() == 5:\n",
    "#         add = 2\n",
    "#     elif test_date.weekday() == 6:\n",
    "#         add = 1\n",
    "#     else :\n",
    "#         add = 0\n",
    "\n",
    "#     res = test_date + timedelta(days=add)\n",
    "    \n",
    "#     while str(res) in holiday_list:\n",
    "#         res = res + timedelta(days=1)\n",
    "        \n",
    "#     if res.weekday() in [5, 6]:\n",
    "#         res = find_Next_working_day(res) # Recursive call\n",
    "        \n",
    "#     return res\n",
    "\n",
    "# #find_Next_working_day(dt.date.today())\n",
    "# print(f\"Check for {data_df_last_day}\")\n",
    "# next_working_day = find_Next_working_day(data_df_last_day)"
   ]
  },
  {
   "cell_type": "code",
   "execution_count": 85,
   "id": "3a46d8ce",
   "metadata": {},
   "outputs": [],
   "source": [
    "# #test_date = datetime(2023, 11, 16)\n",
    "# test_date = dt.date.today()\n",
    "\n",
    "# #last_working = find_last_working_day(test_date_as_time)\n",
    "# next_working = find_Next_working_day(test_date)\n",
    "\n",
    "# #print(f\"Input Date & Time:{datetime.now()} ~~~~ Last Working date:{str(last_working)}\")\n",
    "# print(f\"Input Date & Time:{datetime.now()} ~~~~ NEXT Working date:{str(next_working)}\")"
   ]
  },
  {
   "cell_type": "code",
   "execution_count": null,
   "id": "5526ca3b",
   "metadata": {},
   "outputs": [],
   "source": []
  },
  {
   "cell_type": "code",
   "execution_count": null,
   "id": "0ac200f8",
   "metadata": {},
   "outputs": [],
   "source": []
  },
  {
   "cell_type": "code",
   "execution_count": 86,
   "id": "d68bcdac",
   "metadata": {},
   "outputs": [],
   "source": [
    "# result.datetime.to_numpy()[0] > dt.date.today()"
   ]
  },
  {
   "cell_type": "code",
   "execution_count": 87,
   "id": "0686541d",
   "metadata": {},
   "outputs": [],
   "source": [
    "#(result.datetime > pd.Timestamp.today())\n",
    "#result.datetime > np.datetime64('today', 'D')"
   ]
  },
  {
   "cell_type": "code",
   "execution_count": 88,
   "id": "0e5f3511",
   "metadata": {},
   "outputs": [],
   "source": [
    "# ajj = dt.date.today()\n",
    "# #ajj = np.datetime64('today', 'D')\n",
    "# end_date = find_last_working_day(ajj)\n",
    "# np.datetime64(end_date)"
   ]
  },
  {
   "cell_type": "code",
   "execution_count": null,
   "id": "d6735229",
   "metadata": {},
   "outputs": [],
   "source": []
  },
  {
   "cell_type": "code",
   "execution_count": null,
   "id": "0946af9e",
   "metadata": {},
   "outputs": [],
   "source": []
  },
  {
   "cell_type": "markdown",
   "id": "7283a36e",
   "metadata": {},
   "source": [
    "## Peformance for LAST working DAY"
   ]
  },
  {
   "cell_type": "code",
   "execution_count": 89,
   "id": "010f1f97",
   "metadata": {
    "scrolled": false
   },
   "outputs": [
    {
     "name": "stdout",
     "output_type": "stream",
     "text": [
      "Forcast for: 2024-02-05\n",
      "Basically for today's prediction, Datetime will be yesterday's only as per logic As we have shifted target by 1, so for Date 15th prediction Datetime will show 14th\n"
     ]
    },
    {
     "data": {
      "text/html": [
       "<div>\n",
       "<style scoped>\n",
       "    .dataframe tbody tr th:only-of-type {\n",
       "        vertical-align: middle;\n",
       "    }\n",
       "\n",
       "    .dataframe tbody tr th {\n",
       "        vertical-align: top;\n",
       "    }\n",
       "\n",
       "    .dataframe thead th {\n",
       "        text-align: right;\n",
       "    }\n",
       "</style>\n",
       "<table border=\"1\" class=\"dataframe\">\n",
       "  <thead>\n",
       "    <tr style=\"text-align: right;\">\n",
       "      <th></th>\n",
       "      <th>target</th>\n",
       "      <th>prediction_xgb_BANKNIFTY</th>\n",
       "    </tr>\n",
       "    <tr>\n",
       "      <th>datetime</th>\n",
       "      <th></th>\n",
       "      <th></th>\n",
       "    </tr>\n",
       "  </thead>\n",
       "  <tbody>\n",
       "  </tbody>\n",
       "</table>\n",
       "</div>"
      ],
      "text/plain": [
       "Empty DataFrame\n",
       "Columns: [target, prediction_xgb_BANKNIFTY]\n",
       "Index: []"
      ]
     },
     "execution_count": 89,
     "metadata": {},
     "output_type": "execute_result"
    },
    {
     "data": {
      "image/png": "[encoded data removed]",
      "text/plain": [
       "<Figure size 1500x500 with 1 Axes>"
      ]
     },
     "metadata": {},
     "output_type": "display_data"
    }
   ],
   "source": [
    "# ajj = dt.date.today() # I guess its in python only\n",
    "# #ajj = np.datetime64('today', 'D') # How we define in numpy\n",
    "# #ajj = pd.Timestamp.today()  # How we define in pandas\n",
    "\n",
    "# ajj = check_is_inbetween_market_time(ajj)\n",
    "# end_date = find_last_working_day(ajj)\n",
    "# next_working = find_Next_working_day(ajj)    \n",
    "    \n",
    "\n",
    "#data_df_last_day\n",
    "#next_working_day\n",
    "\n",
    "\n",
    "print(f\"Forcast for: {next_working_day}\")\n",
    "print(\"Basically for today's prediction, Datetime will be yesterday's only as per logic As we have shifted target by 1, so for Date 15th prediction Datetime will show 14th\")\n",
    "mask = (result.datetime >= np.datetime64(data_df_last_day))\n",
    "#mask = (result.datetime >= end_date)\n",
    "\n",
    "result.loc[mask,:].set_index('datetime').plot()\n",
    "plt.title(\"Prediction for Today\")\n",
    "\n",
    "result.loc[mask,:].set_index('datetime')"
   ]
  },
  {
   "cell_type": "code",
   "execution_count": 90,
   "id": "628fc103",
   "metadata": {
    "scrolled": false
   },
   "outputs": [],
   "source": [
    "# # JUST ANOTHER WAY FOR ABOVE CODE\n",
    "\n",
    "# end_date = dt.date.today()\n",
    "# days_sub = 1 # XXXXXXXXXXXXXXXXXXXXXXX\n",
    "# end_date = dt.datetime(end_date.year, end_date.month, end_date.day-days_sub, 9, 15)\n",
    "\n",
    "# print(f\"Forcast Date~~~~~{end_date}\")\n",
    "\n",
    "# mask = (result.datetime >= end_date)\n",
    "# result.loc[mask,:].set_index('datetime').plot()\n",
    "# plt.title(\"Prediction for Today\")\n",
    "\n",
    "\n",
    "# result.loc[mask,:].set_index('datetime')"
   ]
  },
  {
   "cell_type": "code",
   "execution_count": 91,
   "id": "bfc94cd5",
   "metadata": {},
   "outputs": [],
   "source": [
    "def feature_importance(features, importance_score):\n",
    "    importances = pd.DataFrame(data={\n",
    "        'Attribute': features,\n",
    "        'Importance': importance_score\n",
    "    })\n",
    "    importances = importances.sort_values(by='Importance', ascending=False)\n",
    "    plt.bar(x=importances['Attribute'], height=importances['Importance'])\n",
    "    plt.title('Feature importances obtained from coefficients')\n",
    "    plt.xticks(rotation='vertical')\n",
    "    plt.show()"
   ]
  },
  {
   "cell_type": "code",
   "execution_count": 92,
   "id": "90fcb110",
   "metadata": {},
   "outputs": [
    {
     "name": "stdout",
     "output_type": "stream",
     "text": [
      "(130,)\n",
      "(11,)\n"
     ]
    }
   ],
   "source": [
    "print(X_train.columns.shape)\n",
    "print(xgbreg.feature_importances_.shape)"
   ]
  },
  {
   "cell_type": "code",
   "execution_count": 93,
   "id": "1fc9c3da",
   "metadata": {
    "scrolled": false
   },
   "outputs": [
    {
     "data": {
      "image/png": "[encoded data removed]",
      "text/plain": [
       "<Figure size 1500x500 with 1 Axes>"
      ]
     },
     "metadata": {},
     "output_type": "display_data"
    }
   ],
   "source": [
    "feature_importance(best_features, xgbreg.feature_importances_)"
   ]
  },
  {
   "cell_type": "markdown",
   "id": "f745109a",
   "metadata": {},
   "source": [
    "## Final Model saving"
   ]
  },
  {
   "cell_type": "code",
   "execution_count": 94,
   "id": "e25ae2b9",
   "metadata": {},
   "outputs": [],
   "source": [
    "# Saving the final Best features used by model\n",
    "model_name = f\"{stock}_best_features_XGBoost\"\n",
    "pickle.dump(best_features, open(f'03_Saved_Model/{model_name}.pkl', 'wb'))"
   ]
  },
  {
   "cell_type": "code",
   "execution_count": 95,
   "id": "5057b686",
   "metadata": {},
   "outputs": [],
   "source": [
    "# Saving the final model\n",
    "model_name = f\"{stock}_XGBoost\"\n",
    "pickle.dump(xgbreg, open(f'03_Saved_Model/{model_name}.pkl', 'wb'))"
   ]
  },
  {
   "cell_type": "markdown",
   "id": "15398433",
   "metadata": {},
   "source": [
    "# ********Final Prediction (XGBoost)********"
   ]
  },
  {
   "cell_type": "code",
   "execution_count": 96,
   "id": "b00bc54b",
   "metadata": {},
   "outputs": [
    {
     "data": {
      "text/plain": [
       "datetime.datetime(2024, 2, 5, 9, 15)"
      ]
     },
     "execution_count": 96,
     "metadata": {},
     "output_type": "execute_result"
    }
   ],
   "source": [
    "test_date = dt.date.today()\n",
    "\n",
    "#ibirdi - I have added below line on 01 Feb 2024\n",
    "#test_date = check_is_inbetween_market_time(test_date)\n",
    "#ibirdi - end of I have added below line on 01 Feb 2024\n",
    "\n",
    "\n",
    "#next_working = find_Next_working_day(test_date)\n",
    "\n",
    "next_working = next_working_day\n",
    "next_working = dt.datetime(next_working.year, next_working.month, next_working.day, 9, 15)\n",
    "next_working"
   ]
  },
  {
   "cell_type": "code",
   "execution_count": 97,
   "id": "0aded354",
   "metadata": {},
   "outputs": [
    {
     "data": {
      "text/html": [
       "<div>\n",
       "<style scoped>\n",
       "    .dataframe tbody tr th:only-of-type {\n",
       "        vertical-align: middle;\n",
       "    }\n",
       "\n",
       "    .dataframe tbody tr th {\n",
       "        vertical-align: top;\n",
       "    }\n",
       "\n",
       "    .dataframe thead th {\n",
       "        text-align: right;\n",
       "    }\n",
       "</style>\n",
       "<table border=\"1\" class=\"dataframe\">\n",
       "  <thead>\n",
       "    <tr style=\"text-align: right;\">\n",
       "      <th></th>\n",
       "      <th>prediction_xgb_BANKNIFTY</th>\n",
       "    </tr>\n",
       "    <tr>\n",
       "      <th>datetime</th>\n",
       "      <th></th>\n",
       "    </tr>\n",
       "  </thead>\n",
       "  <tbody>\n",
       "    <tr>\n",
       "      <th>2024-02-05 09:15:00</th>\n",
       "      <td>45708.925781</td>\n",
       "    </tr>\n",
       "    <tr>\n",
       "      <th>2024-02-05 10:15:00</th>\n",
       "      <td>45609.996094</td>\n",
       "    </tr>\n",
       "    <tr>\n",
       "      <th>2024-02-05 11:15:00</th>\n",
       "      <td>45609.996094</td>\n",
       "    </tr>\n",
       "    <tr>\n",
       "      <th>2024-02-05 12:15:00</th>\n",
       "      <td>45609.996094</td>\n",
       "    </tr>\n",
       "    <tr>\n",
       "      <th>2024-02-05 13:15:00</th>\n",
       "      <td>45546.113281</td>\n",
       "    </tr>\n",
       "    <tr>\n",
       "      <th>2024-02-05 14:15:00</th>\n",
       "      <td>45546.113281</td>\n",
       "    </tr>\n",
       "    <tr>\n",
       "      <th>2024-02-05 15:15:00</th>\n",
       "      <td>45546.113281</td>\n",
       "    </tr>\n",
       "  </tbody>\n",
       "</table>\n",
       "</div>"
      ],
      "text/plain": [
       "                     prediction_xgb_BANKNIFTY\n",
       "datetime                                     \n",
       "2024-02-05 09:15:00              45708.925781\n",
       "2024-02-05 10:15:00              45609.996094\n",
       "2024-02-05 11:15:00              45609.996094\n",
       "2024-02-05 12:15:00              45609.996094\n",
       "2024-02-05 13:15:00              45546.113281\n",
       "2024-02-05 14:15:00              45546.113281\n",
       "2024-02-05 15:15:00              45546.113281"
      ]
     },
     "execution_count": 97,
     "metadata": {},
     "output_type": "execute_result"
    }
   ],
   "source": [
    "pred_day_ahead = pd.DataFrame(pd.date_range(start=next_working, periods=target_ahead_timeblocks, freq=frequency_in_mins), columns=['datetime']) #inclusive in the newer version\n",
    "pred_day_ahead.set_index(\"datetime\", inplace = True)\n",
    "pred_day_ahead[f'prediction_xgb_{stock}'] = xgbreg.predict(next_day_df_prediction[best_features])\n",
    "pred_day_ahead"
   ]
  },
  {
   "cell_type": "code",
   "execution_count": 98,
   "id": "9cd4e785",
   "metadata": {},
   "outputs": [],
   "source": [
    "# pred_day_ahead = pd.DataFrame()\n",
    "# pred_day_ahead.index = next_day_df_prediction['datetime']\n",
    "# pred_day_ahead[f'prediction_xgb_{stock}'] = xgbreg.predict(next_day_df_prediction[best_features])\n",
    "# pred_day_ahead"
   ]
  },
  {
   "cell_type": "markdown",
   "id": "2ce51ce2",
   "metadata": {},
   "source": [
    "# Model-2 - Logistic Regression"
   ]
  },
  {
   "cell_type": "code",
   "execution_count": 99,
   "id": "4b861533",
   "metadata": {},
   "outputs": [],
   "source": [
    "#We Have the following:\n",
    "#X_train, y_train, X_valid, y_valid, X_test, y_test = train_valid_test_split(X, y, validation_cutoff, test_cutoff)"
   ]
  },
  {
   "cell_type": "code",
   "execution_count": null,
   "id": "7192eb3a",
   "metadata": {},
   "outputs": [],
   "source": []
  },
  {
   "cell_type": "markdown",
   "id": "294c6e14",
   "metadata": {},
   "source": [
    "### Multicollinearity check by VIF score"
   ]
  },
  {
   "cell_type": "code",
   "execution_count": 100,
   "id": "ce31718d",
   "metadata": {},
   "outputs": [],
   "source": [
    "# \"\"\"\n",
    "# Let's now keep on removing features till we have a feature with vif<5\n",
    "# \"\"\"\n",
    "# import statsmodels.api as sm\n",
    "\n",
    "# scaler_vif = StandardScaler()\n",
    "# X_train_vif_s = scaler_vif.fit_transform(X_train)\n",
    "\n",
    "\n",
    "\n",
    "\n",
    "\n",
    "# vif_thr = 20\n",
    "# #r2_thr = 0.85\n",
    "# i = 0\n",
    "# feats_removed = []\n",
    "\n",
    "# cols2=X.columns\n",
    "\n",
    "# while True:\n",
    "    \n",
    "#     vif = pd.DataFrame()\n",
    "#     X_t = pd.DataFrame(X_train_vif_s, columns=X.columns)[cols2]\n",
    "#     vif['Features'] = cols2\n",
    "#     vif['VIF'] = [variance_inflation_factor(X_t.values, i) for i in range(X_t.shape[1])]\n",
    "#     vif['VIF'] = round(vif['VIF'], 2)\n",
    "#     vif = vif.sort_values(by = \"VIF\", ascending = False)\n",
    "\n",
    "#   #cols2 = vif[\"Features\"][1:].values\n",
    "#     cols2 = vif[\"Features\"][i:].values\n",
    "#     X2 = pd.DataFrame(X_train_vif_s, columns=X.columns)[cols2]\n",
    "\n",
    "#     #X2_sm = sm.add_constant(X2)  #Statmodels default is without intercept, to add intercept we need to add constant\n",
    "#     #sm_model = sm.OLS(list(y_train), X2_sm).fit()\n",
    "  \n",
    "#     print('Feature no. ', i)\n",
    "#     print('VIF Score ', vif.iloc[i]['VIF'])\n",
    "#     #print('Adjusted R2 ', sm_model.rsquared_adj)\n",
    "\n",
    "\n",
    "#     #if (vif.iloc[i]['VIF'] < vif_thr) or (sm_model.rsquared_adj > r2_thr):\n",
    "#     if (vif.iloc[i]['VIF'] < vif_thr):\n",
    "#         print('Reached threshold')\n",
    "#         print('Highest vif:',vif.iloc[i])\n",
    "#         #print('Current adj.R2',sm_model.rsquared_adj)\n",
    "#         print('Features removed:', i)\n",
    "#         print('List of features removed:', feats_removed)\n",
    "#         break\n",
    "#     feats_removed.append(vif.iloc[i]['Features'])\n",
    "#     i += 1"
   ]
  },
  {
   "cell_type": "code",
   "execution_count": 101,
   "id": "3bf37a88",
   "metadata": {},
   "outputs": [
    {
     "data": {
      "text/html": [
       "<div>\n",
       "<style scoped>\n",
       "    .dataframe tbody tr th:only-of-type {\n",
       "        vertical-align: middle;\n",
       "    }\n",
       "\n",
       "    .dataframe tbody tr th {\n",
       "        vertical-align: top;\n",
       "    }\n",
       "\n",
       "    .dataframe thead th {\n",
       "        text-align: right;\n",
       "    }\n",
       "</style>\n",
       "<table border=\"1\" class=\"dataframe\">\n",
       "  <thead>\n",
       "    <tr style=\"text-align: right;\">\n",
       "      <th></th>\n",
       "      <th>close</th>\n",
       "      <th>hour</th>\n",
       "      <th>dom</th>\n",
       "      <th>month</th>\n",
       "      <th>dow</th>\n",
       "      <th>doy</th>\n",
       "      <th>woy</th>\n",
       "      <th>week_number</th>\n",
       "      <th>friday</th>\n",
       "      <th>covid</th>\n",
       "      <th>...</th>\n",
       "      <th>close_rolling_max_28</th>\n",
       "      <th>close_rolling_min_28</th>\n",
       "      <th>close_rolling_mean_29</th>\n",
       "      <th>close_rolling_max_29</th>\n",
       "      <th>close_rolling_min_29</th>\n",
       "      <th>ramp1</th>\n",
       "      <th>ramp2</th>\n",
       "      <th>ramp3</th>\n",
       "      <th>ramp4</th>\n",
       "      <th>ramp_close</th>\n",
       "    </tr>\n",
       "  </thead>\n",
       "  <tbody>\n",
       "    <tr>\n",
       "      <th>0</th>\n",
       "      <td>34766.25</td>\n",
       "      <td>14</td>\n",
       "      <td>26</td>\n",
       "      <td>5</td>\n",
       "      <td>2</td>\n",
       "      <td>146</td>\n",
       "      <td>21</td>\n",
       "      <td>21</td>\n",
       "      <td>0.0</td>\n",
       "      <td>1.0</td>\n",
       "      <td>...</td>\n",
       "      <td>34943.6</td>\n",
       "      <td>33334.55</td>\n",
       "      <td>34444.724138</td>\n",
       "      <td>34943.6</td>\n",
       "      <td>33334.55</td>\n",
       "      <td>-52.15</td>\n",
       "      <td>-3.60</td>\n",
       "      <td>-36.75</td>\n",
       "      <td>243.00</td>\n",
       "      <td>322.10</td>\n",
       "    </tr>\n",
       "    <tr>\n",
       "      <th>1</th>\n",
       "      <td>34688.70</td>\n",
       "      <td>15</td>\n",
       "      <td>26</td>\n",
       "      <td>5</td>\n",
       "      <td>2</td>\n",
       "      <td>146</td>\n",
       "      <td>21</td>\n",
       "      <td>21</td>\n",
       "      <td>0.0</td>\n",
       "      <td>1.0</td>\n",
       "      <td>...</td>\n",
       "      <td>34943.6</td>\n",
       "      <td>33334.55</td>\n",
       "      <td>34485.277586</td>\n",
       "      <td>34943.6</td>\n",
       "      <td>33334.55</td>\n",
       "      <td>-77.55</td>\n",
       "      <td>-52.15</td>\n",
       "      <td>-3.60</td>\n",
       "      <td>-36.75</td>\n",
       "      <td>52.40</td>\n",
       "    </tr>\n",
       "    <tr>\n",
       "      <th>2</th>\n",
       "      <td>34684.20</td>\n",
       "      <td>16</td>\n",
       "      <td>26</td>\n",
       "      <td>5</td>\n",
       "      <td>2</td>\n",
       "      <td>146</td>\n",
       "      <td>21</td>\n",
       "      <td>21</td>\n",
       "      <td>0.0</td>\n",
       "      <td>1.0</td>\n",
       "      <td>...</td>\n",
       "      <td>34943.6</td>\n",
       "      <td>33334.55</td>\n",
       "      <td>34523.750000</td>\n",
       "      <td>34943.6</td>\n",
       "      <td>33334.55</td>\n",
       "      <td>-4.50</td>\n",
       "      <td>-77.55</td>\n",
       "      <td>-52.15</td>\n",
       "      <td>-3.60</td>\n",
       "      <td>22.20</td>\n",
       "    </tr>\n",
       "    <tr>\n",
       "      <th>3</th>\n",
       "      <td>34616.15</td>\n",
       "      <td>10</td>\n",
       "      <td>27</td>\n",
       "      <td>5</td>\n",
       "      <td>3</td>\n",
       "      <td>147</td>\n",
       "      <td>21</td>\n",
       "      <td>21</td>\n",
       "      <td>0.0</td>\n",
       "      <td>1.0</td>\n",
       "      <td>...</td>\n",
       "      <td>34943.6</td>\n",
       "      <td>33943.15</td>\n",
       "      <td>34570.239655</td>\n",
       "      <td>34943.6</td>\n",
       "      <td>33334.55</td>\n",
       "      <td>-68.05</td>\n",
       "      <td>-4.50</td>\n",
       "      <td>-77.55</td>\n",
       "      <td>-52.15</td>\n",
       "      <td>0.40</td>\n",
       "    </tr>\n",
       "    <tr>\n",
       "      <th>4</th>\n",
       "      <td>34631.50</td>\n",
       "      <td>11</td>\n",
       "      <td>27</td>\n",
       "      <td>5</td>\n",
       "      <td>3</td>\n",
       "      <td>147</td>\n",
       "      <td>21</td>\n",
       "      <td>21</td>\n",
       "      <td>0.0</td>\n",
       "      <td>1.0</td>\n",
       "      <td>...</td>\n",
       "      <td>34943.6</td>\n",
       "      <td>33959.55</td>\n",
       "      <td>34614.432759</td>\n",
       "      <td>34943.6</td>\n",
       "      <td>33943.15</td>\n",
       "      <td>15.35</td>\n",
       "      <td>-68.05</td>\n",
       "      <td>-4.50</td>\n",
       "      <td>-77.55</td>\n",
       "      <td>-227.25</td>\n",
       "    </tr>\n",
       "    <tr>\n",
       "      <th>...</th>\n",
       "      <td>...</td>\n",
       "      <td>...</td>\n",
       "      <td>...</td>\n",
       "      <td>...</td>\n",
       "      <td>...</td>\n",
       "      <td>...</td>\n",
       "      <td>...</td>\n",
       "      <td>...</td>\n",
       "      <td>...</td>\n",
       "      <td>...</td>\n",
       "      <td>...</td>\n",
       "      <td>...</td>\n",
       "      <td>...</td>\n",
       "      <td>...</td>\n",
       "      <td>...</td>\n",
       "      <td>...</td>\n",
       "      <td>...</td>\n",
       "      <td>...</td>\n",
       "      <td>...</td>\n",
       "      <td>...</td>\n",
       "      <td>...</td>\n",
       "    </tr>\n",
       "    <tr>\n",
       "      <th>4229</th>\n",
       "      <td>42869.10</td>\n",
       "      <td>12</td>\n",
       "      <td>2</td>\n",
       "      <td>11</td>\n",
       "      <td>3</td>\n",
       "      <td>306</td>\n",
       "      <td>44</td>\n",
       "      <td>44</td>\n",
       "      <td>0.0</td>\n",
       "      <td>0.0</td>\n",
       "      <td>...</td>\n",
       "      <td>43123.8</td>\n",
       "      <td>42490.10</td>\n",
       "      <td>42836.031034</td>\n",
       "      <td>43123.8</td>\n",
       "      <td>42490.10</td>\n",
       "      <td>-214.40</td>\n",
       "      <td>-40.30</td>\n",
       "      <td>389.65</td>\n",
       "      <td>28.90</td>\n",
       "      <td>135.85</td>\n",
       "    </tr>\n",
       "    <tr>\n",
       "      <th>4230</th>\n",
       "      <td>42942.45</td>\n",
       "      <td>13</td>\n",
       "      <td>2</td>\n",
       "      <td>11</td>\n",
       "      <td>3</td>\n",
       "      <td>306</td>\n",
       "      <td>44</td>\n",
       "      <td>44</td>\n",
       "      <td>0.0</td>\n",
       "      <td>0.0</td>\n",
       "      <td>...</td>\n",
       "      <td>43123.8</td>\n",
       "      <td>42490.10</td>\n",
       "      <td>42842.050000</td>\n",
       "      <td>43123.8</td>\n",
       "      <td>42490.10</td>\n",
       "      <td>73.35</td>\n",
       "      <td>-214.40</td>\n",
       "      <td>-40.30</td>\n",
       "      <td>389.65</td>\n",
       "      <td>290.20</td>\n",
       "    </tr>\n",
       "    <tr>\n",
       "      <th>4231</th>\n",
       "      <td>42947.10</td>\n",
       "      <td>14</td>\n",
       "      <td>2</td>\n",
       "      <td>11</td>\n",
       "      <td>3</td>\n",
       "      <td>306</td>\n",
       "      <td>44</td>\n",
       "      <td>44</td>\n",
       "      <td>0.0</td>\n",
       "      <td>0.0</td>\n",
       "      <td>...</td>\n",
       "      <td>43123.8</td>\n",
       "      <td>42490.10</td>\n",
       "      <td>42849.487931</td>\n",
       "      <td>43123.8</td>\n",
       "      <td>42490.10</td>\n",
       "      <td>4.65</td>\n",
       "      <td>73.35</td>\n",
       "      <td>-214.40</td>\n",
       "      <td>-40.30</td>\n",
       "      <td>278.00</td>\n",
       "    </tr>\n",
       "    <tr>\n",
       "      <th>4232</th>\n",
       "      <td>42963.80</td>\n",
       "      <td>15</td>\n",
       "      <td>2</td>\n",
       "      <td>11</td>\n",
       "      <td>3</td>\n",
       "      <td>306</td>\n",
       "      <td>44</td>\n",
       "      <td>44</td>\n",
       "      <td>0.0</td>\n",
       "      <td>0.0</td>\n",
       "      <td>...</td>\n",
       "      <td>43123.8</td>\n",
       "      <td>42490.10</td>\n",
       "      <td>42859.151724</td>\n",
       "      <td>43123.8</td>\n",
       "      <td>42490.10</td>\n",
       "      <td>16.70</td>\n",
       "      <td>4.65</td>\n",
       "      <td>73.35</td>\n",
       "      <td>-214.40</td>\n",
       "      <td>258.55</td>\n",
       "    </tr>\n",
       "    <tr>\n",
       "      <th>4233</th>\n",
       "      <td>43033.50</td>\n",
       "      <td>16</td>\n",
       "      <td>2</td>\n",
       "      <td>11</td>\n",
       "      <td>3</td>\n",
       "      <td>306</td>\n",
       "      <td>44</td>\n",
       "      <td>44</td>\n",
       "      <td>0.0</td>\n",
       "      <td>0.0</td>\n",
       "      <td>...</td>\n",
       "      <td>43123.8</td>\n",
       "      <td>42490.10</td>\n",
       "      <td>42867.513793</td>\n",
       "      <td>43123.8</td>\n",
       "      <td>42490.10</td>\n",
       "      <td>69.70</td>\n",
       "      <td>16.70</td>\n",
       "      <td>4.65</td>\n",
       "      <td>73.35</td>\n",
       "      <td>299.35</td>\n",
       "    </tr>\n",
       "  </tbody>\n",
       "</table>\n",
       "<p>4234 rows × 130 columns</p>\n",
       "</div>"
      ],
      "text/plain": [
       "         close  hour  dom  month  dow  doy  woy  week_number  friday  covid  \\\n",
       "0     34766.25    14   26      5    2  146   21           21     0.0    1.0   \n",
       "1     34688.70    15   26      5    2  146   21           21     0.0    1.0   \n",
       "2     34684.20    16   26      5    2  146   21           21     0.0    1.0   \n",
       "3     34616.15    10   27      5    3  147   21           21     0.0    1.0   \n",
       "4     34631.50    11   27      5    3  147   21           21     0.0    1.0   \n",
       "...        ...   ...  ...    ...  ...  ...  ...          ...     ...    ...   \n",
       "4229  42869.10    12    2     11    3  306   44           44     0.0    0.0   \n",
       "4230  42942.45    13    2     11    3  306   44           44     0.0    0.0   \n",
       "4231  42947.10    14    2     11    3  306   44           44     0.0    0.0   \n",
       "4232  42963.80    15    2     11    3  306   44           44     0.0    0.0   \n",
       "4233  43033.50    16    2     11    3  306   44           44     0.0    0.0   \n",
       "\n",
       "      ...  close_rolling_max_28  close_rolling_min_28  close_rolling_mean_29  \\\n",
       "0     ...               34943.6              33334.55           34444.724138   \n",
       "1     ...               34943.6              33334.55           34485.277586   \n",
       "2     ...               34943.6              33334.55           34523.750000   \n",
       "3     ...               34943.6              33943.15           34570.239655   \n",
       "4     ...               34943.6              33959.55           34614.432759   \n",
       "...   ...                   ...                   ...                    ...   \n",
       "4229  ...               43123.8              42490.10           42836.031034   \n",
       "4230  ...               43123.8              42490.10           42842.050000   \n",
       "4231  ...               43123.8              42490.10           42849.487931   \n",
       "4232  ...               43123.8              42490.10           42859.151724   \n",
       "4233  ...               43123.8              42490.10           42867.513793   \n",
       "\n",
       "      close_rolling_max_29  close_rolling_min_29   ramp1   ramp2   ramp3  \\\n",
       "0                  34943.6              33334.55  -52.15   -3.60  -36.75   \n",
       "1                  34943.6              33334.55  -77.55  -52.15   -3.60   \n",
       "2                  34943.6              33334.55   -4.50  -77.55  -52.15   \n",
       "3                  34943.6              33334.55  -68.05   -4.50  -77.55   \n",
       "4                  34943.6              33943.15   15.35  -68.05   -4.50   \n",
       "...                    ...                   ...     ...     ...     ...   \n",
       "4229               43123.8              42490.10 -214.40  -40.30  389.65   \n",
       "4230               43123.8              42490.10   73.35 -214.40  -40.30   \n",
       "4231               43123.8              42490.10    4.65   73.35 -214.40   \n",
       "4232               43123.8              42490.10   16.70    4.65   73.35   \n",
       "4233               43123.8              42490.10   69.70   16.70    4.65   \n",
       "\n",
       "       ramp4  ramp_close  \n",
       "0     243.00      322.10  \n",
       "1     -36.75       52.40  \n",
       "2      -3.60       22.20  \n",
       "3     -52.15        0.40  \n",
       "4     -77.55     -227.25  \n",
       "...      ...         ...  \n",
       "4229   28.90      135.85  \n",
       "4230  389.65      290.20  \n",
       "4231  -40.30      278.00  \n",
       "4232 -214.40      258.55  \n",
       "4233   73.35      299.35  \n",
       "\n",
       "[4234 rows x 130 columns]"
      ]
     },
     "execution_count": 101,
     "metadata": {},
     "output_type": "execute_result"
    }
   ],
   "source": [
    "X_train"
   ]
  },
  {
   "cell_type": "code",
   "execution_count": 102,
   "id": "b74d822e",
   "metadata": {},
   "outputs": [
    {
     "data": {
      "text/plain": [
       "0"
      ]
     },
     "execution_count": 102,
     "metadata": {},
     "output_type": "execute_result"
    }
   ],
   "source": [
    "11638-(11056+441+141)"
   ]
  },
  {
   "cell_type": "markdown",
   "id": "c23204d8",
   "metadata": {},
   "source": [
    "## Scaling"
   ]
  },
  {
   "cell_type": "code",
   "execution_count": 103,
   "id": "b8166ed5",
   "metadata": {},
   "outputs": [
    {
     "name": "stdout",
     "output_type": "stream",
     "text": [
      "['close', 'hour', 'dom', 'month', 'dow', 'doy', 'woy', 'week_number', 'friday', 'covid', 'covid_first_wave', 'covid_second_wave', 'cos_hour', 'sin_hour', 'cos_dow', 'sin_dow', 'cos_doy', 'sin_doy', 'lag1h', 'lag2h', 'lag4h', 'lag6h', 'lag12h', 'lag1d', 'lag2d', 'lag3d', 'lag4d', 'lag5d', 'lag6d', 'lag7d', 'mcp_dam_ewm1h', 'mcp_dam_ewm2h', 'mcp_dam_ewm3h', 'mcp_dam_ewm4h', 'mcp_dam_ewm6h', 'mcp_dam_ewm8h', 'mcp_dam_ewm12h', 'mcp_dam_ewm24h', 'close_rolling_mean_1', 'close_rolling_max_1', 'close_rolling_min_1', 'close_rolling_mean_2', 'close_rolling_max_2', 'close_rolling_min_2', 'close_rolling_mean_3', 'close_rolling_max_3', 'close_rolling_min_3', 'close_rolling_mean_4', 'close_rolling_max_4', 'close_rolling_min_4', 'close_rolling_mean_5', 'close_rolling_max_5', 'close_rolling_min_5', 'close_rolling_mean_6', 'close_rolling_max_6', 'close_rolling_min_6', 'close_rolling_mean_7', 'close_rolling_max_7', 'close_rolling_min_7', 'close_rolling_mean_8', 'close_rolling_max_8', 'close_rolling_min_8', 'close_rolling_mean_9', 'close_rolling_max_9', 'close_rolling_min_9', 'close_rolling_mean_10', 'close_rolling_max_10', 'close_rolling_min_10', 'close_rolling_mean_11', 'close_rolling_max_11', 'close_rolling_min_11', 'close_rolling_mean_12', 'close_rolling_max_12', 'close_rolling_min_12', 'close_rolling_mean_13', 'close_rolling_max_13', 'close_rolling_min_13', 'close_rolling_mean_14', 'close_rolling_max_14', 'close_rolling_min_14', 'close_rolling_mean_15', 'close_rolling_max_15', 'close_rolling_min_15', 'close_rolling_mean_16', 'close_rolling_max_16', 'close_rolling_min_16', 'close_rolling_mean_17', 'close_rolling_max_17', 'close_rolling_min_17', 'close_rolling_mean_18', 'close_rolling_max_18', 'close_rolling_min_18', 'close_rolling_mean_19', 'close_rolling_max_19', 'close_rolling_min_19', 'close_rolling_mean_20', 'close_rolling_max_20', 'close_rolling_min_20', 'close_rolling_mean_21', 'close_rolling_max_21', 'close_rolling_min_21', 'close_rolling_mean_22', 'close_rolling_max_22', 'close_rolling_min_22', 'close_rolling_mean_23', 'close_rolling_max_23', 'close_rolling_min_23', 'close_rolling_mean_24', 'close_rolling_max_24', 'close_rolling_min_24', 'close_rolling_mean_25', 'close_rolling_max_25', 'close_rolling_min_25', 'close_rolling_mean_26', 'close_rolling_max_26', 'close_rolling_min_26', 'close_rolling_mean_27', 'close_rolling_max_27', 'close_rolling_min_27', 'close_rolling_mean_28', 'close_rolling_max_28', 'close_rolling_min_28', 'close_rolling_mean_29', 'close_rolling_max_29', 'close_rolling_min_29', 'ramp1', 'ramp2', 'ramp3', 'ramp4', 'ramp_close']\n"
     ]
    }
   ],
   "source": [
    "print(X_train.columns.tolist())"
   ]
  },
  {
   "cell_type": "code",
   "execution_count": 104,
   "id": "28a79e35",
   "metadata": {},
   "outputs": [
    {
     "data": {
      "text/plain": [
       "130"
      ]
     },
     "execution_count": 104,
     "metadata": {},
     "output_type": "execute_result"
    }
   ],
   "source": [
    "len(X_train.columns)"
   ]
  },
  {
   "cell_type": "code",
   "execution_count": 105,
   "id": "d4068956",
   "metadata": {},
   "outputs": [],
   "source": [
    "# rescale the features\n",
    "#scaler = MinMaxScaler()\n",
    "scaler = StandardScaler()\n",
    "#scaler = RobustScaler()\n",
    "\n",
    "X_train_scaled = scaler.fit_transform(X_train)\n",
    "X_valid_scaled = scaler.transform(X_valid) # Transform to Validation data as well\n",
    "X_test_scaled = scaler.transform(X_test) # Transform to test data as well"
   ]
  },
  {
   "cell_type": "code",
   "execution_count": 106,
   "id": "a22ad429",
   "metadata": {},
   "outputs": [
    {
     "name": "stdout",
     "output_type": "stream",
     "text": [
      "Train = (4234, 130) (4234, 1)\n",
      "Train = (281, 130) (281, 1)\n",
      "Test = (147, 130) (147, 1)\n"
     ]
    }
   ],
   "source": [
    "print('Train =', X_train_scaled.shape, y_train.shape)\n",
    "print('Train =', X_valid_scaled.shape, y_valid.shape)\n",
    "print('Test =', X_test_scaled.shape, y_test.shape)"
   ]
  },
  {
   "cell_type": "code",
   "execution_count": 107,
   "id": "28f68a74",
   "metadata": {},
   "outputs": [
    {
     "data": {
      "text/plain": [
       "Index(['close', 'hour', 'dom', 'month', 'dow', 'doy', 'woy', 'week_number',\n",
       "       'friday', 'covid',\n",
       "       ...\n",
       "       'close_rolling_max_28', 'close_rolling_min_28', 'close_rolling_mean_29',\n",
       "       'close_rolling_max_29', 'close_rolling_min_29', 'ramp1', 'ramp2',\n",
       "       'ramp3', 'ramp4', 'ramp_close'],\n",
       "      dtype='object', length=130)"
      ]
     },
     "execution_count": 107,
     "metadata": {},
     "output_type": "execute_result"
    }
   ],
   "source": [
    "X_train.columns"
   ]
  },
  {
   "cell_type": "code",
   "execution_count": 108,
   "id": "fd59f94c",
   "metadata": {},
   "outputs": [],
   "source": [
    "from sklearn.linear_model import LinearRegression\n",
    "from sklearn.metrics import mean_squared_error, r2_score\n",
    "\n",
    "reg_model = LinearRegression(n_jobs=-1)\n",
    "reg_model.fit(X_train_scaled, y_train)\n",
    "\n",
    "# Make predictions using the testing set\n",
    "y_train_pred = reg_model.predict(X_train_scaled)\n",
    "X_valid_pred = reg_model.predict(X_valid_scaled)\n",
    "y_test_pred = reg_model.predict(X_test_scaled)\n"
   ]
  },
  {
   "cell_type": "code",
   "execution_count": 109,
   "id": "c08de3de",
   "metadata": {},
   "outputs": [],
   "source": [
    "# Making predictions with the tuned model\n",
    "pred_train = reg_model.predict(X_train_scaled)\n",
    "pred_valid = reg_model.predict(X_valid_scaled)\n",
    "pred_test = reg_model.predict(X_test_scaled)"
   ]
  },
  {
   "cell_type": "code",
   "execution_count": 110,
   "id": "0361f7ea",
   "metadata": {},
   "outputs": [
    {
     "name": "stdout",
     "output_type": "stream",
     "text": [
      "Train MSE: 173648.097089406\n",
      "Train RMSE: 416.71104747703293\n",
      "valid MSE: 155251.9596810196\n",
      "valid RMSE: 394.02025288177714\n",
      "Test MSE: 295619.60545126244\n",
      "Test RMSE: 543.7091184183529\n"
     ]
    }
   ],
   "source": [
    "# Evaluate model accuracy \n",
    "from sklearn.metrics import mean_squared_error\n",
    "print(f\"Train MSE: {mean_squared_error(y_train['target'],pred_train)}\")\n",
    "print(f\"Train RMSE: {np.sqrt(mean_squared_error(y_train['target'],pred_train))}\")\n",
    "print(f\"valid MSE: {mean_squared_error(y_valid['target'],pred_valid)}\")\n",
    "print(f\"valid RMSE: {np.sqrt(mean_squared_error(y_valid['target'],pred_valid))}\")\n",
    "print(f\"Test MSE: {mean_squared_error(y_test['target'],pred_test)}\")\n",
    "print(f\"Test RMSE: {np.sqrt(mean_squared_error(y_test['target'],pred_test))}\")"
   ]
  },
  {
   "cell_type": "code",
   "execution_count": 111,
   "id": "6d90ab4e",
   "metadata": {},
   "outputs": [
    {
     "data": {
      "text/html": [
       "<div>\n",
       "<style scoped>\n",
       "    .dataframe tbody tr th:only-of-type {\n",
       "        vertical-align: middle;\n",
       "    }\n",
       "\n",
       "    .dataframe tbody tr th {\n",
       "        vertical-align: top;\n",
       "    }\n",
       "\n",
       "    .dataframe thead th {\n",
       "        text-align: right;\n",
       "    }\n",
       "</style>\n",
       "<table border=\"1\" class=\"dataframe\">\n",
       "  <thead>\n",
       "    <tr style=\"text-align: right;\">\n",
       "      <th></th>\n",
       "      <th>datetime</th>\n",
       "      <th>target</th>\n",
       "      <th>prediction_xgb_BANKNIFTY</th>\n",
       "      <th>prediction_LR_BANKNIFTY</th>\n",
       "    </tr>\n",
       "  </thead>\n",
       "  <tbody>\n",
       "    <tr>\n",
       "      <th>4652</th>\n",
       "      <td>2024-01-31 13:15:00</td>\n",
       "      <td>46123.65</td>\n",
       "      <td>45708.925781</td>\n",
       "      <td>46003.313828</td>\n",
       "    </tr>\n",
       "    <tr>\n",
       "      <th>4653</th>\n",
       "      <td>2024-01-31 14:15:00</td>\n",
       "      <td>46146.35</td>\n",
       "      <td>45708.925781</td>\n",
       "      <td>46048.053316</td>\n",
       "    </tr>\n",
       "    <tr>\n",
       "      <th>4654</th>\n",
       "      <td>2024-01-31 15:15:00</td>\n",
       "      <td>46206.90</td>\n",
       "      <td>45708.925781</td>\n",
       "      <td>46077.063251</td>\n",
       "    </tr>\n",
       "    <tr>\n",
       "      <th>4655</th>\n",
       "      <td>2024-02-01 09:15:00</td>\n",
       "      <td>46612.00</td>\n",
       "      <td>45708.925781</td>\n",
       "      <td>45892.969647</td>\n",
       "    </tr>\n",
       "    <tr>\n",
       "      <th>4656</th>\n",
       "      <td>2024-02-01 10:15:00</td>\n",
       "      <td>46583.00</td>\n",
       "      <td>45708.925781</td>\n",
       "      <td>46019.985744</td>\n",
       "    </tr>\n",
       "    <tr>\n",
       "      <th>4657</th>\n",
       "      <td>2024-02-01 11:15:00</td>\n",
       "      <td>46744.50</td>\n",
       "      <td>45708.925781</td>\n",
       "      <td>46021.172533</td>\n",
       "    </tr>\n",
       "    <tr>\n",
       "      <th>4658</th>\n",
       "      <td>2024-02-01 12:15:00</td>\n",
       "      <td>46254.70</td>\n",
       "      <td>45708.925781</td>\n",
       "      <td>46036.509319</td>\n",
       "    </tr>\n",
       "    <tr>\n",
       "      <th>4659</th>\n",
       "      <td>2024-02-01 13:15:00</td>\n",
       "      <td>46307.85</td>\n",
       "      <td>45708.925781</td>\n",
       "      <td>46029.153633</td>\n",
       "    </tr>\n",
       "    <tr>\n",
       "      <th>4660</th>\n",
       "      <td>2024-02-01 14:15:00</td>\n",
       "      <td>45963.80</td>\n",
       "      <td>45708.925781</td>\n",
       "      <td>46034.219635</td>\n",
       "    </tr>\n",
       "    <tr>\n",
       "      <th>4661</th>\n",
       "      <td>2024-02-01 15:15:00</td>\n",
       "      <td>45954.65</td>\n",
       "      <td>45708.925781</td>\n",
       "      <td>46081.291417</td>\n",
       "    </tr>\n",
       "  </tbody>\n",
       "</table>\n",
       "</div>"
      ],
      "text/plain": [
       "                datetime    target  prediction_xgb_BANKNIFTY  \\\n",
       "4652 2024-01-31 13:15:00  46123.65              45708.925781   \n",
       "4653 2024-01-31 14:15:00  46146.35              45708.925781   \n",
       "4654 2024-01-31 15:15:00  46206.90              45708.925781   \n",
       "4655 2024-02-01 09:15:00  46612.00              45708.925781   \n",
       "4656 2024-02-01 10:15:00  46583.00              45708.925781   \n",
       "4657 2024-02-01 11:15:00  46744.50              45708.925781   \n",
       "4658 2024-02-01 12:15:00  46254.70              45708.925781   \n",
       "4659 2024-02-01 13:15:00  46307.85              45708.925781   \n",
       "4660 2024-02-01 14:15:00  45963.80              45708.925781   \n",
       "4661 2024-02-01 15:15:00  45954.65              45708.925781   \n",
       "\n",
       "      prediction_LR_BANKNIFTY  \n",
       "4652             46003.313828  \n",
       "4653             46048.053316  \n",
       "4654             46077.063251  \n",
       "4655             45892.969647  \n",
       "4656             46019.985744  \n",
       "4657             46021.172533  \n",
       "4658             46036.509319  \n",
       "4659             46029.153633  \n",
       "4660             46034.219635  \n",
       "4661             46081.291417  "
      ]
     },
     "execution_count": 111,
     "metadata": {},
     "output_type": "execute_result"
    }
   ],
   "source": [
    "#result = y[y['datetime'] > test_cutoff].copy()\n",
    "result[f'prediction_LR_{stock}'] = pred_test\n",
    "result.tail(10)"
   ]
  },
  {
   "cell_type": "code",
   "execution_count": 112,
   "id": "208f901a",
   "metadata": {},
   "outputs": [],
   "source": [
    "if plot_show_or_not == True:\n",
    "    \n",
    "    result_train = y[(y['datetime'] <= validation_cutoff)].copy()\n",
    "    result_train[f'prediction_LR_{stock}'] = pred_train\n",
    "    plt.figure(figsize=(10,5))\n",
    "    result_train.set_index('datetime').plot()\n",
    "    plt.title(f\"Prediction for TRAIN DATA\")"
   ]
  },
  {
   "cell_type": "code",
   "execution_count": 113,
   "id": "1c845e89",
   "metadata": {},
   "outputs": [
    {
     "data": {
      "text/plain": [
       "Text(0.5, 1.0, 'Prediction for VALIDATION DATA')"
      ]
     },
     "execution_count": 113,
     "metadata": {},
     "output_type": "execute_result"
    },
    {
     "data": {
      "text/plain": [
       "<Figure size 1000x500 with 0 Axes>"
      ]
     },
     "metadata": {},
     "output_type": "display_data"
    },
    {
     "data": {
      "image/png": "[encoded data removed]",
      "text/plain": [
       "<Figure size 1500x500 with 1 Axes>"
      ]
     },
     "metadata": {},
     "output_type": "display_data"
    }
   ],
   "source": [
    "result_valid = y[(y['datetime'] > validation_cutoff) & (y['datetime'] <= test_cutoff)].copy()\n",
    "result_valid[f'prediction_LR_{stock}'] = pred_valid\n",
    "plt.figure(figsize=(10,5))\n",
    "result_valid.set_index('datetime').plot()\n",
    "plt.title(f\"Prediction for VALIDATION DATA\")"
   ]
  },
  {
   "cell_type": "code",
   "execution_count": 114,
   "id": "64c23212",
   "metadata": {},
   "outputs": [
    {
     "data": {
      "text/plain": [
       "Text(0.5, 1.0, 'Prediction for TEST')"
      ]
     },
     "execution_count": 114,
     "metadata": {},
     "output_type": "execute_result"
    },
    {
     "data": {
      "image/png": "[encoded data removed]",
      "text/plain": [
       "<Figure size 1500x500 with 1 Axes>"
      ]
     },
     "metadata": {},
     "output_type": "display_data"
    }
   ],
   "source": [
    "mask = (result.datetime > test_cutoff)\n",
    "result.loc[mask,:].set_index('datetime')\n",
    "result.loc[mask,:].set_index('datetime').plot()\n",
    "plt.title(\"Prediction for TEST\")"
   ]
  },
  {
   "cell_type": "code",
   "execution_count": 115,
   "id": "42ee2a6e",
   "metadata": {
    "scrolled": false
   },
   "outputs": [
    {
     "name": "stdout",
     "output_type": "stream",
     "text": [
      "Forcast for: 2024-02-05\n",
      "Basically for today's prediction, Datetime will be yesterday's only as per logic As we have shifted target by 1, so for Date 15th prediction Datetime will show 14th\n"
     ]
    },
    {
     "data": {
      "text/html": [
       "<div>\n",
       "<style scoped>\n",
       "    .dataframe tbody tr th:only-of-type {\n",
       "        vertical-align: middle;\n",
       "    }\n",
       "\n",
       "    .dataframe tbody tr th {\n",
       "        vertical-align: top;\n",
       "    }\n",
       "\n",
       "    .dataframe thead th {\n",
       "        text-align: right;\n",
       "    }\n",
       "</style>\n",
       "<table border=\"1\" class=\"dataframe\">\n",
       "  <thead>\n",
       "    <tr style=\"text-align: right;\">\n",
       "      <th></th>\n",
       "      <th>target</th>\n",
       "      <th>prediction_xgb_BANKNIFTY</th>\n",
       "      <th>prediction_LR_BANKNIFTY</th>\n",
       "    </tr>\n",
       "    <tr>\n",
       "      <th>datetime</th>\n",
       "      <th></th>\n",
       "      <th></th>\n",
       "      <th></th>\n",
       "    </tr>\n",
       "  </thead>\n",
       "  <tbody>\n",
       "  </tbody>\n",
       "</table>\n",
       "</div>"
      ],
      "text/plain": [
       "Empty DataFrame\n",
       "Columns: [target, prediction_xgb_BANKNIFTY, prediction_LR_BANKNIFTY]\n",
       "Index: []"
      ]
     },
     "execution_count": 115,
     "metadata": {},
     "output_type": "execute_result"
    },
    {
     "data": {
      "image/png": "[encoded data removed]",
      "text/plain": [
       "<Figure size 1500x500 with 1 Axes>"
      ]
     },
     "metadata": {},
     "output_type": "display_data"
    }
   ],
   "source": [
    "print(f\"Forcast for: {next_working_day}\")\n",
    "print(\"Basically for today's prediction, Datetime will be yesterday's only as per logic As we have shifted target by 1, so for Date 15th prediction Datetime will show 14th\")\n",
    "\n",
    "mask = (result.datetime > np.datetime64(data_df_last_day))\n",
    "#mask = (result.datetime >= end_date)\n",
    "\n",
    "result.loc[mask,:].set_index('datetime').plot()\n",
    "plt.title(\"Prediction for Today\")\n",
    "\n",
    "final_prediction_df = result.loc[mask,:].set_index('datetime').copy()\n",
    "final_prediction_df"
   ]
  },
  {
   "cell_type": "markdown",
   "id": "f8dd5a55",
   "metadata": {},
   "source": [
    "## Feature Importance checking"
   ]
  },
  {
   "cell_type": "code",
   "execution_count": 116,
   "id": "401cdb73",
   "metadata": {},
   "outputs": [
    {
     "data": {
      "image/png": "[encoded data removed]",
      "text/plain": [
       "<Figure size 1500x500 with 1 Axes>"
      ]
     },
     "metadata": {},
     "output_type": "display_data"
    }
   ],
   "source": [
    "feature_importance(X_train.columns, reg_model.coef_[0])"
   ]
  },
  {
   "cell_type": "markdown",
   "id": "b40b4e28",
   "metadata": {},
   "source": [
    "## Final Model saving"
   ]
  },
  {
   "cell_type": "code",
   "execution_count": 117,
   "id": "36ed9f07",
   "metadata": {},
   "outputs": [],
   "source": [
    "# Saving the final scaler model\n",
    "model_name = f\"{stock}_scaler_LR\"\n",
    "pickle.dump(scaler, open(f'03_Saved_Model/{model_name}.pkl', 'wb'))"
   ]
  },
  {
   "cell_type": "code",
   "execution_count": 118,
   "id": "464e48bc",
   "metadata": {},
   "outputs": [],
   "source": [
    "# Saving the final model\n",
    "model_name = f\"{stock}_LR\"\n",
    "pickle.dump(reg_model, open(f'03_Saved_Model/{model_name}.pkl', 'wb'))"
   ]
  },
  {
   "cell_type": "code",
   "execution_count": 119,
   "id": "1c7c9474",
   "metadata": {},
   "outputs": [
    {
     "data": {
      "text/html": [
       "<div>\n",
       "<style scoped>\n",
       "    .dataframe tbody tr th:only-of-type {\n",
       "        vertical-align: middle;\n",
       "    }\n",
       "\n",
       "    .dataframe tbody tr th {\n",
       "        vertical-align: top;\n",
       "    }\n",
       "\n",
       "    .dataframe thead th {\n",
       "        text-align: right;\n",
       "    }\n",
       "</style>\n",
       "<table border=\"1\" class=\"dataframe\">\n",
       "  <thead>\n",
       "    <tr style=\"text-align: right;\">\n",
       "      <th></th>\n",
       "      <th>Stock</th>\n",
       "      <th>target</th>\n",
       "      <th>prediction_xgb_BANKNIFTY</th>\n",
       "      <th>prediction_LR_BANKNIFTY</th>\n",
       "    </tr>\n",
       "    <tr>\n",
       "      <th>datetime</th>\n",
       "      <th></th>\n",
       "      <th></th>\n",
       "      <th></th>\n",
       "      <th></th>\n",
       "    </tr>\n",
       "  </thead>\n",
       "  <tbody>\n",
       "  </tbody>\n",
       "</table>\n",
       "</div>"
      ],
      "text/plain": [
       "Empty DataFrame\n",
       "Columns: [Stock, target, prediction_xgb_BANKNIFTY, prediction_LR_BANKNIFTY]\n",
       "Index: []"
      ]
     },
     "execution_count": 119,
     "metadata": {},
     "output_type": "execute_result"
    }
   ],
   "source": [
    "# Checking Current day Prediction of stock along with name\n",
    "# Keep it mind that this is not final prediction for next day\n",
    "\n",
    "final_prediction_df.insert(0,'Stock', stock)  # This is code to add column at specific location\n",
    "final_prediction_df"
   ]
  },
  {
   "cell_type": "markdown",
   "id": "8a397c27",
   "metadata": {},
   "source": [
    "# ********Final Prediction (Linear Regression)********"
   ]
  },
  {
   "cell_type": "code",
   "execution_count": 120,
   "id": "2d3c9e19",
   "metadata": {},
   "outputs": [
    {
     "name": "stdout",
     "output_type": "stream",
     "text": [
      "130\n"
     ]
    }
   ],
   "source": [
    "tobe_used_features = get_final_features(next_day_df_prediction)\n",
    "tobe_used_features.remove('datetime') # Remove DateTime as well as we dont need it\n",
    "print(len(tobe_used_features))"
   ]
  },
  {
   "cell_type": "code",
   "execution_count": 121,
   "id": "cd286d95",
   "metadata": {
    "scrolled": true
   },
   "outputs": [
    {
     "data": {
      "text/html": [
       "<div>\n",
       "<style scoped>\n",
       "    .dataframe tbody tr th:only-of-type {\n",
       "        vertical-align: middle;\n",
       "    }\n",
       "\n",
       "    .dataframe tbody tr th {\n",
       "        vertical-align: top;\n",
       "    }\n",
       "\n",
       "    .dataframe thead th {\n",
       "        text-align: right;\n",
       "    }\n",
       "</style>\n",
       "<table border=\"1\" class=\"dataframe\">\n",
       "  <thead>\n",
       "    <tr style=\"text-align: right;\">\n",
       "      <th></th>\n",
       "      <th>prediction_xgb_BANKNIFTY</th>\n",
       "      <th>prediction_LR_BANKNIFTY</th>\n",
       "    </tr>\n",
       "    <tr>\n",
       "      <th>datetime</th>\n",
       "      <th></th>\n",
       "      <th></th>\n",
       "    </tr>\n",
       "  </thead>\n",
       "  <tbody>\n",
       "    <tr>\n",
       "      <th>2024-02-05 09:15:00</th>\n",
       "      <td>45708.925781</td>\n",
       "      <td>46619.395343</td>\n",
       "    </tr>\n",
       "    <tr>\n",
       "      <th>2024-02-05 10:15:00</th>\n",
       "      <td>45609.996094</td>\n",
       "      <td>46567.811042</td>\n",
       "    </tr>\n",
       "    <tr>\n",
       "      <th>2024-02-05 11:15:00</th>\n",
       "      <td>45609.996094</td>\n",
       "      <td>46770.830561</td>\n",
       "    </tr>\n",
       "    <tr>\n",
       "      <th>2024-02-05 12:15:00</th>\n",
       "      <td>45609.996094</td>\n",
       "      <td>46254.034468</td>\n",
       "    </tr>\n",
       "    <tr>\n",
       "      <th>2024-02-05 13:15:00</th>\n",
       "      <td>45546.113281</td>\n",
       "      <td>46230.367223</td>\n",
       "    </tr>\n",
       "    <tr>\n",
       "      <th>2024-02-05 14:15:00</th>\n",
       "      <td>45546.113281</td>\n",
       "      <td>45908.560787</td>\n",
       "    </tr>\n",
       "    <tr>\n",
       "      <th>2024-02-05 15:15:00</th>\n",
       "      <td>45546.113281</td>\n",
       "      <td>45931.430891</td>\n",
       "    </tr>\n",
       "  </tbody>\n",
       "</table>\n",
       "</div>"
      ],
      "text/plain": [
       "                     prediction_xgb_BANKNIFTY  prediction_LR_BANKNIFTY\n",
       "datetime                                                              \n",
       "2024-02-05 09:15:00              45708.925781             46619.395343\n",
       "2024-02-05 10:15:00              45609.996094             46567.811042\n",
       "2024-02-05 11:15:00              45609.996094             46770.830561\n",
       "2024-02-05 12:15:00              45609.996094             46254.034468\n",
       "2024-02-05 13:15:00              45546.113281             46230.367223\n",
       "2024-02-05 14:15:00              45546.113281             45908.560787\n",
       "2024-02-05 15:15:00              45546.113281             45931.430891"
      ]
     },
     "execution_count": 121,
     "metadata": {},
     "output_type": "execute_result"
    }
   ],
   "source": [
    "next_day_df_prediction_LR = next_day_df_prediction[tobe_used_features]\n",
    "#print(next_day_df_prediction_LR.columns.tolist())\n",
    "\n",
    "next_day_df_prediction_LR_scaled = scaler.transform(next_day_df_prediction_LR) # Scaled the DF\n",
    "\n",
    "pred_day_ahead[f'prediction_LR_{stock}'] = reg_model.predict(next_day_df_prediction_LR_scaled)\n",
    "pred_day_ahead"
   ]
  },
  {
   "cell_type": "code",
   "execution_count": 122,
   "id": "f8bab2a2",
   "metadata": {},
   "outputs": [
    {
     "data": {
      "image/png": "[encoded data removed]",
      "text/plain": [
       "<Figure size 1500x500 with 1 Axes>"
      ]
     },
     "metadata": {},
     "output_type": "display_data"
    }
   ],
   "source": [
    "pred_day_ahead.plot()\n",
    "plt.title(f\"Final Prediction for {pred_day_ahead.index[0].date()}\")\n",
    "plt.show()"
   ]
  },
  {
   "cell_type": "code",
   "execution_count": 123,
   "id": "99a21908",
   "metadata": {},
   "outputs": [],
   "source": [
    "final_prediction_df_excel = pred_day_ahead.copy()"
   ]
  },
  {
   "cell_type": "code",
   "execution_count": 124,
   "id": "9a3a1573",
   "metadata": {},
   "outputs": [
    {
     "name": "stdout",
     "output_type": "stream",
     "text": [
      "2024-02-05 09:15:00 ### 2024-02-05 09:15:00\n",
      "Data Appended\n"
     ]
    }
   ],
   "source": [
    "import xlwings as xw\n",
    "\n",
    "df_date_check = final_prediction_df_excel.index[0]\n",
    "\n",
    "wb = xw.Book('AngelOne_Option.xlsx')\n",
    "exl_ML_prediction = wb.sheets['ML_prediction']\n",
    "\n",
    "\n",
    "a = exl_ML_prediction[11,2].value\n",
    "print(a, \"###\", final_prediction_df_excel.index[0])\n",
    "if a == final_prediction_df_excel.index[0]:  # we check if dates are already there and \n",
    "                                             # if they are for correct forecasrt day else delete them\n",
    "    print(\"Data Appended\")\n",
    "    for c in range(2,300):\n",
    "        check_blank = exl_ML_prediction[10,c].value\n",
    "        if check_blank is None:\n",
    "            exl_ML_prediction[10,c].options(pd.DataFrame, header=1, index=False, expand='table').value = final_prediction_df_excel\n",
    "            break          \n",
    "else:\n",
    "    print(\"Brand New Data\")\n",
    "    exl_ML_prediction.range(\"B10:HQ200\").clear_contents()\n",
    "    exl_ML_prediction[\"C11\"].options(pd.DataFrame, header=1, index=True, expand='table').value = final_prediction_df_excel\n",
    "    \n",
    "    "
   ]
  },
  {
   "cell_type": "code",
   "execution_count": 125,
   "id": "9431ef70",
   "metadata": {},
   "outputs": [
    {
     "name": "stdout",
     "output_type": "stream",
     "text": [
      "All done and push a little more for more accuracy\n"
     ]
    }
   ],
   "source": [
    "print(\"All done and push a little more for more accuracy\")"
   ]
  }
 ],
 "metadata": {
  "accelerator": "GPU",
  "colab": {
   "provenance": []
  },
  "gpuClass": "standard",
  "hide_input": false,
  "kernelspec": {
   "display_name": "Python 3 (ipykernel)",
   "language": "python",
   "name": "python3"
  },
  "language_info": {
   "codemirror_mode": {
    "name": "ipython",
    "version": 3
   },
   "file_extension": ".py",
   "mimetype": "text/x-python",
   "name": "python",
   "nbconvert_exporter": "python",
   "pygments_lexer": "ipython3",
   "version": "3.9.18"
  },
  "latex_envs": {
   "LaTeX_envs_menu_present": true,
   "autoclose": false,
   "autocomplete": true,
   "bibliofile": "biblio.bib",
   "cite_by": "apalike",
   "current_citInitial": 1,
   "eqLabelWithNumbers": true,
   "eqNumInitial": 1,
   "hotkeys": {
    "equation": "Ctrl-E",
    "itemize": "Ctrl-I"
   },
   "labels_anchors": false,
   "latex_user_defs": false,
   "report_style_numbering": false,
   "user_envs_cfg": false
  },
  "toc": {
   "base_numbering": 1,
   "nav_menu": {},
   "number_sections": true,
   "sideBar": true,
   "skip_h1_title": false,
   "title_cell": "Table of Contents",
   "title_sidebar": "Contents",
   "toc_cell": false,
   "toc_position": {},
   "toc_section_display": true,
   "toc_window_display": false
  },
  "varInspector": {
   "cols": {
    "lenName": 16,
    "lenType": 16,
    "lenVar": 40
   },
   "kernels_config": {
    "python": {
     "delete_cmd_postfix": "",
     "delete_cmd_prefix": "del ",
     "library": "var_list.py",
     "varRefreshCmd": "print(var_dic_list())"
    },
    "r": {
     "delete_cmd_postfix": ") ",
     "delete_cmd_prefix": "rm(",
     "library": "var_list.r",
     "varRefreshCmd": "cat(var_dic_list()) "
    }
   },
   "types_to_exclude": [
    "module",
    "function",
    "builtin_function_or_method",
    "instance",
    "_Feature"
   ],
   "window_display": false
  }
 },
 "nbformat": 4,
 "nbformat_minor": 5
}
