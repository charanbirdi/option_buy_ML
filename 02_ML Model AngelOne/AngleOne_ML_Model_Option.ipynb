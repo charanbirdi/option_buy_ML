{
 "cells": [
  {
   "cell_type": "markdown",
   "id": "3b8a1650",
   "metadata": {
    "id": "e91807cc"
   },
   "source": [
    "# **Day-ahead Banknifty/Nifty Forecasting**\n",
    "\n",
    "#### Input - 15 mins candle data\n",
    "#### Output - Forcast of 1 day of 15 mins close price  \n",
    "\n",
    "\n",
    "## Now we use the following concept\n",
    "\n",
    "- First Download data as per Working Day time, if time is less than 3:30PM then we will download till yesterday only,\n",
    "  else we will download till today 3:30PM\n",
    "  Now as data is as per 3:30PM logic so we dont need to put here same logic, we can predict as per available data only.\n",
    "  \n",
    "- Second we will check next working day as per last entry in DATA dataframe (which is logical as per data available)\n",
    "\n",
    "- Third we will get prediction for next working day"
   ]
  },
  {
   "cell_type": "markdown",
   "id": "546d7911",
   "metadata": {},
   "source": [
    "Special Notes:\n",
    " - Don't open CSV file and change dateformat, it will change the format entirely and cause problem in code\n",
    " - Output of Model changed if we dont delete NaN values (I saw that when comparing jupyter file with normal python file matching)"
   ]
  },
  {
   "cell_type": "code",
   "execution_count": 126,
   "id": "f0c4978f",
   "metadata": {},
   "outputs": [],
   "source": [
    "plot_show_or_not = False # we dont want to plot inside then set False else True"
   ]
  },
  {
   "cell_type": "markdown",
   "id": "e30b8447",
   "metadata": {},
   "source": [
    "## Define stock for which ML model needs to be prepared"
   ]
  },
  {
   "cell_type": "code",
   "execution_count": 127,
   "id": "9ab909b0",
   "metadata": {},
   "outputs": [
    {
     "name": "stdout",
     "output_type": "stream",
     "text": [
      "NIFTY\n"
     ]
    }
   ],
   "source": [
    "# Get data from Python file--------------\n",
    "import json\n",
    "\n",
    "# Load the arguments\n",
    "with open('arguments.json', 'r') as fid:\n",
    "    arguments = json.load(fid)\n",
    "\n",
    "stock = arguments['ticker']\n",
    "stock = \"NIFTY\"\n",
    "\n",
    "print(stock)"
   ]
  },
  {
   "cell_type": "code",
   "execution_count": 128,
   "id": "d92ebf40",
   "metadata": {
    "id": "urwfAoocnRxc",
    "scrolled": false
   },
   "outputs": [],
   "source": [
    "from datetime import datetime, timedelta\n",
    "from pandas.tseries.offsets import DateOffset\n",
    "import math\n",
    "import pickle # Saving the final model\n",
    "import time\n",
    "import datetime as dt\n",
    "\n",
    "##############\n",
    "# Dependencies\n",
    "##############\n",
    "import json\n",
    "import requests\n",
    "import numpy as np\n",
    "import pandas as pd\n",
    "import os, time, math\n",
    "from datetime import *\n",
    "os.environ['TZ'] = 'Asia/Calcutta'\n",
    "from sqlalchemy import create_engine\n",
    "from scipy.signal import savgol_filter\n",
    "pd.options.mode.chained_assignment = None\n",
    "\n",
    "\n",
    "\n",
    "\n",
    "\n",
    "##################\n",
    "# Visualizations\n",
    "#################\n",
    "import seaborn as sns\n",
    "#import plotly.offline\n",
    "#import cufflinks as cf\n",
    "import matplotlib.pyplot as plt\n",
    "from matplotlib import rc, rcParams\n",
    "\n",
    "\n",
    "\n",
    "##################\n",
    "# Display Changes\n",
    "##################\n",
    "# cf.go_offline()\n",
    "%matplotlib inline\n",
    "rc('axes', linewidth=2)\n",
    "rc('font', weight='bold')\n",
    "sns.set_style('whitegrid')\n",
    "#pd.set_option('max_rows',2000)\n",
    "#pd.set_option('max_columns',255) \n",
    "rcParams['figure.figsize'] = 15,5\n",
    "#cf.set_config_file(offline=False, world_readable=True)\n",
    "\n",
    "\n",
    "##############\n",
    "# Modeling\n",
    "##############\n",
    "# import xgboost as xgb\n",
    "# from xgboost import plot_importance\n",
    "from sklearn import preprocessing, svm\n",
    "from sklearn.model_selection import TimeSeriesSplit\n",
    "from sklearn.preprocessing import StandardScaler, MinMaxScaler, LabelEncoder, RobustScaler\n",
    "from sklearn.linear_model import LinearRegression, LogisticRegression\n",
    "from sklearn.metrics import mean_squared_error\n",
    "\n",
    "import warnings\n",
    "warnings.filterwarnings(\"ignore\")\n",
    "warnings.filterwarnings(\"ignore\", category=UserWarning)\n",
    "warnings.filterwarnings(\"ignore\", category=FutureWarning)\n",
    "warnings.filterwarnings(\"ignore\", category=DeprecationWarning)"
   ]
  },
  {
   "cell_type": "code",
   "execution_count": 129,
   "id": "12ab0e97",
   "metadata": {},
   "outputs": [],
   "source": [
    "# ##################\n",
    "# # Display Changes\n",
    "# ##################\n",
    "# from matplotlib import rc, rcParams\n",
    "# pd.options.mode.chained_assignment = None\n",
    "# # cf.go_offline()\n",
    "# %matplotlib inline\n",
    "# rc('axes', linewidth=2)\n",
    "# #rc('font', weight='bold')\n",
    "\n",
    "# #pd.set_option('max_rows', 1000)\n",
    "# pd.set_option('display.max_rows', None)\n",
    "# pd.set_option('max_columns', 255)\n",
    "# # Useful line of code to set the display option so we could see all the columns in pd dataframe\n",
    "# #pd.set_option('display.max_columns', None)\n",
    "\n",
    "# #rcParams['figure.figsize'] = 8,3\n",
    "# # cf.set_config_file(offline=False, world_readable=True)\n",
    "\n",
    "# rc('xtick', labelsize=9) \n",
    "# rc('ytick', labelsize=9)\n",
    "# #rc('axes', linewidth=2)\n",
    "# rc('axes', titlesize=10)\n",
    "\n",
    "\n",
    "# # Matplot Theme setting\n",
    "# from matplotlib import cycler\n",
    "# colors = cycler('color',\n",
    "#                 ['#EE6666', '#3388BB', '#9988DD',\n",
    "#                  '#EECC55', '#88BB44', '#FFBBBB'])\n",
    "# rc('axes', facecolor='#E6E6E6', edgecolor='none', axisbelow=True, grid=True, prop_cycle=colors)\n",
    "# rc('grid', color='w', linestyle='solid')\n",
    "# rc('xtick', direction='out', color='black')\n",
    "# rc('ytick', direction='out', color='black')\n",
    "# rc('patch', edgecolor='#E6E6E6')\n",
    "# rc('lines', linewidth=1)"
   ]
  },
  {
   "cell_type": "code",
   "execution_count": 130,
   "id": "0cb5abe4",
   "metadata": {},
   "outputs": [],
   "source": [
    "# Seaborn\n",
    "rc = {\n",
    "    \"axes.facecolor\": \"#FAEEE9\",\n",
    "    \"figure.facecolor\": \"#FAEEE9\",\n",
    "    \"axes.edgecolor\": \"#000000\",\n",
    "    \"grid.color\": \"#EBEBE7\",\n",
    "    \"font.family\": \"calibri\",\n",
    "    \"axes.labelcolor\": \"#000000\",\n",
    "    \"xtick.color\": \"#000000\",\n",
    "    \"ytick.color\": \"#000000\",\n",
    "    \"grid.alpha\": 0.9\n",
    "}\n",
    "sns.set(rc=rc)\n",
    "sns.set_context(\"notebook\", font_scale=0.9, rc={\"lines.linewidth\": 1})\n",
    "\n",
    "\n",
    "#sns.set_style('whitegrid')"
   ]
  },
  {
   "cell_type": "code",
   "execution_count": 131,
   "id": "46afa321",
   "metadata": {},
   "outputs": [
    {
     "data": {
      "text/plain": [
       "datetime.datetime(2024, 2, 5, 8, 34, 59, 65368)"
      ]
     },
     "execution_count": 131,
     "metadata": {},
     "output_type": "execute_result"
    }
   ],
   "source": [
    "datetime.now()"
   ]
  },
  {
   "cell_type": "markdown",
   "id": "dbcf97d0",
   "metadata": {},
   "source": [
    "## Prevent plot from showing"
   ]
  },
  {
   "cell_type": "code",
   "execution_count": 132,
   "id": "47057028",
   "metadata": {},
   "outputs": [],
   "source": [
    "#plt.ioff()"
   ]
  },
  {
   "cell_type": "markdown",
   "id": "5f48ecf9",
   "metadata": {},
   "source": [
    "## Analysis"
   ]
  },
  {
   "cell_type": "code",
   "execution_count": 133,
   "id": "8bffb908",
   "metadata": {
    "id": "OGijpYdYvwfu"
   },
   "outputs": [],
   "source": [
    "# I have make the function for Doing quick basic analysis as per given DataFrame\n",
    "\n",
    "def analysis(df):\n",
    "    \n",
    "    print('#############################################################')\n",
    "    print(f'Shape of DF = {df.shape}\\n')\n",
    "    print('--------------------------------------------------')\n",
    "    print(f'First 5 rows are as following \\n {df.head()} \\n')\n",
    "    print('--------------------------------------------------')\n",
    "    print(f'Basic info as following \\n {df.info()} \\n')\n",
    "    print('--------------------------------------------------')\n",
    "  \n",
    "    if 'datetime' in df.columns:\n",
    "        print(f\"\\n We have data from {pd.to_datetime(df['datetime']).min()}\")\n",
    "        print(f\" We have data till {pd.to_datetime(df['datetime']).max()}\")\n",
    "    print('--------------------------------------------------')\n",
    "    print(f'\\n Basic description as following \\n')\n",
    "    print(df.describe())\n",
    "    print('--------------------------------------------------')\n",
    "    print(f'\\n Missing values are as following \\n')\n",
    "    print(df.isnull().sum())\n",
    "    print('##############################################################')"
   ]
  },
  {
   "cell_type": "code",
   "execution_count": 134,
   "id": "c5ed3eaf",
   "metadata": {
    "colab": {
     "base_uri": "https://localhost:8080/"
    },
    "id": "8XyGZVB-fcVS",
    "outputId": "9aa8864d-e9cb-4734-9705-6b9f428a1731"
   },
   "outputs": [],
   "source": [
    "# from google.colab import drive\n",
    "# drive.mount('/content/drive')\n",
    "# folder_path = '/content/drive/MyDrive/Climate_Connect/IEX/01_Data_Tuesday_Forecast'"
   ]
  },
  {
   "cell_type": "code",
   "execution_count": 135,
   "id": "5888ac74",
   "metadata": {
    "colab": {
     "base_uri": "https://localhost:8080/"
    },
    "id": "TvTI55sBwKt0",
    "outputId": "9efe3933-ff03-4810-a8ef-8a4aea3ad241",
    "scrolled": true
   },
   "outputs": [
    {
     "data": {
      "text/html": [
       "<div>\n",
       "<style scoped>\n",
       "    .dataframe tbody tr th:only-of-type {\n",
       "        vertical-align: middle;\n",
       "    }\n",
       "\n",
       "    .dataframe tbody tr th {\n",
       "        vertical-align: top;\n",
       "    }\n",
       "\n",
       "    .dataframe thead th {\n",
       "        text-align: right;\n",
       "    }\n",
       "</style>\n",
       "<table border=\"1\" class=\"dataframe\">\n",
       "  <thead>\n",
       "    <tr style=\"text-align: right;\">\n",
       "      <th></th>\n",
       "      <th>datetime</th>\n",
       "      <th>open</th>\n",
       "      <th>high</th>\n",
       "      <th>low</th>\n",
       "      <th>close</th>\n",
       "      <th>volume</th>\n",
       "      <th>date</th>\n",
       "    </tr>\n",
       "  </thead>\n",
       "  <tbody>\n",
       "    <tr>\n",
       "      <th>0</th>\n",
       "      <td>2021-01-01 09:15:00</td>\n",
       "      <td>13996.10</td>\n",
       "      <td>14033.85</td>\n",
       "      <td>13991.35</td>\n",
       "      <td>14025.25</td>\n",
       "      <td>0</td>\n",
       "      <td>NaN</td>\n",
       "    </tr>\n",
       "    <tr>\n",
       "      <th>1</th>\n",
       "      <td>2021-01-01 10:15:00</td>\n",
       "      <td>14024.60</td>\n",
       "      <td>14037.25</td>\n",
       "      <td>14017.60</td>\n",
       "      <td>14029.35</td>\n",
       "      <td>0</td>\n",
       "      <td>NaN</td>\n",
       "    </tr>\n",
       "    <tr>\n",
       "      <th>2</th>\n",
       "      <td>2021-01-01 11:15:00</td>\n",
       "      <td>14028.90</td>\n",
       "      <td>14034.25</td>\n",
       "      <td>14004.95</td>\n",
       "      <td>14023.05</td>\n",
       "      <td>0</td>\n",
       "      <td>NaN</td>\n",
       "    </tr>\n",
       "    <tr>\n",
       "      <th>3</th>\n",
       "      <td>2021-01-01 12:15:00</td>\n",
       "      <td>14022.70</td>\n",
       "      <td>14040.25</td>\n",
       "      <td>14015.95</td>\n",
       "      <td>14031.60</td>\n",
       "      <td>0</td>\n",
       "      <td>NaN</td>\n",
       "    </tr>\n",
       "    <tr>\n",
       "      <th>4</th>\n",
       "      <td>2021-01-01 13:15:00</td>\n",
       "      <td>14030.35</td>\n",
       "      <td>14043.45</td>\n",
       "      <td>14017.80</td>\n",
       "      <td>14043.45</td>\n",
       "      <td>0</td>\n",
       "      <td>NaN</td>\n",
       "    </tr>\n",
       "    <tr>\n",
       "      <th>5</th>\n",
       "      <td>2021-01-01 14:15:00</td>\n",
       "      <td>14042.50</td>\n",
       "      <td>14049.85</td>\n",
       "      <td>14013.75</td>\n",
       "      <td>14015.00</td>\n",
       "      <td>0</td>\n",
       "      <td>NaN</td>\n",
       "    </tr>\n",
       "    <tr>\n",
       "      <th>6</th>\n",
       "      <td>2021-01-01 15:15:00</td>\n",
       "      <td>14016.15</td>\n",
       "      <td>14028.80</td>\n",
       "      <td>14001.60</td>\n",
       "      <td>14018.50</td>\n",
       "      <td>0</td>\n",
       "      <td>NaN</td>\n",
       "    </tr>\n",
       "  </tbody>\n",
       "</table>\n",
       "</div>"
      ],
      "text/plain": [
       "              datetime      open      high       low     close  volume  date\n",
       "0  2021-01-01 09:15:00  13996.10  14033.85  13991.35  14025.25       0   NaN\n",
       "1  2021-01-01 10:15:00  14024.60  14037.25  14017.60  14029.35       0   NaN\n",
       "2  2021-01-01 11:15:00  14028.90  14034.25  14004.95  14023.05       0   NaN\n",
       "3  2021-01-01 12:15:00  14022.70  14040.25  14015.95  14031.60       0   NaN\n",
       "4  2021-01-01 13:15:00  14030.35  14043.45  14017.80  14043.45       0   NaN\n",
       "5  2021-01-01 14:15:00  14042.50  14049.85  14013.75  14015.00       0   NaN\n",
       "6  2021-01-01 15:15:00  14016.15  14028.80  14001.60  14018.50       0   NaN"
      ]
     },
     "execution_count": 135,
     "metadata": {},
     "output_type": "execute_result"
    }
   ],
   "source": [
    "# As its difficult to upload files again and again, so I change code to access drive files. \n",
    "\n",
    "#df = pd.read_parquet('./Data/historical_load_data.parquet')\n",
    "#df = pd.read_excel(f'{folder_path}/DAM_multivariate_data.xlsx')\n",
    "\n",
    "\n",
    "df = pd.read_csv(f'01_Data\\data_{stock}.csv')\n",
    "df.head(7)"
   ]
  },
  {
   "cell_type": "code",
   "execution_count": 136,
   "id": "4fd40514",
   "metadata": {},
   "outputs": [
    {
     "data": {
      "text/html": [
       "<div>\n",
       "<style scoped>\n",
       "    .dataframe tbody tr th:only-of-type {\n",
       "        vertical-align: middle;\n",
       "    }\n",
       "\n",
       "    .dataframe tbody tr th {\n",
       "        vertical-align: top;\n",
       "    }\n",
       "\n",
       "    .dataframe thead th {\n",
       "        text-align: right;\n",
       "    }\n",
       "</style>\n",
       "<table border=\"1\" class=\"dataframe\">\n",
       "  <thead>\n",
       "    <tr style=\"text-align: right;\">\n",
       "      <th></th>\n",
       "      <th>datetime</th>\n",
       "      <th>open</th>\n",
       "      <th>high</th>\n",
       "      <th>low</th>\n",
       "      <th>close</th>\n",
       "      <th>volume</th>\n",
       "      <th>date</th>\n",
       "    </tr>\n",
       "  </thead>\n",
       "  <tbody>\n",
       "    <tr>\n",
       "      <th>5334</th>\n",
       "      <td>2024-02-02 09:15:00</td>\n",
       "      <td>21812.75</td>\n",
       "      <td>21961.60</td>\n",
       "      <td>21812.00</td>\n",
       "      <td>21937.85</td>\n",
       "      <td>0</td>\n",
       "      <td>NaN</td>\n",
       "    </tr>\n",
       "    <tr>\n",
       "      <th>5335</th>\n",
       "      <td>2024-02-02 10:15:00</td>\n",
       "      <td>21937.65</td>\n",
       "      <td>22003.25</td>\n",
       "      <td>21915.95</td>\n",
       "      <td>21989.65</td>\n",
       "      <td>0</td>\n",
       "      <td>NaN</td>\n",
       "    </tr>\n",
       "    <tr>\n",
       "      <th>5336</th>\n",
       "      <td>2024-02-02 11:15:00</td>\n",
       "      <td>21986.85</td>\n",
       "      <td>22125.85</td>\n",
       "      <td>21986.85</td>\n",
       "      <td>22058.80</td>\n",
       "      <td>0</td>\n",
       "      <td>NaN</td>\n",
       "    </tr>\n",
       "    <tr>\n",
       "      <th>5337</th>\n",
       "      <td>2024-02-02 12:15:00</td>\n",
       "      <td>22058.55</td>\n",
       "      <td>22065.95</td>\n",
       "      <td>21841.10</td>\n",
       "      <td>21846.30</td>\n",
       "      <td>0</td>\n",
       "      <td>NaN</td>\n",
       "    </tr>\n",
       "    <tr>\n",
       "      <th>5338</th>\n",
       "      <td>2024-02-02 13:15:00</td>\n",
       "      <td>21845.15</td>\n",
       "      <td>21902.80</td>\n",
       "      <td>21805.95</td>\n",
       "      <td>21892.80</td>\n",
       "      <td>0</td>\n",
       "      <td>NaN</td>\n",
       "    </tr>\n",
       "    <tr>\n",
       "      <th>5339</th>\n",
       "      <td>2024-02-02 14:15:00</td>\n",
       "      <td>21893.55</td>\n",
       "      <td>21906.95</td>\n",
       "      <td>21826.40</td>\n",
       "      <td>21855.70</td>\n",
       "      <td>0</td>\n",
       "      <td>NaN</td>\n",
       "    </tr>\n",
       "    <tr>\n",
       "      <th>5340</th>\n",
       "      <td>2024-02-02 15:15:00</td>\n",
       "      <td>21855.15</td>\n",
       "      <td>21856.30</td>\n",
       "      <td>21837.85</td>\n",
       "      <td>21855.45</td>\n",
       "      <td>0</td>\n",
       "      <td>NaN</td>\n",
       "    </tr>\n",
       "  </tbody>\n",
       "</table>\n",
       "</div>"
      ],
      "text/plain": [
       "                 datetime      open      high       low     close  volume  \\\n",
       "5334  2024-02-02 09:15:00  21812.75  21961.60  21812.00  21937.85       0   \n",
       "5335  2024-02-02 10:15:00  21937.65  22003.25  21915.95  21989.65       0   \n",
       "5336  2024-02-02 11:15:00  21986.85  22125.85  21986.85  22058.80       0   \n",
       "5337  2024-02-02 12:15:00  22058.55  22065.95  21841.10  21846.30       0   \n",
       "5338  2024-02-02 13:15:00  21845.15  21902.80  21805.95  21892.80       0   \n",
       "5339  2024-02-02 14:15:00  21893.55  21906.95  21826.40  21855.70       0   \n",
       "5340  2024-02-02 15:15:00  21855.15  21856.30  21837.85  21855.45       0   \n",
       "\n",
       "      date  \n",
       "5334   NaN  \n",
       "5335   NaN  \n",
       "5336   NaN  \n",
       "5337   NaN  \n",
       "5338   NaN  \n",
       "5339   NaN  \n",
       "5340   NaN  "
      ]
     },
     "execution_count": 136,
     "metadata": {},
     "output_type": "execute_result"
    }
   ],
   "source": [
    "df.tail(7)"
   ]
  },
  {
   "cell_type": "markdown",
   "id": "feaf0242",
   "metadata": {},
   "source": [
    "### Only retain \"Close\" & \"Volume\""
   ]
  },
  {
   "cell_type": "code",
   "execution_count": 137,
   "id": "92cc28fd",
   "metadata": {},
   "outputs": [
    {
     "data": {
      "text/html": [
       "<div>\n",
       "<style scoped>\n",
       "    .dataframe tbody tr th:only-of-type {\n",
       "        vertical-align: middle;\n",
       "    }\n",
       "\n",
       "    .dataframe tbody tr th {\n",
       "        vertical-align: top;\n",
       "    }\n",
       "\n",
       "    .dataframe thead th {\n",
       "        text-align: right;\n",
       "    }\n",
       "</style>\n",
       "<table border=\"1\" class=\"dataframe\">\n",
       "  <thead>\n",
       "    <tr style=\"text-align: right;\">\n",
       "      <th></th>\n",
       "      <th>datetime</th>\n",
       "      <th>close</th>\n",
       "    </tr>\n",
       "  </thead>\n",
       "  <tbody>\n",
       "    <tr>\n",
       "      <th>0</th>\n",
       "      <td>2021-01-01 09:15:00</td>\n",
       "      <td>14025.25</td>\n",
       "    </tr>\n",
       "    <tr>\n",
       "      <th>1</th>\n",
       "      <td>2021-01-01 10:15:00</td>\n",
       "      <td>14029.35</td>\n",
       "    </tr>\n",
       "    <tr>\n",
       "      <th>2</th>\n",
       "      <td>2021-01-01 11:15:00</td>\n",
       "      <td>14023.05</td>\n",
       "    </tr>\n",
       "    <tr>\n",
       "      <th>3</th>\n",
       "      <td>2021-01-01 12:15:00</td>\n",
       "      <td>14031.60</td>\n",
       "    </tr>\n",
       "    <tr>\n",
       "      <th>4</th>\n",
       "      <td>2021-01-01 13:15:00</td>\n",
       "      <td>14043.45</td>\n",
       "    </tr>\n",
       "  </tbody>\n",
       "</table>\n",
       "</div>"
      ],
      "text/plain": [
       "              datetime     close\n",
       "0  2021-01-01 09:15:00  14025.25\n",
       "1  2021-01-01 10:15:00  14029.35\n",
       "2  2021-01-01 11:15:00  14023.05\n",
       "3  2021-01-01 12:15:00  14031.60\n",
       "4  2021-01-01 13:15:00  14043.45"
      ]
     },
     "execution_count": 137,
     "metadata": {},
     "output_type": "execute_result"
    }
   ],
   "source": [
    "drop_col = ['open', 'high', 'low', 'volume', 'date']\n",
    "df = df.drop(drop_col, axis=1)\n",
    "df.head()"
   ]
  },
  {
   "cell_type": "code",
   "execution_count": 138,
   "id": "ac6ba84e",
   "metadata": {
    "colab": {
     "base_uri": "https://localhost:8080/"
    },
    "id": "EycivwJKqUKI",
    "outputId": "1af2474d-027a-4605-cf92-748e6a327e8d"
   },
   "outputs": [
    {
     "name": "stdout",
     "output_type": "stream",
     "text": [
      "\n",
      " We have data from 2021-01-01 09:15:00\n",
      " We have data till 2024-02-02 15:15:00\n"
     ]
    }
   ],
   "source": [
    "max_year = pd.to_datetime(df['datetime']).max().year\n",
    "min_year = pd.to_datetime(df['datetime']).min().year\n",
    "\n",
    "\n",
    "print(f\"\\n We have data from {pd.to_datetime(df['datetime']).min()}\")\n",
    "print(f\" We have data till {pd.to_datetime(df['datetime']).max()}\")"
   ]
  },
  {
   "cell_type": "markdown",
   "id": "ac31e9e1",
   "metadata": {},
   "source": [
    "## Last day for which data is available-----"
   ]
  },
  {
   "cell_type": "code",
   "execution_count": 139,
   "id": "e343e346",
   "metadata": {},
   "outputs": [
    {
     "name": "stdout",
     "output_type": "stream",
     "text": [
      "<class 'pandas._libs.tslibs.timestamps.Timestamp'>\n",
      "2024-02-02\n"
     ]
    }
   ],
   "source": [
    "last_entry_df = pd.to_datetime(df['datetime']).max()\n",
    "print(type(last_entry_df))\n",
    "data_df_last_day = last_entry_df.date() # as its pandas.timestamp so we need to use date() instead of day()\n",
    "print(data_df_last_day) "
   ]
  },
  {
   "cell_type": "markdown",
   "id": "7d51d8cb",
   "metadata": {},
   "source": [
    "## Next working day as per Last day for which data is available-----"
   ]
  },
  {
   "cell_type": "code",
   "execution_count": 140,
   "id": "6e17aa6c",
   "metadata": {},
   "outputs": [
    {
     "name": "stdout",
     "output_type": "stream",
     "text": [
      "Check for 2024-02-02\n",
      "Next Working Day = 2024-02-05\n"
     ]
    }
   ],
   "source": [
    "'''\n",
    "# Now we use the following concept\n",
    "\n",
    "- First Download data as per Working Day time, if time is less than 3:30PM then we will download till yesterday only,\n",
    "  else we will download till today 3:30PM\n",
    "  Now as data is as per 3:30PM logic so we dont need to put here same logic, we can predict as per available data only.\n",
    "  \n",
    "- Second we will check next working day as per last entry in DATA dataframe (which is logical as per data available)\n",
    "\n",
    "- Third we will get prediction for next working day\n",
    "\n",
    "'''\n",
    "\n",
    "holiday_list = ['2023-11-27', '2023-12-25']\n",
    "def find_Next_working_day(test_date):\n",
    "    \n",
    "    test_date = test_date + timedelta(days=1)\n",
    "    if test_date.weekday() == 5:\n",
    "        add = 2\n",
    "    elif test_date.weekday() == 6:\n",
    "        add = 1\n",
    "    else :\n",
    "        add = 0\n",
    "\n",
    "    res = test_date + timedelta(days=add)\n",
    "    \n",
    "    while str(res) in holiday_list:\n",
    "        res = res + timedelta(days=1)\n",
    "        \n",
    "    if res.weekday() in [5, 6]:\n",
    "        res = find_Next_working_day(res) # Recursive call\n",
    "        \n",
    "    return res\n",
    "\n",
    "#find_Next_working_day(dt.date.today())\n",
    "print(f\"Check for {data_df_last_day}\")\n",
    "next_working_day = find_Next_working_day(data_df_last_day)\n",
    "print(f\"Next Working Day = {next_working_day}\")"
   ]
  },
  {
   "cell_type": "code",
   "execution_count": null,
   "id": "680f3fdb",
   "metadata": {},
   "outputs": [],
   "source": []
  },
  {
   "cell_type": "code",
   "execution_count": null,
   "id": "f89bf2d2",
   "metadata": {},
   "outputs": [],
   "source": []
  },
  {
   "cell_type": "code",
   "execution_count": 141,
   "id": "58f983a2",
   "metadata": {},
   "outputs": [],
   "source": [
    "#df.tz_convert('UTC')\n",
    "#d = pd.to_datetime(df['datetime'],format='%m-%d-%Y %H:%M:%S').min()\n",
    "#d.month"
   ]
  },
  {
   "cell_type": "code",
   "execution_count": 142,
   "id": "7beb1aa1",
   "metadata": {
    "id": "gVKuHoFhqqJh"
   },
   "outputs": [],
   "source": [
    "# DataType convertion\n",
    "\n",
    "df['datetime'] = pd.to_datetime(df['datetime'])\n",
    "df['date'] = df['datetime'].dt.date"
   ]
  },
  {
   "cell_type": "code",
   "execution_count": 143,
   "id": "74a1f95d",
   "metadata": {
    "colab": {
     "base_uri": "https://localhost:8080/"
    },
    "id": "6k_YvvWxqqMY",
    "outputId": "c0a1ca44-ca28-469d-db86-061d43d07b7e"
   },
   "outputs": [
    {
     "name": "stdout",
     "output_type": "stream",
     "text": [
      "Missing Value summary\n",
      "datetime    0\n",
      "close       0\n",
      "date        0\n",
      "dtype: int64 \n",
      "\n",
      "If there is any missing and duplicate values\n"
     ]
    },
    {
     "data": {
      "text/plain": [
       "2021-02-24    3\n",
       "2021-11-04    2\n",
       "2023-11-12    1\n",
       "2022-10-24    1\n",
       "Name: date, dtype: int64"
      ]
     },
     "execution_count": 143,
     "metadata": {},
     "output_type": "execute_result"
    }
   ],
   "source": [
    "# Missing Data checking\n",
    "\n",
    "df = df.sort_values('datetime').copy()\n",
    "print('Missing Value summary')\n",
    "print(f'{df.isnull().sum()} \\n')\n",
    "\n",
    "# Missing and Duplicate values checking\n",
    "print('If there is any missing and duplicate values')\n",
    "df.date.value_counts()[df.date.value_counts() != 7] # 7 As we have one hour data\n",
    "\n",
    "# %age missing values\n",
    "# df.isnull().sum()/df.shape[0]*100"
   ]
  },
  {
   "cell_type": "code",
   "execution_count": 144,
   "id": "7aa7c806",
   "metadata": {
    "id": "edC7YVeYqqUJ"
   },
   "outputs": [],
   "source": [
    "# Drop the Duplicated values\n",
    "df.drop_duplicates(['datetime'], keep='first', inplace=True)"
   ]
  },
  {
   "cell_type": "code",
   "execution_count": 145,
   "id": "1c85b188",
   "metadata": {
    "colab": {
     "base_uri": "https://localhost:8080/",
     "height": 369
    },
    "id": "-Z8LyEyVnyU6",
    "outputId": "34b95e8b-7989-43de-baf2-e57f8fdf3f34"
   },
   "outputs": [],
   "source": [
    "## Plot as per original data on daily basis\n",
    "def original_plot(df, feature):\n",
    "    #plt.figure(figsize=(12,5))\n",
    "    #df.set_index('datetime').resample('D')[feature].mean().plot()\n",
    "    df.set_index('datetime')[feature].plot()\n",
    "    plt.xlim([df.datetime.min(), df.datetime.max()])\n",
    "    plt.ylabel(feature)\n",
    "    plt.title(f\"{feature} Data on daily basis\")\n",
    "    plt.tight_layout()"
   ]
  },
  {
   "cell_type": "code",
   "execution_count": 146,
   "id": "2b2c80eb",
   "metadata": {
    "colab": {
     "base_uri": "https://localhost:8080/",
     "height": 369
    },
    "id": "cZsVyHBCBXTs",
    "outputId": "0c23301f-7e78-45bf-8dc7-ced099474ab7"
   },
   "outputs": [],
   "source": [
    "if plot_show_or_not == True:\n",
    "    original_plot(df, 'close')"
   ]
  },
  {
   "cell_type": "markdown",
   "id": "92f32f3b",
   "metadata": {
    "id": "6348fca3"
   },
   "source": [
    "### Holiday Data - Step not performed as holiday data is very less"
   ]
  },
  {
   "cell_type": "markdown",
   "id": "067f2525",
   "metadata": {
    "id": "U0K7qjoz6Qdp"
   },
   "source": [
    "## DataFrame Preperation"
   ]
  },
  {
   "cell_type": "code",
   "execution_count": 147,
   "id": "69538703",
   "metadata": {
    "colab": {
     "base_uri": "https://localhost:8080/"
    },
    "id": "T_PoVY9tDrHu",
    "outputId": "764c6116-a574-443a-baaf-f4c44192c0b1"
   },
   "outputs": [
    {
     "name": "stdout",
     "output_type": "stream",
     "text": [
      "2021-01-01\n",
      "2024-02-02\n",
      "2024-02-03\n"
     ]
    }
   ],
   "source": [
    "print(pd.to_datetime(df['datetime']).dt.date.min())\n",
    "print(pd.to_datetime(df['datetime']).dt.date.max())\n",
    "print(pd.to_datetime(df['datetime']).dt.date.max() + timedelta(days=1)) # today + 1 day(forecast date)"
   ]
  },
  {
   "cell_type": "code",
   "execution_count": 148,
   "id": "9e660d0e",
   "metadata": {
    "colab": {
     "base_uri": "https://localhost:8080/"
    },
    "id": "9Vu25ScZzPWc",
    "outputId": "e9714ff9-3767-4fbd-a2f2-50b0ef39119a",
    "scrolled": true
   },
   "outputs": [
    {
     "data": {
      "text/plain": [
       "'\\n# NO NEED to do as below due to the following:\\n - We have many muhuraat days\\n - We have holidays\\n \\n'"
      ]
     },
     "execution_count": 148,
     "metadata": {},
     "output_type": "execute_result"
    }
   ],
   "source": [
    "\"\"\"\n",
    "# NO NEED to do as below due to the following:\n",
    " - We have many muhuraat days\n",
    " - We have holidays\n",
    " \n",
    "\"\"\"\n",
    "\n",
    "\n",
    "# # Prepare FInal Daraframe to avoid any missing time block\n",
    "\n",
    "# #start_date = '2020-07-01'\n",
    "# #end_date = '2023-02-17' # today + 1 day(forecast date)\n",
    "\n",
    "# start_date = pd.to_datetime(df['datetime']).dt.date.min() # Data is available from \n",
    "# end_date = pd.to_datetime(df['datetime']).dt.date.max() + timedelta(days=1) # Data available till\n",
    "\n",
    "\n",
    "\n",
    "# z = pd.DataFrame(pd.date_range(start=start_date, end=end_date, freq='1H',closed='left'), columns=['datetime']) #inclusive in the newer version\n",
    "# df = pd.merge(z, df, on='datetime', how='left').copy()\n",
    "\n",
    "# df['date'] = df['datetime'].dt.date\n",
    "# # Make column for Time Block here \n",
    "# df['tb'] = df['datetime'].apply(lambda x : ((x.hour*60 + x.minute)//60+1))\n",
    "\n",
    "# print(df.shape)\n",
    "# print(df.tail())\n",
    "# print(f\"\\n Close data is missing for {df.close.isna().sum()} records\")"
   ]
  },
  {
   "cell_type": "code",
   "execution_count": 149,
   "id": "9dc4993e",
   "metadata": {
    "colab": {
     "base_uri": "https://localhost:8080/"
    },
    "id": "mYflOEC1zPZT",
    "outputId": "4dffceb5-a494-4a97-8ff6-42af34b1ed24"
   },
   "outputs": [
    {
     "data": {
      "text/plain": [
       "datetime    0.0\n",
       "close       0.0\n",
       "date        0.0\n",
       "dtype: float64"
      ]
     },
     "execution_count": 149,
     "metadata": {},
     "output_type": "execute_result"
    }
   ],
   "source": [
    "# %age missing values\n",
    "df.isnull().sum()/df.shape[0]*100"
   ]
  },
  {
   "cell_type": "code",
   "execution_count": 150,
   "id": "3acccfa0",
   "metadata": {},
   "outputs": [
    {
     "data": {
      "text/plain": [
       "Index(['datetime', 'close', 'date'], dtype='object')"
      ]
     },
     "execution_count": 150,
     "metadata": {},
     "output_type": "execute_result"
    }
   ],
   "source": [
    "df.columns"
   ]
  },
  {
   "cell_type": "code",
   "execution_count": 151,
   "id": "a2f3fbe6",
   "metadata": {
    "colab": {
     "base_uri": "https://localhost:8080/"
    },
    "id": "eg55vsNr5zuq",
    "outputId": "6fe9e058-c378-4bb7-b6d2-305a89592e90"
   },
   "outputs": [
    {
     "data": {
      "text/plain": [
       "datetime    0\n",
       "close       0\n",
       "date        0\n",
       "dtype: int64"
      ]
     },
     "execution_count": 151,
     "metadata": {},
     "output_type": "execute_result"
    }
   ],
   "source": [
    "'''\n",
    "Missing Values treatment\n",
    "'''\n",
    "\n",
    "## Interpolation Technique\n",
    "df['close'] = df['close'].interpolate()\n",
    "\n",
    "df.isnull().sum()"
   ]
  },
  {
   "cell_type": "code",
   "execution_count": 152,
   "id": "f622ed33",
   "metadata": {
    "colab": {
     "base_uri": "https://localhost:8080/"
    },
    "id": "v1hTGRxu1QVO",
    "outputId": "04b7269c-de76-4b27-ad3e-47e47a0a789e"
   },
   "outputs": [
    {
     "data": {
      "text/plain": [
       "datetime    0.0\n",
       "close       0.0\n",
       "date        0.0\n",
       "dtype: float64"
      ]
     },
     "execution_count": 152,
     "metadata": {},
     "output_type": "execute_result"
    }
   ],
   "source": [
    "# %age missing values\n",
    "df.isnull().sum()/df.shape[0]*100"
   ]
  },
  {
   "cell_type": "markdown",
   "id": "90cca3a9",
   "metadata": {
    "id": "431ab54d"
   },
   "source": [
    "## EDA"
   ]
  },
  {
   "cell_type": "code",
   "execution_count": 153,
   "id": "1c86a145",
   "metadata": {
    "colab": {
     "base_uri": "https://localhost:8080/",
     "height": 458
    },
    "id": "6R5glg_wj4Mc",
    "outputId": "af05a243-1436-4526-e6c8-115d4b170c7c"
   },
   "outputs": [],
   "source": [
    "if plot_show_or_not == True:\n",
    "    for x in [x for x in range(min_year, max_year+1)]:\n",
    "        df[df.datetime.dt.year==x].set_index('datetime').resample('D')['close'].mean().plot(label=x, figsize=(12,7))\n",
    "        plt.ylim([10, df.close.quantile(0.99)])\n",
    "        plt.legend(loc=\"lower left\")"
   ]
  },
  {
   "cell_type": "code",
   "execution_count": 154,
   "id": "eaa03b74",
   "metadata": {
    "colab": {
     "base_uri": "https://localhost:8080/",
     "height": 351
    },
    "id": "gZXOUDti8tbQ",
    "outputId": "ff742db8-2d52-43b7-e8c3-380fadb5dc9b"
   },
   "outputs": [],
   "source": [
    "# To check if mcp_dam is normally distributed or not\n",
    "import scipy.stats as stat\n",
    "import pylab\n",
    "\n",
    "if plot_show_or_not == True:\n",
    "    \n",
    "    plt.subplot(1,2,1)\n",
    "    sns.histplot(data=df,x='close', alpha=0.5, bins=20)\n",
    "\n",
    "    plt.subplot(1,2,2)\n",
    "    stat.probplot(df['close'],dist='norm',plot=pylab)\n",
    "    plt.show()"
   ]
  },
  {
   "cell_type": "markdown",
   "id": "9fea0431",
   "metadata": {
    "id": "eT32kkyA83ap"
   },
   "source": [
    "As curve is not following staright line, so close is not normally distributed."
   ]
  },
  {
   "cell_type": "code",
   "execution_count": 155,
   "id": "723d0be1",
   "metadata": {
    "colab": {
     "base_uri": "https://localhost:8080/",
     "height": 49
    },
    "id": "jgDrY0OvZZuX",
    "outputId": "f6307278-c6a4-4489-d18c-5e5522c60cb5"
   },
   "outputs": [
    {
     "data": {
      "text/html": [
       "<div>\n",
       "<style scoped>\n",
       "    .dataframe tbody tr th:only-of-type {\n",
       "        vertical-align: middle;\n",
       "    }\n",
       "\n",
       "    .dataframe tbody tr th {\n",
       "        vertical-align: top;\n",
       "    }\n",
       "\n",
       "    .dataframe thead th {\n",
       "        text-align: right;\n",
       "    }\n",
       "</style>\n",
       "<table border=\"1\" class=\"dataframe\">\n",
       "  <thead>\n",
       "    <tr style=\"text-align: right;\">\n",
       "      <th></th>\n",
       "      <th>datetime</th>\n",
       "      <th>close</th>\n",
       "      <th>date</th>\n",
       "    </tr>\n",
       "  </thead>\n",
       "  <tbody>\n",
       "  </tbody>\n",
       "</table>\n",
       "</div>"
      ],
      "text/plain": [
       "Empty DataFrame\n",
       "Columns: [datetime, close, date]\n",
       "Index: []"
      ]
     },
     "execution_count": 155,
     "metadata": {},
     "output_type": "execute_result"
    }
   ],
   "source": [
    "## Checking zero or -ve mcp_dam values\n",
    "df.loc[df['close']<=0, :]"
   ]
  },
  {
   "cell_type": "markdown",
   "id": "4bd40c34",
   "metadata": {
    "id": "uI7Y-MBKZaGi"
   },
   "source": [
    "So we have few zero values, we need to replace all with NaN and later will interpolate to get values"
   ]
  },
  {
   "cell_type": "code",
   "execution_count": 156,
   "id": "daa6a676",
   "metadata": {
    "colab": {
     "base_uri": "https://localhost:8080/"
    },
    "id": "gNSBX2qiZqLY",
    "outputId": "838f6fca-96e6-448e-febf-ea78362e32c5"
   },
   "outputs": [
    {
     "data": {
      "text/plain": [
       "datetime    0\n",
       "close       0\n",
       "date        0\n",
       "dtype: int64"
      ]
     },
     "execution_count": 156,
     "metadata": {},
     "output_type": "execute_result"
    }
   ],
   "source": [
    "df.loc[df['close']==0, 'close'] = np.nan\n",
    "## Interpolation Technique\n",
    "df['close'] = df['close'].interpolate()\n",
    "df.isnull().sum()"
   ]
  },
  {
   "cell_type": "markdown",
   "id": "6fc2d223",
   "metadata": {
    "id": "XVEW85hnFSql"
   },
   "source": [
    "## Feature Engineering"
   ]
  },
  {
   "cell_type": "code",
   "execution_count": 157,
   "id": "801b98b5",
   "metadata": {
    "id": "0my3BULL8teB"
   },
   "outputs": [],
   "source": [
    "def gen_datetime_features(data):\n",
    "    \n",
    "    try:\n",
    "        #Adding time based features\n",
    "        print('Adding time based features...')\n",
    "        data['date'] = data.datetime.dt.date   \n",
    "        data['hour'] = data.datetime.dt.hour + 1      # Categorical 24\n",
    "        data['dom' ] = data.datetime.dt.day       # Categorical 30/31    \n",
    "        data['month'] = data.datetime.dt.month        # Categorical 12\n",
    "        data['year']=data.datetime.dt.year            # Categorical 12\n",
    "        data['dow'] = data.datetime.dt.dayofweek      # Categorical 7\n",
    "        data['doy'] = data.datetime.dt.dayofyear      # Categorical 365/366\n",
    "        data['woy'] = data.datetime.dt.week # Categorical 52\n",
    "    \n",
    "        data['week_number'] = data['datetime'].apply(lambda time: time.strftime(\"%V\"))\n",
    "        # Above is Object DataType, so change to int\n",
    "        data['week_number'] = data['week_number'].astype('int')\n",
    "    \n",
    "        # Friday\n",
    "        data.loc[data.dow == 4, 'friday'] = 1\n",
    "        data.loc[data.dow != 4, 'friday'] = 0   \n",
    "    \n",
    "    \n",
    "        # Covid\n",
    "        data.loc[data.year.isin([2020,2021,2022]),'covid'] = 1\n",
    "        data['covid'] = data['covid'].replace(np.nan, 0)\n",
    "        # Covid 1st wave\n",
    "        data.loc[(data.year==2020)&(data.month.isin([3,4,5,6,7,8,9])),'covid_first_wave'] = 1\n",
    "        data['covid_first_wave'] = data['covid_first_wave'].replace(np.nan, 0)\n",
    "        # Covid 2nd wave\n",
    "        data.loc[(data.year==2021)&(data.month.isin([3,4,5,6])),'covid_second_wave'] = 1\n",
    "        data['covid_second_wave'] = data['covid_second_wave'].replace(np.nan, 0)\n",
    "\n",
    "        print(data.columns)\n",
    "        return data\n",
    "    except Exception as e:\n",
    "        print(\"Error in adding time based features\")\n",
    "\n",
    "\n",
    "\n",
    "# Creating Cyclic Time Indicators\n",
    "\n",
    "def cyclic(data,feature):\n",
    "    import math\n",
    "    data['norm'] = 2 * math.pi * data[f\"{feature}\"] / data[f\"{feature}\"].max()\n",
    "    data[f\"cos_{feature}\"] = np.cos(data[\"norm\"])\n",
    "    data[f\"sin_{feature}\"] = np.sin(data[\"norm\"])\n",
    "    data.drop('norm',1,inplace=True)\n",
    "    return data\n",
    "\n",
    "\n",
    "def gen_cyclic_features(data):\n",
    "    \n",
    "    try:\n",
    "        print('Adding Cyclic Time Indicators........')\n",
    "        data = cyclic(data,'hour')\n",
    "        data = cyclic(data,'dow')\n",
    "        data = cyclic(data,'doy')\n",
    "        return data\n",
    "    except Exception as e:\n",
    "        print(\"Error in adding Cyclic Time Indicators\")\n",
    "\n",
    "\n",
    "\n",
    "\n",
    "\n",
    "def gen_lag_features(data):\n",
    "    try:\n",
    "        # Encoding TS variables\n",
    "        print('Adding TB Lag features...')\n",
    "        variable_used = 'close'\n",
    "\n",
    "\n",
    "        # As we have large data, so better we should drop NaN values\n",
    "        data['lag1h'] = data[variable_used].shift(1*4)\n",
    "        data['lag2h'] = data[variable_used].shift(2*4)\n",
    "        data['lag4h'] = data[variable_used].shift(4*4)\n",
    "        data['lag6h'] = data[variable_used].shift(6*4)\n",
    "        data['lag12h'] = data[variable_used].shift(12*4)\n",
    "        data['lag1d'] = data[variable_used].shift(24*4)\n",
    "        data['lag2d'] = data[variable_used].shift(2*24*4)\n",
    "        data['lag3d'] = data[variable_used].shift(3*24*4)\n",
    "        data['lag4d'] = data[variable_used].shift(4*24*4)\n",
    "        data['lag5d'] = data[variable_used].shift(5*24*4)\n",
    "        data['lag6d'] = data[variable_used].shift(6*24*4)\n",
    "        data['lag7d'] = data[variable_used].shift(7*24*4)\n",
    "    \n",
    "\n",
    "\n",
    "    # Exponential Moving Averages\n",
    "        data['mcp_dam_ewm1h'] = data[variable_used].ewm(span = 1*4).mean()\n",
    "        data['mcp_dam_ewm2h'] = data[variable_used].ewm(span = 2*4).mean()\n",
    "        data['mcp_dam_ewm3h'] = data[variable_used].ewm(span = 3*4).mean()\n",
    "        data['mcp_dam_ewm4h'] = data[variable_used].ewm(span = 4*4).mean()\n",
    "        data['mcp_dam_ewm6h'] = data[variable_used].ewm(span = 6*4).mean()\n",
    "        data['mcp_dam_ewm8h'] = data[variable_used].ewm(span = 8*4).mean()\n",
    "        data['mcp_dam_ewm12h'] = data[variable_used].ewm(span = 12*4).mean()\n",
    "        data['mcp_dam_ewm24h'] = data[variable_used].ewm(span = 24*4).mean()\n",
    "    \n",
    "    \n",
    "    \n",
    "    \n",
    "    # Moving Averages\n",
    "        #for x in [4,8,12,24,48,96]:\n",
    "        for x in range(1,30):\n",
    "            data[f'close_rolling_mean_{x}'] = data[variable_used].rolling(x,1).mean().shift()\n",
    "            data[f'close_rolling_max_{x}'] = data[variable_used].rolling(x,1).max().shift()\n",
    "            data[f'close_rolling_min_{x}'] = data[variable_used].rolling(x,1).min().shift()\n",
    "\n",
    "    # Differences\n",
    "    # As per analysis these features has least importance , so we will not use \n",
    "        data['ramp1'] = data[variable_used] - data[variable_used].shift(1)\n",
    "        data['ramp2'] = data[variable_used].shift(1) - data[variable_used].shift(2)\n",
    "        data['ramp3'] = data[variable_used].shift(2) - data[variable_used].shift(3)\n",
    "        data['ramp4'] = data[variable_used].shift(3) - data[variable_used].shift(4)\n",
    "    \n",
    "\n",
    "#     # Taking Last 7 day same TB Mean, These features are super important\n",
    "#     data['avg_mcp_dam_7d'] = (data['mcp_dam'] + data['mcp_dam'].shift(96) + data['mcp_dam'].shift(2*96) + data['mcp_dam'].shift(3*96)) + data['mcp_dam'].shift(4*96) + data['mcp_dam'].shift(5*96) + data['mcp_dam'].shift(6*96) / 7\n",
    "#     data['avg_mcp_dam_9d'] = (data['avg_mcp_dam_7d']*7 + data['mcp_dam'].shift(7*96) + data['mcp_dam'].shift(8*96))/9\n",
    "#     data['avg_mcp_dam_11d'] = (data['avg_mcp_dam_9d']*9 + data['mcp_dam'].shift(9*96) + data['mcp_dam'].shift(10*96))/11\n",
    "#     data['avg_mcp_dam_13d'] = (data['avg_mcp_dam_11d']*11 + data['mcp_dam'].shift(11*96) + data['mcp_dam'].shift(12*96))/13\n",
    "#     data['avg_mcp_dam_15d'] = (data['avg_mcp_dam_13d']*13 + data['mcp_dam'].shift(13*96) + data['mcp_dam'].shift(14*96))/15\n",
    "#     data['avg_mcp_dam_17d'] = (data['avg_mcp_dam_15d']*15 + data['mcp_dam'].shift(15*96) + data['mcp_dam'].shift(16*96))/17\n",
    "#     data['avg_mcp_dam_19d'] = (data['avg_mcp_dam_17d']*17 + data['mcp_dam'].shift(17*96) + data['mcp_dam'].shift(18*96))/19\n",
    "#     data['avg_mcp_dam_21d'] = (data['avg_mcp_dam_19d']*19 + data['mcp_dam'].shift(19*96) + data['mcp_dam'].shift(20*96))/21\n",
    "    \n",
    "    \n",
    "    \n",
    "    \n",
    "        print(data.columns)\n",
    "        return data\n",
    "    except Exception as e:\n",
    "        print(f\"Error in adding Lag based features--{e}\")\n"
   ]
  },
  {
   "cell_type": "code",
   "execution_count": 158,
   "id": "12f49e15",
   "metadata": {
    "colab": {
     "base_uri": "https://localhost:8080/"
    },
    "id": "OYwMK3-a8tg3",
    "outputId": "fbaddd60-6bef-4062-a3ce-6f5c1851b3ef"
   },
   "outputs": [
    {
     "name": "stdout",
     "output_type": "stream",
     "text": [
      "Adding time based features...\n",
      "Index(['datetime', 'close', 'date', 'hour', 'dom', 'month', 'year', 'dow',\n",
      "       'doy', 'woy', 'week_number', 'friday', 'covid', 'covid_first_wave',\n",
      "       'covid_second_wave'],\n",
      "      dtype='object')\n"
     ]
    }
   ],
   "source": [
    "df = gen_datetime_features(df).copy()"
   ]
  },
  {
   "cell_type": "markdown",
   "id": "be8b03b9",
   "metadata": {
    "id": "BB2U_kAksOnh"
   },
   "source": [
    "## Outliers checking - Not Done"
   ]
  },
  {
   "cell_type": "markdown",
   "id": "bfeceead",
   "metadata": {
    "id": "Wi_j5VI_I9qE"
   },
   "source": [
    "## Check the Trend, Seasonality & Residual"
   ]
  },
  {
   "cell_type": "code",
   "execution_count": 159,
   "id": "12bbcec1",
   "metadata": {
    "colab": {
     "base_uri": "https://localhost:8080/",
     "height": 968
    },
    "id": "e3Q0PU3zF4eF",
    "outputId": "96f9bb63-e3ed-4431-9300-7ef9a60740c5"
   },
   "outputs": [],
   "source": [
    "if plot_show_or_not == True:\n",
    "    \n",
    "    # Let's try decomposing the load data\n",
    "    from statsmodels.tsa.seasonal import seasonal_decompose\n",
    "    import matplotlib as mpl\n",
    "    from pylab import rcParams\n",
    "    # Extra settings\n",
    "    seed = 42\n",
    "    np.random.seed(seed)\n",
    "    #plt.style.use('bmh')\n",
    "\n",
    "\n",
    "    #plt.figure(num=None, figsize=(50, 20), dpi=80, facecolor='w', edgecolor='k')\n",
    "    #series = df[(df['datetime']>='2020-01-01') & (df['datetime']<'2022-01-01')].set_index(['datetime'])['close'].dropna()\n",
    "    series = df.set_index(['datetime'])['close'].dropna()\n",
    "\n",
    "    result = seasonal_decompose(series, model='multiplicative',period=30)\n",
    "    result.plot()"
   ]
  },
  {
   "cell_type": "markdown",
   "id": "d240119c",
   "metadata": {
    "id": "wz2frSu3IMgE"
   },
   "source": [
    "Seasonality is present"
   ]
  },
  {
   "cell_type": "code",
   "execution_count": 160,
   "id": "4e7ff2c1",
   "metadata": {
    "colab": {
     "base_uri": "https://localhost:8080/",
     "height": 507
    },
    "id": "-WIKS6LiF4jx",
    "outputId": "2985853d-b9fc-4199-c9f4-269e82547be7"
   },
   "outputs": [],
   "source": [
    "if plot_show_or_not == True:\n",
    "    \n",
    "    from sklearn.linear_model import LinearRegression\n",
    "    fig = plt.figure(figsize=(15, 7))\n",
    "    layout = (3, 2)\n",
    "    pm_ax = plt.subplot2grid(layout, (0, 0), colspan=2)\n",
    "    mv_ax = plt.subplot2grid(layout, (1, 0), colspan=2)\n",
    "    fit_ax = plt.subplot2grid(layout, (2, 0), colspan=2)\n",
    "\n",
    "    pm_ax.plot(result.trend)\n",
    "    pm_ax.set_title(\"Automatic decomposed trend\")\n",
    "\n",
    "    mm = series.rolling(200).mean()\n",
    "    mv_ax.plot(mm)\n",
    "    mv_ax.set_title(\"Moving average 365 steps\")\n",
    "\n",
    "    X = [i for i in range(0, len(series))]\n",
    "    X = np.reshape(X, (len(X), 1))\n",
    "    y = series.values\n",
    "    model = LinearRegression()\n",
    "    model.fit(X, y)\n",
    "    # calculate trend\n",
    "    trend = model.predict(X)\n",
    "    fit_ax.plot(trend)\n",
    "    fit_ax.set_title(\"Trend fitted by linear regression\")\n",
    "    plt.tight_layout()"
   ]
  },
  {
   "cell_type": "markdown",
   "id": "9df540a7",
   "metadata": {
    "id": "-U8rqmcvJPnl"
   },
   "source": [
    "1. Seasonality is present\n",
    "2. Data is non-stationary"
   ]
  },
  {
   "cell_type": "markdown",
   "id": "ca17b2c8",
   "metadata": {
    "id": "IdZAW_QuJq1v"
   },
   "source": [
    "## Check for non-stationarity"
   ]
  },
  {
   "cell_type": "code",
   "execution_count": 161,
   "id": "7b835ac5",
   "metadata": {
    "colab": {
     "base_uri": "https://localhost:8080/",
     "height": 497
    },
    "id": "Z7TpU_HiF4mf",
    "outputId": "9cb088eb-f170-40ad-9689-1e8e922681d1"
   },
   "outputs": [],
   "source": [
    "if plot_show_or_not == True:\n",
    "    \n",
    "    # Determing rolling statistics\n",
    "    rolmean = series.rolling(window=200).mean()\n",
    "    rolstd = series.rolling(window=200).std()\n",
    "\n",
    "    # Plot rolling statistics:\n",
    "    orig = plt.plot(series, label='Original')\n",
    "    mean = plt.plot(rolmean, color='red', label='Rolling Mean')\n",
    "    std = plt.plot(rolstd, color='black', label='Rolling Std')\n",
    "    plt.legend(loc='best')\n",
    "    plt.title('Rolling Mean & Standard Deviation')\n",
    "    plt.show(block=False)"
   ]
  },
  {
   "cell_type": "markdown",
   "id": "b85f067d",
   "metadata": {
    "id": "y5Z2qIygJwxD"
   },
   "source": [
    "Mean and Standar deviation does not have a constant behaviour over the years, This proves us again a non-stationary series"
   ]
  },
  {
   "cell_type": "markdown",
   "id": "d16be7c5",
   "metadata": {
    "id": "sc8upNQ1J-aH"
   },
   "source": [
    "## Check ACF & PACF plots for autocorelation\n",
    "\n"
   ]
  },
  {
   "cell_type": "code",
   "execution_count": 162,
   "id": "89b3e9b1",
   "metadata": {
    "colab": {
     "base_uri": "https://localhost:8080/",
     "height": 1000
    },
    "id": "T2awkLx3F4pz",
    "outputId": "73fa69dd-9332-4d84-8b26-8011a35b48ec"
   },
   "outputs": [],
   "source": [
    "# from statsmodels.graphics.tsaplots import plot_acf, plot_pacf\n",
    "# #series = df[(df['datetime']>='2020-01-01') & (df['datetime']<'2023-01-01')]['close'].dropna()\n",
    "# series = df['close'].dropna()\n",
    "# plot_acf(series, lags=12)\n",
    "# plot_pacf(series, lags=12)\n",
    "# #plot_pacf(series, lags=7)\n",
    "# plt.show()"
   ]
  },
  {
   "cell_type": "markdown",
   "id": "5b9e2448",
   "metadata": {
    "id": "J1yjYritPIZf"
   },
   "source": [
    "We can see from the ACF curve that there is autocorrelation.\n",
    "As per PACF graph, lag - 1,2,3,4,5 are statistically significant, \n",
    "so we will include all in feature engineering."
   ]
  },
  {
   "cell_type": "code",
   "execution_count": 163,
   "id": "9833cee0",
   "metadata": {
    "id": "J8adJthnXD-J"
   },
   "outputs": [],
   "source": [
    "## Save a copy of DataFrame for using later for different lagged Model for Multioutput\n",
    "df_multi = df.copy()"
   ]
  },
  {
   "cell_type": "markdown",
   "id": "256e4d3a",
   "metadata": {
    "id": "jr_J_tnMSBK8"
   },
   "source": [
    "## Creating Features"
   ]
  },
  {
   "cell_type": "code",
   "execution_count": 164,
   "id": "5c68e9ca",
   "metadata": {
    "id": "QVdfGVCnYs9H"
   },
   "outputs": [
    {
     "data": {
      "text/html": [
       "<div>\n",
       "<style scoped>\n",
       "    .dataframe tbody tr th:only-of-type {\n",
       "        vertical-align: middle;\n",
       "    }\n",
       "\n",
       "    .dataframe tbody tr th {\n",
       "        vertical-align: top;\n",
       "    }\n",
       "\n",
       "    .dataframe thead th {\n",
       "        text-align: right;\n",
       "    }\n",
       "</style>\n",
       "<table border=\"1\" class=\"dataframe\">\n",
       "  <thead>\n",
       "    <tr style=\"text-align: right;\">\n",
       "      <th></th>\n",
       "      <th>datetime</th>\n",
       "      <th>close</th>\n",
       "      <th>date</th>\n",
       "      <th>hour</th>\n",
       "      <th>dom</th>\n",
       "      <th>month</th>\n",
       "      <th>year</th>\n",
       "      <th>dow</th>\n",
       "      <th>doy</th>\n",
       "      <th>woy</th>\n",
       "      <th>week_number</th>\n",
       "      <th>friday</th>\n",
       "      <th>covid</th>\n",
       "      <th>covid_first_wave</th>\n",
       "      <th>covid_second_wave</th>\n",
       "    </tr>\n",
       "  </thead>\n",
       "  <tbody>\n",
       "    <tr>\n",
       "      <th>0</th>\n",
       "      <td>2021-01-01 09:15:00</td>\n",
       "      <td>14025.25</td>\n",
       "      <td>2021-01-01</td>\n",
       "      <td>10</td>\n",
       "      <td>1</td>\n",
       "      <td>1</td>\n",
       "      <td>2021</td>\n",
       "      <td>4</td>\n",
       "      <td>1</td>\n",
       "      <td>53</td>\n",
       "      <td>53</td>\n",
       "      <td>1.0</td>\n",
       "      <td>1.0</td>\n",
       "      <td>0.0</td>\n",
       "      <td>0.0</td>\n",
       "    </tr>\n",
       "    <tr>\n",
       "      <th>1</th>\n",
       "      <td>2021-01-01 10:15:00</td>\n",
       "      <td>14029.35</td>\n",
       "      <td>2021-01-01</td>\n",
       "      <td>11</td>\n",
       "      <td>1</td>\n",
       "      <td>1</td>\n",
       "      <td>2021</td>\n",
       "      <td>4</td>\n",
       "      <td>1</td>\n",
       "      <td>53</td>\n",
       "      <td>53</td>\n",
       "      <td>1.0</td>\n",
       "      <td>1.0</td>\n",
       "      <td>0.0</td>\n",
       "      <td>0.0</td>\n",
       "    </tr>\n",
       "  </tbody>\n",
       "</table>\n",
       "</div>"
      ],
      "text/plain": [
       "             datetime     close        date  hour  dom  month  year  dow  doy  \\\n",
       "0 2021-01-01 09:15:00  14025.25  2021-01-01    10    1      1  2021    4    1   \n",
       "1 2021-01-01 10:15:00  14029.35  2021-01-01    11    1      1  2021    4    1   \n",
       "\n",
       "   woy  week_number  friday  covid  covid_first_wave  covid_second_wave  \n",
       "0   53           53     1.0    1.0               0.0                0.0  \n",
       "1   53           53     1.0    1.0               0.0                0.0  "
      ]
     },
     "execution_count": 164,
     "metadata": {},
     "output_type": "execute_result"
    }
   ],
   "source": [
    "data = df.copy()\n",
    "data.head(2)"
   ]
  },
  {
   "cell_type": "code",
   "execution_count": 165,
   "id": "b8bad7d5",
   "metadata": {
    "colab": {
     "base_uri": "https://localhost:8080/"
    },
    "id": "RD4iL36wKKD0",
    "outputId": "ba3780ef-fc3f-49eb-cd9f-3c587fe13ac5"
   },
   "outputs": [
    {
     "name": "stdout",
     "output_type": "stream",
     "text": [
      "Adding Cyclic Time Indicators........\n",
      "Adding TB Lag features...\n",
      "Index(['datetime', 'close', 'date', 'hour', 'dom', 'month', 'year', 'dow',\n",
      "       'doy', 'woy',\n",
      "       ...\n",
      "       'close_rolling_mean_28', 'close_rolling_max_28', 'close_rolling_min_28',\n",
      "       'close_rolling_mean_29', 'close_rolling_max_29', 'close_rolling_min_29',\n",
      "       'ramp1', 'ramp2', 'ramp3', 'ramp4'],\n",
      "      dtype='object', length=132)\n"
     ]
    }
   ],
   "source": [
    "#data = radial_features(data).copy() # Have to install sklego\n",
    "data = gen_cyclic_features(data).copy()\n",
    "data = gen_lag_features(data).copy()"
   ]
  },
  {
   "cell_type": "code",
   "execution_count": 166,
   "id": "063b755f",
   "metadata": {
    "colab": {
     "base_uri": "https://localhost:8080/",
     "height": 337
    },
    "id": "VftJfmbxKKHY",
    "outputId": "07b2f617-d75a-4e21-8aac-495c3d49ae44",
    "scrolled": false
   },
   "outputs": [],
   "source": [
    "# # Plotting how the Time Features look after getting a sin cos transformation\n",
    "\n",
    "# sns.scatterplot(x=data.sin_hour, y=data.cos_hour)\n",
    "# plt.show()"
   ]
  },
  {
   "cell_type": "markdown",
   "id": "1fdafda2",
   "metadata": {
    "id": "3VIrImyZLxpM"
   },
   "source": [
    "## Shifting by Lag Time forecasting\n",
    "\n"
   ]
  },
  {
   "cell_type": "code",
   "execution_count": 167,
   "id": "986dbdb8",
   "metadata": {
    "id": "4uvVOf07eKIS"
   },
   "outputs": [
    {
     "name": "stdout",
     "output_type": "stream",
     "text": [
      "7\n",
      "60min\n"
     ]
    }
   ],
   "source": [
    "#target_ahead_timeblocks = 7  # Forecasting Lead Time for 15 mins candle\n",
    "\n",
    "# Automatic calculation of target_ahead_timeblocks\n",
    "\n",
    "def target_ahead_TB(data):\n",
    "    minutes_TB = (data['datetime'][1]-data['datetime'][0]).seconds/60 # minus gives Minutes difference between 2 data rows\n",
    "    target_ahead_timeblocks = (6*60)/minutes_TB + 1\n",
    "    target_ahead_timeblocks = int(target_ahead_timeblocks)\n",
    "    minutes_TB = int(minutes_TB)\n",
    "    return (target_ahead_timeblocks, minutes_TB)  \n",
    "\n",
    "target_ahead_timeblocks = target_ahead_TB(data)[0]\n",
    "frequency_in_mins = str(target_ahead_TB(data)[1]) + \"min\" # We need that for generating DF for final forcast for next working day\n",
    "\n",
    "\n",
    "print(target_ahead_timeblocks)\n",
    "print(frequency_in_mins)"
   ]
  },
  {
   "cell_type": "code",
   "execution_count": 168,
   "id": "05273408",
   "metadata": {
    "id": "F6h5zI0RZHiY"
   },
   "outputs": [],
   "source": [
    "# Shifting of Data as per Forecasting Lead Time\n",
    "def shift_variable_by_TB(data, target_ahead_timeblocks):\n",
    "    \n",
    "    data['ramp_close'] = data['close'] - data['close'].shift(target_ahead_timeblocks) # Creating one feature based on the forecast horizon\n",
    "    features = data.columns.tolist()\n",
    "    \n",
    "    \n",
    "  # Creating target variable\n",
    "    data['target'] = data['close'].shift(-target_ahead_timeblocks)\n",
    "    \n",
    "    return data"
   ]
  },
  {
   "cell_type": "code",
   "execution_count": 169,
   "id": "37eaf2b4",
   "metadata": {
    "id": "LhBWq_w-huoX"
   },
   "outputs": [],
   "source": [
    "data = shift_variable_by_TB(data, target_ahead_timeblocks)"
   ]
  },
  {
   "cell_type": "code",
   "execution_count": 170,
   "id": "b73f62d6",
   "metadata": {
    "id": "1PACqqOhZHlG",
    "scrolled": false
   },
   "outputs": [
    {
     "data": {
      "text/html": [
       "<div>\n",
       "<style scoped>\n",
       "    .dataframe tbody tr th:only-of-type {\n",
       "        vertical-align: middle;\n",
       "    }\n",
       "\n",
       "    .dataframe tbody tr th {\n",
       "        vertical-align: top;\n",
       "    }\n",
       "\n",
       "    .dataframe thead th {\n",
       "        text-align: right;\n",
       "    }\n",
       "</style>\n",
       "<table border=\"1\" class=\"dataframe\">\n",
       "  <thead>\n",
       "    <tr style=\"text-align: right;\">\n",
       "      <th></th>\n",
       "      <th>close</th>\n",
       "      <th>date</th>\n",
       "      <th>hour</th>\n",
       "      <th>dom</th>\n",
       "      <th>month</th>\n",
       "      <th>year</th>\n",
       "      <th>dow</th>\n",
       "      <th>doy</th>\n",
       "      <th>woy</th>\n",
       "      <th>week_number</th>\n",
       "      <th>...</th>\n",
       "      <th>close_rolling_min_28</th>\n",
       "      <th>close_rolling_mean_29</th>\n",
       "      <th>close_rolling_max_29</th>\n",
       "      <th>close_rolling_min_29</th>\n",
       "      <th>ramp1</th>\n",
       "      <th>ramp2</th>\n",
       "      <th>ramp3</th>\n",
       "      <th>ramp4</th>\n",
       "      <th>ramp_close</th>\n",
       "      <th>target</th>\n",
       "    </tr>\n",
       "    <tr>\n",
       "      <th>datetime</th>\n",
       "      <th></th>\n",
       "      <th></th>\n",
       "      <th></th>\n",
       "      <th></th>\n",
       "      <th></th>\n",
       "      <th></th>\n",
       "      <th></th>\n",
       "      <th></th>\n",
       "      <th></th>\n",
       "      <th></th>\n",
       "      <th></th>\n",
       "      <th></th>\n",
       "      <th></th>\n",
       "      <th></th>\n",
       "      <th></th>\n",
       "      <th></th>\n",
       "      <th></th>\n",
       "      <th></th>\n",
       "      <th></th>\n",
       "      <th></th>\n",
       "      <th></th>\n",
       "    </tr>\n",
       "  </thead>\n",
       "  <tbody>\n",
       "    <tr>\n",
       "      <th>2024-02-01 13:15:00</th>\n",
       "      <td>21722.25</td>\n",
       "      <td>2024-02-01</td>\n",
       "      <td>14</td>\n",
       "      <td>1</td>\n",
       "      <td>2</td>\n",
       "      <td>2024</td>\n",
       "      <td>3</td>\n",
       "      <td>32</td>\n",
       "      <td>5</td>\n",
       "      <td>5</td>\n",
       "      <td>...</td>\n",
       "      <td>21279.75</td>\n",
       "      <td>21636.020690</td>\n",
       "      <td>21783.90</td>\n",
       "      <td>21279.75</td>\n",
       "      <td>-7.90</td>\n",
       "      <td>-8.35</td>\n",
       "      <td>-44.75</td>\n",
       "      <td>-0.65</td>\n",
       "      <td>36.45</td>\n",
       "      <td>21892.80</td>\n",
       "    </tr>\n",
       "    <tr>\n",
       "      <th>2024-02-01 14:15:00</th>\n",
       "      <td>21681.45</td>\n",
       "      <td>2024-02-01</td>\n",
       "      <td>15</td>\n",
       "      <td>1</td>\n",
       "      <td>2</td>\n",
       "      <td>2024</td>\n",
       "      <td>3</td>\n",
       "      <td>32</td>\n",
       "      <td>5</td>\n",
       "      <td>5</td>\n",
       "      <td>...</td>\n",
       "      <td>21343.30</td>\n",
       "      <td>21651.127586</td>\n",
       "      <td>21783.90</td>\n",
       "      <td>21279.75</td>\n",
       "      <td>-40.80</td>\n",
       "      <td>-7.90</td>\n",
       "      <td>-8.35</td>\n",
       "      <td>-44.75</td>\n",
       "      <td>-46.20</td>\n",
       "      <td>21855.70</td>\n",
       "    </tr>\n",
       "    <tr>\n",
       "      <th>2024-02-01 15:15:00</th>\n",
       "      <td>21690.30</td>\n",
       "      <td>2024-02-01</td>\n",
       "      <td>16</td>\n",
       "      <td>1</td>\n",
       "      <td>2</td>\n",
       "      <td>2024</td>\n",
       "      <td>3</td>\n",
       "      <td>32</td>\n",
       "      <td>5</td>\n",
       "      <td>5</td>\n",
       "      <td>...</td>\n",
       "      <td>21370.75</td>\n",
       "      <td>21664.979310</td>\n",
       "      <td>21783.90</td>\n",
       "      <td>21343.30</td>\n",
       "      <td>8.85</td>\n",
       "      <td>-40.80</td>\n",
       "      <td>-7.90</td>\n",
       "      <td>-8.35</td>\n",
       "      <td>-18.00</td>\n",
       "      <td>21855.45</td>\n",
       "    </tr>\n",
       "    <tr>\n",
       "      <th>2024-02-02 09:15:00</th>\n",
       "      <td>21937.85</td>\n",
       "      <td>2024-02-02</td>\n",
       "      <td>10</td>\n",
       "      <td>2</td>\n",
       "      <td>2</td>\n",
       "      <td>2024</td>\n",
       "      <td>4</td>\n",
       "      <td>33</td>\n",
       "      <td>5</td>\n",
       "      <td>5</td>\n",
       "      <td>...</td>\n",
       "      <td>21527.35</td>\n",
       "      <td>21676.944828</td>\n",
       "      <td>21783.90</td>\n",
       "      <td>21370.75</td>\n",
       "      <td>247.55</td>\n",
       "      <td>8.85</td>\n",
       "      <td>-40.80</td>\n",
       "      <td>-7.90</td>\n",
       "      <td>153.95</td>\n",
       "      <td>NaN</td>\n",
       "    </tr>\n",
       "    <tr>\n",
       "      <th>2024-02-02 10:15:00</th>\n",
       "      <td>21989.65</td>\n",
       "      <td>2024-02-02</td>\n",
       "      <td>11</td>\n",
       "      <td>2</td>\n",
       "      <td>2</td>\n",
       "      <td>2024</td>\n",
       "      <td>4</td>\n",
       "      <td>33</td>\n",
       "      <td>5</td>\n",
       "      <td>5</td>\n",
       "      <td>...</td>\n",
       "      <td>21527.35</td>\n",
       "      <td>21696.500000</td>\n",
       "      <td>21937.85</td>\n",
       "      <td>21527.35</td>\n",
       "      <td>51.80</td>\n",
       "      <td>247.55</td>\n",
       "      <td>8.85</td>\n",
       "      <td>-40.80</td>\n",
       "      <td>206.40</td>\n",
       "      <td>NaN</td>\n",
       "    </tr>\n",
       "    <tr>\n",
       "      <th>2024-02-02 11:15:00</th>\n",
       "      <td>22058.80</td>\n",
       "      <td>2024-02-02</td>\n",
       "      <td>12</td>\n",
       "      <td>2</td>\n",
       "      <td>2</td>\n",
       "      <td>2024</td>\n",
       "      <td>4</td>\n",
       "      <td>33</td>\n",
       "      <td>5</td>\n",
       "      <td>5</td>\n",
       "      <td>...</td>\n",
       "      <td>21527.35</td>\n",
       "      <td>21710.851724</td>\n",
       "      <td>21989.65</td>\n",
       "      <td>21527.35</td>\n",
       "      <td>69.15</td>\n",
       "      <td>51.80</td>\n",
       "      <td>247.55</td>\n",
       "      <td>8.85</td>\n",
       "      <td>320.30</td>\n",
       "      <td>NaN</td>\n",
       "    </tr>\n",
       "    <tr>\n",
       "      <th>2024-02-02 12:15:00</th>\n",
       "      <td>21846.30</td>\n",
       "      <td>2024-02-02</td>\n",
       "      <td>13</td>\n",
       "      <td>2</td>\n",
       "      <td>2</td>\n",
       "      <td>2024</td>\n",
       "      <td>4</td>\n",
       "      <td>33</td>\n",
       "      <td>5</td>\n",
       "      <td>5</td>\n",
       "      <td>...</td>\n",
       "      <td>21527.35</td>\n",
       "      <td>21725.475862</td>\n",
       "      <td>22058.80</td>\n",
       "      <td>21527.35</td>\n",
       "      <td>-212.50</td>\n",
       "      <td>69.15</td>\n",
       "      <td>51.80</td>\n",
       "      <td>247.55</td>\n",
       "      <td>116.15</td>\n",
       "      <td>NaN</td>\n",
       "    </tr>\n",
       "    <tr>\n",
       "      <th>2024-02-02 13:15:00</th>\n",
       "      <td>21892.80</td>\n",
       "      <td>2024-02-02</td>\n",
       "      <td>14</td>\n",
       "      <td>2</td>\n",
       "      <td>2</td>\n",
       "      <td>2024</td>\n",
       "      <td>4</td>\n",
       "      <td>33</td>\n",
       "      <td>5</td>\n",
       "      <td>5</td>\n",
       "      <td>...</td>\n",
       "      <td>21527.35</td>\n",
       "      <td>21731.827586</td>\n",
       "      <td>22058.80</td>\n",
       "      <td>21527.35</td>\n",
       "      <td>46.50</td>\n",
       "      <td>-212.50</td>\n",
       "      <td>69.15</td>\n",
       "      <td>51.80</td>\n",
       "      <td>170.55</td>\n",
       "      <td>NaN</td>\n",
       "    </tr>\n",
       "    <tr>\n",
       "      <th>2024-02-02 14:15:00</th>\n",
       "      <td>21855.70</td>\n",
       "      <td>2024-02-02</td>\n",
       "      <td>15</td>\n",
       "      <td>2</td>\n",
       "      <td>2</td>\n",
       "      <td>2024</td>\n",
       "      <td>4</td>\n",
       "      <td>33</td>\n",
       "      <td>5</td>\n",
       "      <td>5</td>\n",
       "      <td>...</td>\n",
       "      <td>21527.35</td>\n",
       "      <td>21738.301724</td>\n",
       "      <td>22058.80</td>\n",
       "      <td>21527.35</td>\n",
       "      <td>-37.10</td>\n",
       "      <td>46.50</td>\n",
       "      <td>-212.50</td>\n",
       "      <td>69.15</td>\n",
       "      <td>174.25</td>\n",
       "      <td>NaN</td>\n",
       "    </tr>\n",
       "    <tr>\n",
       "      <th>2024-02-02 15:15:00</th>\n",
       "      <td>21855.45</td>\n",
       "      <td>2024-02-02</td>\n",
       "      <td>16</td>\n",
       "      <td>2</td>\n",
       "      <td>2</td>\n",
       "      <td>2024</td>\n",
       "      <td>4</td>\n",
       "      <td>33</td>\n",
       "      <td>5</td>\n",
       "      <td>5</td>\n",
       "      <td>...</td>\n",
       "      <td>21527.35</td>\n",
       "      <td>21742.946552</td>\n",
       "      <td>22058.80</td>\n",
       "      <td>21527.35</td>\n",
       "      <td>-0.25</td>\n",
       "      <td>-37.10</td>\n",
       "      <td>46.50</td>\n",
       "      <td>-212.50</td>\n",
       "      <td>165.15</td>\n",
       "      <td>NaN</td>\n",
       "    </tr>\n",
       "  </tbody>\n",
       "</table>\n",
       "<p>10 rows × 133 columns</p>\n",
       "</div>"
      ],
      "text/plain": [
       "                        close        date  hour  dom  month  year  dow  doy  \\\n",
       "datetime                                                                      \n",
       "2024-02-01 13:15:00  21722.25  2024-02-01    14    1      2  2024    3   32   \n",
       "2024-02-01 14:15:00  21681.45  2024-02-01    15    1      2  2024    3   32   \n",
       "2024-02-01 15:15:00  21690.30  2024-02-01    16    1      2  2024    3   32   \n",
       "2024-02-02 09:15:00  21937.85  2024-02-02    10    2      2  2024    4   33   \n",
       "2024-02-02 10:15:00  21989.65  2024-02-02    11    2      2  2024    4   33   \n",
       "2024-02-02 11:15:00  22058.80  2024-02-02    12    2      2  2024    4   33   \n",
       "2024-02-02 12:15:00  21846.30  2024-02-02    13    2      2  2024    4   33   \n",
       "2024-02-02 13:15:00  21892.80  2024-02-02    14    2      2  2024    4   33   \n",
       "2024-02-02 14:15:00  21855.70  2024-02-02    15    2      2  2024    4   33   \n",
       "2024-02-02 15:15:00  21855.45  2024-02-02    16    2      2  2024    4   33   \n",
       "\n",
       "                     woy  week_number  ...  close_rolling_min_28  \\\n",
       "datetime                               ...                         \n",
       "2024-02-01 13:15:00    5            5  ...              21279.75   \n",
       "2024-02-01 14:15:00    5            5  ...              21343.30   \n",
       "2024-02-01 15:15:00    5            5  ...              21370.75   \n",
       "2024-02-02 09:15:00    5            5  ...              21527.35   \n",
       "2024-02-02 10:15:00    5            5  ...              21527.35   \n",
       "2024-02-02 11:15:00    5            5  ...              21527.35   \n",
       "2024-02-02 12:15:00    5            5  ...              21527.35   \n",
       "2024-02-02 13:15:00    5            5  ...              21527.35   \n",
       "2024-02-02 14:15:00    5            5  ...              21527.35   \n",
       "2024-02-02 15:15:00    5            5  ...              21527.35   \n",
       "\n",
       "                     close_rolling_mean_29  close_rolling_max_29  \\\n",
       "datetime                                                           \n",
       "2024-02-01 13:15:00           21636.020690              21783.90   \n",
       "2024-02-01 14:15:00           21651.127586              21783.90   \n",
       "2024-02-01 15:15:00           21664.979310              21783.90   \n",
       "2024-02-02 09:15:00           21676.944828              21783.90   \n",
       "2024-02-02 10:15:00           21696.500000              21937.85   \n",
       "2024-02-02 11:15:00           21710.851724              21989.65   \n",
       "2024-02-02 12:15:00           21725.475862              22058.80   \n",
       "2024-02-02 13:15:00           21731.827586              22058.80   \n",
       "2024-02-02 14:15:00           21738.301724              22058.80   \n",
       "2024-02-02 15:15:00           21742.946552              22058.80   \n",
       "\n",
       "                     close_rolling_min_29   ramp1   ramp2   ramp3   ramp4  \\\n",
       "datetime                                                                    \n",
       "2024-02-01 13:15:00              21279.75   -7.90   -8.35  -44.75   -0.65   \n",
       "2024-02-01 14:15:00              21279.75  -40.80   -7.90   -8.35  -44.75   \n",
       "2024-02-01 15:15:00              21343.30    8.85  -40.80   -7.90   -8.35   \n",
       "2024-02-02 09:15:00              21370.75  247.55    8.85  -40.80   -7.90   \n",
       "2024-02-02 10:15:00              21527.35   51.80  247.55    8.85  -40.80   \n",
       "2024-02-02 11:15:00              21527.35   69.15   51.80  247.55    8.85   \n",
       "2024-02-02 12:15:00              21527.35 -212.50   69.15   51.80  247.55   \n",
       "2024-02-02 13:15:00              21527.35   46.50 -212.50   69.15   51.80   \n",
       "2024-02-02 14:15:00              21527.35  -37.10   46.50 -212.50   69.15   \n",
       "2024-02-02 15:15:00              21527.35   -0.25  -37.10   46.50 -212.50   \n",
       "\n",
       "                     ramp_close    target  \n",
       "datetime                                   \n",
       "2024-02-01 13:15:00       36.45  21892.80  \n",
       "2024-02-01 14:15:00      -46.20  21855.70  \n",
       "2024-02-01 15:15:00      -18.00  21855.45  \n",
       "2024-02-02 09:15:00      153.95       NaN  \n",
       "2024-02-02 10:15:00      206.40       NaN  \n",
       "2024-02-02 11:15:00      320.30       NaN  \n",
       "2024-02-02 12:15:00      116.15       NaN  \n",
       "2024-02-02 13:15:00      170.55       NaN  \n",
       "2024-02-02 14:15:00      174.25       NaN  \n",
       "2024-02-02 15:15:00      165.15       NaN  \n",
       "\n",
       "[10 rows x 133 columns]"
      ]
     },
     "execution_count": 170,
     "metadata": {},
     "output_type": "execute_result"
    }
   ],
   "source": [
    "# Save DataFrame to new variable to make a check point\n",
    "data_for_training = data.set_index('datetime').copy()\n",
    "data_for_training.tail(10)"
   ]
  },
  {
   "cell_type": "code",
   "execution_count": 171,
   "id": "227280d6",
   "metadata": {},
   "outputs": [
    {
     "data": {
      "text/plain": [
       "Index(['datetime', 'close', 'date', 'hour', 'dom', 'month', 'year', 'dow',\n",
       "       'doy', 'woy',\n",
       "       ...\n",
       "       'close_rolling_min_28', 'close_rolling_mean_29', 'close_rolling_max_29',\n",
       "       'close_rolling_min_29', 'ramp1', 'ramp2', 'ramp3', 'ramp4',\n",
       "       'ramp_close', 'target'],\n",
       "      dtype='object', length=134)"
      ]
     },
     "execution_count": 171,
     "metadata": {},
     "output_type": "execute_result"
    }
   ],
   "source": [
    "data.columns"
   ]
  },
  {
   "cell_type": "code",
   "execution_count": 172,
   "id": "8a191a97",
   "metadata": {},
   "outputs": [
    {
     "data": {
      "text/plain": [
       "datetime      0\n",
       "close         0\n",
       "date          0\n",
       "hour          0\n",
       "dom           0\n",
       "             ..\n",
       "ramp2         2\n",
       "ramp3         3\n",
       "ramp4         4\n",
       "ramp_close    7\n",
       "target        7\n",
       "Length: 134, dtype: int64"
      ]
     },
     "execution_count": 172,
     "metadata": {},
     "output_type": "execute_result"
    }
   ],
   "source": [
    "data.isna().sum()"
   ]
  },
  {
   "cell_type": "code",
   "execution_count": 173,
   "id": "51a68feb",
   "metadata": {},
   "outputs": [
    {
     "data": {
      "text/html": [
       "<div>\n",
       "<style scoped>\n",
       "    .dataframe tbody tr th:only-of-type {\n",
       "        vertical-align: middle;\n",
       "    }\n",
       "\n",
       "    .dataframe tbody tr th {\n",
       "        vertical-align: top;\n",
       "    }\n",
       "\n",
       "    .dataframe thead th {\n",
       "        text-align: right;\n",
       "    }\n",
       "</style>\n",
       "<table border=\"1\" class=\"dataframe\">\n",
       "  <thead>\n",
       "    <tr style=\"text-align: right;\">\n",
       "      <th></th>\n",
       "      <th>datetime</th>\n",
       "      <th>close</th>\n",
       "      <th>date</th>\n",
       "      <th>hour</th>\n",
       "      <th>dom</th>\n",
       "      <th>month</th>\n",
       "      <th>year</th>\n",
       "      <th>dow</th>\n",
       "      <th>doy</th>\n",
       "      <th>woy</th>\n",
       "      <th>...</th>\n",
       "      <th>close_rolling_min_28</th>\n",
       "      <th>close_rolling_mean_29</th>\n",
       "      <th>close_rolling_max_29</th>\n",
       "      <th>close_rolling_min_29</th>\n",
       "      <th>ramp1</th>\n",
       "      <th>ramp2</th>\n",
       "      <th>ramp3</th>\n",
       "      <th>ramp4</th>\n",
       "      <th>ramp_close</th>\n",
       "      <th>target</th>\n",
       "    </tr>\n",
       "  </thead>\n",
       "  <tbody>\n",
       "    <tr>\n",
       "      <th>5331</th>\n",
       "      <td>2024-02-01 13:15:00</td>\n",
       "      <td>21722.25</td>\n",
       "      <td>2024-02-01</td>\n",
       "      <td>14</td>\n",
       "      <td>1</td>\n",
       "      <td>2</td>\n",
       "      <td>2024</td>\n",
       "      <td>3</td>\n",
       "      <td>32</td>\n",
       "      <td>5</td>\n",
       "      <td>...</td>\n",
       "      <td>21279.75</td>\n",
       "      <td>21636.020690</td>\n",
       "      <td>21783.90</td>\n",
       "      <td>21279.75</td>\n",
       "      <td>-7.90</td>\n",
       "      <td>-8.35</td>\n",
       "      <td>-44.75</td>\n",
       "      <td>-0.65</td>\n",
       "      <td>36.45</td>\n",
       "      <td>21892.80</td>\n",
       "    </tr>\n",
       "    <tr>\n",
       "      <th>5332</th>\n",
       "      <td>2024-02-01 14:15:00</td>\n",
       "      <td>21681.45</td>\n",
       "      <td>2024-02-01</td>\n",
       "      <td>15</td>\n",
       "      <td>1</td>\n",
       "      <td>2</td>\n",
       "      <td>2024</td>\n",
       "      <td>3</td>\n",
       "      <td>32</td>\n",
       "      <td>5</td>\n",
       "      <td>...</td>\n",
       "      <td>21343.30</td>\n",
       "      <td>21651.127586</td>\n",
       "      <td>21783.90</td>\n",
       "      <td>21279.75</td>\n",
       "      <td>-40.80</td>\n",
       "      <td>-7.90</td>\n",
       "      <td>-8.35</td>\n",
       "      <td>-44.75</td>\n",
       "      <td>-46.20</td>\n",
       "      <td>21855.70</td>\n",
       "    </tr>\n",
       "    <tr>\n",
       "      <th>5333</th>\n",
       "      <td>2024-02-01 15:15:00</td>\n",
       "      <td>21690.30</td>\n",
       "      <td>2024-02-01</td>\n",
       "      <td>16</td>\n",
       "      <td>1</td>\n",
       "      <td>2</td>\n",
       "      <td>2024</td>\n",
       "      <td>3</td>\n",
       "      <td>32</td>\n",
       "      <td>5</td>\n",
       "      <td>...</td>\n",
       "      <td>21370.75</td>\n",
       "      <td>21664.979310</td>\n",
       "      <td>21783.90</td>\n",
       "      <td>21343.30</td>\n",
       "      <td>8.85</td>\n",
       "      <td>-40.80</td>\n",
       "      <td>-7.90</td>\n",
       "      <td>-8.35</td>\n",
       "      <td>-18.00</td>\n",
       "      <td>21855.45</td>\n",
       "    </tr>\n",
       "    <tr>\n",
       "      <th>5334</th>\n",
       "      <td>2024-02-02 09:15:00</td>\n",
       "      <td>21937.85</td>\n",
       "      <td>2024-02-02</td>\n",
       "      <td>10</td>\n",
       "      <td>2</td>\n",
       "      <td>2</td>\n",
       "      <td>2024</td>\n",
       "      <td>4</td>\n",
       "      <td>33</td>\n",
       "      <td>5</td>\n",
       "      <td>...</td>\n",
       "      <td>21527.35</td>\n",
       "      <td>21676.944828</td>\n",
       "      <td>21783.90</td>\n",
       "      <td>21370.75</td>\n",
       "      <td>247.55</td>\n",
       "      <td>8.85</td>\n",
       "      <td>-40.80</td>\n",
       "      <td>-7.90</td>\n",
       "      <td>153.95</td>\n",
       "      <td>NaN</td>\n",
       "    </tr>\n",
       "    <tr>\n",
       "      <th>5335</th>\n",
       "      <td>2024-02-02 10:15:00</td>\n",
       "      <td>21989.65</td>\n",
       "      <td>2024-02-02</td>\n",
       "      <td>11</td>\n",
       "      <td>2</td>\n",
       "      <td>2</td>\n",
       "      <td>2024</td>\n",
       "      <td>4</td>\n",
       "      <td>33</td>\n",
       "      <td>5</td>\n",
       "      <td>...</td>\n",
       "      <td>21527.35</td>\n",
       "      <td>21696.500000</td>\n",
       "      <td>21937.85</td>\n",
       "      <td>21527.35</td>\n",
       "      <td>51.80</td>\n",
       "      <td>247.55</td>\n",
       "      <td>8.85</td>\n",
       "      <td>-40.80</td>\n",
       "      <td>206.40</td>\n",
       "      <td>NaN</td>\n",
       "    </tr>\n",
       "    <tr>\n",
       "      <th>5336</th>\n",
       "      <td>2024-02-02 11:15:00</td>\n",
       "      <td>22058.80</td>\n",
       "      <td>2024-02-02</td>\n",
       "      <td>12</td>\n",
       "      <td>2</td>\n",
       "      <td>2</td>\n",
       "      <td>2024</td>\n",
       "      <td>4</td>\n",
       "      <td>33</td>\n",
       "      <td>5</td>\n",
       "      <td>...</td>\n",
       "      <td>21527.35</td>\n",
       "      <td>21710.851724</td>\n",
       "      <td>21989.65</td>\n",
       "      <td>21527.35</td>\n",
       "      <td>69.15</td>\n",
       "      <td>51.80</td>\n",
       "      <td>247.55</td>\n",
       "      <td>8.85</td>\n",
       "      <td>320.30</td>\n",
       "      <td>NaN</td>\n",
       "    </tr>\n",
       "    <tr>\n",
       "      <th>5337</th>\n",
       "      <td>2024-02-02 12:15:00</td>\n",
       "      <td>21846.30</td>\n",
       "      <td>2024-02-02</td>\n",
       "      <td>13</td>\n",
       "      <td>2</td>\n",
       "      <td>2</td>\n",
       "      <td>2024</td>\n",
       "      <td>4</td>\n",
       "      <td>33</td>\n",
       "      <td>5</td>\n",
       "      <td>...</td>\n",
       "      <td>21527.35</td>\n",
       "      <td>21725.475862</td>\n",
       "      <td>22058.80</td>\n",
       "      <td>21527.35</td>\n",
       "      <td>-212.50</td>\n",
       "      <td>69.15</td>\n",
       "      <td>51.80</td>\n",
       "      <td>247.55</td>\n",
       "      <td>116.15</td>\n",
       "      <td>NaN</td>\n",
       "    </tr>\n",
       "    <tr>\n",
       "      <th>5338</th>\n",
       "      <td>2024-02-02 13:15:00</td>\n",
       "      <td>21892.80</td>\n",
       "      <td>2024-02-02</td>\n",
       "      <td>14</td>\n",
       "      <td>2</td>\n",
       "      <td>2</td>\n",
       "      <td>2024</td>\n",
       "      <td>4</td>\n",
       "      <td>33</td>\n",
       "      <td>5</td>\n",
       "      <td>...</td>\n",
       "      <td>21527.35</td>\n",
       "      <td>21731.827586</td>\n",
       "      <td>22058.80</td>\n",
       "      <td>21527.35</td>\n",
       "      <td>46.50</td>\n",
       "      <td>-212.50</td>\n",
       "      <td>69.15</td>\n",
       "      <td>51.80</td>\n",
       "      <td>170.55</td>\n",
       "      <td>NaN</td>\n",
       "    </tr>\n",
       "    <tr>\n",
       "      <th>5339</th>\n",
       "      <td>2024-02-02 14:15:00</td>\n",
       "      <td>21855.70</td>\n",
       "      <td>2024-02-02</td>\n",
       "      <td>15</td>\n",
       "      <td>2</td>\n",
       "      <td>2</td>\n",
       "      <td>2024</td>\n",
       "      <td>4</td>\n",
       "      <td>33</td>\n",
       "      <td>5</td>\n",
       "      <td>...</td>\n",
       "      <td>21527.35</td>\n",
       "      <td>21738.301724</td>\n",
       "      <td>22058.80</td>\n",
       "      <td>21527.35</td>\n",
       "      <td>-37.10</td>\n",
       "      <td>46.50</td>\n",
       "      <td>-212.50</td>\n",
       "      <td>69.15</td>\n",
       "      <td>174.25</td>\n",
       "      <td>NaN</td>\n",
       "    </tr>\n",
       "    <tr>\n",
       "      <th>5340</th>\n",
       "      <td>2024-02-02 15:15:00</td>\n",
       "      <td>21855.45</td>\n",
       "      <td>2024-02-02</td>\n",
       "      <td>16</td>\n",
       "      <td>2</td>\n",
       "      <td>2</td>\n",
       "      <td>2024</td>\n",
       "      <td>4</td>\n",
       "      <td>33</td>\n",
       "      <td>5</td>\n",
       "      <td>...</td>\n",
       "      <td>21527.35</td>\n",
       "      <td>21742.946552</td>\n",
       "      <td>22058.80</td>\n",
       "      <td>21527.35</td>\n",
       "      <td>-0.25</td>\n",
       "      <td>-37.10</td>\n",
       "      <td>46.50</td>\n",
       "      <td>-212.50</td>\n",
       "      <td>165.15</td>\n",
       "      <td>NaN</td>\n",
       "    </tr>\n",
       "  </tbody>\n",
       "</table>\n",
       "<p>10 rows × 134 columns</p>\n",
       "</div>"
      ],
      "text/plain": [
       "                datetime     close        date  hour  dom  month  year  dow  \\\n",
       "5331 2024-02-01 13:15:00  21722.25  2024-02-01    14    1      2  2024    3   \n",
       "5332 2024-02-01 14:15:00  21681.45  2024-02-01    15    1      2  2024    3   \n",
       "5333 2024-02-01 15:15:00  21690.30  2024-02-01    16    1      2  2024    3   \n",
       "5334 2024-02-02 09:15:00  21937.85  2024-02-02    10    2      2  2024    4   \n",
       "5335 2024-02-02 10:15:00  21989.65  2024-02-02    11    2      2  2024    4   \n",
       "5336 2024-02-02 11:15:00  22058.80  2024-02-02    12    2      2  2024    4   \n",
       "5337 2024-02-02 12:15:00  21846.30  2024-02-02    13    2      2  2024    4   \n",
       "5338 2024-02-02 13:15:00  21892.80  2024-02-02    14    2      2  2024    4   \n",
       "5339 2024-02-02 14:15:00  21855.70  2024-02-02    15    2      2  2024    4   \n",
       "5340 2024-02-02 15:15:00  21855.45  2024-02-02    16    2      2  2024    4   \n",
       "\n",
       "      doy  woy  ...  close_rolling_min_28  close_rolling_mean_29  \\\n",
       "5331   32    5  ...              21279.75           21636.020690   \n",
       "5332   32    5  ...              21343.30           21651.127586   \n",
       "5333   32    5  ...              21370.75           21664.979310   \n",
       "5334   33    5  ...              21527.35           21676.944828   \n",
       "5335   33    5  ...              21527.35           21696.500000   \n",
       "5336   33    5  ...              21527.35           21710.851724   \n",
       "5337   33    5  ...              21527.35           21725.475862   \n",
       "5338   33    5  ...              21527.35           21731.827586   \n",
       "5339   33    5  ...              21527.35           21738.301724   \n",
       "5340   33    5  ...              21527.35           21742.946552   \n",
       "\n",
       "      close_rolling_max_29  close_rolling_min_29   ramp1   ramp2   ramp3  \\\n",
       "5331              21783.90              21279.75   -7.90   -8.35  -44.75   \n",
       "5332              21783.90              21279.75  -40.80   -7.90   -8.35   \n",
       "5333              21783.90              21343.30    8.85  -40.80   -7.90   \n",
       "5334              21783.90              21370.75  247.55    8.85  -40.80   \n",
       "5335              21937.85              21527.35   51.80  247.55    8.85   \n",
       "5336              21989.65              21527.35   69.15   51.80  247.55   \n",
       "5337              22058.80              21527.35 -212.50   69.15   51.80   \n",
       "5338              22058.80              21527.35   46.50 -212.50   69.15   \n",
       "5339              22058.80              21527.35  -37.10   46.50 -212.50   \n",
       "5340              22058.80              21527.35   -0.25  -37.10   46.50   \n",
       "\n",
       "       ramp4  ramp_close    target  \n",
       "5331   -0.65       36.45  21892.80  \n",
       "5332  -44.75      -46.20  21855.70  \n",
       "5333   -8.35      -18.00  21855.45  \n",
       "5334   -7.90      153.95       NaN  \n",
       "5335  -40.80      206.40       NaN  \n",
       "5336    8.85      320.30       NaN  \n",
       "5337  247.55      116.15       NaN  \n",
       "5338   51.80      170.55       NaN  \n",
       "5339   69.15      174.25       NaN  \n",
       "5340 -212.50      165.15       NaN  \n",
       "\n",
       "[10 rows x 134 columns]"
      ]
     },
     "execution_count": 173,
     "metadata": {},
     "output_type": "execute_result"
    }
   ],
   "source": [
    "data.tail(10)\n",
    "#data.head()"
   ]
  },
  {
   "cell_type": "markdown",
   "id": "fbc796e1",
   "metadata": {},
   "source": [
    "## Check all NaN"
   ]
  },
  {
   "cell_type": "code",
   "execution_count": 174,
   "id": "55b9cccb",
   "metadata": {},
   "outputs": [
    {
     "data": {
      "text/html": [
       "<div>\n",
       "<style scoped>\n",
       "    .dataframe tbody tr th:only-of-type {\n",
       "        vertical-align: middle;\n",
       "    }\n",
       "\n",
       "    .dataframe tbody tr th {\n",
       "        vertical-align: top;\n",
       "    }\n",
       "\n",
       "    .dataframe thead th {\n",
       "        text-align: right;\n",
       "    }\n",
       "</style>\n",
       "<table border=\"1\" class=\"dataframe\">\n",
       "  <thead>\n",
       "    <tr style=\"text-align: right;\">\n",
       "      <th></th>\n",
       "      <th>datetime</th>\n",
       "      <th>close</th>\n",
       "      <th>date</th>\n",
       "      <th>hour</th>\n",
       "      <th>dom</th>\n",
       "      <th>month</th>\n",
       "      <th>year</th>\n",
       "      <th>dow</th>\n",
       "      <th>doy</th>\n",
       "      <th>woy</th>\n",
       "      <th>...</th>\n",
       "      <th>close_rolling_min_28</th>\n",
       "      <th>close_rolling_mean_29</th>\n",
       "      <th>close_rolling_max_29</th>\n",
       "      <th>close_rolling_min_29</th>\n",
       "      <th>ramp1</th>\n",
       "      <th>ramp2</th>\n",
       "      <th>ramp3</th>\n",
       "      <th>ramp4</th>\n",
       "      <th>ramp_close</th>\n",
       "      <th>target</th>\n",
       "    </tr>\n",
       "  </thead>\n",
       "  <tbody>\n",
       "    <tr>\n",
       "      <th>0</th>\n",
       "      <td>2021-01-01 09:15:00</td>\n",
       "      <td>14025.25</td>\n",
       "      <td>2021-01-01</td>\n",
       "      <td>10</td>\n",
       "      <td>1</td>\n",
       "      <td>1</td>\n",
       "      <td>2021</td>\n",
       "      <td>4</td>\n",
       "      <td>1</td>\n",
       "      <td>53</td>\n",
       "      <td>...</td>\n",
       "      <td>NaN</td>\n",
       "      <td>NaN</td>\n",
       "      <td>NaN</td>\n",
       "      <td>NaN</td>\n",
       "      <td>NaN</td>\n",
       "      <td>NaN</td>\n",
       "      <td>NaN</td>\n",
       "      <td>NaN</td>\n",
       "      <td>NaN</td>\n",
       "      <td>14086.55</td>\n",
       "    </tr>\n",
       "    <tr>\n",
       "      <th>1</th>\n",
       "      <td>2021-01-01 10:15:00</td>\n",
       "      <td>14029.35</td>\n",
       "      <td>2021-01-01</td>\n",
       "      <td>11</td>\n",
       "      <td>1</td>\n",
       "      <td>1</td>\n",
       "      <td>2021</td>\n",
       "      <td>4</td>\n",
       "      <td>1</td>\n",
       "      <td>53</td>\n",
       "      <td>...</td>\n",
       "      <td>14025.25</td>\n",
       "      <td>14025.250000</td>\n",
       "      <td>14025.25</td>\n",
       "      <td>14025.25</td>\n",
       "      <td>4.10</td>\n",
       "      <td>NaN</td>\n",
       "      <td>NaN</td>\n",
       "      <td>NaN</td>\n",
       "      <td>NaN</td>\n",
       "      <td>14017.80</td>\n",
       "    </tr>\n",
       "    <tr>\n",
       "      <th>2</th>\n",
       "      <td>2021-01-01 11:15:00</td>\n",
       "      <td>14023.05</td>\n",
       "      <td>2021-01-01</td>\n",
       "      <td>12</td>\n",
       "      <td>1</td>\n",
       "      <td>1</td>\n",
       "      <td>2021</td>\n",
       "      <td>4</td>\n",
       "      <td>1</td>\n",
       "      <td>53</td>\n",
       "      <td>...</td>\n",
       "      <td>14025.25</td>\n",
       "      <td>14027.300000</td>\n",
       "      <td>14029.35</td>\n",
       "      <td>14025.25</td>\n",
       "      <td>-6.30</td>\n",
       "      <td>4.10</td>\n",
       "      <td>NaN</td>\n",
       "      <td>NaN</td>\n",
       "      <td>NaN</td>\n",
       "      <td>14060.70</td>\n",
       "    </tr>\n",
       "    <tr>\n",
       "      <th>3</th>\n",
       "      <td>2021-01-01 12:15:00</td>\n",
       "      <td>14031.60</td>\n",
       "      <td>2021-01-01</td>\n",
       "      <td>13</td>\n",
       "      <td>1</td>\n",
       "      <td>1</td>\n",
       "      <td>2021</td>\n",
       "      <td>4</td>\n",
       "      <td>1</td>\n",
       "      <td>53</td>\n",
       "      <td>...</td>\n",
       "      <td>14023.05</td>\n",
       "      <td>14025.883333</td>\n",
       "      <td>14029.35</td>\n",
       "      <td>14023.05</td>\n",
       "      <td>8.55</td>\n",
       "      <td>-6.30</td>\n",
       "      <td>4.10</td>\n",
       "      <td>NaN</td>\n",
       "      <td>NaN</td>\n",
       "      <td>14085.50</td>\n",
       "    </tr>\n",
       "    <tr>\n",
       "      <th>4</th>\n",
       "      <td>2021-01-01 13:15:00</td>\n",
       "      <td>14043.45</td>\n",
       "      <td>2021-01-01</td>\n",
       "      <td>14</td>\n",
       "      <td>1</td>\n",
       "      <td>1</td>\n",
       "      <td>2021</td>\n",
       "      <td>4</td>\n",
       "      <td>1</td>\n",
       "      <td>53</td>\n",
       "      <td>...</td>\n",
       "      <td>14023.05</td>\n",
       "      <td>14027.312500</td>\n",
       "      <td>14031.60</td>\n",
       "      <td>14023.05</td>\n",
       "      <td>11.85</td>\n",
       "      <td>8.55</td>\n",
       "      <td>-6.30</td>\n",
       "      <td>4.10</td>\n",
       "      <td>NaN</td>\n",
       "      <td>14096.55</td>\n",
       "    </tr>\n",
       "    <tr>\n",
       "      <th>5</th>\n",
       "      <td>2021-01-01 14:15:00</td>\n",
       "      <td>14015.00</td>\n",
       "      <td>2021-01-01</td>\n",
       "      <td>15</td>\n",
       "      <td>1</td>\n",
       "      <td>1</td>\n",
       "      <td>2021</td>\n",
       "      <td>4</td>\n",
       "      <td>1</td>\n",
       "      <td>53</td>\n",
       "      <td>...</td>\n",
       "      <td>14023.05</td>\n",
       "      <td>14030.540000</td>\n",
       "      <td>14043.45</td>\n",
       "      <td>14023.05</td>\n",
       "      <td>-28.45</td>\n",
       "      <td>11.85</td>\n",
       "      <td>8.55</td>\n",
       "      <td>-6.30</td>\n",
       "      <td>NaN</td>\n",
       "      <td>14128.00</td>\n",
       "    </tr>\n",
       "    <tr>\n",
       "      <th>6</th>\n",
       "      <td>2021-01-01 15:15:00</td>\n",
       "      <td>14018.50</td>\n",
       "      <td>2021-01-01</td>\n",
       "      <td>16</td>\n",
       "      <td>1</td>\n",
       "      <td>1</td>\n",
       "      <td>2021</td>\n",
       "      <td>4</td>\n",
       "      <td>1</td>\n",
       "      <td>53</td>\n",
       "      <td>...</td>\n",
       "      <td>14015.00</td>\n",
       "      <td>14027.950000</td>\n",
       "      <td>14043.45</td>\n",
       "      <td>14015.00</td>\n",
       "      <td>3.50</td>\n",
       "      <td>-28.45</td>\n",
       "      <td>11.85</td>\n",
       "      <td>8.55</td>\n",
       "      <td>NaN</td>\n",
       "      <td>14132.90</td>\n",
       "    </tr>\n",
       "    <tr>\n",
       "      <th>7</th>\n",
       "      <td>2021-01-04 09:15:00</td>\n",
       "      <td>14086.55</td>\n",
       "      <td>2021-01-04</td>\n",
       "      <td>10</td>\n",
       "      <td>4</td>\n",
       "      <td>1</td>\n",
       "      <td>2021</td>\n",
       "      <td>0</td>\n",
       "      <td>4</td>\n",
       "      <td>1</td>\n",
       "      <td>...</td>\n",
       "      <td>14015.00</td>\n",
       "      <td>14026.600000</td>\n",
       "      <td>14043.45</td>\n",
       "      <td>14015.00</td>\n",
       "      <td>68.05</td>\n",
       "      <td>3.50</td>\n",
       "      <td>-28.45</td>\n",
       "      <td>11.85</td>\n",
       "      <td>61.30</td>\n",
       "      <td>14071.60</td>\n",
       "    </tr>\n",
       "    <tr>\n",
       "      <th>8</th>\n",
       "      <td>2021-01-04 10:15:00</td>\n",
       "      <td>14017.80</td>\n",
       "      <td>2021-01-04</td>\n",
       "      <td>11</td>\n",
       "      <td>4</td>\n",
       "      <td>1</td>\n",
       "      <td>2021</td>\n",
       "      <td>0</td>\n",
       "      <td>4</td>\n",
       "      <td>1</td>\n",
       "      <td>...</td>\n",
       "      <td>14015.00</td>\n",
       "      <td>14034.093750</td>\n",
       "      <td>14086.55</td>\n",
       "      <td>14015.00</td>\n",
       "      <td>-68.75</td>\n",
       "      <td>68.05</td>\n",
       "      <td>3.50</td>\n",
       "      <td>-28.45</td>\n",
       "      <td>-11.55</td>\n",
       "      <td>14119.75</td>\n",
       "    </tr>\n",
       "    <tr>\n",
       "      <th>9</th>\n",
       "      <td>2021-01-04 11:15:00</td>\n",
       "      <td>14060.70</td>\n",
       "      <td>2021-01-04</td>\n",
       "      <td>12</td>\n",
       "      <td>4</td>\n",
       "      <td>1</td>\n",
       "      <td>2021</td>\n",
       "      <td>0</td>\n",
       "      <td>4</td>\n",
       "      <td>1</td>\n",
       "      <td>...</td>\n",
       "      <td>14015.00</td>\n",
       "      <td>14032.283333</td>\n",
       "      <td>14086.55</td>\n",
       "      <td>14015.00</td>\n",
       "      <td>42.90</td>\n",
       "      <td>-68.75</td>\n",
       "      <td>68.05</td>\n",
       "      <td>3.50</td>\n",
       "      <td>37.65</td>\n",
       "      <td>14139.30</td>\n",
       "    </tr>\n",
       "  </tbody>\n",
       "</table>\n",
       "<p>10 rows × 134 columns</p>\n",
       "</div>"
      ],
      "text/plain": [
       "             datetime     close        date  hour  dom  month  year  dow  doy  \\\n",
       "0 2021-01-01 09:15:00  14025.25  2021-01-01    10    1      1  2021    4    1   \n",
       "1 2021-01-01 10:15:00  14029.35  2021-01-01    11    1      1  2021    4    1   \n",
       "2 2021-01-01 11:15:00  14023.05  2021-01-01    12    1      1  2021    4    1   \n",
       "3 2021-01-01 12:15:00  14031.60  2021-01-01    13    1      1  2021    4    1   \n",
       "4 2021-01-01 13:15:00  14043.45  2021-01-01    14    1      1  2021    4    1   \n",
       "5 2021-01-01 14:15:00  14015.00  2021-01-01    15    1      1  2021    4    1   \n",
       "6 2021-01-01 15:15:00  14018.50  2021-01-01    16    1      1  2021    4    1   \n",
       "7 2021-01-04 09:15:00  14086.55  2021-01-04    10    4      1  2021    0    4   \n",
       "8 2021-01-04 10:15:00  14017.80  2021-01-04    11    4      1  2021    0    4   \n",
       "9 2021-01-04 11:15:00  14060.70  2021-01-04    12    4      1  2021    0    4   \n",
       "\n",
       "   woy  ...  close_rolling_min_28  close_rolling_mean_29  \\\n",
       "0   53  ...                   NaN                    NaN   \n",
       "1   53  ...              14025.25           14025.250000   \n",
       "2   53  ...              14025.25           14027.300000   \n",
       "3   53  ...              14023.05           14025.883333   \n",
       "4   53  ...              14023.05           14027.312500   \n",
       "5   53  ...              14023.05           14030.540000   \n",
       "6   53  ...              14015.00           14027.950000   \n",
       "7    1  ...              14015.00           14026.600000   \n",
       "8    1  ...              14015.00           14034.093750   \n",
       "9    1  ...              14015.00           14032.283333   \n",
       "\n",
       "   close_rolling_max_29  close_rolling_min_29  ramp1  ramp2  ramp3  ramp4  \\\n",
       "0                   NaN                   NaN    NaN    NaN    NaN    NaN   \n",
       "1              14025.25              14025.25   4.10    NaN    NaN    NaN   \n",
       "2              14029.35              14025.25  -6.30   4.10    NaN    NaN   \n",
       "3              14029.35              14023.05   8.55  -6.30   4.10    NaN   \n",
       "4              14031.60              14023.05  11.85   8.55  -6.30   4.10   \n",
       "5              14043.45              14023.05 -28.45  11.85   8.55  -6.30   \n",
       "6              14043.45              14015.00   3.50 -28.45  11.85   8.55   \n",
       "7              14043.45              14015.00  68.05   3.50 -28.45  11.85   \n",
       "8              14086.55              14015.00 -68.75  68.05   3.50 -28.45   \n",
       "9              14086.55              14015.00  42.90 -68.75  68.05   3.50   \n",
       "\n",
       "   ramp_close    target  \n",
       "0         NaN  14086.55  \n",
       "1         NaN  14017.80  \n",
       "2         NaN  14060.70  \n",
       "3         NaN  14085.50  \n",
       "4         NaN  14096.55  \n",
       "5         NaN  14128.00  \n",
       "6         NaN  14132.90  \n",
       "7       61.30  14071.60  \n",
       "8      -11.55  14119.75  \n",
       "9       37.65  14139.30  \n",
       "\n",
       "[10 rows x 134 columns]"
      ]
     },
     "execution_count": 174,
     "metadata": {},
     "output_type": "execute_result"
    }
   ],
   "source": [
    "data[data.isna().any(axis=1)].head(10)"
   ]
  },
  {
   "cell_type": "code",
   "execution_count": 175,
   "id": "0a3c308a",
   "metadata": {},
   "outputs": [
    {
     "data": {
      "text/html": [
       "<div>\n",
       "<style scoped>\n",
       "    .dataframe tbody tr th:only-of-type {\n",
       "        vertical-align: middle;\n",
       "    }\n",
       "\n",
       "    .dataframe tbody tr th {\n",
       "        vertical-align: top;\n",
       "    }\n",
       "\n",
       "    .dataframe thead th {\n",
       "        text-align: right;\n",
       "    }\n",
       "</style>\n",
       "<table border=\"1\" class=\"dataframe\">\n",
       "  <thead>\n",
       "    <tr style=\"text-align: right;\">\n",
       "      <th></th>\n",
       "      <th>datetime</th>\n",
       "      <th>close</th>\n",
       "      <th>date</th>\n",
       "      <th>hour</th>\n",
       "      <th>dom</th>\n",
       "      <th>month</th>\n",
       "      <th>year</th>\n",
       "      <th>dow</th>\n",
       "      <th>doy</th>\n",
       "      <th>woy</th>\n",
       "      <th>...</th>\n",
       "      <th>close_rolling_min_28</th>\n",
       "      <th>close_rolling_mean_29</th>\n",
       "      <th>close_rolling_max_29</th>\n",
       "      <th>close_rolling_min_29</th>\n",
       "      <th>ramp1</th>\n",
       "      <th>ramp2</th>\n",
       "      <th>ramp3</th>\n",
       "      <th>ramp4</th>\n",
       "      <th>ramp_close</th>\n",
       "      <th>target</th>\n",
       "    </tr>\n",
       "  </thead>\n",
       "  <tbody>\n",
       "    <tr>\n",
       "      <th>669</th>\n",
       "      <td>2021-05-26 10:15:00</td>\n",
       "      <td>15300.90</td>\n",
       "      <td>2021-05-26</td>\n",
       "      <td>11</td>\n",
       "      <td>26</td>\n",
       "      <td>5</td>\n",
       "      <td>2021</td>\n",
       "      <td>2</td>\n",
       "      <td>146</td>\n",
       "      <td>21</td>\n",
       "      <td>...</td>\n",
       "      <td>14906.05</td>\n",
       "      <td>15134.163793</td>\n",
       "      <td>15261.05</td>\n",
       "      <td>14906.05</td>\n",
       "      <td>59.10</td>\n",
       "      <td>33.35</td>\n",
       "      <td>7.45</td>\n",
       "      <td>24.50</td>\n",
       "      <td>64.20</td>\n",
       "      <td>15326.45</td>\n",
       "    </tr>\n",
       "    <tr>\n",
       "      <th>670</th>\n",
       "      <td>2021-05-26 11:15:00</td>\n",
       "      <td>15297.35</td>\n",
       "      <td>2021-05-26</td>\n",
       "      <td>12</td>\n",
       "      <td>26</td>\n",
       "      <td>5</td>\n",
       "      <td>2021</td>\n",
       "      <td>2</td>\n",
       "      <td>146</td>\n",
       "      <td>21</td>\n",
       "      <td>...</td>\n",
       "      <td>14906.05</td>\n",
       "      <td>15143.681034</td>\n",
       "      <td>15300.90</td>\n",
       "      <td>14906.05</td>\n",
       "      <td>-3.55</td>\n",
       "      <td>59.10</td>\n",
       "      <td>33.35</td>\n",
       "      <td>7.45</td>\n",
       "      <td>46.40</td>\n",
       "      <td>15351.50</td>\n",
       "    </tr>\n",
       "    <tr>\n",
       "      <th>671</th>\n",
       "      <td>2021-05-26 12:15:00</td>\n",
       "      <td>15290.15</td>\n",
       "      <td>2021-05-26</td>\n",
       "      <td>13</td>\n",
       "      <td>26</td>\n",
       "      <td>5</td>\n",
       "      <td>2021</td>\n",
       "      <td>2</td>\n",
       "      <td>146</td>\n",
       "      <td>21</td>\n",
       "      <td>...</td>\n",
       "      <td>14906.05</td>\n",
       "      <td>15153.477586</td>\n",
       "      <td>15300.90</td>\n",
       "      <td>14906.05</td>\n",
       "      <td>-7.20</td>\n",
       "      <td>-3.55</td>\n",
       "      <td>59.10</td>\n",
       "      <td>33.35</td>\n",
       "      <td>46.30</td>\n",
       "      <td>15347.75</td>\n",
       "    </tr>\n",
       "    <tr>\n",
       "      <th>5334</th>\n",
       "      <td>2024-02-02 09:15:00</td>\n",
       "      <td>21937.85</td>\n",
       "      <td>2024-02-02</td>\n",
       "      <td>10</td>\n",
       "      <td>2</td>\n",
       "      <td>2</td>\n",
       "      <td>2024</td>\n",
       "      <td>4</td>\n",
       "      <td>33</td>\n",
       "      <td>5</td>\n",
       "      <td>...</td>\n",
       "      <td>21527.35</td>\n",
       "      <td>21676.944828</td>\n",
       "      <td>21783.90</td>\n",
       "      <td>21370.75</td>\n",
       "      <td>247.55</td>\n",
       "      <td>8.85</td>\n",
       "      <td>-40.80</td>\n",
       "      <td>-7.90</td>\n",
       "      <td>153.95</td>\n",
       "      <td>NaN</td>\n",
       "    </tr>\n",
       "    <tr>\n",
       "      <th>5335</th>\n",
       "      <td>2024-02-02 10:15:00</td>\n",
       "      <td>21989.65</td>\n",
       "      <td>2024-02-02</td>\n",
       "      <td>11</td>\n",
       "      <td>2</td>\n",
       "      <td>2</td>\n",
       "      <td>2024</td>\n",
       "      <td>4</td>\n",
       "      <td>33</td>\n",
       "      <td>5</td>\n",
       "      <td>...</td>\n",
       "      <td>21527.35</td>\n",
       "      <td>21696.500000</td>\n",
       "      <td>21937.85</td>\n",
       "      <td>21527.35</td>\n",
       "      <td>51.80</td>\n",
       "      <td>247.55</td>\n",
       "      <td>8.85</td>\n",
       "      <td>-40.80</td>\n",
       "      <td>206.40</td>\n",
       "      <td>NaN</td>\n",
       "    </tr>\n",
       "    <tr>\n",
       "      <th>5336</th>\n",
       "      <td>2024-02-02 11:15:00</td>\n",
       "      <td>22058.80</td>\n",
       "      <td>2024-02-02</td>\n",
       "      <td>12</td>\n",
       "      <td>2</td>\n",
       "      <td>2</td>\n",
       "      <td>2024</td>\n",
       "      <td>4</td>\n",
       "      <td>33</td>\n",
       "      <td>5</td>\n",
       "      <td>...</td>\n",
       "      <td>21527.35</td>\n",
       "      <td>21710.851724</td>\n",
       "      <td>21989.65</td>\n",
       "      <td>21527.35</td>\n",
       "      <td>69.15</td>\n",
       "      <td>51.80</td>\n",
       "      <td>247.55</td>\n",
       "      <td>8.85</td>\n",
       "      <td>320.30</td>\n",
       "      <td>NaN</td>\n",
       "    </tr>\n",
       "    <tr>\n",
       "      <th>5337</th>\n",
       "      <td>2024-02-02 12:15:00</td>\n",
       "      <td>21846.30</td>\n",
       "      <td>2024-02-02</td>\n",
       "      <td>13</td>\n",
       "      <td>2</td>\n",
       "      <td>2</td>\n",
       "      <td>2024</td>\n",
       "      <td>4</td>\n",
       "      <td>33</td>\n",
       "      <td>5</td>\n",
       "      <td>...</td>\n",
       "      <td>21527.35</td>\n",
       "      <td>21725.475862</td>\n",
       "      <td>22058.80</td>\n",
       "      <td>21527.35</td>\n",
       "      <td>-212.50</td>\n",
       "      <td>69.15</td>\n",
       "      <td>51.80</td>\n",
       "      <td>247.55</td>\n",
       "      <td>116.15</td>\n",
       "      <td>NaN</td>\n",
       "    </tr>\n",
       "    <tr>\n",
       "      <th>5338</th>\n",
       "      <td>2024-02-02 13:15:00</td>\n",
       "      <td>21892.80</td>\n",
       "      <td>2024-02-02</td>\n",
       "      <td>14</td>\n",
       "      <td>2</td>\n",
       "      <td>2</td>\n",
       "      <td>2024</td>\n",
       "      <td>4</td>\n",
       "      <td>33</td>\n",
       "      <td>5</td>\n",
       "      <td>...</td>\n",
       "      <td>21527.35</td>\n",
       "      <td>21731.827586</td>\n",
       "      <td>22058.80</td>\n",
       "      <td>21527.35</td>\n",
       "      <td>46.50</td>\n",
       "      <td>-212.50</td>\n",
       "      <td>69.15</td>\n",
       "      <td>51.80</td>\n",
       "      <td>170.55</td>\n",
       "      <td>NaN</td>\n",
       "    </tr>\n",
       "    <tr>\n",
       "      <th>5339</th>\n",
       "      <td>2024-02-02 14:15:00</td>\n",
       "      <td>21855.70</td>\n",
       "      <td>2024-02-02</td>\n",
       "      <td>15</td>\n",
       "      <td>2</td>\n",
       "      <td>2</td>\n",
       "      <td>2024</td>\n",
       "      <td>4</td>\n",
       "      <td>33</td>\n",
       "      <td>5</td>\n",
       "      <td>...</td>\n",
       "      <td>21527.35</td>\n",
       "      <td>21738.301724</td>\n",
       "      <td>22058.80</td>\n",
       "      <td>21527.35</td>\n",
       "      <td>-37.10</td>\n",
       "      <td>46.50</td>\n",
       "      <td>-212.50</td>\n",
       "      <td>69.15</td>\n",
       "      <td>174.25</td>\n",
       "      <td>NaN</td>\n",
       "    </tr>\n",
       "    <tr>\n",
       "      <th>5340</th>\n",
       "      <td>2024-02-02 15:15:00</td>\n",
       "      <td>21855.45</td>\n",
       "      <td>2024-02-02</td>\n",
       "      <td>16</td>\n",
       "      <td>2</td>\n",
       "      <td>2</td>\n",
       "      <td>2024</td>\n",
       "      <td>4</td>\n",
       "      <td>33</td>\n",
       "      <td>5</td>\n",
       "      <td>...</td>\n",
       "      <td>21527.35</td>\n",
       "      <td>21742.946552</td>\n",
       "      <td>22058.80</td>\n",
       "      <td>21527.35</td>\n",
       "      <td>-0.25</td>\n",
       "      <td>-37.10</td>\n",
       "      <td>46.50</td>\n",
       "      <td>-212.50</td>\n",
       "      <td>165.15</td>\n",
       "      <td>NaN</td>\n",
       "    </tr>\n",
       "  </tbody>\n",
       "</table>\n",
       "<p>10 rows × 134 columns</p>\n",
       "</div>"
      ],
      "text/plain": [
       "                datetime     close        date  hour  dom  month  year  dow  \\\n",
       "669  2021-05-26 10:15:00  15300.90  2021-05-26    11   26      5  2021    2   \n",
       "670  2021-05-26 11:15:00  15297.35  2021-05-26    12   26      5  2021    2   \n",
       "671  2021-05-26 12:15:00  15290.15  2021-05-26    13   26      5  2021    2   \n",
       "5334 2024-02-02 09:15:00  21937.85  2024-02-02    10    2      2  2024    4   \n",
       "5335 2024-02-02 10:15:00  21989.65  2024-02-02    11    2      2  2024    4   \n",
       "5336 2024-02-02 11:15:00  22058.80  2024-02-02    12    2      2  2024    4   \n",
       "5337 2024-02-02 12:15:00  21846.30  2024-02-02    13    2      2  2024    4   \n",
       "5338 2024-02-02 13:15:00  21892.80  2024-02-02    14    2      2  2024    4   \n",
       "5339 2024-02-02 14:15:00  21855.70  2024-02-02    15    2      2  2024    4   \n",
       "5340 2024-02-02 15:15:00  21855.45  2024-02-02    16    2      2  2024    4   \n",
       "\n",
       "      doy  woy  ...  close_rolling_min_28  close_rolling_mean_29  \\\n",
       "669   146   21  ...              14906.05           15134.163793   \n",
       "670   146   21  ...              14906.05           15143.681034   \n",
       "671   146   21  ...              14906.05           15153.477586   \n",
       "5334   33    5  ...              21527.35           21676.944828   \n",
       "5335   33    5  ...              21527.35           21696.500000   \n",
       "5336   33    5  ...              21527.35           21710.851724   \n",
       "5337   33    5  ...              21527.35           21725.475862   \n",
       "5338   33    5  ...              21527.35           21731.827586   \n",
       "5339   33    5  ...              21527.35           21738.301724   \n",
       "5340   33    5  ...              21527.35           21742.946552   \n",
       "\n",
       "      close_rolling_max_29  close_rolling_min_29   ramp1   ramp2   ramp3  \\\n",
       "669               15261.05              14906.05   59.10   33.35    7.45   \n",
       "670               15300.90              14906.05   -3.55   59.10   33.35   \n",
       "671               15300.90              14906.05   -7.20   -3.55   59.10   \n",
       "5334              21783.90              21370.75  247.55    8.85  -40.80   \n",
       "5335              21937.85              21527.35   51.80  247.55    8.85   \n",
       "5336              21989.65              21527.35   69.15   51.80  247.55   \n",
       "5337              22058.80              21527.35 -212.50   69.15   51.80   \n",
       "5338              22058.80              21527.35   46.50 -212.50   69.15   \n",
       "5339              22058.80              21527.35  -37.10   46.50 -212.50   \n",
       "5340              22058.80              21527.35   -0.25  -37.10   46.50   \n",
       "\n",
       "       ramp4  ramp_close    target  \n",
       "669    24.50       64.20  15326.45  \n",
       "670     7.45       46.40  15351.50  \n",
       "671    33.35       46.30  15347.75  \n",
       "5334   -7.90      153.95       NaN  \n",
       "5335  -40.80      206.40       NaN  \n",
       "5336    8.85      320.30       NaN  \n",
       "5337  247.55      116.15       NaN  \n",
       "5338   51.80      170.55       NaN  \n",
       "5339   69.15      174.25       NaN  \n",
       "5340 -212.50      165.15       NaN  \n",
       "\n",
       "[10 rows x 134 columns]"
      ]
     },
     "execution_count": 175,
     "metadata": {},
     "output_type": "execute_result"
    }
   ],
   "source": [
    "data[data.isna().any(axis=1)].tail(10)"
   ]
  },
  {
   "cell_type": "markdown",
   "id": "c34819b5",
   "metadata": {},
   "source": [
    "#### So above shows that we have top 671 rows as NaN due to moving averages and all\n",
    "#### Also bottom 7 rows are with NaN as Target which is obvious as we have shifted by 7 (due to 15 min candle) to make time series as regression problem"
   ]
  },
  {
   "cell_type": "code",
   "execution_count": 176,
   "id": "e53ba0ca",
   "metadata": {
    "id": "QEybTy7KVE0R",
    "scrolled": false
   },
   "outputs": [],
   "source": [
    "# Function to make feature extraction systematic\n",
    "\n",
    "def diff(list1, list2):\n",
    "    c = set(list1).union(set(list2))  # or c = set(list1) | set(list2)\n",
    "    d = set(list1).intersection(set(list2))  # or d = set(list1) & set(list2)\n",
    "    return list(c - d)"
   ]
  },
  {
   "cell_type": "code",
   "execution_count": 177,
   "id": "71a964e4",
   "metadata": {
    "id": "BNj_SZFYZHqw"
   },
   "outputs": [
    {
     "name": "stdout",
     "output_type": "stream",
     "text": [
      "(5341, 131)\n"
     ]
    }
   ],
   "source": [
    "# Feature segregation\n",
    "\n",
    "def get_final_features(data):\n",
    "    extra_features = ['weekend', 'date', 'year', 'target'] # Dont include 'datetime'\n",
    "    X_features = [x for x in data.columns if x not in extra_features+['target']]\n",
    "    return X_features\n",
    "\n",
    "y_features = ['datetime', 'target']\n",
    "\n",
    "X_features = get_final_features(data)\n",
    "#print(X_features)\n",
    "print(data[X_features].shape)"
   ]
  },
  {
   "cell_type": "markdown",
   "id": "4ece7a88",
   "metadata": {},
   "source": [
    "## ********* Filtered and Store the last rows for getting prediction for NEXT day*******"
   ]
  },
  {
   "cell_type": "code",
   "execution_count": 178,
   "id": "4e7a40f9",
   "metadata": {},
   "outputs": [
    {
     "data": {
      "text/html": [
       "<div>\n",
       "<style scoped>\n",
       "    .dataframe tbody tr th:only-of-type {\n",
       "        vertical-align: middle;\n",
       "    }\n",
       "\n",
       "    .dataframe tbody tr th {\n",
       "        vertical-align: top;\n",
       "    }\n",
       "\n",
       "    .dataframe thead th {\n",
       "        text-align: right;\n",
       "    }\n",
       "</style>\n",
       "<table border=\"1\" class=\"dataframe\">\n",
       "  <thead>\n",
       "    <tr style=\"text-align: right;\">\n",
       "      <th></th>\n",
       "      <th>datetime</th>\n",
       "      <th>close</th>\n",
       "      <th>date</th>\n",
       "      <th>hour</th>\n",
       "      <th>dom</th>\n",
       "      <th>month</th>\n",
       "      <th>year</th>\n",
       "      <th>dow</th>\n",
       "      <th>doy</th>\n",
       "      <th>woy</th>\n",
       "      <th>...</th>\n",
       "      <th>close_rolling_max_28</th>\n",
       "      <th>close_rolling_min_28</th>\n",
       "      <th>close_rolling_mean_29</th>\n",
       "      <th>close_rolling_max_29</th>\n",
       "      <th>close_rolling_min_29</th>\n",
       "      <th>ramp1</th>\n",
       "      <th>ramp2</th>\n",
       "      <th>ramp3</th>\n",
       "      <th>ramp4</th>\n",
       "      <th>ramp_close</th>\n",
       "    </tr>\n",
       "  </thead>\n",
       "  <tbody>\n",
       "    <tr>\n",
       "      <th>5334</th>\n",
       "      <td>2024-02-02 09:15:00</td>\n",
       "      <td>21937.85</td>\n",
       "      <td>2024-02-02</td>\n",
       "      <td>10</td>\n",
       "      <td>2</td>\n",
       "      <td>2</td>\n",
       "      <td>2024</td>\n",
       "      <td>4</td>\n",
       "      <td>33</td>\n",
       "      <td>5</td>\n",
       "      <td>...</td>\n",
       "      <td>21783.90</td>\n",
       "      <td>21527.35</td>\n",
       "      <td>21676.944828</td>\n",
       "      <td>21783.90</td>\n",
       "      <td>21370.75</td>\n",
       "      <td>247.55</td>\n",
       "      <td>8.85</td>\n",
       "      <td>-40.80</td>\n",
       "      <td>-7.90</td>\n",
       "      <td>153.95</td>\n",
       "    </tr>\n",
       "    <tr>\n",
       "      <th>5335</th>\n",
       "      <td>2024-02-02 10:15:00</td>\n",
       "      <td>21989.65</td>\n",
       "      <td>2024-02-02</td>\n",
       "      <td>11</td>\n",
       "      <td>2</td>\n",
       "      <td>2</td>\n",
       "      <td>2024</td>\n",
       "      <td>4</td>\n",
       "      <td>33</td>\n",
       "      <td>5</td>\n",
       "      <td>...</td>\n",
       "      <td>21937.85</td>\n",
       "      <td>21527.35</td>\n",
       "      <td>21696.500000</td>\n",
       "      <td>21937.85</td>\n",
       "      <td>21527.35</td>\n",
       "      <td>51.80</td>\n",
       "      <td>247.55</td>\n",
       "      <td>8.85</td>\n",
       "      <td>-40.80</td>\n",
       "      <td>206.40</td>\n",
       "    </tr>\n",
       "    <tr>\n",
       "      <th>5336</th>\n",
       "      <td>2024-02-02 11:15:00</td>\n",
       "      <td>22058.80</td>\n",
       "      <td>2024-02-02</td>\n",
       "      <td>12</td>\n",
       "      <td>2</td>\n",
       "      <td>2</td>\n",
       "      <td>2024</td>\n",
       "      <td>4</td>\n",
       "      <td>33</td>\n",
       "      <td>5</td>\n",
       "      <td>...</td>\n",
       "      <td>21989.65</td>\n",
       "      <td>21527.35</td>\n",
       "      <td>21710.851724</td>\n",
       "      <td>21989.65</td>\n",
       "      <td>21527.35</td>\n",
       "      <td>69.15</td>\n",
       "      <td>51.80</td>\n",
       "      <td>247.55</td>\n",
       "      <td>8.85</td>\n",
       "      <td>320.30</td>\n",
       "    </tr>\n",
       "    <tr>\n",
       "      <th>5337</th>\n",
       "      <td>2024-02-02 12:15:00</td>\n",
       "      <td>21846.30</td>\n",
       "      <td>2024-02-02</td>\n",
       "      <td>13</td>\n",
       "      <td>2</td>\n",
       "      <td>2</td>\n",
       "      <td>2024</td>\n",
       "      <td>4</td>\n",
       "      <td>33</td>\n",
       "      <td>5</td>\n",
       "      <td>...</td>\n",
       "      <td>22058.80</td>\n",
       "      <td>21527.35</td>\n",
       "      <td>21725.475862</td>\n",
       "      <td>22058.80</td>\n",
       "      <td>21527.35</td>\n",
       "      <td>-212.50</td>\n",
       "      <td>69.15</td>\n",
       "      <td>51.80</td>\n",
       "      <td>247.55</td>\n",
       "      <td>116.15</td>\n",
       "    </tr>\n",
       "    <tr>\n",
       "      <th>5338</th>\n",
       "      <td>2024-02-02 13:15:00</td>\n",
       "      <td>21892.80</td>\n",
       "      <td>2024-02-02</td>\n",
       "      <td>14</td>\n",
       "      <td>2</td>\n",
       "      <td>2</td>\n",
       "      <td>2024</td>\n",
       "      <td>4</td>\n",
       "      <td>33</td>\n",
       "      <td>5</td>\n",
       "      <td>...</td>\n",
       "      <td>22058.80</td>\n",
       "      <td>21527.35</td>\n",
       "      <td>21731.827586</td>\n",
       "      <td>22058.80</td>\n",
       "      <td>21527.35</td>\n",
       "      <td>46.50</td>\n",
       "      <td>-212.50</td>\n",
       "      <td>69.15</td>\n",
       "      <td>51.80</td>\n",
       "      <td>170.55</td>\n",
       "    </tr>\n",
       "    <tr>\n",
       "      <th>5339</th>\n",
       "      <td>2024-02-02 14:15:00</td>\n",
       "      <td>21855.70</td>\n",
       "      <td>2024-02-02</td>\n",
       "      <td>15</td>\n",
       "      <td>2</td>\n",
       "      <td>2</td>\n",
       "      <td>2024</td>\n",
       "      <td>4</td>\n",
       "      <td>33</td>\n",
       "      <td>5</td>\n",
       "      <td>...</td>\n",
       "      <td>22058.80</td>\n",
       "      <td>21527.35</td>\n",
       "      <td>21738.301724</td>\n",
       "      <td>22058.80</td>\n",
       "      <td>21527.35</td>\n",
       "      <td>-37.10</td>\n",
       "      <td>46.50</td>\n",
       "      <td>-212.50</td>\n",
       "      <td>69.15</td>\n",
       "      <td>174.25</td>\n",
       "    </tr>\n",
       "    <tr>\n",
       "      <th>5340</th>\n",
       "      <td>2024-02-02 15:15:00</td>\n",
       "      <td>21855.45</td>\n",
       "      <td>2024-02-02</td>\n",
       "      <td>16</td>\n",
       "      <td>2</td>\n",
       "      <td>2</td>\n",
       "      <td>2024</td>\n",
       "      <td>4</td>\n",
       "      <td>33</td>\n",
       "      <td>5</td>\n",
       "      <td>...</td>\n",
       "      <td>22058.80</td>\n",
       "      <td>21527.35</td>\n",
       "      <td>21742.946552</td>\n",
       "      <td>22058.80</td>\n",
       "      <td>21527.35</td>\n",
       "      <td>-0.25</td>\n",
       "      <td>-37.10</td>\n",
       "      <td>46.50</td>\n",
       "      <td>-212.50</td>\n",
       "      <td>165.15</td>\n",
       "    </tr>\n",
       "  </tbody>\n",
       "</table>\n",
       "<p>7 rows × 133 columns</p>\n",
       "</div>"
      ],
      "text/plain": [
       "                datetime     close        date  hour  dom  month  year  dow  \\\n",
       "5334 2024-02-02 09:15:00  21937.85  2024-02-02    10    2      2  2024    4   \n",
       "5335 2024-02-02 10:15:00  21989.65  2024-02-02    11    2      2  2024    4   \n",
       "5336 2024-02-02 11:15:00  22058.80  2024-02-02    12    2      2  2024    4   \n",
       "5337 2024-02-02 12:15:00  21846.30  2024-02-02    13    2      2  2024    4   \n",
       "5338 2024-02-02 13:15:00  21892.80  2024-02-02    14    2      2  2024    4   \n",
       "5339 2024-02-02 14:15:00  21855.70  2024-02-02    15    2      2  2024    4   \n",
       "5340 2024-02-02 15:15:00  21855.45  2024-02-02    16    2      2  2024    4   \n",
       "\n",
       "      doy  woy  ...  close_rolling_max_28  close_rolling_min_28  \\\n",
       "5334   33    5  ...              21783.90              21527.35   \n",
       "5335   33    5  ...              21937.85              21527.35   \n",
       "5336   33    5  ...              21989.65              21527.35   \n",
       "5337   33    5  ...              22058.80              21527.35   \n",
       "5338   33    5  ...              22058.80              21527.35   \n",
       "5339   33    5  ...              22058.80              21527.35   \n",
       "5340   33    5  ...              22058.80              21527.35   \n",
       "\n",
       "      close_rolling_mean_29  close_rolling_max_29  close_rolling_min_29  \\\n",
       "5334           21676.944828              21783.90              21370.75   \n",
       "5335           21696.500000              21937.85              21527.35   \n",
       "5336           21710.851724              21989.65              21527.35   \n",
       "5337           21725.475862              22058.80              21527.35   \n",
       "5338           21731.827586              22058.80              21527.35   \n",
       "5339           21738.301724              22058.80              21527.35   \n",
       "5340           21742.946552              22058.80              21527.35   \n",
       "\n",
       "       ramp1   ramp2   ramp3   ramp4  ramp_close  \n",
       "5334  247.55    8.85  -40.80   -7.90      153.95  \n",
       "5335   51.80  247.55    8.85  -40.80      206.40  \n",
       "5336   69.15   51.80  247.55    8.85      320.30  \n",
       "5337 -212.50   69.15   51.80  247.55      116.15  \n",
       "5338   46.50 -212.50   69.15   51.80      170.55  \n",
       "5339  -37.10   46.50 -212.50   69.15      174.25  \n",
       "5340   -0.25  -37.10   46.50 -212.50      165.15  \n",
       "\n",
       "[7 rows x 133 columns]"
      ]
     },
     "execution_count": 178,
     "metadata": {},
     "output_type": "execute_result"
    }
   ],
   "source": [
    "next_day_df_prediction = data.iloc[-target_ahead_timeblocks:, :-1].copy()\n",
    "next_day_df_prediction"
   ]
  },
  {
   "cell_type": "markdown",
   "id": "6230f30c",
   "metadata": {},
   "source": [
    "## Dropping Missing Values"
   ]
  },
  {
   "cell_type": "code",
   "execution_count": 179,
   "id": "20a40836",
   "metadata": {},
   "outputs": [
    {
     "name": "stdout",
     "output_type": "stream",
     "text": [
      "Before Dropping nans: (5341, 133)\n",
      "(4662, 134)\n"
     ]
    },
    {
     "data": {
      "text/html": [
       "<div>\n",
       "<style scoped>\n",
       "    .dataframe tbody tr th:only-of-type {\n",
       "        vertical-align: middle;\n",
       "    }\n",
       "\n",
       "    .dataframe tbody tr th {\n",
       "        vertical-align: top;\n",
       "    }\n",
       "\n",
       "    .dataframe thead th {\n",
       "        text-align: right;\n",
       "    }\n",
       "</style>\n",
       "<table border=\"1\" class=\"dataframe\">\n",
       "  <thead>\n",
       "    <tr style=\"text-align: right;\">\n",
       "      <th></th>\n",
       "      <th>datetime</th>\n",
       "      <th>close</th>\n",
       "      <th>date</th>\n",
       "      <th>hour</th>\n",
       "      <th>dom</th>\n",
       "      <th>month</th>\n",
       "      <th>year</th>\n",
       "      <th>dow</th>\n",
       "      <th>doy</th>\n",
       "      <th>woy</th>\n",
       "      <th>...</th>\n",
       "      <th>close_rolling_min_28</th>\n",
       "      <th>close_rolling_mean_29</th>\n",
       "      <th>close_rolling_max_29</th>\n",
       "      <th>close_rolling_min_29</th>\n",
       "      <th>ramp1</th>\n",
       "      <th>ramp2</th>\n",
       "      <th>ramp3</th>\n",
       "      <th>ramp4</th>\n",
       "      <th>ramp_close</th>\n",
       "      <th>target</th>\n",
       "    </tr>\n",
       "  </thead>\n",
       "  <tbody>\n",
       "    <tr>\n",
       "      <th>4652</th>\n",
       "      <td>2024-01-31 13:15:00</td>\n",
       "      <td>21685.80</td>\n",
       "      <td>2024-01-31</td>\n",
       "      <td>14</td>\n",
       "      <td>31</td>\n",
       "      <td>1</td>\n",
       "      <td>2024</td>\n",
       "      <td>2</td>\n",
       "      <td>31</td>\n",
       "      <td>5</td>\n",
       "      <td>...</td>\n",
       "      <td>21265.50</td>\n",
       "      <td>21544.006897</td>\n",
       "      <td>21762.95</td>\n",
       "      <td>21265.50</td>\n",
       "      <td>-6.95</td>\n",
       "      <td>-24.05</td>\n",
       "      <td>58.60</td>\n",
       "      <td>53.75</td>\n",
       "      <td>20.05</td>\n",
       "      <td>21722.25</td>\n",
       "    </tr>\n",
       "    <tr>\n",
       "      <th>4653</th>\n",
       "      <td>2024-01-31 14:15:00</td>\n",
       "      <td>21727.65</td>\n",
       "      <td>2024-01-31</td>\n",
       "      <td>15</td>\n",
       "      <td>31</td>\n",
       "      <td>1</td>\n",
       "      <td>2024</td>\n",
       "      <td>2</td>\n",
       "      <td>31</td>\n",
       "      <td>5</td>\n",
       "      <td>...</td>\n",
       "      <td>21265.50</td>\n",
       "      <td>21557.281034</td>\n",
       "      <td>21762.95</td>\n",
       "      <td>21265.50</td>\n",
       "      <td>41.85</td>\n",
       "      <td>-6.95</td>\n",
       "      <td>-24.05</td>\n",
       "      <td>58.60</td>\n",
       "      <td>200.30</td>\n",
       "      <td>21681.45</td>\n",
       "    </tr>\n",
       "    <tr>\n",
       "      <th>4654</th>\n",
       "      <td>2024-01-31 15:15:00</td>\n",
       "      <td>21708.30</td>\n",
       "      <td>2024-01-31</td>\n",
       "      <td>16</td>\n",
       "      <td>31</td>\n",
       "      <td>1</td>\n",
       "      <td>2024</td>\n",
       "      <td>2</td>\n",
       "      <td>31</td>\n",
       "      <td>5</td>\n",
       "      <td>...</td>\n",
       "      <td>21265.50</td>\n",
       "      <td>21570.624138</td>\n",
       "      <td>21762.95</td>\n",
       "      <td>21265.50</td>\n",
       "      <td>-19.35</td>\n",
       "      <td>41.85</td>\n",
       "      <td>-6.95</td>\n",
       "      <td>-24.05</td>\n",
       "      <td>177.75</td>\n",
       "      <td>21690.30</td>\n",
       "    </tr>\n",
       "    <tr>\n",
       "      <th>4655</th>\n",
       "      <td>2024-02-01 09:15:00</td>\n",
       "      <td>21783.90</td>\n",
       "      <td>2024-02-01</td>\n",
       "      <td>10</td>\n",
       "      <td>1</td>\n",
       "      <td>2</td>\n",
       "      <td>2024</td>\n",
       "      <td>3</td>\n",
       "      <td>32</td>\n",
       "      <td>5</td>\n",
       "      <td>...</td>\n",
       "      <td>21265.50</td>\n",
       "      <td>21579.322414</td>\n",
       "      <td>21762.95</td>\n",
       "      <td>21265.50</td>\n",
       "      <td>75.60</td>\n",
       "      <td>-19.35</td>\n",
       "      <td>41.85</td>\n",
       "      <td>-6.95</td>\n",
       "      <td>179.45</td>\n",
       "      <td>21937.85</td>\n",
       "    </tr>\n",
       "    <tr>\n",
       "      <th>4656</th>\n",
       "      <td>2024-02-01 10:15:00</td>\n",
       "      <td>21783.25</td>\n",
       "      <td>2024-02-01</td>\n",
       "      <td>11</td>\n",
       "      <td>1</td>\n",
       "      <td>2</td>\n",
       "      <td>2024</td>\n",
       "      <td>3</td>\n",
       "      <td>32</td>\n",
       "      <td>5</td>\n",
       "      <td>...</td>\n",
       "      <td>21265.50</td>\n",
       "      <td>21590.467241</td>\n",
       "      <td>21783.90</td>\n",
       "      <td>21265.50</td>\n",
       "      <td>-0.65</td>\n",
       "      <td>75.60</td>\n",
       "      <td>-19.35</td>\n",
       "      <td>41.85</td>\n",
       "      <td>125.05</td>\n",
       "      <td>21989.65</td>\n",
       "    </tr>\n",
       "    <tr>\n",
       "      <th>4657</th>\n",
       "      <td>2024-02-01 11:15:00</td>\n",
       "      <td>21738.50</td>\n",
       "      <td>2024-02-01</td>\n",
       "      <td>12</td>\n",
       "      <td>1</td>\n",
       "      <td>2</td>\n",
       "      <td>2024</td>\n",
       "      <td>3</td>\n",
       "      <td>32</td>\n",
       "      <td>5</td>\n",
       "      <td>...</td>\n",
       "      <td>21279.75</td>\n",
       "      <td>21604.753448</td>\n",
       "      <td>21783.90</td>\n",
       "      <td>21265.50</td>\n",
       "      <td>-44.75</td>\n",
       "      <td>-0.65</td>\n",
       "      <td>75.60</td>\n",
       "      <td>-19.35</td>\n",
       "      <td>21.70</td>\n",
       "      <td>22058.80</td>\n",
       "    </tr>\n",
       "    <tr>\n",
       "      <th>4658</th>\n",
       "      <td>2024-02-01 12:15:00</td>\n",
       "      <td>21730.15</td>\n",
       "      <td>2024-02-01</td>\n",
       "      <td>13</td>\n",
       "      <td>1</td>\n",
       "      <td>2</td>\n",
       "      <td>2024</td>\n",
       "      <td>3</td>\n",
       "      <td>32</td>\n",
       "      <td>5</td>\n",
       "      <td>...</td>\n",
       "      <td>21279.75</td>\n",
       "      <td>21621.063793</td>\n",
       "      <td>21783.90</td>\n",
       "      <td>21279.75</td>\n",
       "      <td>-8.35</td>\n",
       "      <td>-44.75</td>\n",
       "      <td>-0.65</td>\n",
       "      <td>75.60</td>\n",
       "      <td>37.40</td>\n",
       "      <td>21846.30</td>\n",
       "    </tr>\n",
       "    <tr>\n",
       "      <th>4659</th>\n",
       "      <td>2024-02-01 13:15:00</td>\n",
       "      <td>21722.25</td>\n",
       "      <td>2024-02-01</td>\n",
       "      <td>14</td>\n",
       "      <td>1</td>\n",
       "      <td>2</td>\n",
       "      <td>2024</td>\n",
       "      <td>3</td>\n",
       "      <td>32</td>\n",
       "      <td>5</td>\n",
       "      <td>...</td>\n",
       "      <td>21279.75</td>\n",
       "      <td>21636.020690</td>\n",
       "      <td>21783.90</td>\n",
       "      <td>21279.75</td>\n",
       "      <td>-7.90</td>\n",
       "      <td>-8.35</td>\n",
       "      <td>-44.75</td>\n",
       "      <td>-0.65</td>\n",
       "      <td>36.45</td>\n",
       "      <td>21892.80</td>\n",
       "    </tr>\n",
       "    <tr>\n",
       "      <th>4660</th>\n",
       "      <td>2024-02-01 14:15:00</td>\n",
       "      <td>21681.45</td>\n",
       "      <td>2024-02-01</td>\n",
       "      <td>15</td>\n",
       "      <td>1</td>\n",
       "      <td>2</td>\n",
       "      <td>2024</td>\n",
       "      <td>3</td>\n",
       "      <td>32</td>\n",
       "      <td>5</td>\n",
       "      <td>...</td>\n",
       "      <td>21343.30</td>\n",
       "      <td>21651.127586</td>\n",
       "      <td>21783.90</td>\n",
       "      <td>21279.75</td>\n",
       "      <td>-40.80</td>\n",
       "      <td>-7.90</td>\n",
       "      <td>-8.35</td>\n",
       "      <td>-44.75</td>\n",
       "      <td>-46.20</td>\n",
       "      <td>21855.70</td>\n",
       "    </tr>\n",
       "    <tr>\n",
       "      <th>4661</th>\n",
       "      <td>2024-02-01 15:15:00</td>\n",
       "      <td>21690.30</td>\n",
       "      <td>2024-02-01</td>\n",
       "      <td>16</td>\n",
       "      <td>1</td>\n",
       "      <td>2</td>\n",
       "      <td>2024</td>\n",
       "      <td>3</td>\n",
       "      <td>32</td>\n",
       "      <td>5</td>\n",
       "      <td>...</td>\n",
       "      <td>21370.75</td>\n",
       "      <td>21664.979310</td>\n",
       "      <td>21783.90</td>\n",
       "      <td>21343.30</td>\n",
       "      <td>8.85</td>\n",
       "      <td>-40.80</td>\n",
       "      <td>-7.90</td>\n",
       "      <td>-8.35</td>\n",
       "      <td>-18.00</td>\n",
       "      <td>21855.45</td>\n",
       "    </tr>\n",
       "  </tbody>\n",
       "</table>\n",
       "<p>10 rows × 134 columns</p>\n",
       "</div>"
      ],
      "text/plain": [
       "                datetime     close        date  hour  dom  month  year  dow  \\\n",
       "4652 2024-01-31 13:15:00  21685.80  2024-01-31    14   31      1  2024    2   \n",
       "4653 2024-01-31 14:15:00  21727.65  2024-01-31    15   31      1  2024    2   \n",
       "4654 2024-01-31 15:15:00  21708.30  2024-01-31    16   31      1  2024    2   \n",
       "4655 2024-02-01 09:15:00  21783.90  2024-02-01    10    1      2  2024    3   \n",
       "4656 2024-02-01 10:15:00  21783.25  2024-02-01    11    1      2  2024    3   \n",
       "4657 2024-02-01 11:15:00  21738.50  2024-02-01    12    1      2  2024    3   \n",
       "4658 2024-02-01 12:15:00  21730.15  2024-02-01    13    1      2  2024    3   \n",
       "4659 2024-02-01 13:15:00  21722.25  2024-02-01    14    1      2  2024    3   \n",
       "4660 2024-02-01 14:15:00  21681.45  2024-02-01    15    1      2  2024    3   \n",
       "4661 2024-02-01 15:15:00  21690.30  2024-02-01    16    1      2  2024    3   \n",
       "\n",
       "      doy  woy  ...  close_rolling_min_28  close_rolling_mean_29  \\\n",
       "4652   31    5  ...              21265.50           21544.006897   \n",
       "4653   31    5  ...              21265.50           21557.281034   \n",
       "4654   31    5  ...              21265.50           21570.624138   \n",
       "4655   32    5  ...              21265.50           21579.322414   \n",
       "4656   32    5  ...              21265.50           21590.467241   \n",
       "4657   32    5  ...              21279.75           21604.753448   \n",
       "4658   32    5  ...              21279.75           21621.063793   \n",
       "4659   32    5  ...              21279.75           21636.020690   \n",
       "4660   32    5  ...              21343.30           21651.127586   \n",
       "4661   32    5  ...              21370.75           21664.979310   \n",
       "\n",
       "      close_rolling_max_29  close_rolling_min_29  ramp1  ramp2  ramp3  ramp4  \\\n",
       "4652              21762.95              21265.50  -6.95 -24.05  58.60  53.75   \n",
       "4653              21762.95              21265.50  41.85  -6.95 -24.05  58.60   \n",
       "4654              21762.95              21265.50 -19.35  41.85  -6.95 -24.05   \n",
       "4655              21762.95              21265.50  75.60 -19.35  41.85  -6.95   \n",
       "4656              21783.90              21265.50  -0.65  75.60 -19.35  41.85   \n",
       "4657              21783.90              21265.50 -44.75  -0.65  75.60 -19.35   \n",
       "4658              21783.90              21279.75  -8.35 -44.75  -0.65  75.60   \n",
       "4659              21783.90              21279.75  -7.90  -8.35 -44.75  -0.65   \n",
       "4660              21783.90              21279.75 -40.80  -7.90  -8.35 -44.75   \n",
       "4661              21783.90              21343.30   8.85 -40.80  -7.90  -8.35   \n",
       "\n",
       "      ramp_close    target  \n",
       "4652       20.05  21722.25  \n",
       "4653      200.30  21681.45  \n",
       "4654      177.75  21690.30  \n",
       "4655      179.45  21937.85  \n",
       "4656      125.05  21989.65  \n",
       "4657       21.70  22058.80  \n",
       "4658       37.40  21846.30  \n",
       "4659       36.45  21892.80  \n",
       "4660      -46.20  21855.70  \n",
       "4661      -18.00  21855.45  \n",
       "\n",
       "[10 rows x 134 columns]"
      ]
     },
     "execution_count": 179,
     "metadata": {},
     "output_type": "execute_result"
    }
   ],
   "source": [
    "print(f'Before Dropping nans: {data_for_training.shape}')\n",
    "data_for_training.dropna(inplace=True) # Dropping nans  # HERE PROBLEM IS THAT WE LOST NEXT DAY PREDICTION DATA\n",
    "data_for_training.reset_index(inplace=True) # Resetting index\n",
    "print(data_for_training.shape)\n",
    "data_for_training.tail(10)"
   ]
  },
  {
   "cell_type": "markdown",
   "id": "8cef1511",
   "metadata": {
    "id": "EkA8nOwWVq9f"
   },
   "source": [
    "## Train Test Split"
   ]
  },
  {
   "cell_type": "code",
   "execution_count": 180,
   "id": "c121f96e",
   "metadata": {},
   "outputs": [
    {
     "name": "stdout",
     "output_type": "stream",
     "text": [
      "2024-02-01 15:15:00\n",
      "2024-01-02 04:45:54\n",
      "2024-01-02 09:15:00\n"
     ]
    }
   ],
   "source": [
    "## Experiments to check code\n",
    "\n",
    "print(data_for_training['datetime'].max())\n",
    "\n",
    "print(data_for_training['datetime'].max() - np.timedelta64(1, 'M'))\n",
    "\n",
    "st_date = data_for_training['datetime'].max() - np.timedelta64(1, 'M')\n",
    "f = dt.datetime(st_date.year, st_date.month, st_date.day, 9, 15)\n",
    "print(f)"
   ]
  },
  {
   "cell_type": "code",
   "execution_count": 181,
   "id": "3d8d29d5",
   "metadata": {
    "id": "NTjiVbYKZHwi"
   },
   "outputs": [
    {
     "name": "stdout",
     "output_type": "stream",
     "text": [
      "X Train Date till: 2023-11-02 15:15:00\n",
      "X Validation Date till: 2024-01-02 15:15:00\n"
     ]
    }
   ],
   "source": [
    "#months_for_cutoff = 3\n",
    "#months_for_cutoff = 2\n",
    "\n",
    "val_cut = data_for_training['datetime'].max() - np.timedelta64(3, 'M')\n",
    "test_cut = data_for_training['datetime'].max() - np.timedelta64(1, 'M')\n",
    "\n",
    "validation_cutoff = dt.datetime(val_cut.year, val_cut.month, val_cut.day, 15, 15)\n",
    "test_cutoff = dt.datetime(test_cut.year, test_cut.month, test_cut.day, 15, 15)\n",
    "\n",
    "print(f\"X Train Date till: {validation_cutoff}\")\n",
    "print(f\"X Validation Date till: {test_cutoff}\")\n",
    "#print(f\"X Test Date till: {data_for_training['datetime'].max()}\")"
   ]
  },
  {
   "cell_type": "code",
   "execution_count": 182,
   "id": "43206008",
   "metadata": {},
   "outputs": [
    {
     "data": {
      "text/plain": [
       "Index(['datetime', 'close', 'hour', 'dom', 'month', 'dow', 'doy', 'woy',\n",
       "       'week_number', 'friday',\n",
       "       ...\n",
       "       'close_rolling_max_28', 'close_rolling_min_28', 'close_rolling_mean_29',\n",
       "       'close_rolling_max_29', 'close_rolling_min_29', 'ramp1', 'ramp2',\n",
       "       'ramp3', 'ramp4', 'ramp_close'],\n",
       "      dtype='object', length=131)"
      ]
     },
     "execution_count": 182,
     "metadata": {},
     "output_type": "execute_result"
    }
   ],
   "source": [
    "X = data_for_training[X_features].copy()\n",
    "y = data_for_training[y_features].copy()\n",
    "X.columns"
   ]
  },
  {
   "cell_type": "code",
   "execution_count": 183,
   "id": "4f73ee20",
   "metadata": {},
   "outputs": [],
   "source": [
    "def train_valid_test_split(X, y, validation_cutoff, test_cutoff):\n",
    "    X_train = X[X['datetime'] <= validation_cutoff].iloc[:,1:].copy()\n",
    "    y_train = y[y['datetime'] <= validation_cutoff].iloc[:,1:].copy()\n",
    "    X_valid = X[(X['datetime'] > validation_cutoff) & (X['datetime'] <= test_cutoff)].iloc[:,1:].copy()\n",
    "    y_valid = y[(y['datetime'] > validation_cutoff) & (y['datetime'] <= test_cutoff)].iloc[:,1:].copy()\n",
    "    X_test = X[X['datetime'] > test_cutoff].iloc[:,1:].copy()\n",
    "    y_test = y[y['datetime'] > test_cutoff].iloc[:,1:].copy()\n",
    "    print(f'X Train: {X_train.shape}')\n",
    "    print(f'X Validation: {X_valid.shape}')\n",
    "    print(f'X Test: {X_test.shape}')\n",
    "    print(f'y Train: {y_train.shape}')\n",
    "    print(f'y Validation: {y_valid.shape}')\n",
    "    print(f'y Test: {y_test.shape}')\n",
    "    \n",
    "    print(\"\\n\")\n",
    "  \n",
    "    X_train_date = X[X['datetime'] <= validation_cutoff].iloc[:,0:1].copy()\n",
    "    X_valid_date = X[(X['datetime'] > validation_cutoff) & (X['datetime'] <= test_cutoff)].iloc[:,0:1].copy()\n",
    "    X_test_date = X[X['datetime'] > test_cutoff].iloc[:,0:1].copy()\n",
    "    print(f\"X Train Date:      {X_train_date['datetime'].max()}\")\n",
    "    print(f\"X Validation Date: {X_valid_date['datetime'].max()}\")\n",
    "    print(f\"X Test Date:       {X_test_date['datetime'].max()}\")\n",
    "\n",
    "    return X_train, y_train, X_valid, y_valid, X_test, y_test"
   ]
  },
  {
   "cell_type": "code",
   "execution_count": 184,
   "id": "d69e7a24",
   "metadata": {
    "id": "QzSdiHCpzNZY",
    "scrolled": true
   },
   "outputs": [
    {
     "name": "stdout",
     "output_type": "stream",
     "text": [
      "X Train: (4234, 130)\n",
      "X Validation: (281, 130)\n",
      "X Test: (147, 130)\n",
      "y Train: (4234, 1)\n",
      "y Validation: (281, 1)\n",
      "y Test: (147, 1)\n",
      "\n",
      "\n",
      "X Train Date:      2023-11-02 15:15:00\n",
      "X Validation Date: 2024-01-02 15:15:00\n",
      "X Test Date:       2024-02-01 15:15:00\n"
     ]
    }
   ],
   "source": [
    "X_train, y_train, X_valid, y_valid, X_test, y_test = train_valid_test_split(X, y, validation_cutoff, test_cutoff)"
   ]
  },
  {
   "cell_type": "code",
   "execution_count": 185,
   "id": "e11c72f7",
   "metadata": {},
   "outputs": [
    {
     "data": {
      "text/plain": [
       "Index(['datetime', 'close', 'hour', 'dom', 'month', 'dow', 'doy', 'woy',\n",
       "       'week_number', 'friday',\n",
       "       ...\n",
       "       'close_rolling_max_28', 'close_rolling_min_28', 'close_rolling_mean_29',\n",
       "       'close_rolling_max_29', 'close_rolling_min_29', 'ramp1', 'ramp2',\n",
       "       'ramp3', 'ramp4', 'ramp_close'],\n",
       "      dtype='object', length=131)"
      ]
     },
     "execution_count": 185,
     "metadata": {},
     "output_type": "execute_result"
    }
   ],
   "source": [
    "X.columns"
   ]
  },
  {
   "cell_type": "code",
   "execution_count": 186,
   "id": "a63bd605",
   "metadata": {},
   "outputs": [
    {
     "data": {
      "text/plain": [
       "Index(['close', 'hour', 'dom', 'month', 'dow', 'doy', 'woy', 'week_number',\n",
       "       'friday', 'covid',\n",
       "       ...\n",
       "       'close_rolling_max_28', 'close_rolling_min_28', 'close_rolling_mean_29',\n",
       "       'close_rolling_max_29', 'close_rolling_min_29', 'ramp1', 'ramp2',\n",
       "       'ramp3', 'ramp4', 'ramp_close'],\n",
       "      dtype='object', length=130)"
      ]
     },
     "execution_count": 186,
     "metadata": {},
     "output_type": "execute_result"
    }
   ],
   "source": [
    "X_train.columns"
   ]
  },
  {
   "cell_type": "code",
   "execution_count": 187,
   "id": "643e9803",
   "metadata": {},
   "outputs": [
    {
     "data": {
      "text/html": [
       "<div>\n",
       "<style scoped>\n",
       "    .dataframe tbody tr th:only-of-type {\n",
       "        vertical-align: middle;\n",
       "    }\n",
       "\n",
       "    .dataframe tbody tr th {\n",
       "        vertical-align: top;\n",
       "    }\n",
       "\n",
       "    .dataframe thead th {\n",
       "        text-align: right;\n",
       "    }\n",
       "</style>\n",
       "<table border=\"1\" class=\"dataframe\">\n",
       "  <thead>\n",
       "    <tr style=\"text-align: right;\">\n",
       "      <th></th>\n",
       "      <th>close</th>\n",
       "      <th>hour</th>\n",
       "      <th>dom</th>\n",
       "      <th>month</th>\n",
       "      <th>dow</th>\n",
       "      <th>doy</th>\n",
       "      <th>woy</th>\n",
       "      <th>week_number</th>\n",
       "      <th>friday</th>\n",
       "      <th>covid</th>\n",
       "      <th>...</th>\n",
       "      <th>close_rolling_max_28</th>\n",
       "      <th>close_rolling_min_28</th>\n",
       "      <th>close_rolling_mean_29</th>\n",
       "      <th>close_rolling_max_29</th>\n",
       "      <th>close_rolling_min_29</th>\n",
       "      <th>ramp1</th>\n",
       "      <th>ramp2</th>\n",
       "      <th>ramp3</th>\n",
       "      <th>ramp4</th>\n",
       "      <th>ramp_close</th>\n",
       "    </tr>\n",
       "  </thead>\n",
       "  <tbody>\n",
       "    <tr>\n",
       "      <th>4229</th>\n",
       "      <td>19079.20</td>\n",
       "      <td>12</td>\n",
       "      <td>2</td>\n",
       "      <td>11</td>\n",
       "      <td>3</td>\n",
       "      <td>306</td>\n",
       "      <td>44</td>\n",
       "      <td>44</td>\n",
       "      <td>0.0</td>\n",
       "      <td>0.0</td>\n",
       "      <td>...</td>\n",
       "      <td>19148.85</td>\n",
       "      <td>18990.4</td>\n",
       "      <td>19070.336207</td>\n",
       "      <td>19148.85</td>\n",
       "      <td>18990.4</td>\n",
       "      <td>-48.65</td>\n",
       "      <td>3.25</td>\n",
       "      <td>134.20</td>\n",
       "      <td>-0.20</td>\n",
       "      <td>27.70</td>\n",
       "    </tr>\n",
       "    <tr>\n",
       "      <th>4230</th>\n",
       "      <td>19112.75</td>\n",
       "      <td>13</td>\n",
       "      <td>2</td>\n",
       "      <td>11</td>\n",
       "      <td>3</td>\n",
       "      <td>306</td>\n",
       "      <td>44</td>\n",
       "      <td>44</td>\n",
       "      <td>0.0</td>\n",
       "      <td>0.0</td>\n",
       "      <td>...</td>\n",
       "      <td>19148.85</td>\n",
       "      <td>18990.4</td>\n",
       "      <td>19072.681034</td>\n",
       "      <td>19148.85</td>\n",
       "      <td>18990.4</td>\n",
       "      <td>33.55</td>\n",
       "      <td>-48.65</td>\n",
       "      <td>3.25</td>\n",
       "      <td>134.20</td>\n",
       "      <td>109.80</td>\n",
       "    </tr>\n",
       "    <tr>\n",
       "      <th>4231</th>\n",
       "      <td>19125.80</td>\n",
       "      <td>14</td>\n",
       "      <td>2</td>\n",
       "      <td>11</td>\n",
       "      <td>3</td>\n",
       "      <td>306</td>\n",
       "      <td>44</td>\n",
       "      <td>44</td>\n",
       "      <td>0.0</td>\n",
       "      <td>0.0</td>\n",
       "      <td>...</td>\n",
       "      <td>19148.85</td>\n",
       "      <td>18990.4</td>\n",
       "      <td>19074.886207</td>\n",
       "      <td>19148.85</td>\n",
       "      <td>18990.4</td>\n",
       "      <td>13.05</td>\n",
       "      <td>33.55</td>\n",
       "      <td>-48.65</td>\n",
       "      <td>3.25</td>\n",
       "      <td>110.70</td>\n",
       "    </tr>\n",
       "    <tr>\n",
       "      <th>4232</th>\n",
       "      <td>19120.45</td>\n",
       "      <td>15</td>\n",
       "      <td>2</td>\n",
       "      <td>11</td>\n",
       "      <td>3</td>\n",
       "      <td>306</td>\n",
       "      <td>44</td>\n",
       "      <td>44</td>\n",
       "      <td>0.0</td>\n",
       "      <td>0.0</td>\n",
       "      <td>...</td>\n",
       "      <td>19148.85</td>\n",
       "      <td>18990.4</td>\n",
       "      <td>19078.263793</td>\n",
       "      <td>19148.85</td>\n",
       "      <td>18990.4</td>\n",
       "      <td>-5.35</td>\n",
       "      <td>13.05</td>\n",
       "      <td>33.55</td>\n",
       "      <td>-48.65</td>\n",
       "      <td>129.85</td>\n",
       "    </tr>\n",
       "    <tr>\n",
       "      <th>4233</th>\n",
       "      <td>19144.85</td>\n",
       "      <td>16</td>\n",
       "      <td>2</td>\n",
       "      <td>11</td>\n",
       "      <td>3</td>\n",
       "      <td>306</td>\n",
       "      <td>44</td>\n",
       "      <td>44</td>\n",
       "      <td>0.0</td>\n",
       "      <td>0.0</td>\n",
       "      <td>...</td>\n",
       "      <td>19148.85</td>\n",
       "      <td>18990.4</td>\n",
       "      <td>19080.372414</td>\n",
       "      <td>19148.85</td>\n",
       "      <td>18990.4</td>\n",
       "      <td>24.40</td>\n",
       "      <td>-5.35</td>\n",
       "      <td>13.05</td>\n",
       "      <td>33.55</td>\n",
       "      <td>154.45</td>\n",
       "    </tr>\n",
       "  </tbody>\n",
       "</table>\n",
       "<p>5 rows × 130 columns</p>\n",
       "</div>"
      ],
      "text/plain": [
       "         close  hour  dom  month  dow  doy  woy  week_number  friday  covid  \\\n",
       "4229  19079.20    12    2     11    3  306   44           44     0.0    0.0   \n",
       "4230  19112.75    13    2     11    3  306   44           44     0.0    0.0   \n",
       "4231  19125.80    14    2     11    3  306   44           44     0.0    0.0   \n",
       "4232  19120.45    15    2     11    3  306   44           44     0.0    0.0   \n",
       "4233  19144.85    16    2     11    3  306   44           44     0.0    0.0   \n",
       "\n",
       "      ...  close_rolling_max_28  close_rolling_min_28  close_rolling_mean_29  \\\n",
       "4229  ...              19148.85               18990.4           19070.336207   \n",
       "4230  ...              19148.85               18990.4           19072.681034   \n",
       "4231  ...              19148.85               18990.4           19074.886207   \n",
       "4232  ...              19148.85               18990.4           19078.263793   \n",
       "4233  ...              19148.85               18990.4           19080.372414   \n",
       "\n",
       "      close_rolling_max_29  close_rolling_min_29  ramp1  ramp2   ramp3  \\\n",
       "4229              19148.85               18990.4 -48.65   3.25  134.20   \n",
       "4230              19148.85               18990.4  33.55 -48.65    3.25   \n",
       "4231              19148.85               18990.4  13.05  33.55  -48.65   \n",
       "4232              19148.85               18990.4  -5.35  13.05   33.55   \n",
       "4233              19148.85               18990.4  24.40  -5.35   13.05   \n",
       "\n",
       "       ramp4  ramp_close  \n",
       "4229   -0.20       27.70  \n",
       "4230  134.20      109.80  \n",
       "4231    3.25      110.70  \n",
       "4232  -48.65      129.85  \n",
       "4233   33.55      154.45  \n",
       "\n",
       "[5 rows x 130 columns]"
      ]
     },
     "execution_count": 187,
     "metadata": {},
     "output_type": "execute_result"
    }
   ],
   "source": [
    "X_train.tail()"
   ]
  },
  {
   "cell_type": "markdown",
   "id": "4d8242bb",
   "metadata": {
    "id": "F1MXTLNc_EGA"
   },
   "source": [
    "# Mode-1 (XGBoost)"
   ]
  },
  {
   "cell_type": "code",
   "execution_count": 188,
   "id": "9b690e97",
   "metadata": {
    "id": "Fbf_Db2ARSsm"
   },
   "outputs": [
    {
     "data": {
      "text/html": [
       "<style>#sk-container-id-3 {color: black;}#sk-container-id-3 pre{padding: 0;}#sk-container-id-3 div.sk-toggleable {background-color: white;}#sk-container-id-3 label.sk-toggleable__label {cursor: pointer;display: block;width: 100%;margin-bottom: 0;padding: 0.3em;box-sizing: border-box;text-align: center;}#sk-container-id-3 label.sk-toggleable__label-arrow:before {content: \"▸\";float: left;margin-right: 0.25em;color: #696969;}#sk-container-id-3 label.sk-toggleable__label-arrow:hover:before {color: black;}#sk-container-id-3 div.sk-estimator:hover label.sk-toggleable__label-arrow:before {color: black;}#sk-container-id-3 div.sk-toggleable__content {max-height: 0;max-width: 0;overflow: hidden;text-align: left;background-color: #f0f8ff;}#sk-container-id-3 div.sk-toggleable__content pre {margin: 0.2em;color: black;border-radius: 0.25em;background-color: #f0f8ff;}#sk-container-id-3 input.sk-toggleable__control:checked~div.sk-toggleable__content {max-height: 200px;max-width: 100%;overflow: auto;}#sk-container-id-3 input.sk-toggleable__control:checked~label.sk-toggleable__label-arrow:before {content: \"▾\";}#sk-container-id-3 div.sk-estimator input.sk-toggleable__control:checked~label.sk-toggleable__label {background-color: #d4ebff;}#sk-container-id-3 div.sk-label input.sk-toggleable__control:checked~label.sk-toggleable__label {background-color: #d4ebff;}#sk-container-id-3 input.sk-hidden--visually {border: 0;clip: rect(1px 1px 1px 1px);clip: rect(1px, 1px, 1px, 1px);height: 1px;margin: -1px;overflow: hidden;padding: 0;position: absolute;width: 1px;}#sk-container-id-3 div.sk-estimator {font-family: monospace;background-color: #f0f8ff;border: 1px dotted black;border-radius: 0.25em;box-sizing: border-box;margin-bottom: 0.5em;}#sk-container-id-3 div.sk-estimator:hover {background-color: #d4ebff;}#sk-container-id-3 div.sk-parallel-item::after {content: \"\";width: 100%;border-bottom: 1px solid gray;flex-grow: 1;}#sk-container-id-3 div.sk-label:hover label.sk-toggleable__label {background-color: #d4ebff;}#sk-container-id-3 div.sk-serial::before {content: \"\";position: absolute;border-left: 1px solid gray;box-sizing: border-box;top: 0;bottom: 0;left: 50%;z-index: 0;}#sk-container-id-3 div.sk-serial {display: flex;flex-direction: column;align-items: center;background-color: white;padding-right: 0.2em;padding-left: 0.2em;position: relative;}#sk-container-id-3 div.sk-item {position: relative;z-index: 1;}#sk-container-id-3 div.sk-parallel {display: flex;align-items: stretch;justify-content: center;background-color: white;position: relative;}#sk-container-id-3 div.sk-item::before, #sk-container-id-3 div.sk-parallel-item::before {content: \"\";position: absolute;border-left: 1px solid gray;box-sizing: border-box;top: 0;bottom: 0;left: 50%;z-index: -1;}#sk-container-id-3 div.sk-parallel-item {display: flex;flex-direction: column;z-index: 1;position: relative;background-color: white;}#sk-container-id-3 div.sk-parallel-item:first-child::after {align-self: flex-end;width: 50%;}#sk-container-id-3 div.sk-parallel-item:last-child::after {align-self: flex-start;width: 50%;}#sk-container-id-3 div.sk-parallel-item:only-child::after {width: 0;}#sk-container-id-3 div.sk-dashed-wrapped {border: 1px dashed gray;margin: 0 0.4em 0.5em 0.4em;box-sizing: border-box;padding-bottom: 0.4em;background-color: white;}#sk-container-id-3 div.sk-label label {font-family: monospace;font-weight: bold;display: inline-block;line-height: 1.2em;}#sk-container-id-3 div.sk-label-container {text-align: center;}#sk-container-id-3 div.sk-container {/* jupyter's `normalize.less` sets `[hidden] { display: none; }` but bootstrap.min.css set `[hidden] { display: none !important; }` so we also need the `!important` here to be able to override the default hidden behavior on the sphinx rendered scikit-learn.org. See: https://github.com/scikit-learn/scikit-learn/issues/21755 */display: inline-block !important;position: relative;}#sk-container-id-3 div.sk-text-repr-fallback {display: none;}</style><div id=\"sk-container-id-3\" class=\"sk-top-container\"><div class=\"sk-text-repr-fallback\"><pre>XGBRegressor(alpha=0, base_score=None, booster=&#x27;gbtree&#x27;, callbacks=None,\n",
       "             colsample_bylevel=None, colsample_bynode=None,\n",
       "             colsample_bytree=None, early_stopping_rounds=None,\n",
       "             enable_categorical=False, eval_metric=None, feature_types=None,\n",
       "             gamma=0, gpu_id=None, grow_policy=None, importance_type=None,\n",
       "             interaction_constraints=None, learning_rate=0.1, max_bin=None,\n",
       "             max_cat_threshold=None, max_cat_to_onehot=None,\n",
       "             max_delta_step=None, max_depth=10, max_leaves=None,\n",
       "             min_child_weight=None, missing=nan, monotone_constraints=None,\n",
       "             n_estimators=1000, n_jobs=None, num_parallel_tree=None,\n",
       "             predictor=None, ...)</pre><b>In a Jupyter environment, please rerun this cell to show the HTML representation or trust the notebook. <br />On GitHub, the HTML representation is unable to render, please try loading this page with nbviewer.org.</b></div><div class=\"sk-container\" hidden><div class=\"sk-item\"><div class=\"sk-estimator sk-toggleable\"><input class=\"sk-toggleable__control sk-hidden--visually\" id=\"sk-estimator-id-3\" type=\"checkbox\" checked><label for=\"sk-estimator-id-3\" class=\"sk-toggleable__label sk-toggleable__label-arrow\">XGBRegressor</label><div class=\"sk-toggleable__content\"><pre>XGBRegressor(alpha=0, base_score=None, booster=&#x27;gbtree&#x27;, callbacks=None,\n",
       "             colsample_bylevel=None, colsample_bynode=None,\n",
       "             colsample_bytree=None, early_stopping_rounds=None,\n",
       "             enable_categorical=False, eval_metric=None, feature_types=None,\n",
       "             gamma=0, gpu_id=None, grow_policy=None, importance_type=None,\n",
       "             interaction_constraints=None, learning_rate=0.1, max_bin=None,\n",
       "             max_cat_threshold=None, max_cat_to_onehot=None,\n",
       "             max_delta_step=None, max_depth=10, max_leaves=None,\n",
       "             min_child_weight=None, missing=nan, monotone_constraints=None,\n",
       "             n_estimators=1000, n_jobs=None, num_parallel_tree=None,\n",
       "             predictor=None, ...)</pre></div></div></div></div></div>"
      ],
      "text/plain": [
       "XGBRegressor(alpha=0, base_score=None, booster='gbtree', callbacks=None,\n",
       "             colsample_bylevel=None, colsample_bynode=None,\n",
       "             colsample_bytree=None, early_stopping_rounds=None,\n",
       "             enable_categorical=False, eval_metric=None, feature_types=None,\n",
       "             gamma=0, gpu_id=None, grow_policy=None, importance_type=None,\n",
       "             interaction_constraints=None, learning_rate=0.1, max_bin=None,\n",
       "             max_cat_threshold=None, max_cat_to_onehot=None,\n",
       "             max_delta_step=None, max_depth=10, max_leaves=None,\n",
       "             min_child_weight=None, missing=nan, monotone_constraints=None,\n",
       "             n_estimators=1000, n_jobs=None, num_parallel_tree=None,\n",
       "             predictor=None, ...)"
      ]
     },
     "execution_count": 188,
     "metadata": {},
     "output_type": "execute_result"
    }
   ],
   "source": [
    "### Feature Selection\n",
    "\n",
    "\n",
    "# XGBoost\n",
    "import xgboost as xgb\n",
    "xgb_model = xgb.XGBRegressor(\n",
    "    #tree_method = \"gpu_hist\", # To use GPU\n",
    "    booster='gbtree',\n",
    "    objective='reg:squarederror',\n",
    "    n_estimators=1000,\n",
    "    max_depth=10,\n",
    "    learning_rate=0.1,\n",
    "    gamma=0,alpha=0,\n",
    "    seed=2\n",
    ")\n",
    "\n",
    "\n",
    "# Here we are not using scaled features as its not required for xgbboost reg\n",
    "eval_set = [(X_train, y_train), (X_valid, y_valid)]\n",
    "xgb_model.fit(X_train, y_train, early_stopping_rounds=30, eval_metric=\"mae\", eval_set=eval_set, verbose=False)\n",
    "#xgb_model.fit(X_train, y_train, eval_metric=\"mae\", eval_set=eval_set, verbose=200)\n"
   ]
  },
  {
   "cell_type": "code",
   "execution_count": 189,
   "id": "eac12e78",
   "metadata": {
    "id": "jGZGhvfCNwjb",
    "scrolled": false
   },
   "outputs": [
    {
     "data": {
      "text/plain": [
       "<matplotlib.legend.Legend at 0x24869552cd0>"
      ]
     },
     "execution_count": 189,
     "metadata": {},
     "output_type": "execute_result"
    },
    {
     "data": {
      "image/png": "[encoded data removed]",
      "text/plain": [
       "<Figure size 600x400 with 1 Axes>"
      ]
     },
     "metadata": {},
     "output_type": "display_data"
    }
   ],
   "source": [
    "results = xgb_model.evals_result()\n",
    "\n",
    "plt.figure(figsize=(6,4))\n",
    "plt.plot(results[\"validation_0\"][\"mae\"], label=\"Training loss\")\n",
    "plt.plot(results[\"validation_1\"][\"mae\"], label=\"Validation loss\")\n",
    "#plt.axvline(xgb_model.best_ntree_limit, color=\"gray\", label=\"Optimal tree number\")\n",
    "plt.xlabel(\"Number of trees\")\n",
    "plt.ylabel(\"Loss\")\n",
    "plt.legend()\n",
    "#print(f'No of Optimum Tress = {xgb_model.best_ntree_limit}')"
   ]
  },
  {
   "cell_type": "code",
   "execution_count": 190,
   "id": "a6e699e3",
   "metadata": {},
   "outputs": [
    {
     "name": "stdout",
     "output_type": "stream",
     "text": [
      "No of Optimum Tress = 298\n"
     ]
    }
   ],
   "source": [
    "print(f'No of Optimum Tress = {xgb_model.best_ntree_limit}')"
   ]
  },
  {
   "cell_type": "code",
   "execution_count": 191,
   "id": "2fb19c81",
   "metadata": {
    "id": "lRY4Dg-y_Hya",
    "scrolled": false
   },
   "outputs": [
    {
     "data": {
      "text/html": [
       "<div>\n",
       "<style scoped>\n",
       "    .dataframe tbody tr th:only-of-type {\n",
       "        vertical-align: middle;\n",
       "    }\n",
       "\n",
       "    .dataframe tbody tr th {\n",
       "        vertical-align: top;\n",
       "    }\n",
       "\n",
       "    .dataframe thead th {\n",
       "        text-align: right;\n",
       "    }\n",
       "</style>\n",
       "<table border=\"1\" class=\"dataframe\">\n",
       "  <thead>\n",
       "    <tr style=\"text-align: right;\">\n",
       "      <th></th>\n",
       "      <th>feature_names</th>\n",
       "      <th>feature_importance</th>\n",
       "    </tr>\n",
       "  </thead>\n",
       "  <tbody>\n",
       "    <tr>\n",
       "      <th>0</th>\n",
       "      <td>mcp_dam_ewm3h</td>\n",
       "      <td>0.139944</td>\n",
       "    </tr>\n",
       "    <tr>\n",
       "      <th>1</th>\n",
       "      <td>close_rolling_min_4</td>\n",
       "      <td>0.124221</td>\n",
       "    </tr>\n",
       "    <tr>\n",
       "      <th>2</th>\n",
       "      <td>close_rolling_max_18</td>\n",
       "      <td>0.097355</td>\n",
       "    </tr>\n",
       "    <tr>\n",
       "      <th>3</th>\n",
       "      <td>mcp_dam_ewm24h</td>\n",
       "      <td>0.094717</td>\n",
       "    </tr>\n",
       "    <tr>\n",
       "      <th>4</th>\n",
       "      <td>close</td>\n",
       "      <td>0.086511</td>\n",
       "    </tr>\n",
       "    <tr>\n",
       "      <th>...</th>\n",
       "      <td>...</td>\n",
       "      <td>...</td>\n",
       "    </tr>\n",
       "    <tr>\n",
       "      <th>125</th>\n",
       "      <td>week_number</td>\n",
       "      <td>0.000000</td>\n",
       "    </tr>\n",
       "    <tr>\n",
       "      <th>126</th>\n",
       "      <td>woy</td>\n",
       "      <td>0.000000</td>\n",
       "    </tr>\n",
       "    <tr>\n",
       "      <th>127</th>\n",
       "      <td>close_rolling_max_1</td>\n",
       "      <td>0.000000</td>\n",
       "    </tr>\n",
       "    <tr>\n",
       "      <th>128</th>\n",
       "      <td>cos_hour</td>\n",
       "      <td>0.000000</td>\n",
       "    </tr>\n",
       "    <tr>\n",
       "      <th>129</th>\n",
       "      <td>close_rolling_min_1</td>\n",
       "      <td>0.000000</td>\n",
       "    </tr>\n",
       "  </tbody>\n",
       "</table>\n",
       "<p>130 rows × 2 columns</p>\n",
       "</div>"
      ],
      "text/plain": [
       "            feature_names  feature_importance\n",
       "0           mcp_dam_ewm3h            0.139944\n",
       "1     close_rolling_min_4            0.124221\n",
       "2    close_rolling_max_18            0.097355\n",
       "3          mcp_dam_ewm24h            0.094717\n",
       "4                   close            0.086511\n",
       "..                    ...                 ...\n",
       "125           week_number            0.000000\n",
       "126                   woy            0.000000\n",
       "127   close_rolling_max_1            0.000000\n",
       "128              cos_hour            0.000000\n",
       "129   close_rolling_min_1            0.000000\n",
       "\n",
       "[130 rows x 2 columns]"
      ]
     },
     "execution_count": 191,
     "metadata": {},
     "output_type": "execute_result"
    }
   ],
   "source": [
    "feature_names= X_train.columns.tolist()\n",
    "xgb_features = pd.DataFrame({'feature_names': feature_names, \n",
    "                             'feature_importance': xgb_model.feature_importances_}).sort_values(by=['feature_importance'], ascending=False).reset_index(drop=True)\n",
    "xgb_features"
   ]
  },
  {
   "cell_type": "code",
   "execution_count": 192,
   "id": "6942e4fe",
   "metadata": {},
   "outputs": [
    {
     "data": {
      "text/plain": [
       "['mcp_dam_ewm3h',\n",
       " 'close_rolling_min_4',\n",
       " 'close_rolling_max_18',\n",
       " 'mcp_dam_ewm24h',\n",
       " 'close',\n",
       " 'close_rolling_min_26',\n",
       " 'close_rolling_max_29',\n",
       " 'close_rolling_min_15',\n",
       " 'close_rolling_max_13',\n",
       " 'close_rolling_min_3',\n",
       " 'close_rolling_max_3',\n",
       " 'close_rolling_min_29',\n",
       " 'close_rolling_min_23',\n",
       " 'close_rolling_max_10',\n",
       " 'close_rolling_min_16',\n",
       " 'close_rolling_max_8']"
      ]
     },
     "execution_count": 192,
     "metadata": {},
     "output_type": "execute_result"
    }
   ],
   "source": [
    "best_features = xgb_features[xgb_features['feature_importance']>=0.01]['feature_names'].tolist()\n",
    "best_features"
   ]
  },
  {
   "cell_type": "code",
   "execution_count": 193,
   "id": "af762d31",
   "metadata": {},
   "outputs": [],
   "source": [
    "#xgb_features.to_csv('features.csv', index=False) # Storing important features for analyzing"
   ]
  },
  {
   "cell_type": "markdown",
   "id": "fe00cddf",
   "metadata": {},
   "source": [
    "## Check all Best Features"
   ]
  },
  {
   "cell_type": "code",
   "execution_count": 194,
   "id": "fd4700a6",
   "metadata": {},
   "outputs": [],
   "source": [
    "if plot_show_or_not == True:\n",
    "    sns.heatmap(data[best_features].corr(), annot=True)"
   ]
  },
  {
   "cell_type": "code",
   "execution_count": 195,
   "id": "7625f7f7",
   "metadata": {},
   "outputs": [],
   "source": [
    "#sns.pairplot(data[best_features]) #later"
   ]
  },
  {
   "cell_type": "markdown",
   "id": "2f8dad17",
   "metadata": {
    "id": "ebpclJLMbhYj"
   },
   "source": [
    "## Hyperparameter Tuning with Optuna"
   ]
  },
  {
   "cell_type": "code",
   "execution_count": 196,
   "id": "ac0a0a0a",
   "metadata": {
    "id": "J9MaMICnna6o"
   },
   "outputs": [],
   "source": [
    "#pip install optuna"
   ]
  },
  {
   "cell_type": "code",
   "execution_count": 197,
   "id": "3f5f44bc",
   "metadata": {
    "id": "6PU2EOy4beev",
    "scrolled": false
   },
   "outputs": [
    {
     "name": "stderr",
     "output_type": "stream",
     "text": [
      "\u001b[32m[I 2024-02-05 08:35:27,693]\u001b[0m A new study created in memory with name: XGB\u001b[0m\n"
     ]
    },
    {
     "name": "stdout",
     "output_type": "stream",
     "text": [
      "[0]\tvalidation_0-rmse:15920.14310\n",
      "[100]\tvalidation_0-rmse:1038.89937\n",
      "[155]\tvalidation_0-rmse:1046.38533\n"
     ]
    },
    {
     "name": "stderr",
     "output_type": "stream",
     "text": [
      "\u001b[32m[I 2024-02-05 08:35:30,031]\u001b[0m Trial 0 finished with value: 1061864.3953012628 and parameters: {'booster': 'gbtree', 'lambda': 60, 'alpha': 0, 'gamma': 2.75418716350213e-06, 'subsample': 0.8636788816300817, 'min_child_weight': 8, 'colsample_bytree': 0.8433350489539762, 'max_leaves': 1280, 'max_depth': 15, 'learning_rate': 0.26864523783554123}. Best is trial 0 with value: 1061864.3953012628.\u001b[0m\n"
     ]
    },
    {
     "name": "stdout",
     "output_type": "stream",
     "text": [
      "[0]\tvalidation_0-rmse:15849.90450\n",
      "[100]\tvalidation_0-rmse:1108.32128\n",
      "[200]\tvalidation_0-rmse:1111.14521\n",
      "[210]\tvalidation_0-rmse:1111.09989\n"
     ]
    },
    {
     "name": "stderr",
     "output_type": "stream",
     "text": [
      "\u001b[32m[I 2024-02-05 08:35:32,874]\u001b[0m Trial 1 finished with value: 1227207.9112136792 and parameters: {'booster': 'gbtree', 'lambda': 60, 'alpha': 80, 'gamma': 0.019896818036011146, 'subsample': 0.8146179862132118, 'min_child_weight': 6, 'colsample_bytree': 0.8965937626467375, 'max_leaves': 1880, 'max_depth': 11, 'learning_rate': 0.27299001432773023}. Best is trial 0 with value: 1061864.3953012628.\u001b[0m\n"
     ]
    },
    {
     "name": "stdout",
     "output_type": "stream",
     "text": [
      "[0]\tvalidation_0-rmse:17579.68668\n",
      "[100]\tvalidation_0-rmse:1015.77630\n",
      "[200]\tvalidation_0-rmse:1021.06282\n",
      "[204]\tvalidation_0-rmse:1021.92922\n"
     ]
    },
    {
     "name": "stderr",
     "output_type": "stream",
     "text": [
      "\u001b[32m[I 2024-02-05 08:35:35,247]\u001b[0m Trial 2 finished with value: 1026243.8615198107 and parameters: {'booster': 'gbtree', 'lambda': 80, 'alpha': 80, 'gamma': 2.0920976092755635e-06, 'subsample': 0.8881834585795043, 'min_child_weight': 10, 'colsample_bytree': 0.8587785816019436, 'max_leaves': 1000, 'max_depth': 11, 'learning_rate': 0.17375059116633665}. Best is trial 2 with value: 1026243.8615198107.\u001b[0m\n"
     ]
    },
    {
     "name": "stdout",
     "output_type": "stream",
     "text": [
      "[0]\tvalidation_0-rmse:16767.02836\n",
      "[100]\tvalidation_0-rmse:1007.01622\n",
      "[178]\tvalidation_0-rmse:1018.06214\n"
     ]
    },
    {
     "name": "stderr",
     "output_type": "stream",
     "text": [
      "\u001b[32m[I 2024-02-05 08:35:37,207]\u001b[0m Trial 3 finished with value: 999437.9242110235 and parameters: {'booster': 'gbtree', 'lambda': 60, 'alpha': 80, 'gamma': 0.01829497637017503, 'subsample': 0.8294964727038201, 'min_child_weight': 10, 'colsample_bytree': 0.8722772047256695, 'max_leaves': 1940, 'max_depth': 10, 'learning_rate': 0.21996309128994365}. Best is trial 3 with value: 999437.9242110235.\u001b[0m\n"
     ]
    },
    {
     "name": "stdout",
     "output_type": "stream",
     "text": [
      "[0]\tvalidation_0-rmse:15682.98005\n",
      "[100]\tvalidation_0-rmse:1213.26763\n",
      "[197]\tvalidation_0-rmse:1216.90729\n"
     ]
    },
    {
     "name": "stderr",
     "output_type": "stream",
     "text": [
      "\u001b[32m[I 2024-02-05 08:35:39,990]\u001b[0m Trial 4 finished with value: 1470336.9327425384 and parameters: {'booster': 'gbtree', 'lambda': 20, 'alpha': 0, 'gamma': 3.1231571338358117e-06, 'subsample': 0.8332694556424454, 'min_child_weight': 2, 'colsample_bytree': 0.8673142262558822, 'max_leaves': 1100, 'max_depth': 11, 'learning_rate': 0.27937391209518975}. Best is trial 3 with value: 999437.9242110235.\u001b[0m\n"
     ]
    },
    {
     "name": "stdout",
     "output_type": "stream",
     "text": [
      "[0]\tvalidation_0-rmse:19962.61473\n",
      "[100]\tvalidation_0-rmse:1934.56651\n",
      "[200]\tvalidation_0-rmse:1107.87787\n",
      "[300]\tvalidation_0-rmse:1032.56574\n",
      "[400]\tvalidation_0-rmse:1028.16588\n",
      "[482]\tvalidation_0-rmse:1030.10787\n"
     ]
    },
    {
     "name": "stderr",
     "output_type": "stream",
     "text": [
      "\u001b[32m[I 2024-02-05 08:35:45,489]\u001b[0m Trial 5 finished with value: 1056322.9114205905 and parameters: {'booster': 'gbtree', 'lambda': 30, 'alpha': 100, 'gamma': 0.0006577768929309306, 'subsample': 0.8672931520100599, 'min_child_weight': 9, 'colsample_bytree': 0.8709073928590758, 'max_leaves': 1720, 'max_depth': 11, 'learning_rate': 0.0351122687068005}. Best is trial 3 with value: 999437.9242110235.\u001b[0m\n"
     ]
    },
    {
     "name": "stdout",
     "output_type": "stream",
     "text": [
      "[0]\tvalidation_0-rmse:18929.71149\n",
      "[100]\tvalidation_0-rmse:1123.67157\n",
      "[200]\tvalidation_0-rmse:1088.43791\n",
      "[300]\tvalidation_0-rmse:1087.65298\n",
      "[340]\tvalidation_0-rmse:1088.20697\n"
     ]
    },
    {
     "name": "stderr",
     "output_type": "stream",
     "text": [
      "\u001b[32m[I 2024-02-05 08:35:50,228]\u001b[0m Trial 6 finished with value: 1180754.4713935887 and parameters: {'booster': 'gbtree', 'lambda': 80, 'alpha': 100, 'gamma': 2.6200018581267594e-08, 'subsample': 0.8131790724498881, 'min_child_weight': 6, 'colsample_bytree': 0.8058630138135473, 'max_leaves': 1980, 'max_depth': 13, 'learning_rate': 0.09563483033583091}. Best is trial 3 with value: 999437.9242110235.\u001b[0m\n"
     ]
    },
    {
     "name": "stdout",
     "output_type": "stream",
     "text": [
      "[0]\tvalidation_0-rmse:19868.82045\n",
      "[100]\tvalidation_0-rmse:1796.82127\n",
      "[200]\tvalidation_0-rmse:1162.94011\n",
      "[300]\tvalidation_0-rmse:1118.36403\n",
      "[400]\tvalidation_0-rmse:1108.84833\n",
      "[500]\tvalidation_0-rmse:1107.96943\n",
      "[534]\tvalidation_0-rmse:1107.90369\n"
     ]
    },
    {
     "name": "stderr",
     "output_type": "stream",
     "text": [
      "\u001b[32m[I 2024-02-05 08:35:57,547]\u001b[0m Trial 7 finished with value: 1226675.9423907523 and parameters: {'booster': 'gbtree', 'lambda': 80, 'alpha': 20, 'gamma': 1.1499880125275524e-06, 'subsample': 0.8745239118394279, 'min_child_weight': 7, 'colsample_bytree': 0.8814381605809063, 'max_leaves': 1100, 'max_depth': 13, 'learning_rate': 0.04102277561620855}. Best is trial 3 with value: 999437.9242110235.\u001b[0m\n"
     ]
    },
    {
     "name": "stdout",
     "output_type": "stream",
     "text": [
      "[0]\tvalidation_0-rmse:15010.42180\n",
      "[100]\tvalidation_0-rmse:1025.99280\n",
      "[127]\tvalidation_0-rmse:1026.74474\n"
     ]
    },
    {
     "name": "stderr",
     "output_type": "stream",
     "text": [
      "\u001b[32m[I 2024-02-05 08:35:59,125]\u001b[0m Trial 8 finished with value: 1031258.9009463036 and parameters: {'booster': 'gbtree', 'lambda': 0, 'alpha': 0, 'gamma': 0.13798962531759068, 'subsample': 0.8414988723920688, 'min_child_weight': 9, 'colsample_bytree': 0.8296520950050243, 'max_leaves': 1480, 'max_depth': 11, 'learning_rate': 0.2818758919973403}. Best is trial 3 with value: 999437.9242110235.\u001b[0m\n"
     ]
    },
    {
     "name": "stdout",
     "output_type": "stream",
     "text": [
      "[0]\tvalidation_0-rmse:16571.02077\n",
      "[100]\tvalidation_0-rmse:1013.81159\n",
      "[174]\tvalidation_0-rmse:1024.62453\n"
     ]
    },
    {
     "name": "stderr",
     "output_type": "stream",
     "text": [
      "\u001b[32m[I 2024-02-05 08:36:01,123]\u001b[0m Trial 9 finished with value: 1015290.2977456856 and parameters: {'booster': 'gbtree', 'lambda': 60, 'alpha': 0, 'gamma': 0.00034949746360136643, 'subsample': 0.8331826559726924, 'min_child_weight': 8, 'colsample_bytree': 0.8418421668480036, 'max_leaves': 1480, 'max_depth': 11, 'learning_rate': 0.23124561546535366}. Best is trial 3 with value: 999437.9242110235.\u001b[0m\n"
     ]
    },
    {
     "name": "stdout",
     "output_type": "stream",
     "text": [
      "Number of finished trials: 10\n",
      "Best trial: {'booster': 'gbtree', 'lambda': 60, 'alpha': 80, 'gamma': 0.01829497637017503, 'subsample': 0.8294964727038201, 'min_child_weight': 10, 'colsample_bytree': 0.8722772047256695, 'max_leaves': 1940, 'max_depth': 10, 'learning_rate': 0.21996309128994365}\n"
     ]
    }
   ],
   "source": [
    "import xgboost as xgb\n",
    "import optuna\n",
    "from sklearn.metrics import mean_squared_error\n",
    "\n",
    "def objective(trial):\n",
    "    # Hyper Parameters\n",
    "    param = {\n",
    "        \"booster\": trial.suggest_categorical(\"booster\", [\"gbtree\"]),\n",
    "        \"lambda\": trial.suggest_int(\"lambda\", 0, 100, step=10),\n",
    "        \"alpha\": trial.suggest_int(\"alpha\", 0, 100, step=10),\n",
    "        \"gamma\": trial.suggest_float(\"gamma\", 1e-8, 1.0, log=True),\n",
    "        \"subsample\": trial.suggest_float(\"subsample\", 0.8, 0.9),\n",
    "        \"min_child_weight\": trial.suggest_int(\"min_child_weight\", 2, 10),\n",
    "        \"colsample_bytree\": trial.suggest_float(\"colsample_bytree\", 0.8, 0.9),\n",
    "        \"max_leaves\": trial.suggest_int(\"max_leaves\", 1000, 2000,step=20),\n",
    "        'max_depth': trial.suggest_int('max_depth', 10, 15),\n",
    "        'learning_rate': trial.suggest_float('learning_rate', 0.01, 0.3),\n",
    "        #\"grow_policy\": trial.suggest_categorical(\"grow_policy\", [\"depthwise\", \"lossguide\"])\n",
    "    }\n",
    "    \n",
    "    model = xgb.XGBRegressor(\n",
    "        objective='reg:squarederror',\n",
    "        #tree_method = \"gpu_hist\", # To use GPU\n",
    "        n_estimators=2000,\n",
    "        **param\n",
    "        )\n",
    "    model.fit(X_train[best_features],y_train,eval_set=[(X_valid[best_features],y_valid)],eval_metric='rmse',early_stopping_rounds=100,verbose=100)\n",
    "    preds = model.predict(X_valid[best_features])\n",
    "    error = mean_squared_error(y_valid, preds)\n",
    "    return error\n",
    " \n",
    "study = optuna.create_study(direction='minimize',study_name=\"XGB\")\n",
    "study.optimize(objective, n_trials=10) # We can increase n_trials to check more combinations, later increse\n",
    " \n",
    "print('Number of finished trials:', len(study.trials))\n",
    "print('Best trial:', study.best_trial.params)"
   ]
  },
  {
   "cell_type": "code",
   "execution_count": 198,
   "id": "6f4df0b7",
   "metadata": {
    "id": "ujOKdCA8be0h"
   },
   "outputs": [
    {
     "data": {
      "text/plain": [
       "{'booster': 'gbtree',\n",
       " 'lambda': 60,\n",
       " 'alpha': 80,\n",
       " 'gamma': 0.01829497637017503,\n",
       " 'subsample': 0.8294964727038201,\n",
       " 'min_child_weight': 10,\n",
       " 'colsample_bytree': 0.8722772047256695,\n",
       " 'max_leaves': 1940,\n",
       " 'max_depth': 10,\n",
       " 'learning_rate': 0.21996309128994365}"
      ]
     },
     "execution_count": 198,
     "metadata": {},
     "output_type": "execute_result"
    }
   ],
   "source": [
    "study.best_params"
   ]
  },
  {
   "cell_type": "code",
   "execution_count": 199,
   "id": "0d06375f",
   "metadata": {
    "id": "cFu772xtbe2v",
    "scrolled": true
   },
   "outputs": [
    {
     "name": "stdout",
     "output_type": "stream",
     "text": [
      "[0]\tvalidation_0-rmse:16767.02836\n",
      "[98]\tvalidation_0-rmse:1007.27512\n"
     ]
    },
    {
     "data": {
      "text/html": [
       "<style>#sk-container-id-4 {color: black;}#sk-container-id-4 pre{padding: 0;}#sk-container-id-4 div.sk-toggleable {background-color: white;}#sk-container-id-4 label.sk-toggleable__label {cursor: pointer;display: block;width: 100%;margin-bottom: 0;padding: 0.3em;box-sizing: border-box;text-align: center;}#sk-container-id-4 label.sk-toggleable__label-arrow:before {content: \"▸\";float: left;margin-right: 0.25em;color: #696969;}#sk-container-id-4 label.sk-toggleable__label-arrow:hover:before {color: black;}#sk-container-id-4 div.sk-estimator:hover label.sk-toggleable__label-arrow:before {color: black;}#sk-container-id-4 div.sk-toggleable__content {max-height: 0;max-width: 0;overflow: hidden;text-align: left;background-color: #f0f8ff;}#sk-container-id-4 div.sk-toggleable__content pre {margin: 0.2em;color: black;border-radius: 0.25em;background-color: #f0f8ff;}#sk-container-id-4 input.sk-toggleable__control:checked~div.sk-toggleable__content {max-height: 200px;max-width: 100%;overflow: auto;}#sk-container-id-4 input.sk-toggleable__control:checked~label.sk-toggleable__label-arrow:before {content: \"▾\";}#sk-container-id-4 div.sk-estimator input.sk-toggleable__control:checked~label.sk-toggleable__label {background-color: #d4ebff;}#sk-container-id-4 div.sk-label input.sk-toggleable__control:checked~label.sk-toggleable__label {background-color: #d4ebff;}#sk-container-id-4 input.sk-hidden--visually {border: 0;clip: rect(1px 1px 1px 1px);clip: rect(1px, 1px, 1px, 1px);height: 1px;margin: -1px;overflow: hidden;padding: 0;position: absolute;width: 1px;}#sk-container-id-4 div.sk-estimator {font-family: monospace;background-color: #f0f8ff;border: 1px dotted black;border-radius: 0.25em;box-sizing: border-box;margin-bottom: 0.5em;}#sk-container-id-4 div.sk-estimator:hover {background-color: #d4ebff;}#sk-container-id-4 div.sk-parallel-item::after {content: \"\";width: 100%;border-bottom: 1px solid gray;flex-grow: 1;}#sk-container-id-4 div.sk-label:hover label.sk-toggleable__label {background-color: #d4ebff;}#sk-container-id-4 div.sk-serial::before {content: \"\";position: absolute;border-left: 1px solid gray;box-sizing: border-box;top: 0;bottom: 0;left: 50%;z-index: 0;}#sk-container-id-4 div.sk-serial {display: flex;flex-direction: column;align-items: center;background-color: white;padding-right: 0.2em;padding-left: 0.2em;position: relative;}#sk-container-id-4 div.sk-item {position: relative;z-index: 1;}#sk-container-id-4 div.sk-parallel {display: flex;align-items: stretch;justify-content: center;background-color: white;position: relative;}#sk-container-id-4 div.sk-item::before, #sk-container-id-4 div.sk-parallel-item::before {content: \"\";position: absolute;border-left: 1px solid gray;box-sizing: border-box;top: 0;bottom: 0;left: 50%;z-index: -1;}#sk-container-id-4 div.sk-parallel-item {display: flex;flex-direction: column;z-index: 1;position: relative;background-color: white;}#sk-container-id-4 div.sk-parallel-item:first-child::after {align-self: flex-end;width: 50%;}#sk-container-id-4 div.sk-parallel-item:last-child::after {align-self: flex-start;width: 50%;}#sk-container-id-4 div.sk-parallel-item:only-child::after {width: 0;}#sk-container-id-4 div.sk-dashed-wrapped {border: 1px dashed gray;margin: 0 0.4em 0.5em 0.4em;box-sizing: border-box;padding-bottom: 0.4em;background-color: white;}#sk-container-id-4 div.sk-label label {font-family: monospace;font-weight: bold;display: inline-block;line-height: 1.2em;}#sk-container-id-4 div.sk-label-container {text-align: center;}#sk-container-id-4 div.sk-container {/* jupyter's `normalize.less` sets `[hidden] { display: none; }` but bootstrap.min.css set `[hidden] { display: none !important; }` so we also need the `!important` here to be able to override the default hidden behavior on the sphinx rendered scikit-learn.org. See: https://github.com/scikit-learn/scikit-learn/issues/21755 */display: inline-block !important;position: relative;}#sk-container-id-4 div.sk-text-repr-fallback {display: none;}</style><div id=\"sk-container-id-4\" class=\"sk-top-container\"><div class=\"sk-text-repr-fallback\"><pre>XGBRegressor(alpha=80, base_score=None, booster=&#x27;gbtree&#x27;, callbacks=None,\n",
       "             colsample_bylevel=None, colsample_bynode=None,\n",
       "             colsample_bytree=0.8722772047256695, early_stopping_rounds=None,\n",
       "             enable_categorical=False, eval_metric=None, feature_types=None,\n",
       "             gamma=0.01829497637017503, gpu_id=None, grow_policy=None,\n",
       "             importance_type=None, interaction_constraints=None, lambda=60,\n",
       "             learning_rate=0.21996309128994365, max_bin=None,\n",
       "             max_cat_threshold=None, max_cat_to_onehot=None,\n",
       "             max_delta_step=None, max_depth=10, max_leaves=1940,\n",
       "             min_child_weight=10, missing=nan, monotone_constraints=None,\n",
       "             n_estimators=1000, n_jobs=None, num_parallel_tree=None, ...)</pre><b>In a Jupyter environment, please rerun this cell to show the HTML representation or trust the notebook. <br />On GitHub, the HTML representation is unable to render, please try loading this page with nbviewer.org.</b></div><div class=\"sk-container\" hidden><div class=\"sk-item\"><div class=\"sk-estimator sk-toggleable\"><input class=\"sk-toggleable__control sk-hidden--visually\" id=\"sk-estimator-id-4\" type=\"checkbox\" checked><label for=\"sk-estimator-id-4\" class=\"sk-toggleable__label sk-toggleable__label-arrow\">XGBRegressor</label><div class=\"sk-toggleable__content\"><pre>XGBRegressor(alpha=80, base_score=None, booster=&#x27;gbtree&#x27;, callbacks=None,\n",
       "             colsample_bylevel=None, colsample_bynode=None,\n",
       "             colsample_bytree=0.8722772047256695, early_stopping_rounds=None,\n",
       "             enable_categorical=False, eval_metric=None, feature_types=None,\n",
       "             gamma=0.01829497637017503, gpu_id=None, grow_policy=None,\n",
       "             importance_type=None, interaction_constraints=None, lambda=60,\n",
       "             learning_rate=0.21996309128994365, max_bin=None,\n",
       "             max_cat_threshold=None, max_cat_to_onehot=None,\n",
       "             max_delta_step=None, max_depth=10, max_leaves=1940,\n",
       "             min_child_weight=10, missing=nan, monotone_constraints=None,\n",
       "             n_estimators=1000, n_jobs=None, num_parallel_tree=None, ...)</pre></div></div></div></div></div>"
      ],
      "text/plain": [
       "XGBRegressor(alpha=80, base_score=None, booster='gbtree', callbacks=None,\n",
       "             colsample_bylevel=None, colsample_bynode=None,\n",
       "             colsample_bytree=0.8722772047256695, early_stopping_rounds=None,\n",
       "             enable_categorical=False, eval_metric=None, feature_types=None,\n",
       "             gamma=0.01829497637017503, gpu_id=None, grow_policy=None,\n",
       "             importance_type=None, interaction_constraints=None, lambda=60,\n",
       "             learning_rate=0.21996309128994365, max_bin=None,\n",
       "             max_cat_threshold=None, max_cat_to_onehot=None,\n",
       "             max_delta_step=None, max_depth=10, max_leaves=1940,\n",
       "             min_child_weight=10, missing=nan, monotone_constraints=None,\n",
       "             n_estimators=1000, n_jobs=None, num_parallel_tree=None, ...)"
      ]
     },
     "execution_count": 199,
     "metadata": {},
     "output_type": "execute_result"
    }
   ],
   "source": [
    "param = study.best_params\n",
    "xgbreg = xgb.XGBRegressor(\n",
    "    objective='reg:squarederror',\n",
    "    #tree_method = \"gpu_hist\", # To use GPU\n",
    "    n_estimators=1000,    \n",
    "    **param\n",
    "    )\n",
    "xgbreg.fit(X_train[best_features],y_train,eval_set=[(X_valid[best_features],y_valid)],eval_metric='rmse',early_stopping_rounds=20,verbose=100)"
   ]
  },
  {
   "cell_type": "code",
   "execution_count": 200,
   "id": "668a0071",
   "metadata": {
    "id": "Qz35lRWP_H_e"
   },
   "outputs": [],
   "source": [
    "# Making predictions with the tuned model\n",
    "pred_train = xgbreg.predict(X_train[best_features])\n",
    "pred_valid = xgbreg.predict(X_valid[best_features])\n",
    "pred_test = xgbreg.predict(X_test[best_features])"
   ]
  },
  {
   "cell_type": "code",
   "execution_count": 201,
   "id": "374778d5",
   "metadata": {
    "id": "ZS1BAt40_ICV",
    "scrolled": false
   },
   "outputs": [
    {
     "name": "stdout",
     "output_type": "stream",
     "text": [
      "Train MSE: 4357.7266512065125\n",
      "Train RMSE: 66.01307939496924\n",
      "valid MSE: 999437.9242110235\n",
      "valid RMSE: 999.7189226032602\n",
      "Test MSE: 2942239.713616548\n",
      "Test RMSE: 1715.2958093624984\n"
     ]
    }
   ],
   "source": [
    "# Evaluate model accuracy \n",
    "from sklearn.metrics import mean_squared_error\n",
    "print(f\"Train MSE: {mean_squared_error(y_train['target'],pred_train)}\")\n",
    "print(f\"Train RMSE: {np.sqrt(mean_squared_error(y_train['target'],pred_train))}\")\n",
    "print(f\"valid MSE: {mean_squared_error(y_valid['target'],pred_valid)}\")\n",
    "print(f\"valid RMSE: {np.sqrt(mean_squared_error(y_valid['target'],pred_valid))}\")\n",
    "print(f\"Test MSE: {mean_squared_error(y_test['target'],pred_test)}\")\n",
    "print(f\"Test RMSE: {np.sqrt(mean_squared_error(y_test['target'],pred_test))}\")"
   ]
  },
  {
   "cell_type": "code",
   "execution_count": 202,
   "id": "c43389ca",
   "metadata": {
    "id": "-KHlRyq6_IJB",
    "scrolled": false
   },
   "outputs": [
    {
     "data": {
      "text/html": [
       "<div>\n",
       "<style scoped>\n",
       "    .dataframe tbody tr th:only-of-type {\n",
       "        vertical-align: middle;\n",
       "    }\n",
       "\n",
       "    .dataframe tbody tr th {\n",
       "        vertical-align: top;\n",
       "    }\n",
       "\n",
       "    .dataframe thead th {\n",
       "        text-align: right;\n",
       "    }\n",
       "</style>\n",
       "<table border=\"1\" class=\"dataframe\">\n",
       "  <thead>\n",
       "    <tr style=\"text-align: right;\">\n",
       "      <th></th>\n",
       "      <th>datetime</th>\n",
       "      <th>target</th>\n",
       "      <th>prediction_xgb_NIFTY</th>\n",
       "    </tr>\n",
       "  </thead>\n",
       "  <tbody>\n",
       "    <tr>\n",
       "      <th>4655</th>\n",
       "      <td>2024-02-01 09:15:00</td>\n",
       "      <td>21937.85</td>\n",
       "      <td>19956.767578</td>\n",
       "    </tr>\n",
       "    <tr>\n",
       "      <th>4656</th>\n",
       "      <td>2024-02-01 10:15:00</td>\n",
       "      <td>21989.65</td>\n",
       "      <td>19956.767578</td>\n",
       "    </tr>\n",
       "    <tr>\n",
       "      <th>4657</th>\n",
       "      <td>2024-02-01 11:15:00</td>\n",
       "      <td>22058.80</td>\n",
       "      <td>19956.767578</td>\n",
       "    </tr>\n",
       "    <tr>\n",
       "      <th>4658</th>\n",
       "      <td>2024-02-01 12:15:00</td>\n",
       "      <td>21846.30</td>\n",
       "      <td>19956.767578</td>\n",
       "    </tr>\n",
       "    <tr>\n",
       "      <th>4659</th>\n",
       "      <td>2024-02-01 13:15:00</td>\n",
       "      <td>21892.80</td>\n",
       "      <td>19956.767578</td>\n",
       "    </tr>\n",
       "    <tr>\n",
       "      <th>4660</th>\n",
       "      <td>2024-02-01 14:15:00</td>\n",
       "      <td>21855.70</td>\n",
       "      <td>19956.767578</td>\n",
       "    </tr>\n",
       "    <tr>\n",
       "      <th>4661</th>\n",
       "      <td>2024-02-01 15:15:00</td>\n",
       "      <td>21855.45</td>\n",
       "      <td>19956.767578</td>\n",
       "    </tr>\n",
       "  </tbody>\n",
       "</table>\n",
       "</div>"
      ],
      "text/plain": [
       "                datetime    target  prediction_xgb_NIFTY\n",
       "4655 2024-02-01 09:15:00  21937.85          19956.767578\n",
       "4656 2024-02-01 10:15:00  21989.65          19956.767578\n",
       "4657 2024-02-01 11:15:00  22058.80          19956.767578\n",
       "4658 2024-02-01 12:15:00  21846.30          19956.767578\n",
       "4659 2024-02-01 13:15:00  21892.80          19956.767578\n",
       "4660 2024-02-01 14:15:00  21855.70          19956.767578\n",
       "4661 2024-02-01 15:15:00  21855.45          19956.767578"
      ]
     },
     "execution_count": 202,
     "metadata": {},
     "output_type": "execute_result"
    }
   ],
   "source": [
    "result = y[y['datetime'] > test_cutoff].copy()\n",
    "result[f'prediction_xgb_{stock}'] = pred_test\n",
    "result.tail(7)"
   ]
  },
  {
   "cell_type": "code",
   "execution_count": 203,
   "id": "d1da5ae0",
   "metadata": {
    "scrolled": false
   },
   "outputs": [],
   "source": [
    "if plot_show_or_not == True:\n",
    "    \n",
    "    result_train = y[(y['datetime'] <= validation_cutoff)].copy()\n",
    "    result_train[f'prediction_xgb_{stock}'] = pred_train\n",
    "    plt.figure(figsize=(10,5))\n",
    "    result_train.set_index('datetime').plot()\n",
    "    plt.title(f\"Prediction for TRAIN DATA\")"
   ]
  },
  {
   "cell_type": "code",
   "execution_count": 204,
   "id": "1a3305e2",
   "metadata": {
    "id": "zrgfS1MP_qvM",
    "scrolled": false
   },
   "outputs": [
    {
     "data": {
      "text/plain": [
       "Text(0.5, 1.0, 'Prediction for VALIDATION DATA')"
      ]
     },
     "execution_count": 204,
     "metadata": {},
     "output_type": "execute_result"
    },
    {
     "data": {
      "text/plain": [
       "<Figure size 1000x500 with 0 Axes>"
      ]
     },
     "metadata": {},
     "output_type": "display_data"
    },
    {
     "data": {
      "image/png": "[encoded data removed]",
      "text/plain": [
       "<Figure size 1500x500 with 1 Axes>"
      ]
     },
     "metadata": {},
     "output_type": "display_data"
    }
   ],
   "source": [
    " #We have data from 2020-07-01 00:00:00\n",
    " #We have data till 2023-02-13 23:45:00\n",
    "\n",
    "result_valid = y[(y['datetime'] > validation_cutoff) & (y['datetime'] <= test_cutoff)].copy()\n",
    "result_valid[f'prediction_xgb_{stock}'] = pred_valid\n",
    "plt.figure(figsize=(10,5))\n",
    "result_valid.set_index('datetime').plot()\n",
    "plt.title(f\"Prediction for VALIDATION DATA\")"
   ]
  },
  {
   "cell_type": "code",
   "execution_count": 205,
   "id": "6a152d99",
   "metadata": {
    "id": "NRpMP6vmafuV",
    "scrolled": false
   },
   "outputs": [
    {
     "data": {
      "text/plain": [
       "Text(0.5, 1.0, 'Prediction for TEST')"
      ]
     },
     "execution_count": 205,
     "metadata": {},
     "output_type": "execute_result"
    },
    {
     "data": {
      "image/png": "[encoded data removed]",
      "text/plain": [
       "<Figure size 1500x500 with 1 Axes>"
      ]
     },
     "metadata": {},
     "output_type": "display_data"
    }
   ],
   "source": [
    "\n",
    "mask = (result.datetime > test_cutoff)\n",
    "result.loc[mask,:].set_index('datetime')\n",
    "result.loc[mask,:].set_index('datetime').plot()\n",
    "plt.title(\"Prediction for TEST\")\n",
    "\n",
    "#result.loc[mask,:].set_index('datetime')"
   ]
  },
  {
   "cell_type": "markdown",
   "id": "a2c8d73c",
   "metadata": {},
   "source": [
    "## Find Last working and Next working DAY"
   ]
  },
  {
   "cell_type": "code",
   "execution_count": 206,
   "id": "4744c4fc",
   "metadata": {},
   "outputs": [],
   "source": [
    "holiday_list = ['2023-11-27', '2023-12-25']\n",
    "#holiday_list = [x+' 00:00:00' for x in holiday_list]\n",
    "#holiday_list = [datetime.strptime(x, '%Y-%m-%d') for x in holiday_list]"
   ]
  },
  {
   "cell_type": "code",
   "execution_count": 207,
   "id": "a8e3a87b",
   "metadata": {},
   "outputs": [],
   "source": [
    "# def check_is_inbetween_market_time(test_date):\n",
    "#     #----This block of code will check if we are running code before 3:30PM then it will not take today's data----\n",
    "#     if test_date not in holiday_list and test_date.weekday() not in [5, 6]:    \n",
    "#         now = datetime.now()\n",
    "#         today15_30 = now.replace(hour=15, minute=30, second=0)\n",
    "#         if now <= today15_30:\n",
    "#             test_date = test_date-timedelta(days=1)\n",
    "#     return test_date\n",
    "\n",
    "# check_is_inbetween_market_time(datetime.now())"
   ]
  },
  {
   "cell_type": "code",
   "execution_count": 208,
   "id": "ae55b167",
   "metadata": {},
   "outputs": [],
   "source": [
    "# def find_last_working_day(test_date):\n",
    "    \n",
    "#     if test_date.weekday() == 0:\n",
    "#         diff = 3\n",
    "#     elif test_date.weekday() == 6:\n",
    "#         diff = 2\n",
    "#     else :\n",
    "#         diff = 1\n",
    "\n",
    "#     res = test_date - timedelta(days=diff)\n",
    "    \n",
    "#     while str(res) in holiday_list:\n",
    "#         res = res - timedelta(days=1)\n",
    "        \n",
    "#     if res.weekday() in [0, 6]:\n",
    "#         res = find_last_working_day(res) # Recursive call beacuse \n",
    "#         # may be we have today tuesday and on monday we have holiday\n",
    "#         # then without recursive call it will give sunday as last working day\n",
    "        \n",
    "#     return res\n",
    "\n",
    "# find_last_working_day(dt.date.today())"
   ]
  },
  {
   "cell_type": "code",
   "execution_count": 209,
   "id": "7296317a",
   "metadata": {},
   "outputs": [],
   "source": [
    "# '''\n",
    "# # Now we use the following concept\n",
    "\n",
    "# - First Download data as per Working Day time, if time is less than 3:30PM then we will download till yesterday only,\n",
    "#   else we will download till today 3:30PM\n",
    "#   Now as data is as per 3:30PM logic so we dont need to put here same logic, we can predict as per available data only.\n",
    "  \n",
    "# - Second we will check next working day as per last entry in DATA dataframe (which is logical as per data available)\n",
    "\n",
    "# - Third we will get prediction for next working day\n",
    "\n",
    "# '''\n",
    "\n",
    "# def find_Next_working_day(test_date):\n",
    "    \n",
    "#     test_date = test_date + timedelta(days=1)\n",
    "#     if test_date.weekday() == 5:\n",
    "#         add = 2\n",
    "#     elif test_date.weekday() == 6:\n",
    "#         add = 1\n",
    "#     else :\n",
    "#         add = 0\n",
    "\n",
    "#     res = test_date + timedelta(days=add)\n",
    "    \n",
    "#     while str(res) in holiday_list:\n",
    "#         res = res + timedelta(days=1)\n",
    "        \n",
    "#     if res.weekday() in [5, 6]:\n",
    "#         res = find_Next_working_day(res) # Recursive call\n",
    "        \n",
    "#     return res\n",
    "\n",
    "# #find_Next_working_day(dt.date.today())\n",
    "# print(f\"Check for {data_df_last_day}\")\n",
    "# next_working_day = find_Next_working_day(data_df_last_day)"
   ]
  },
  {
   "cell_type": "code",
   "execution_count": 210,
   "id": "3a46d8ce",
   "metadata": {},
   "outputs": [],
   "source": [
    "# #test_date = datetime(2023, 11, 16)\n",
    "# test_date = dt.date.today()\n",
    "\n",
    "# #last_working = find_last_working_day(test_date_as_time)\n",
    "# next_working = find_Next_working_day(test_date)\n",
    "\n",
    "# #print(f\"Input Date & Time:{datetime.now()} ~~~~ Last Working date:{str(last_working)}\")\n",
    "# print(f\"Input Date & Time:{datetime.now()} ~~~~ NEXT Working date:{str(next_working)}\")"
   ]
  },
  {
   "cell_type": "code",
   "execution_count": null,
   "id": "5526ca3b",
   "metadata": {},
   "outputs": [],
   "source": []
  },
  {
   "cell_type": "code",
   "execution_count": null,
   "id": "0ac200f8",
   "metadata": {},
   "outputs": [],
   "source": []
  },
  {
   "cell_type": "code",
   "execution_count": 211,
   "id": "d68bcdac",
   "metadata": {},
   "outputs": [],
   "source": [
    "# result.datetime.to_numpy()[0] > dt.date.today()"
   ]
  },
  {
   "cell_type": "code",
   "execution_count": 212,
   "id": "0686541d",
   "metadata": {},
   "outputs": [],
   "source": [
    "#(result.datetime > pd.Timestamp.today())\n",
    "#result.datetime > np.datetime64('today', 'D')"
   ]
  },
  {
   "cell_type": "code",
   "execution_count": 213,
   "id": "0e5f3511",
   "metadata": {},
   "outputs": [],
   "source": [
    "# ajj = dt.date.today()\n",
    "# #ajj = np.datetime64('today', 'D')\n",
    "# end_date = find_last_working_day(ajj)\n",
    "# np.datetime64(end_date)"
   ]
  },
  {
   "cell_type": "code",
   "execution_count": null,
   "id": "d6735229",
   "metadata": {},
   "outputs": [],
   "source": []
  },
  {
   "cell_type": "code",
   "execution_count": null,
   "id": "0946af9e",
   "metadata": {},
   "outputs": [],
   "source": []
  },
  {
   "cell_type": "markdown",
   "id": "7283a36e",
   "metadata": {},
   "source": [
    "## Peformance for LAST working DAY"
   ]
  },
  {
   "cell_type": "code",
   "execution_count": 214,
   "id": "010f1f97",
   "metadata": {
    "scrolled": false
   },
   "outputs": [
    {
     "name": "stdout",
     "output_type": "stream",
     "text": [
      "Forcast for: 2024-02-05\n",
      "Basically for today's prediction, Datetime will be yesterday's only as per logic As we have shifted target by 1, so for Date 15th prediction Datetime will show 14th\n"
     ]
    },
    {
     "data": {
      "text/html": [
       "<div>\n",
       "<style scoped>\n",
       "    .dataframe tbody tr th:only-of-type {\n",
       "        vertical-align: middle;\n",
       "    }\n",
       "\n",
       "    .dataframe tbody tr th {\n",
       "        vertical-align: top;\n",
       "    }\n",
       "\n",
       "    .dataframe thead th {\n",
       "        text-align: right;\n",
       "    }\n",
       "</style>\n",
       "<table border=\"1\" class=\"dataframe\">\n",
       "  <thead>\n",
       "    <tr style=\"text-align: right;\">\n",
       "      <th></th>\n",
       "      <th>target</th>\n",
       "      <th>prediction_xgb_NIFTY</th>\n",
       "    </tr>\n",
       "    <tr>\n",
       "      <th>datetime</th>\n",
       "      <th></th>\n",
       "      <th></th>\n",
       "    </tr>\n",
       "  </thead>\n",
       "  <tbody>\n",
       "  </tbody>\n",
       "</table>\n",
       "</div>"
      ],
      "text/plain": [
       "Empty DataFrame\n",
       "Columns: [target, prediction_xgb_NIFTY]\n",
       "Index: []"
      ]
     },
     "execution_count": 214,
     "metadata": {},
     "output_type": "execute_result"
    },
    {
     "data": {
      "image/png": "[encoded data removed]",
      "text/plain": [
       "<Figure size 1500x500 with 1 Axes>"
      ]
     },
     "metadata": {},
     "output_type": "display_data"
    }
   ],
   "source": [
    "# ajj = dt.date.today() # I guess its in python only\n",
    "# #ajj = np.datetime64('today', 'D') # How we define in numpy\n",
    "# #ajj = pd.Timestamp.today()  # How we define in pandas\n",
    "\n",
    "# ajj = check_is_inbetween_market_time(ajj)\n",
    "# end_date = find_last_working_day(ajj)\n",
    "# next_working = find_Next_working_day(ajj)    \n",
    "    \n",
    "\n",
    "#data_df_last_day\n",
    "#next_working_day\n",
    "\n",
    "\n",
    "print(f\"Forcast for: {next_working_day}\")\n",
    "print(\"Basically for today's prediction, Datetime will be yesterday's only as per logic As we have shifted target by 1, so for Date 15th prediction Datetime will show 14th\")\n",
    "mask = (result.datetime >= np.datetime64(data_df_last_day))\n",
    "#mask = (result.datetime >= end_date)\n",
    "\n",
    "result.loc[mask,:].set_index('datetime').plot()\n",
    "plt.title(\"Prediction for Today\")\n",
    "\n",
    "result.loc[mask,:].set_index('datetime')"
   ]
  },
  {
   "cell_type": "code",
   "execution_count": 215,
   "id": "628fc103",
   "metadata": {
    "scrolled": false
   },
   "outputs": [],
   "source": [
    "# # JUST ANOTHER WAY FOR ABOVE CODE\n",
    "\n",
    "# end_date = dt.date.today()\n",
    "# days_sub = 1 # XXXXXXXXXXXXXXXXXXXXXXX\n",
    "# end_date = dt.datetime(end_date.year, end_date.month, end_date.day-days_sub, 9, 15)\n",
    "\n",
    "# print(f\"Forcast Date~~~~~{end_date}\")\n",
    "\n",
    "# mask = (result.datetime >= end_date)\n",
    "# result.loc[mask,:].set_index('datetime').plot()\n",
    "# plt.title(\"Prediction for Today\")\n",
    "\n",
    "\n",
    "# result.loc[mask,:].set_index('datetime')"
   ]
  },
  {
   "cell_type": "code",
   "execution_count": 216,
   "id": "bfc94cd5",
   "metadata": {},
   "outputs": [],
   "source": [
    "def feature_importance(features, importance_score):\n",
    "    importances = pd.DataFrame(data={\n",
    "        'Attribute': features,\n",
    "        'Importance': importance_score\n",
    "    })\n",
    "    importances = importances.sort_values(by='Importance', ascending=False)\n",
    "    plt.bar(x=importances['Attribute'], height=importances['Importance'])\n",
    "    plt.title('Feature importances obtained from coefficients')\n",
    "    plt.xticks(rotation='vertical')\n",
    "    plt.show()"
   ]
  },
  {
   "cell_type": "code",
   "execution_count": 217,
   "id": "90fcb110",
   "metadata": {},
   "outputs": [
    {
     "name": "stdout",
     "output_type": "stream",
     "text": [
      "(130,)\n",
      "(16,)\n"
     ]
    }
   ],
   "source": [
    "print(X_train.columns.shape)\n",
    "print(xgbreg.feature_importances_.shape)"
   ]
  },
  {
   "cell_type": "code",
   "execution_count": 218,
   "id": "1fc9c3da",
   "metadata": {
    "scrolled": false
   },
   "outputs": [
    {
     "data": {
      "image/png": "[encoded data removed]",
      "text/plain": [
       "<Figure size 1500x500 with 1 Axes>"
      ]
     },
     "metadata": {},
     "output_type": "display_data"
    }
   ],
   "source": [
    "feature_importance(best_features, xgbreg.feature_importances_)"
   ]
  },
  {
   "cell_type": "markdown",
   "id": "f745109a",
   "metadata": {},
   "source": [
    "## Final Model saving"
   ]
  },
  {
   "cell_type": "code",
   "execution_count": 219,
   "id": "e25ae2b9",
   "metadata": {},
   "outputs": [],
   "source": [
    "# Saving the final Best features used by model\n",
    "model_name = f\"{stock}_best_features_XGBoost\"\n",
    "pickle.dump(best_features, open(f'03_Saved_Model/{model_name}.pkl', 'wb'))"
   ]
  },
  {
   "cell_type": "code",
   "execution_count": 220,
   "id": "5057b686",
   "metadata": {},
   "outputs": [],
   "source": [
    "# Saving the final model\n",
    "model_name = f\"{stock}_XGBoost\"\n",
    "pickle.dump(xgbreg, open(f'03_Saved_Model/{model_name}.pkl', 'wb'))"
   ]
  },
  {
   "cell_type": "markdown",
   "id": "15398433",
   "metadata": {},
   "source": [
    "# ********Final Prediction (XGBoost)********"
   ]
  },
  {
   "cell_type": "code",
   "execution_count": 221,
   "id": "b00bc54b",
   "metadata": {},
   "outputs": [
    {
     "data": {
      "text/plain": [
       "datetime.datetime(2024, 2, 5, 9, 15)"
      ]
     },
     "execution_count": 221,
     "metadata": {},
     "output_type": "execute_result"
    }
   ],
   "source": [
    "test_date = dt.date.today()\n",
    "\n",
    "#ibirdi - I have added below line on 01 Feb 2024\n",
    "#test_date = check_is_inbetween_market_time(test_date)\n",
    "#ibirdi - end of I have added below line on 01 Feb 2024\n",
    "\n",
    "\n",
    "#next_working = find_Next_working_day(test_date)\n",
    "\n",
    "next_working = next_working_day\n",
    "next_working = dt.datetime(next_working.year, next_working.month, next_working.day, 9, 15)\n",
    "next_working"
   ]
  },
  {
   "cell_type": "code",
   "execution_count": 222,
   "id": "0aded354",
   "metadata": {},
   "outputs": [
    {
     "data": {
      "text/html": [
       "<div>\n",
       "<style scoped>\n",
       "    .dataframe tbody tr th:only-of-type {\n",
       "        vertical-align: middle;\n",
       "    }\n",
       "\n",
       "    .dataframe tbody tr th {\n",
       "        vertical-align: top;\n",
       "    }\n",
       "\n",
       "    .dataframe thead th {\n",
       "        text-align: right;\n",
       "    }\n",
       "</style>\n",
       "<table border=\"1\" class=\"dataframe\">\n",
       "  <thead>\n",
       "    <tr style=\"text-align: right;\">\n",
       "      <th></th>\n",
       "      <th>prediction_xgb_NIFTY</th>\n",
       "    </tr>\n",
       "    <tr>\n",
       "      <th>datetime</th>\n",
       "      <th></th>\n",
       "    </tr>\n",
       "  </thead>\n",
       "  <tbody>\n",
       "    <tr>\n",
       "      <th>2024-02-05 09:15:00</th>\n",
       "      <td>19956.767578</td>\n",
       "    </tr>\n",
       "    <tr>\n",
       "      <th>2024-02-05 10:15:00</th>\n",
       "      <td>19956.767578</td>\n",
       "    </tr>\n",
       "    <tr>\n",
       "      <th>2024-02-05 11:15:00</th>\n",
       "      <td>19956.767578</td>\n",
       "    </tr>\n",
       "    <tr>\n",
       "      <th>2024-02-05 12:15:00</th>\n",
       "      <td>19956.767578</td>\n",
       "    </tr>\n",
       "    <tr>\n",
       "      <th>2024-02-05 13:15:00</th>\n",
       "      <td>19956.767578</td>\n",
       "    </tr>\n",
       "    <tr>\n",
       "      <th>2024-02-05 14:15:00</th>\n",
       "      <td>19956.767578</td>\n",
       "    </tr>\n",
       "    <tr>\n",
       "      <th>2024-02-05 15:15:00</th>\n",
       "      <td>19956.767578</td>\n",
       "    </tr>\n",
       "  </tbody>\n",
       "</table>\n",
       "</div>"
      ],
      "text/plain": [
       "                     prediction_xgb_NIFTY\n",
       "datetime                                 \n",
       "2024-02-05 09:15:00          19956.767578\n",
       "2024-02-05 10:15:00          19956.767578\n",
       "2024-02-05 11:15:00          19956.767578\n",
       "2024-02-05 12:15:00          19956.767578\n",
       "2024-02-05 13:15:00          19956.767578\n",
       "2024-02-05 14:15:00          19956.767578\n",
       "2024-02-05 15:15:00          19956.767578"
      ]
     },
     "execution_count": 222,
     "metadata": {},
     "output_type": "execute_result"
    }
   ],
   "source": [
    "pred_day_ahead = pd.DataFrame(pd.date_range(start=next_working, periods=target_ahead_timeblocks, freq=frequency_in_mins), columns=['datetime']) #inclusive in the newer version\n",
    "pred_day_ahead.set_index(\"datetime\", inplace = True)\n",
    "pred_day_ahead[f'prediction_xgb_{stock}'] = xgbreg.predict(next_day_df_prediction[best_features])\n",
    "pred_day_ahead"
   ]
  },
  {
   "cell_type": "code",
   "execution_count": 223,
   "id": "9cd4e785",
   "metadata": {},
   "outputs": [],
   "source": [
    "# pred_day_ahead = pd.DataFrame()\n",
    "# pred_day_ahead.index = next_day_df_prediction['datetime']\n",
    "# pred_day_ahead[f'prediction_xgb_{stock}'] = xgbreg.predict(next_day_df_prediction[best_features])\n",
    "# pred_day_ahead"
   ]
  },
  {
   "cell_type": "markdown",
   "id": "2ce51ce2",
   "metadata": {},
   "source": [
    "# Model-2 - Logistic Regression"
   ]
  },
  {
   "cell_type": "code",
   "execution_count": 224,
   "id": "4b861533",
   "metadata": {},
   "outputs": [],
   "source": [
    "#We Have the following:\n",
    "#X_train, y_train, X_valid, y_valid, X_test, y_test = train_valid_test_split(X, y, validation_cutoff, test_cutoff)"
   ]
  },
  {
   "cell_type": "code",
   "execution_count": null,
   "id": "7192eb3a",
   "metadata": {},
   "outputs": [],
   "source": []
  },
  {
   "cell_type": "markdown",
   "id": "294c6e14",
   "metadata": {},
   "source": [
    "### Multicollinearity check by VIF score"
   ]
  },
  {
   "cell_type": "code",
   "execution_count": 225,
   "id": "ce31718d",
   "metadata": {},
   "outputs": [],
   "source": [
    "# \"\"\"\n",
    "# Let's now keep on removing features till we have a feature with vif<5\n",
    "# \"\"\"\n",
    "# import statsmodels.api as sm\n",
    "\n",
    "# scaler_vif = StandardScaler()\n",
    "# X_train_vif_s = scaler_vif.fit_transform(X_train)\n",
    "\n",
    "\n",
    "\n",
    "\n",
    "\n",
    "# vif_thr = 20\n",
    "# #r2_thr = 0.85\n",
    "# i = 0\n",
    "# feats_removed = []\n",
    "\n",
    "# cols2=X.columns\n",
    "\n",
    "# while True:\n",
    "    \n",
    "#     vif = pd.DataFrame()\n",
    "#     X_t = pd.DataFrame(X_train_vif_s, columns=X.columns)[cols2]\n",
    "#     vif['Features'] = cols2\n",
    "#     vif['VIF'] = [variance_inflation_factor(X_t.values, i) for i in range(X_t.shape[1])]\n",
    "#     vif['VIF'] = round(vif['VIF'], 2)\n",
    "#     vif = vif.sort_values(by = \"VIF\", ascending = False)\n",
    "\n",
    "#   #cols2 = vif[\"Features\"][1:].values\n",
    "#     cols2 = vif[\"Features\"][i:].values\n",
    "#     X2 = pd.DataFrame(X_train_vif_s, columns=X.columns)[cols2]\n",
    "\n",
    "#     #X2_sm = sm.add_constant(X2)  #Statmodels default is without intercept, to add intercept we need to add constant\n",
    "#     #sm_model = sm.OLS(list(y_train), X2_sm).fit()\n",
    "  \n",
    "#     print('Feature no. ', i)\n",
    "#     print('VIF Score ', vif.iloc[i]['VIF'])\n",
    "#     #print('Adjusted R2 ', sm_model.rsquared_adj)\n",
    "\n",
    "\n",
    "#     #if (vif.iloc[i]['VIF'] < vif_thr) or (sm_model.rsquared_adj > r2_thr):\n",
    "#     if (vif.iloc[i]['VIF'] < vif_thr):\n",
    "#         print('Reached threshold')\n",
    "#         print('Highest vif:',vif.iloc[i])\n",
    "#         #print('Current adj.R2',sm_model.rsquared_adj)\n",
    "#         print('Features removed:', i)\n",
    "#         print('List of features removed:', feats_removed)\n",
    "#         break\n",
    "#     feats_removed.append(vif.iloc[i]['Features'])\n",
    "#     i += 1"
   ]
  },
  {
   "cell_type": "code",
   "execution_count": 226,
   "id": "3bf37a88",
   "metadata": {},
   "outputs": [
    {
     "data": {
      "text/html": [
       "<div>\n",
       "<style scoped>\n",
       "    .dataframe tbody tr th:only-of-type {\n",
       "        vertical-align: middle;\n",
       "    }\n",
       "\n",
       "    .dataframe tbody tr th {\n",
       "        vertical-align: top;\n",
       "    }\n",
       "\n",
       "    .dataframe thead th {\n",
       "        text-align: right;\n",
       "    }\n",
       "</style>\n",
       "<table border=\"1\" class=\"dataframe\">\n",
       "  <thead>\n",
       "    <tr style=\"text-align: right;\">\n",
       "      <th></th>\n",
       "      <th>close</th>\n",
       "      <th>hour</th>\n",
       "      <th>dom</th>\n",
       "      <th>month</th>\n",
       "      <th>dow</th>\n",
       "      <th>doy</th>\n",
       "      <th>woy</th>\n",
       "      <th>week_number</th>\n",
       "      <th>friday</th>\n",
       "      <th>covid</th>\n",
       "      <th>...</th>\n",
       "      <th>close_rolling_max_28</th>\n",
       "      <th>close_rolling_min_28</th>\n",
       "      <th>close_rolling_mean_29</th>\n",
       "      <th>close_rolling_max_29</th>\n",
       "      <th>close_rolling_min_29</th>\n",
       "      <th>ramp1</th>\n",
       "      <th>ramp2</th>\n",
       "      <th>ramp3</th>\n",
       "      <th>ramp4</th>\n",
       "      <th>ramp_close</th>\n",
       "    </tr>\n",
       "  </thead>\n",
       "  <tbody>\n",
       "    <tr>\n",
       "      <th>0</th>\n",
       "      <td>15302.45</td>\n",
       "      <td>14</td>\n",
       "      <td>26</td>\n",
       "      <td>5</td>\n",
       "      <td>2</td>\n",
       "      <td>146</td>\n",
       "      <td>21</td>\n",
       "      <td>21</td>\n",
       "      <td>0.0</td>\n",
       "      <td>1.0</td>\n",
       "      <td>...</td>\n",
       "      <td>15300.90</td>\n",
       "      <td>14906.05</td>\n",
       "      <td>15163.077586</td>\n",
       "      <td>15300.90</td>\n",
       "      <td>14906.05</td>\n",
       "      <td>12.30</td>\n",
       "      <td>-7.20</td>\n",
       "      <td>-3.55</td>\n",
       "      <td>59.10</td>\n",
       "      <td>125.95</td>\n",
       "    </tr>\n",
       "    <tr>\n",
       "      <th>1</th>\n",
       "      <td>15302.55</td>\n",
       "      <td>15</td>\n",
       "      <td>26</td>\n",
       "      <td>5</td>\n",
       "      <td>2</td>\n",
       "      <td>146</td>\n",
       "      <td>21</td>\n",
       "      <td>21</td>\n",
       "      <td>0.0</td>\n",
       "      <td>1.0</td>\n",
       "      <td>...</td>\n",
       "      <td>15302.45</td>\n",
       "      <td>14906.05</td>\n",
       "      <td>15173.929310</td>\n",
       "      <td>15302.45</td>\n",
       "      <td>14906.05</td>\n",
       "      <td>0.10</td>\n",
       "      <td>12.30</td>\n",
       "      <td>-7.20</td>\n",
       "      <td>-3.55</td>\n",
       "      <td>101.55</td>\n",
       "    </tr>\n",
       "    <tr>\n",
       "      <th>2</th>\n",
       "      <td>15301.45</td>\n",
       "      <td>16</td>\n",
       "      <td>26</td>\n",
       "      <td>5</td>\n",
       "      <td>2</td>\n",
       "      <td>146</td>\n",
       "      <td>21</td>\n",
       "      <td>21</td>\n",
       "      <td>0.0</td>\n",
       "      <td>1.0</td>\n",
       "      <td>...</td>\n",
       "      <td>15302.55</td>\n",
       "      <td>14906.05</td>\n",
       "      <td>15185.437931</td>\n",
       "      <td>15302.55</td>\n",
       "      <td>14906.05</td>\n",
       "      <td>-1.10</td>\n",
       "      <td>0.10</td>\n",
       "      <td>12.30</td>\n",
       "      <td>-7.20</td>\n",
       "      <td>93.00</td>\n",
       "    </tr>\n",
       "    <tr>\n",
       "      <th>3</th>\n",
       "      <td>15314.50</td>\n",
       "      <td>10</td>\n",
       "      <td>27</td>\n",
       "      <td>5</td>\n",
       "      <td>3</td>\n",
       "      <td>147</td>\n",
       "      <td>21</td>\n",
       "      <td>21</td>\n",
       "      <td>0.0</td>\n",
       "      <td>1.0</td>\n",
       "      <td>...</td>\n",
       "      <td>15302.55</td>\n",
       "      <td>15059.80</td>\n",
       "      <td>15199.034483</td>\n",
       "      <td>15302.55</td>\n",
       "      <td>14906.05</td>\n",
       "      <td>13.05</td>\n",
       "      <td>-1.10</td>\n",
       "      <td>0.10</td>\n",
       "      <td>12.30</td>\n",
       "      <td>72.70</td>\n",
       "    </tr>\n",
       "    <tr>\n",
       "      <th>4</th>\n",
       "      <td>15326.45</td>\n",
       "      <td>11</td>\n",
       "      <td>27</td>\n",
       "      <td>5</td>\n",
       "      <td>3</td>\n",
       "      <td>147</td>\n",
       "      <td>21</td>\n",
       "      <td>21</td>\n",
       "      <td>0.0</td>\n",
       "      <td>1.0</td>\n",
       "      <td>...</td>\n",
       "      <td>15314.50</td>\n",
       "      <td>15082.10</td>\n",
       "      <td>15213.118966</td>\n",
       "      <td>15314.50</td>\n",
       "      <td>15059.80</td>\n",
       "      <td>11.95</td>\n",
       "      <td>13.05</td>\n",
       "      <td>-1.10</td>\n",
       "      <td>0.10</td>\n",
       "      <td>25.55</td>\n",
       "    </tr>\n",
       "    <tr>\n",
       "      <th>...</th>\n",
       "      <td>...</td>\n",
       "      <td>...</td>\n",
       "      <td>...</td>\n",
       "      <td>...</td>\n",
       "      <td>...</td>\n",
       "      <td>...</td>\n",
       "      <td>...</td>\n",
       "      <td>...</td>\n",
       "      <td>...</td>\n",
       "      <td>...</td>\n",
       "      <td>...</td>\n",
       "      <td>...</td>\n",
       "      <td>...</td>\n",
       "      <td>...</td>\n",
       "      <td>...</td>\n",
       "      <td>...</td>\n",
       "      <td>...</td>\n",
       "      <td>...</td>\n",
       "      <td>...</td>\n",
       "      <td>...</td>\n",
       "      <td>...</td>\n",
       "    </tr>\n",
       "    <tr>\n",
       "      <th>4229</th>\n",
       "      <td>19079.20</td>\n",
       "      <td>12</td>\n",
       "      <td>2</td>\n",
       "      <td>11</td>\n",
       "      <td>3</td>\n",
       "      <td>306</td>\n",
       "      <td>44</td>\n",
       "      <td>44</td>\n",
       "      <td>0.0</td>\n",
       "      <td>0.0</td>\n",
       "      <td>...</td>\n",
       "      <td>19148.85</td>\n",
       "      <td>18990.40</td>\n",
       "      <td>19070.336207</td>\n",
       "      <td>19148.85</td>\n",
       "      <td>18990.40</td>\n",
       "      <td>-48.65</td>\n",
       "      <td>3.25</td>\n",
       "      <td>134.20</td>\n",
       "      <td>-0.20</td>\n",
       "      <td>27.70</td>\n",
       "    </tr>\n",
       "    <tr>\n",
       "      <th>4230</th>\n",
       "      <td>19112.75</td>\n",
       "      <td>13</td>\n",
       "      <td>2</td>\n",
       "      <td>11</td>\n",
       "      <td>3</td>\n",
       "      <td>306</td>\n",
       "      <td>44</td>\n",
       "      <td>44</td>\n",
       "      <td>0.0</td>\n",
       "      <td>0.0</td>\n",
       "      <td>...</td>\n",
       "      <td>19148.85</td>\n",
       "      <td>18990.40</td>\n",
       "      <td>19072.681034</td>\n",
       "      <td>19148.85</td>\n",
       "      <td>18990.40</td>\n",
       "      <td>33.55</td>\n",
       "      <td>-48.65</td>\n",
       "      <td>3.25</td>\n",
       "      <td>134.20</td>\n",
       "      <td>109.80</td>\n",
       "    </tr>\n",
       "    <tr>\n",
       "      <th>4231</th>\n",
       "      <td>19125.80</td>\n",
       "      <td>14</td>\n",
       "      <td>2</td>\n",
       "      <td>11</td>\n",
       "      <td>3</td>\n",
       "      <td>306</td>\n",
       "      <td>44</td>\n",
       "      <td>44</td>\n",
       "      <td>0.0</td>\n",
       "      <td>0.0</td>\n",
       "      <td>...</td>\n",
       "      <td>19148.85</td>\n",
       "      <td>18990.40</td>\n",
       "      <td>19074.886207</td>\n",
       "      <td>19148.85</td>\n",
       "      <td>18990.40</td>\n",
       "      <td>13.05</td>\n",
       "      <td>33.55</td>\n",
       "      <td>-48.65</td>\n",
       "      <td>3.25</td>\n",
       "      <td>110.70</td>\n",
       "    </tr>\n",
       "    <tr>\n",
       "      <th>4232</th>\n",
       "      <td>19120.45</td>\n",
       "      <td>15</td>\n",
       "      <td>2</td>\n",
       "      <td>11</td>\n",
       "      <td>3</td>\n",
       "      <td>306</td>\n",
       "      <td>44</td>\n",
       "      <td>44</td>\n",
       "      <td>0.0</td>\n",
       "      <td>0.0</td>\n",
       "      <td>...</td>\n",
       "      <td>19148.85</td>\n",
       "      <td>18990.40</td>\n",
       "      <td>19078.263793</td>\n",
       "      <td>19148.85</td>\n",
       "      <td>18990.40</td>\n",
       "      <td>-5.35</td>\n",
       "      <td>13.05</td>\n",
       "      <td>33.55</td>\n",
       "      <td>-48.65</td>\n",
       "      <td>129.85</td>\n",
       "    </tr>\n",
       "    <tr>\n",
       "      <th>4233</th>\n",
       "      <td>19144.85</td>\n",
       "      <td>16</td>\n",
       "      <td>2</td>\n",
       "      <td>11</td>\n",
       "      <td>3</td>\n",
       "      <td>306</td>\n",
       "      <td>44</td>\n",
       "      <td>44</td>\n",
       "      <td>0.0</td>\n",
       "      <td>0.0</td>\n",
       "      <td>...</td>\n",
       "      <td>19148.85</td>\n",
       "      <td>18990.40</td>\n",
       "      <td>19080.372414</td>\n",
       "      <td>19148.85</td>\n",
       "      <td>18990.40</td>\n",
       "      <td>24.40</td>\n",
       "      <td>-5.35</td>\n",
       "      <td>13.05</td>\n",
       "      <td>33.55</td>\n",
       "      <td>154.45</td>\n",
       "    </tr>\n",
       "  </tbody>\n",
       "</table>\n",
       "<p>4234 rows × 130 columns</p>\n",
       "</div>"
      ],
      "text/plain": [
       "         close  hour  dom  month  dow  doy  woy  week_number  friday  covid  \\\n",
       "0     15302.45    14   26      5    2  146   21           21     0.0    1.0   \n",
       "1     15302.55    15   26      5    2  146   21           21     0.0    1.0   \n",
       "2     15301.45    16   26      5    2  146   21           21     0.0    1.0   \n",
       "3     15314.50    10   27      5    3  147   21           21     0.0    1.0   \n",
       "4     15326.45    11   27      5    3  147   21           21     0.0    1.0   \n",
       "...        ...   ...  ...    ...  ...  ...  ...          ...     ...    ...   \n",
       "4229  19079.20    12    2     11    3  306   44           44     0.0    0.0   \n",
       "4230  19112.75    13    2     11    3  306   44           44     0.0    0.0   \n",
       "4231  19125.80    14    2     11    3  306   44           44     0.0    0.0   \n",
       "4232  19120.45    15    2     11    3  306   44           44     0.0    0.0   \n",
       "4233  19144.85    16    2     11    3  306   44           44     0.0    0.0   \n",
       "\n",
       "      ...  close_rolling_max_28  close_rolling_min_28  close_rolling_mean_29  \\\n",
       "0     ...              15300.90              14906.05           15163.077586   \n",
       "1     ...              15302.45              14906.05           15173.929310   \n",
       "2     ...              15302.55              14906.05           15185.437931   \n",
       "3     ...              15302.55              15059.80           15199.034483   \n",
       "4     ...              15314.50              15082.10           15213.118966   \n",
       "...   ...                   ...                   ...                    ...   \n",
       "4229  ...              19148.85              18990.40           19070.336207   \n",
       "4230  ...              19148.85              18990.40           19072.681034   \n",
       "4231  ...              19148.85              18990.40           19074.886207   \n",
       "4232  ...              19148.85              18990.40           19078.263793   \n",
       "4233  ...              19148.85              18990.40           19080.372414   \n",
       "\n",
       "      close_rolling_max_29  close_rolling_min_29  ramp1  ramp2   ramp3  \\\n",
       "0                 15300.90              14906.05  12.30  -7.20   -3.55   \n",
       "1                 15302.45              14906.05   0.10  12.30   -7.20   \n",
       "2                 15302.55              14906.05  -1.10   0.10   12.30   \n",
       "3                 15302.55              14906.05  13.05  -1.10    0.10   \n",
       "4                 15314.50              15059.80  11.95  13.05   -1.10   \n",
       "...                    ...                   ...    ...    ...     ...   \n",
       "4229              19148.85              18990.40 -48.65   3.25  134.20   \n",
       "4230              19148.85              18990.40  33.55 -48.65    3.25   \n",
       "4231              19148.85              18990.40  13.05  33.55  -48.65   \n",
       "4232              19148.85              18990.40  -5.35  13.05   33.55   \n",
       "4233              19148.85              18990.40  24.40  -5.35   13.05   \n",
       "\n",
       "       ramp4  ramp_close  \n",
       "0      59.10      125.95  \n",
       "1      -3.55      101.55  \n",
       "2      -7.20       93.00  \n",
       "3      12.30       72.70  \n",
       "4       0.10       25.55  \n",
       "...      ...         ...  \n",
       "4229   -0.20       27.70  \n",
       "4230  134.20      109.80  \n",
       "4231    3.25      110.70  \n",
       "4232  -48.65      129.85  \n",
       "4233   33.55      154.45  \n",
       "\n",
       "[4234 rows x 130 columns]"
      ]
     },
     "execution_count": 226,
     "metadata": {},
     "output_type": "execute_result"
    }
   ],
   "source": [
    "X_train"
   ]
  },
  {
   "cell_type": "code",
   "execution_count": 227,
   "id": "b74d822e",
   "metadata": {},
   "outputs": [
    {
     "data": {
      "text/plain": [
       "0"
      ]
     },
     "execution_count": 227,
     "metadata": {},
     "output_type": "execute_result"
    }
   ],
   "source": [
    "11638-(11056+441+141)"
   ]
  },
  {
   "cell_type": "markdown",
   "id": "c23204d8",
   "metadata": {},
   "source": [
    "## Scaling"
   ]
  },
  {
   "cell_type": "code",
   "execution_count": 228,
   "id": "b8166ed5",
   "metadata": {},
   "outputs": [
    {
     "name": "stdout",
     "output_type": "stream",
     "text": [
      "['close', 'hour', 'dom', 'month', 'dow', 'doy', 'woy', 'week_number', 'friday', 'covid', 'covid_first_wave', 'covid_second_wave', 'cos_hour', 'sin_hour', 'cos_dow', 'sin_dow', 'cos_doy', 'sin_doy', 'lag1h', 'lag2h', 'lag4h', 'lag6h', 'lag12h', 'lag1d', 'lag2d', 'lag3d', 'lag4d', 'lag5d', 'lag6d', 'lag7d', 'mcp_dam_ewm1h', 'mcp_dam_ewm2h', 'mcp_dam_ewm3h', 'mcp_dam_ewm4h', 'mcp_dam_ewm6h', 'mcp_dam_ewm8h', 'mcp_dam_ewm12h', 'mcp_dam_ewm24h', 'close_rolling_mean_1', 'close_rolling_max_1', 'close_rolling_min_1', 'close_rolling_mean_2', 'close_rolling_max_2', 'close_rolling_min_2', 'close_rolling_mean_3', 'close_rolling_max_3', 'close_rolling_min_3', 'close_rolling_mean_4', 'close_rolling_max_4', 'close_rolling_min_4', 'close_rolling_mean_5', 'close_rolling_max_5', 'close_rolling_min_5', 'close_rolling_mean_6', 'close_rolling_max_6', 'close_rolling_min_6', 'close_rolling_mean_7', 'close_rolling_max_7', 'close_rolling_min_7', 'close_rolling_mean_8', 'close_rolling_max_8', 'close_rolling_min_8', 'close_rolling_mean_9', 'close_rolling_max_9', 'close_rolling_min_9', 'close_rolling_mean_10', 'close_rolling_max_10', 'close_rolling_min_10', 'close_rolling_mean_11', 'close_rolling_max_11', 'close_rolling_min_11', 'close_rolling_mean_12', 'close_rolling_max_12', 'close_rolling_min_12', 'close_rolling_mean_13', 'close_rolling_max_13', 'close_rolling_min_13', 'close_rolling_mean_14', 'close_rolling_max_14', 'close_rolling_min_14', 'close_rolling_mean_15', 'close_rolling_max_15', 'close_rolling_min_15', 'close_rolling_mean_16', 'close_rolling_max_16', 'close_rolling_min_16', 'close_rolling_mean_17', 'close_rolling_max_17', 'close_rolling_min_17', 'close_rolling_mean_18', 'close_rolling_max_18', 'close_rolling_min_18', 'close_rolling_mean_19', 'close_rolling_max_19', 'close_rolling_min_19', 'close_rolling_mean_20', 'close_rolling_max_20', 'close_rolling_min_20', 'close_rolling_mean_21', 'close_rolling_max_21', 'close_rolling_min_21', 'close_rolling_mean_22', 'close_rolling_max_22', 'close_rolling_min_22', 'close_rolling_mean_23', 'close_rolling_max_23', 'close_rolling_min_23', 'close_rolling_mean_24', 'close_rolling_max_24', 'close_rolling_min_24', 'close_rolling_mean_25', 'close_rolling_max_25', 'close_rolling_min_25', 'close_rolling_mean_26', 'close_rolling_max_26', 'close_rolling_min_26', 'close_rolling_mean_27', 'close_rolling_max_27', 'close_rolling_min_27', 'close_rolling_mean_28', 'close_rolling_max_28', 'close_rolling_min_28', 'close_rolling_mean_29', 'close_rolling_max_29', 'close_rolling_min_29', 'ramp1', 'ramp2', 'ramp3', 'ramp4', 'ramp_close']\n"
     ]
    }
   ],
   "source": [
    "print(X_train.columns.tolist())"
   ]
  },
  {
   "cell_type": "code",
   "execution_count": 229,
   "id": "28a79e35",
   "metadata": {},
   "outputs": [
    {
     "data": {
      "text/plain": [
       "130"
      ]
     },
     "execution_count": 229,
     "metadata": {},
     "output_type": "execute_result"
    }
   ],
   "source": [
    "len(X_train.columns)"
   ]
  },
  {
   "cell_type": "code",
   "execution_count": 230,
   "id": "d4068956",
   "metadata": {},
   "outputs": [],
   "source": [
    "# rescale the features\n",
    "#scaler = MinMaxScaler()\n",
    "scaler = StandardScaler()\n",
    "#scaler = RobustScaler()\n",
    "\n",
    "X_train_scaled = scaler.fit_transform(X_train)\n",
    "X_valid_scaled = scaler.transform(X_valid) # Transform to Validation data as well\n",
    "X_test_scaled = scaler.transform(X_test) # Transform to test data as well"
   ]
  },
  {
   "cell_type": "code",
   "execution_count": 231,
   "id": "a22ad429",
   "metadata": {},
   "outputs": [
    {
     "name": "stdout",
     "output_type": "stream",
     "text": [
      "Train = (4234, 130) (4234, 1)\n",
      "Train = (281, 130) (281, 1)\n",
      "Test = (147, 130) (147, 1)\n"
     ]
    }
   ],
   "source": [
    "print('Train =', X_train_scaled.shape, y_train.shape)\n",
    "print('Train =', X_valid_scaled.shape, y_valid.shape)\n",
    "print('Test =', X_test_scaled.shape, y_test.shape)"
   ]
  },
  {
   "cell_type": "code",
   "execution_count": 232,
   "id": "28f68a74",
   "metadata": {},
   "outputs": [
    {
     "data": {
      "text/plain": [
       "Index(['close', 'hour', 'dom', 'month', 'dow', 'doy', 'woy', 'week_number',\n",
       "       'friday', 'covid',\n",
       "       ...\n",
       "       'close_rolling_max_28', 'close_rolling_min_28', 'close_rolling_mean_29',\n",
       "       'close_rolling_max_29', 'close_rolling_min_29', 'ramp1', 'ramp2',\n",
       "       'ramp3', 'ramp4', 'ramp_close'],\n",
       "      dtype='object', length=130)"
      ]
     },
     "execution_count": 232,
     "metadata": {},
     "output_type": "execute_result"
    }
   ],
   "source": [
    "X_train.columns"
   ]
  },
  {
   "cell_type": "code",
   "execution_count": 233,
   "id": "fd59f94c",
   "metadata": {},
   "outputs": [],
   "source": [
    "from sklearn.linear_model import LinearRegression\n",
    "from sklearn.metrics import mean_squared_error, r2_score\n",
    "\n",
    "reg_model = LinearRegression(n_jobs=-1)\n",
    "reg_model.fit(X_train_scaled, y_train)\n",
    "\n",
    "# Make predictions using the testing set\n",
    "y_train_pred = reg_model.predict(X_train_scaled)\n",
    "X_valid_pred = reg_model.predict(X_valid_scaled)\n",
    "y_test_pred = reg_model.predict(X_test_scaled)\n"
   ]
  },
  {
   "cell_type": "code",
   "execution_count": 234,
   "id": "c08de3de",
   "metadata": {},
   "outputs": [],
   "source": [
    "# Making predictions with the tuned model\n",
    "pred_train = reg_model.predict(X_train_scaled)\n",
    "pred_valid = reg_model.predict(X_valid_scaled)\n",
    "pred_test = reg_model.predict(X_test_scaled)"
   ]
  },
  {
   "cell_type": "code",
   "execution_count": 235,
   "id": "0361f7ea",
   "metadata": {},
   "outputs": [
    {
     "name": "stdout",
     "output_type": "stream",
     "text": [
      "Train MSE: 21025.06404568974\n",
      "Train RMSE: 145.0002208470378\n",
      "valid MSE: 21707.502036126512\n",
      "valid RMSE: 147.33465999596467\n",
      "Test MSE: 52291.57497065699\n",
      "Test RMSE: 228.67351173814816\n"
     ]
    }
   ],
   "source": [
    "# Evaluate model accuracy \n",
    "from sklearn.metrics import mean_squared_error\n",
    "print(f\"Train MSE: {mean_squared_error(y_train['target'],pred_train)}\")\n",
    "print(f\"Train RMSE: {np.sqrt(mean_squared_error(y_train['target'],pred_train))}\")\n",
    "print(f\"valid MSE: {mean_squared_error(y_valid['target'],pred_valid)}\")\n",
    "print(f\"valid RMSE: {np.sqrt(mean_squared_error(y_valid['target'],pred_valid))}\")\n",
    "print(f\"Test MSE: {mean_squared_error(y_test['target'],pred_test)}\")\n",
    "print(f\"Test RMSE: {np.sqrt(mean_squared_error(y_test['target'],pred_test))}\")"
   ]
  },
  {
   "cell_type": "code",
   "execution_count": 236,
   "id": "6d90ab4e",
   "metadata": {},
   "outputs": [
    {
     "data": {
      "text/html": [
       "<div>\n",
       "<style scoped>\n",
       "    .dataframe tbody tr th:only-of-type {\n",
       "        vertical-align: middle;\n",
       "    }\n",
       "\n",
       "    .dataframe tbody tr th {\n",
       "        vertical-align: top;\n",
       "    }\n",
       "\n",
       "    .dataframe thead th {\n",
       "        text-align: right;\n",
       "    }\n",
       "</style>\n",
       "<table border=\"1\" class=\"dataframe\">\n",
       "  <thead>\n",
       "    <tr style=\"text-align: right;\">\n",
       "      <th></th>\n",
       "      <th>datetime</th>\n",
       "      <th>target</th>\n",
       "      <th>prediction_xgb_NIFTY</th>\n",
       "      <th>prediction_LR_NIFTY</th>\n",
       "    </tr>\n",
       "  </thead>\n",
       "  <tbody>\n",
       "    <tr>\n",
       "      <th>4652</th>\n",
       "      <td>2024-01-31 13:15:00</td>\n",
       "      <td>21722.25</td>\n",
       "      <td>19956.767578</td>\n",
       "      <td>21583.644274</td>\n",
       "    </tr>\n",
       "    <tr>\n",
       "      <th>4653</th>\n",
       "      <td>2024-01-31 14:15:00</td>\n",
       "      <td>21681.45</td>\n",
       "      <td>19956.767578</td>\n",
       "      <td>21653.093195</td>\n",
       "    </tr>\n",
       "    <tr>\n",
       "      <th>4654</th>\n",
       "      <td>2024-01-31 15:15:00</td>\n",
       "      <td>21690.30</td>\n",
       "      <td>19956.767578</td>\n",
       "      <td>21637.385039</td>\n",
       "    </tr>\n",
       "    <tr>\n",
       "      <th>4655</th>\n",
       "      <td>2024-02-01 09:15:00</td>\n",
       "      <td>21937.85</td>\n",
       "      <td>19956.767578</td>\n",
       "      <td>21691.309247</td>\n",
       "    </tr>\n",
       "    <tr>\n",
       "      <th>4656</th>\n",
       "      <td>2024-02-01 10:15:00</td>\n",
       "      <td>21989.65</td>\n",
       "      <td>19956.767578</td>\n",
       "      <td>21658.684571</td>\n",
       "    </tr>\n",
       "    <tr>\n",
       "      <th>4657</th>\n",
       "      <td>2024-02-01 11:15:00</td>\n",
       "      <td>22058.80</td>\n",
       "      <td>19956.767578</td>\n",
       "      <td>21628.352885</td>\n",
       "    </tr>\n",
       "    <tr>\n",
       "      <th>4658</th>\n",
       "      <td>2024-02-01 12:15:00</td>\n",
       "      <td>21846.30</td>\n",
       "      <td>19956.767578</td>\n",
       "      <td>21616.175782</td>\n",
       "    </tr>\n",
       "    <tr>\n",
       "      <th>4659</th>\n",
       "      <td>2024-02-01 13:15:00</td>\n",
       "      <td>21892.80</td>\n",
       "      <td>19956.767578</td>\n",
       "      <td>21603.201527</td>\n",
       "    </tr>\n",
       "    <tr>\n",
       "      <th>4660</th>\n",
       "      <td>2024-02-01 14:15:00</td>\n",
       "      <td>21855.70</td>\n",
       "      <td>19956.767578</td>\n",
       "      <td>21532.080212</td>\n",
       "    </tr>\n",
       "    <tr>\n",
       "      <th>4661</th>\n",
       "      <td>2024-02-01 15:15:00</td>\n",
       "      <td>21855.45</td>\n",
       "      <td>19956.767578</td>\n",
       "      <td>21537.684449</td>\n",
       "    </tr>\n",
       "  </tbody>\n",
       "</table>\n",
       "</div>"
      ],
      "text/plain": [
       "                datetime    target  prediction_xgb_NIFTY  prediction_LR_NIFTY\n",
       "4652 2024-01-31 13:15:00  21722.25          19956.767578         21583.644274\n",
       "4653 2024-01-31 14:15:00  21681.45          19956.767578         21653.093195\n",
       "4654 2024-01-31 15:15:00  21690.30          19956.767578         21637.385039\n",
       "4655 2024-02-01 09:15:00  21937.85          19956.767578         21691.309247\n",
       "4656 2024-02-01 10:15:00  21989.65          19956.767578         21658.684571\n",
       "4657 2024-02-01 11:15:00  22058.80          19956.767578         21628.352885\n",
       "4658 2024-02-01 12:15:00  21846.30          19956.767578         21616.175782\n",
       "4659 2024-02-01 13:15:00  21892.80          19956.767578         21603.201527\n",
       "4660 2024-02-01 14:15:00  21855.70          19956.767578         21532.080212\n",
       "4661 2024-02-01 15:15:00  21855.45          19956.767578         21537.684449"
      ]
     },
     "execution_count": 236,
     "metadata": {},
     "output_type": "execute_result"
    }
   ],
   "source": [
    "#result = y[y['datetime'] > test_cutoff].copy()\n",
    "result[f'prediction_LR_{stock}'] = pred_test\n",
    "result.tail(10)"
   ]
  },
  {
   "cell_type": "code",
   "execution_count": 237,
   "id": "208f901a",
   "metadata": {},
   "outputs": [],
   "source": [
    "if plot_show_or_not == True:\n",
    "    \n",
    "    result_train = y[(y['datetime'] <= validation_cutoff)].copy()\n",
    "    result_train[f'prediction_LR_{stock}'] = pred_train\n",
    "    plt.figure(figsize=(10,5))\n",
    "    result_train.set_index('datetime').plot()\n",
    "    plt.title(f\"Prediction for TRAIN DATA\")"
   ]
  },
  {
   "cell_type": "code",
   "execution_count": 238,
   "id": "1c845e89",
   "metadata": {},
   "outputs": [
    {
     "data": {
      "text/plain": [
       "Text(0.5, 1.0, 'Prediction for VALIDATION DATA')"
      ]
     },
     "execution_count": 238,
     "metadata": {},
     "output_type": "execute_result"
    },
    {
     "data": {
      "text/plain": [
       "<Figure size 1000x500 with 0 Axes>"
      ]
     },
     "metadata": {},
     "output_type": "display_data"
    },
    {
     "data": {
      "image/png": "[encoded data removed]",
      "text/plain": [
       "<Figure size 1500x500 with 1 Axes>"
      ]
     },
     "metadata": {},
     "output_type": "display_data"
    }
   ],
   "source": [
    "result_valid = y[(y['datetime'] > validation_cutoff) & (y['datetime'] <= test_cutoff)].copy()\n",
    "result_valid[f'prediction_LR_{stock}'] = pred_valid\n",
    "plt.figure(figsize=(10,5))\n",
    "result_valid.set_index('datetime').plot()\n",
    "plt.title(f\"Prediction for VALIDATION DATA\")"
   ]
  },
  {
   "cell_type": "code",
   "execution_count": 239,
   "id": "64c23212",
   "metadata": {},
   "outputs": [
    {
     "data": {
      "text/plain": [
       "Text(0.5, 1.0, 'Prediction for TEST')"
      ]
     },
     "execution_count": 239,
     "metadata": {},
     "output_type": "execute_result"
    },
    {
     "data": {
      "image/png": "[encoded data removed]",
      "text/plain": [
       "<Figure size 1500x500 with 1 Axes>"
      ]
     },
     "metadata": {},
     "output_type": "display_data"
    }
   ],
   "source": [
    "mask = (result.datetime > test_cutoff)\n",
    "result.loc[mask,:].set_index('datetime')\n",
    "result.loc[mask,:].set_index('datetime').plot()\n",
    "plt.title(\"Prediction for TEST\")"
   ]
  },
  {
   "cell_type": "code",
   "execution_count": 240,
   "id": "42ee2a6e",
   "metadata": {
    "scrolled": false
   },
   "outputs": [
    {
     "name": "stdout",
     "output_type": "stream",
     "text": [
      "Forcast for: 2024-02-05\n",
      "Basically for today's prediction, Datetime will be yesterday's only as per logic As we have shifted target by 1, so for Date 15th prediction Datetime will show 14th\n"
     ]
    },
    {
     "data": {
      "text/html": [
       "<div>\n",
       "<style scoped>\n",
       "    .dataframe tbody tr th:only-of-type {\n",
       "        vertical-align: middle;\n",
       "    }\n",
       "\n",
       "    .dataframe tbody tr th {\n",
       "        vertical-align: top;\n",
       "    }\n",
       "\n",
       "    .dataframe thead th {\n",
       "        text-align: right;\n",
       "    }\n",
       "</style>\n",
       "<table border=\"1\" class=\"dataframe\">\n",
       "  <thead>\n",
       "    <tr style=\"text-align: right;\">\n",
       "      <th></th>\n",
       "      <th>target</th>\n",
       "      <th>prediction_xgb_NIFTY</th>\n",
       "      <th>prediction_LR_NIFTY</th>\n",
       "    </tr>\n",
       "    <tr>\n",
       "      <th>datetime</th>\n",
       "      <th></th>\n",
       "      <th></th>\n",
       "      <th></th>\n",
       "    </tr>\n",
       "  </thead>\n",
       "  <tbody>\n",
       "  </tbody>\n",
       "</table>\n",
       "</div>"
      ],
      "text/plain": [
       "Empty DataFrame\n",
       "Columns: [target, prediction_xgb_NIFTY, prediction_LR_NIFTY]\n",
       "Index: []"
      ]
     },
     "execution_count": 240,
     "metadata": {},
     "output_type": "execute_result"
    },
    {
     "data": {
      "image/png": "[encoded data removed]",
      "text/plain": [
       "<Figure size 1500x500 with 1 Axes>"
      ]
     },
     "metadata": {},
     "output_type": "display_data"
    }
   ],
   "source": [
    "print(f\"Forcast for: {next_working_day}\")\n",
    "print(\"Basically for today's prediction, Datetime will be yesterday's only as per logic As we have shifted target by 1, so for Date 15th prediction Datetime will show 14th\")\n",
    "\n",
    "mask = (result.datetime > np.datetime64(data_df_last_day))\n",
    "#mask = (result.datetime >= end_date)\n",
    "\n",
    "result.loc[mask,:].set_index('datetime').plot()\n",
    "plt.title(\"Prediction for Today\")\n",
    "\n",
    "final_prediction_df = result.loc[mask,:].set_index('datetime').copy()\n",
    "final_prediction_df"
   ]
  },
  {
   "cell_type": "markdown",
   "id": "f8dd5a55",
   "metadata": {},
   "source": [
    "## Feature Importance checking"
   ]
  },
  {
   "cell_type": "code",
   "execution_count": 241,
   "id": "401cdb73",
   "metadata": {},
   "outputs": [
    {
     "data": {
      "image/png": "[encoded data removed]",
      "text/plain": [
       "<Figure size 1500x500 with 1 Axes>"
      ]
     },
     "metadata": {},
     "output_type": "display_data"
    }
   ],
   "source": [
    "feature_importance(X_train.columns, reg_model.coef_[0])"
   ]
  },
  {
   "cell_type": "markdown",
   "id": "b40b4e28",
   "metadata": {},
   "source": [
    "## Final Model saving"
   ]
  },
  {
   "cell_type": "code",
   "execution_count": 242,
   "id": "36ed9f07",
   "metadata": {},
   "outputs": [],
   "source": [
    "# Saving the final scaler model\n",
    "model_name = f\"{stock}_scaler_LR\"\n",
    "pickle.dump(scaler, open(f'03_Saved_Model/{model_name}.pkl', 'wb'))"
   ]
  },
  {
   "cell_type": "code",
   "execution_count": 243,
   "id": "464e48bc",
   "metadata": {},
   "outputs": [],
   "source": [
    "# Saving the final model\n",
    "model_name = f\"{stock}_LR\"\n",
    "pickle.dump(reg_model, open(f'03_Saved_Model/{model_name}.pkl', 'wb'))"
   ]
  },
  {
   "cell_type": "code",
   "execution_count": 244,
   "id": "1c7c9474",
   "metadata": {},
   "outputs": [
    {
     "data": {
      "text/html": [
       "<div>\n",
       "<style scoped>\n",
       "    .dataframe tbody tr th:only-of-type {\n",
       "        vertical-align: middle;\n",
       "    }\n",
       "\n",
       "    .dataframe tbody tr th {\n",
       "        vertical-align: top;\n",
       "    }\n",
       "\n",
       "    .dataframe thead th {\n",
       "        text-align: right;\n",
       "    }\n",
       "</style>\n",
       "<table border=\"1\" class=\"dataframe\">\n",
       "  <thead>\n",
       "    <tr style=\"text-align: right;\">\n",
       "      <th></th>\n",
       "      <th>Stock</th>\n",
       "      <th>target</th>\n",
       "      <th>prediction_xgb_NIFTY</th>\n",
       "      <th>prediction_LR_NIFTY</th>\n",
       "    </tr>\n",
       "    <tr>\n",
       "      <th>datetime</th>\n",
       "      <th></th>\n",
       "      <th></th>\n",
       "      <th></th>\n",
       "      <th></th>\n",
       "    </tr>\n",
       "  </thead>\n",
       "  <tbody>\n",
       "  </tbody>\n",
       "</table>\n",
       "</div>"
      ],
      "text/plain": [
       "Empty DataFrame\n",
       "Columns: [Stock, target, prediction_xgb_NIFTY, prediction_LR_NIFTY]\n",
       "Index: []"
      ]
     },
     "execution_count": 244,
     "metadata": {},
     "output_type": "execute_result"
    }
   ],
   "source": [
    "# Checking Current day Prediction of stock along with name\n",
    "# Keep it mind that this is not final prediction for next day\n",
    "\n",
    "final_prediction_df.insert(0,'Stock', stock)  # This is code to add column at specific location\n",
    "final_prediction_df"
   ]
  },
  {
   "cell_type": "markdown",
   "id": "8a397c27",
   "metadata": {},
   "source": [
    "# ********Final Prediction (Linear Regression)********"
   ]
  },
  {
   "cell_type": "code",
   "execution_count": 245,
   "id": "2d3c9e19",
   "metadata": {},
   "outputs": [
    {
     "name": "stdout",
     "output_type": "stream",
     "text": [
      "130\n"
     ]
    }
   ],
   "source": [
    "tobe_used_features = get_final_features(next_day_df_prediction)\n",
    "tobe_used_features.remove('datetime') # Remove DateTime as well as we dont need it\n",
    "print(len(tobe_used_features))"
   ]
  },
  {
   "cell_type": "code",
   "execution_count": 246,
   "id": "cd286d95",
   "metadata": {
    "scrolled": true
   },
   "outputs": [
    {
     "data": {
      "text/html": [
       "<div>\n",
       "<style scoped>\n",
       "    .dataframe tbody tr th:only-of-type {\n",
       "        vertical-align: middle;\n",
       "    }\n",
       "\n",
       "    .dataframe tbody tr th {\n",
       "        vertical-align: top;\n",
       "    }\n",
       "\n",
       "    .dataframe thead th {\n",
       "        text-align: right;\n",
       "    }\n",
       "</style>\n",
       "<table border=\"1\" class=\"dataframe\">\n",
       "  <thead>\n",
       "    <tr style=\"text-align: right;\">\n",
       "      <th></th>\n",
       "      <th>prediction_xgb_NIFTY</th>\n",
       "      <th>prediction_LR_NIFTY</th>\n",
       "    </tr>\n",
       "    <tr>\n",
       "      <th>datetime</th>\n",
       "      <th></th>\n",
       "      <th></th>\n",
       "    </tr>\n",
       "  </thead>\n",
       "  <tbody>\n",
       "    <tr>\n",
       "      <th>2024-02-05 09:15:00</th>\n",
       "      <td>19956.767578</td>\n",
       "      <td>21813.645053</td>\n",
       "    </tr>\n",
       "    <tr>\n",
       "      <th>2024-02-05 10:15:00</th>\n",
       "      <td>19956.767578</td>\n",
       "      <td>21884.794347</td>\n",
       "    </tr>\n",
       "    <tr>\n",
       "      <th>2024-02-05 11:15:00</th>\n",
       "      <td>19956.767578</td>\n",
       "      <td>21978.053704</td>\n",
       "    </tr>\n",
       "    <tr>\n",
       "      <th>2024-02-05 12:15:00</th>\n",
       "      <td>19956.767578</td>\n",
       "      <td>21765.254464</td>\n",
       "    </tr>\n",
       "    <tr>\n",
       "      <th>2024-02-05 13:15:00</th>\n",
       "      <td>19956.767578</td>\n",
       "      <td>21815.523695</td>\n",
       "    </tr>\n",
       "    <tr>\n",
       "      <th>2024-02-05 14:15:00</th>\n",
       "      <td>19956.767578</td>\n",
       "      <td>21787.658990</td>\n",
       "    </tr>\n",
       "    <tr>\n",
       "      <th>2024-02-05 15:15:00</th>\n",
       "      <td>19956.767578</td>\n",
       "      <td>21783.429882</td>\n",
       "    </tr>\n",
       "  </tbody>\n",
       "</table>\n",
       "</div>"
      ],
      "text/plain": [
       "                     prediction_xgb_NIFTY  prediction_LR_NIFTY\n",
       "datetime                                                      \n",
       "2024-02-05 09:15:00          19956.767578         21813.645053\n",
       "2024-02-05 10:15:00          19956.767578         21884.794347\n",
       "2024-02-05 11:15:00          19956.767578         21978.053704\n",
       "2024-02-05 12:15:00          19956.767578         21765.254464\n",
       "2024-02-05 13:15:00          19956.767578         21815.523695\n",
       "2024-02-05 14:15:00          19956.767578         21787.658990\n",
       "2024-02-05 15:15:00          19956.767578         21783.429882"
      ]
     },
     "execution_count": 246,
     "metadata": {},
     "output_type": "execute_result"
    }
   ],
   "source": [
    "next_day_df_prediction_LR = next_day_df_prediction[tobe_used_features]\n",
    "#print(next_day_df_prediction_LR.columns.tolist())\n",
    "\n",
    "next_day_df_prediction_LR_scaled = scaler.transform(next_day_df_prediction_LR) # Scaled the DF\n",
    "\n",
    "pred_day_ahead[f'prediction_LR_{stock}'] = reg_model.predict(next_day_df_prediction_LR_scaled)\n",
    "pred_day_ahead"
   ]
  },
  {
   "cell_type": "code",
   "execution_count": 247,
   "id": "1286f546",
   "metadata": {},
   "outputs": [
    {
     "data": {
      "image/png": "[encoded data removed]",
      "text/plain": [
       "<Figure size 1500x500 with 1 Axes>"
      ]
     },
     "metadata": {},
     "output_type": "display_data"
    }
   ],
   "source": [
    "pred_day_ahead.plot()\n",
    "plt.title(f\"Final Prediction for {pred_day_ahead.index[0].date()}\")\n",
    "plt.show()"
   ]
  },
  {
   "cell_type": "code",
   "execution_count": 248,
   "id": "99a21908",
   "metadata": {},
   "outputs": [],
   "source": [
    "final_prediction_df_excel = pred_day_ahead.copy()"
   ]
  },
  {
   "cell_type": "code",
   "execution_count": 249,
   "id": "9a3a1573",
   "metadata": {},
   "outputs": [
    {
     "name": "stdout",
     "output_type": "stream",
     "text": [
      "2024-02-05 09:15:00 ### 2024-02-05 09:15:00\n",
      "Data Appended\n"
     ]
    }
   ],
   "source": [
    "import xlwings as xw\n",
    "\n",
    "df_date_check = final_prediction_df_excel.index[0]\n",
    "\n",
    "wb = xw.Book('AngelOne_Option.xlsx')\n",
    "exl_ML_prediction = wb.sheets['ML_prediction']\n",
    "\n",
    "\n",
    "a = exl_ML_prediction[11,2].value\n",
    "print(a, \"###\", final_prediction_df_excel.index[0])\n",
    "if a == final_prediction_df_excel.index[0]:  # we check if dates are already there and \n",
    "                                             # if they are for correct forecasrt day else delete them\n",
    "    print(\"Data Appended\")\n",
    "    for c in range(2,300):\n",
    "        check_blank = exl_ML_prediction[10,c].value\n",
    "        if check_blank is None:\n",
    "            exl_ML_prediction[10,c].options(pd.DataFrame, header=1, index=False, expand='table').value = final_prediction_df_excel\n",
    "            break          \n",
    "else:\n",
    "    print(\"Brand New Data\")\n",
    "    exl_ML_prediction.range(\"B10:HQ200\").clear_contents()\n",
    "    exl_ML_prediction[\"C11\"].options(pd.DataFrame, header=1, index=True, expand='table').value = final_prediction_df_excel\n",
    "    \n",
    "    "
   ]
  },
  {
   "cell_type": "code",
   "execution_count": 250,
   "id": "9431ef70",
   "metadata": {},
   "outputs": [
    {
     "name": "stdout",
     "output_type": "stream",
     "text": [
      "All done and push a little more for more accuracy\n"
     ]
    }
   ],
   "source": [
    "print(\"All done and push a little more for more accuracy\")"
   ]
  }
 ],
 "metadata": {
  "accelerator": "GPU",
  "colab": {
   "provenance": []
  },
  "gpuClass": "standard",
  "hide_input": false,
  "kernelspec": {
   "display_name": "Python 3 (ipykernel)",
   "language": "python",
   "name": "python3"
  },
  "language_info": {
   "codemirror_mode": {
    "name": "ipython",
    "version": 3
   },
   "file_extension": ".py",
   "mimetype": "text/x-python",
   "name": "python",
   "nbconvert_exporter": "python",
   "pygments_lexer": "ipython3",
   "version": "3.9.18"
  },
  "latex_envs": {
   "LaTeX_envs_menu_present": true,
   "autoclose": false,
   "autocomplete": true,
   "bibliofile": "biblio.bib",
   "cite_by": "apalike",
   "current_citInitial": 1,
   "eqLabelWithNumbers": true,
   "eqNumInitial": 1,
   "hotkeys": {
    "equation": "Ctrl-E",
    "itemize": "Ctrl-I"
   },
   "labels_anchors": false,
   "latex_user_defs": false,
   "report_style_numbering": false,
   "user_envs_cfg": false
  },
  "toc": {
   "base_numbering": 1,
   "nav_menu": {},
   "number_sections": true,
   "sideBar": true,
   "skip_h1_title": false,
   "title_cell": "Table of Contents",
   "title_sidebar": "Contents",
   "toc_cell": false,
   "toc_position": {},
   "toc_section_display": true,
   "toc_window_display": false
  },
  "varInspector": {
   "cols": {
    "lenName": 16,
    "lenType": 16,
    "lenVar": 40
   },
   "kernels_config": {
    "python": {
     "delete_cmd_postfix": "",
     "delete_cmd_prefix": "del ",
     "library": "var_list.py",
     "varRefreshCmd": "print(var_dic_list())"
    },
    "r": {
     "delete_cmd_postfix": ") ",
     "delete_cmd_prefix": "rm(",
     "library": "var_list.r",
     "varRefreshCmd": "cat(var_dic_list()) "
    }
   },
   "types_to_exclude": [
    "module",
    "function",
    "builtin_function_or_method",
    "instance",
    "_Feature"
   ],
   "window_display": false
  }
 },
 "nbformat": 4,
 "nbformat_minor": 5
}
